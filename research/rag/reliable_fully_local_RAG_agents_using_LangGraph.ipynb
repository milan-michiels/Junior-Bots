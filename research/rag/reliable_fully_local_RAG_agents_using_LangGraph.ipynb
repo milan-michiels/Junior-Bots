{
 "cells": [
  {
   "metadata": {},
   "cell_type": "markdown",
   "source": [
    "# Local RAG agent with LLaMA3.2\n",
    "We'll combine ideas from paper RAG papers into a RAG agent:\n",
    "\n",
    "- Routing: Adaptive RAG ([paper](https://arxiv.org/abs/2403.14403)). Route questions to different retrieval approaches\n",
    "- Fallback: Corrective RAG ([paper](https://arxiv.org/pdf/2401.15884)). Fallback to web search if docs are not relevant to query\n",
    "- Self-correction: Self-RAG ([paper](https://arxiv.org/abs/2310.11511)). Fix answers w/ hallucinations or don’t address question"
   ],
   "id": "fbd8dd4eb8188625"
  },
  {
   "cell_type": "code",
   "execution_count": 1,
   "id": "c9d93df7f9f5dec8",
   "metadata": {
    "ExecuteTime": {
     "end_time": "2024-11-29T16:23:39.229758Z",
     "start_time": "2024-11-29T16:23:36.751997Z"
    }
   },
   "outputs": [
    {
     "data": {
      "text/plain": [
       "True"
      ]
     },
     "execution_count": 1,
     "metadata": {},
     "output_type": "execute_result"
    }
   ],
   "source": [
    "import json\n",
    "import operator\n",
    "import os\n",
    "from typing import Annotated, List\n",
    "\n",
    "import chromadb\n",
    "from dotenv import load_dotenv\n",
    "from IPython.display import Image, display\n",
    "from langchain.schema import Document\n",
    "from langchain_chroma import Chroma\n",
    "from langchain_community.document_loaders import PDFPlumberLoader\n",
    "from langchain_community.tools.tavily_search import TavilySearchResults\n",
    "from langchain_core.messages import HumanMessage, SystemMessage\n",
    "from langchain_ollama import ChatOllama, OllamaEmbeddings\n",
    "from langchain_text_splitters import RecursiveCharacterTextSplitter\n",
    "from langgraph.graph import END, StateGraph\n",
    "from typing_extensions import TypedDict\n",
    "\n",
    "load_dotenv(\"../../.env.research\")"
   ]
  },
  {
   "cell_type": "code",
   "execution_count": 4,
   "id": "4cf03d6ccb693db4",
   "metadata": {
    "ExecuteTime": {
     "end_time": "2024-11-29T16:24:08.256514Z",
     "start_time": "2024-11-29T16:24:07.156131Z"
    }
   },
   "outputs": [],
   "source": [
    "client = chromadb.HttpClient(host=\"localhost\", port=int(os.getenv(\"CHROMA_PORT\")))\n",
    "client.delete_collection(os.getenv(\"CHROMA_COLLECTION_NAME\"))"
   ]
  },
  {
   "cell_type": "code",
   "execution_count": 2,
   "id": "initial_id",
   "metadata": {
    "ExecuteTime": {
     "end_time": "2024-11-29T08:40:37.716666Z",
     "start_time": "2024-11-29T08:40:36.221756Z"
    },
    "collapsed": true
   },
   "outputs": [],
   "source": [
    "### LLM\n",
    "local_llm = \"llama3.2\"\n",
    "llm = ChatOllama(model=local_llm, temperature=0.1)\n",
    "llm_json_mode = ChatOllama(model=local_llm, temperature=0, format=\"json\")"
   ]
  },
  {
   "cell_type": "code",
   "execution_count": 3,
   "id": "d8b1c389761e6284",
   "metadata": {
    "ExecuteTime": {
     "end_time": "2024-11-28T15:55:29.209786Z",
     "start_time": "2024-11-28T15:55:29.202796Z"
    }
   },
   "outputs": [],
   "source": [
    "def load_pdfs_from_directory(directory_path):\n",
    "    all_documents = []\n",
    "    for filename in os.listdir(directory_path):\n",
    "        if filename.endswith(\".pdf\"):\n",
    "            file_path = os.path.join(directory_path, filename)\n",
    "            loader = PDFPlumberLoader(file_path=file_path)\n",
    "            documents = loader.load()\n",
    "            all_documents.extend(documents)\n",
    "    return all_documents"
   ]
  },
  {
   "cell_type": "code",
   "execution_count": 5,
   "id": "d0a8f1467bb3e61f",
   "metadata": {
    "ExecuteTime": {
     "end_time": "2024-11-28T15:55:58.727070Z",
     "start_time": "2024-11-28T15:55:57.040963Z"
    }
   },
   "outputs": [],
   "source": [
    "client = chromadb.HttpClient(\n",
    "    host=os.getenv(\"CHROMA_HOST\"), port=int(os.getenv(\"CHROMA_PORT\"))\n",
    ")\n",
    "vectorstore = None\n",
    "if os.getenv(\"CHROMA_COLLECTION_NAME\") not in [\n",
    "    collection.name for collection in client.list_collections()\n",
    "]:\n",
    "    client.create_collection(os.getenv(\"CHROMA_COLLECTION_NAME\"))\n",
    "    pdf_docs = load_pdfs_from_directory(os.getenv(\"DATA_DIR\"))\n",
    "    text_splitter = RecursiveCharacterTextSplitter(chunk_size=1500, chunk_overlap=200)\n",
    "    all_splits = text_splitter.split_documents(pdf_docs)\n",
    "    vectorstore = Chroma.from_documents(\n",
    "        documents=all_splits,\n",
    "        embedding=OllamaEmbeddings(model=\"nomic-embed-text\"),\n",
    "        collection_name=os.getenv(\"CHROMA_COLLECTION_NAME\"),\n",
    "        client=client,\n",
    "    )\n",
    "else:\n",
    "    vectorstore = Chroma(\n",
    "        collection_name=os.getenv(\"CHROMA_COLLECTION_NAME\"),\n",
    "        client=client,\n",
    "        embedding_function=OllamaEmbeddings(model=\"nomic-embed-text\"),\n",
    "    )\n",
    "\n",
    "retriever = vectorstore.as_retriever(search_kwargs={\"k\": 3})"
   ]
  },
  {
   "cell_type": "markdown",
   "id": "8338b2899d040579",
   "metadata": {},
   "source": "## Components"
  },
  {
   "cell_type": "code",
   "execution_count": 6,
   "id": "763843d9a1f4cc46",
   "metadata": {
    "ExecuteTime": {
     "end_time": "2024-11-28T15:56:16.906249Z",
     "start_time": "2024-11-28T15:55:58.733455Z"
    }
   },
   "outputs": [
    {
     "name": "stdout",
     "output_type": "stream",
     "text": [
      "{'datasource': 'websearch'} {'datasource': 'irrelevant'} {'datasource': 'vectorstore'}\n"
     ]
    }
   ],
   "source": [
    "### Router\n",
    "\n",
    "# Prompt\n",
    "router_instructions = \"\"\"You are a routing assistant that determines the best data source to answer user questions. There are three options:\n",
    "\n",
    "Vectorstore: Use this for **specific and detailed questions** about the rules, setup, or gameplay of Rummikub.\n",
    "Websearch: Use this for **recent changes to Rummikub rules**, **current events**, or information explicitly marked as being **outside the scope** of the vectorstore.\n",
    "Irrelevant: Use this for **questions unrelated to Rummikub**, including general questions about unrelated topics, technologies, or concepts or uncertain questions.\n",
    "\n",
    "**Output Format:**\n",
    "Respond strictly in the following JSON format:\n",
    "\n",
    "{\"datasource\": \"<vectorstore | websearch | irrelevant>\"}\n",
    "\n",
    "**Guidelines:**\n",
    "1. Use `vectorstore` **only** for questions directly referencing Rummikub rules, setup, or gameplay. Examples:\n",
    "   - \"What are the rules for forming sets in Rummikub?\"\n",
    "   - \"How many tiles does each player start with?\"\n",
    "2. Use `websearch` **only** for questions requiring external research or recent updates about Rummikub. Examples:\n",
    "   - \"Who is the current world champion of Rummikub?\"\n",
    "   - \"Have there been recent changes to Rummikub rules?\"\n",
    "3. Use `irrelevant` for all other questions, including general knowledge or unrelated topics. Examples:\n",
    "   - \"What are the main causes of global warming?\"\n",
    "   - \"What are the types of agent memory?\"\n",
    "\n",
    "Always prioritize the most accurate category.\n",
    "\"\"\"\n",
    "\n",
    "# Test router\n",
    "\n",
    "test_web_search = llm_json_mode.invoke(\n",
    "    [SystemMessage(content=router_instructions)]\n",
    "    + [HumanMessage(content=\"Who is the world champion of Rummikub?\")]\n",
    ")\n",
    "\n",
    "test_none = llm_json_mode.invoke(\n",
    "    [SystemMessage(content=router_instructions)]\n",
    "    + [HumanMessage(content=\"What is Chain of thought prompting?\")]\n",
    ")\n",
    "\n",
    "test_vectorstore = llm_json_mode.invoke(\n",
    "    [SystemMessage(content=router_instructions)]\n",
    "    + [HumanMessage(content=\"How many tiles does each player start with in rummikub?\")]\n",
    ")\n",
    "print(\n",
    "    json.loads(test_web_search.content),\n",
    "    json.loads(test_none.content),\n",
    "    json.loads(test_vectorstore.content),\n",
    ")"
   ]
  },
  {
   "cell_type": "code",
   "execution_count": 7,
   "id": "25865fe9a1aebd22",
   "metadata": {
    "ExecuteTime": {
     "end_time": "2024-11-28T15:56:38.261804Z",
     "start_time": "2024-11-28T15:56:16.936429Z"
    }
   },
   "outputs": [
    {
     "data": {
      "text/plain": [
       "{'binary_score': 'no'}"
      ]
     },
     "execution_count": 7,
     "metadata": {},
     "output_type": "execute_result"
    }
   ],
   "source": [
    "### Retrieval Grader\n",
    "\n",
    "# Doc grader instructions\n",
    "doc_grader_instructions = \"\"\"You are a grader assessing relevance of a retrieved document to a user question.\n",
    "\n",
    "If the document contains keyword(s) or semantic meaning related to the question, grade it as relevant.\"\"\"\n",
    "\n",
    "# Grader prompt\n",
    "doc_grader_prompt = \"\"\"Here is the retrieved document: \\n\\n {document} \\n\\n Here is the user question: \\n\\n {question}.\n",
    "\n",
    "This carefully and objectively assess whether the document contains at least some information that is relevant to the question.\n",
    "\n",
    "Return JSON with single key, binary_score, that is 'yes' or 'no' score to indicate whether the document contains at least some information that is relevant to the question.\"\"\"\n",
    "\n",
    "# Test\n",
    "question = \"How many tiles does each player start with in rummikub?\"\n",
    "docs = retriever.invoke(question)\n",
    "doc_txt = docs[1].page_content\n",
    "doc_grader_prompt_formatted = doc_grader_prompt.format(\n",
    "    document=doc_txt, question=question\n",
    ")\n",
    "result = llm_json_mode.invoke(\n",
    "    [SystemMessage(content=doc_grader_instructions)]\n",
    "    + [HumanMessage(content=doc_grader_prompt_formatted)]\n",
    ")\n",
    "json.loads(result.content)"
   ]
  },
  {
   "cell_type": "code",
   "execution_count": 8,
   "id": "6e575c70c4c005c1",
   "metadata": {
    "ExecuteTime": {
     "end_time": "2024-11-28T15:57:08.628537Z",
     "start_time": "2024-11-28T15:56:38.299437Z"
    }
   },
   "outputs": [
    {
     "name": "stdout",
     "output_type": "stream",
     "text": [
      "Each player starts with 14 tiles in Rummikub.\n"
     ]
    }
   ],
   "source": [
    "### Generate\n",
    "\n",
    "# Prompt\n",
    "rag_prompt = \"\"\"You are an assistant for question-answering tasks.\n",
    "\n",
    "Here is the context to use to answer the question:\n",
    "\n",
    "{context}\n",
    "\n",
    "Carefully analyze the context above.\n",
    "\n",
    "Now, review the user question:\n",
    "\n",
    "{question}\n",
    "\n",
    "Provide a clear, direct, and concise answer to the user's question, using only the information from the context. Avoid repeating long excerpts from the context verbatim unless necessary to clarify your response.\n",
    "\n",
    "Make sure the answer is well-structured, easy to understand, and directly addresses the user's query.\n",
    "\n",
    "Answer:\"\"\"\n",
    "\n",
    "\n",
    "# Post-processing\n",
    "def format_docs(docs):\n",
    "    return \"\\n\\n\".join(doc.page_content for doc in docs)\n",
    "\n",
    "\n",
    "# Test\n",
    "docs = retriever.invoke(question)\n",
    "docs_txt = format_docs(docs)\n",
    "rag_prompt_formatted = rag_prompt.format(context=docs_txt, question=question)\n",
    "generation = llm.invoke([HumanMessage(content=rag_prompt_formatted)])\n",
    "print(generation.content)"
   ]
  },
  {
   "cell_type": "code",
   "execution_count": 9,
   "id": "5fbfd68a4a953d4e",
   "metadata": {
    "ExecuteTime": {
     "end_time": "2024-11-28T15:57:23.530461Z",
     "start_time": "2024-11-28T15:57:11.561079Z"
    }
   },
   "outputs": [
    {
     "data": {
      "text/plain": [
       "{'binary_score': 'yes'}"
      ]
     },
     "execution_count": 9,
     "metadata": {},
     "output_type": "execute_result"
    }
   ],
   "source": [
    "### Hallucination Grader\n",
    "\n",
    "# Hallucination grader instructions\n",
    "hallucination_grader_instructions = \"\"\"\n",
    "\n",
    "You are a teacher grading a quiz.\n",
    "\n",
    "You will be given FACTS and a STUDENT ANSWER.\n",
    "\n",
    "Here is the grade criteria to follow:\n",
    "\n",
    "(1) Ensure the STUDENT ANSWER is grounded in the FACTS.\n",
    "\n",
    "(2) Ensure the STUDENT ANSWER does not contain \"hallucinated\" information outside the scope of the FACTS.\n",
    "\n",
    "Score:\n",
    "\n",
    "A score of yes means that the student's answer meets all of the criteria. This is the highest (best) score.\n",
    "\n",
    "A score of no means that the student's answer does not meet all of the criteria. This is the lowest possible score you can give.\n",
    "\"\"\"\n",
    "\n",
    "# Grader prompt\n",
    "hallucination_grader_prompt = \"\"\"FACTS: \\n\\n {documents} \\n\\n STUDENT ANSWER: {generation}.\n",
    "\n",
    "Return JSON with one key, binary_score is 'yes' or 'no' score to indicate whether the STUDENT ANSWER is grounded in the FACTS.\"\"\"\n",
    "\n",
    "# Test using documents and generation from above\n",
    "hallucination_grader_prompt_formatted = hallucination_grader_prompt.format(\n",
    "    documents=docs_txt, generation=generation.content\n",
    ")\n",
    "result = llm_json_mode.invoke(\n",
    "    [SystemMessage(content=hallucination_grader_instructions)]\n",
    "    + [HumanMessage(content=hallucination_grader_prompt_formatted)]\n",
    ")\n",
    "json.loads(result.content)"
   ]
  },
  {
   "cell_type": "code",
   "execution_count": 10,
   "id": "b95ec7338a89cffe",
   "metadata": {
    "ExecuteTime": {
     "end_time": "2024-11-28T15:57:28.857443Z",
     "start_time": "2024-11-28T15:57:23.568776Z"
    }
   },
   "outputs": [
    {
     "name": "stdout",
     "output_type": "stream",
     "text": [
      "{'binary_score': 'yes'}\n",
      "{'binary_score': 'no'}\n"
     ]
    }
   ],
   "source": [
    "### Answer Grader\n",
    "\n",
    "# Answer grader instructions\n",
    "answer_grader_instructions = \"\"\"You are a teacher grading a quiz.\n",
    "\n",
    "You will be given a QUESTION and a STUDENT ANSWER.\n",
    "\n",
    "Here is the grade criteria to follow:\n",
    "\n",
    "(1) The STUDENT ANSWER helps to answer the QUESTION\n",
    "\n",
    "Score:\n",
    "\n",
    "A score of yes means that the student's answer meets all of the criteria. This is the highest (best) score.\n",
    "\n",
    "The student can receive a score of yes if the answer contains extra information that is not explicitly asked for in the question.\n",
    "\n",
    "A score of no means that the student's answer does not meet all of the criteria. This is the lowest possible score you can give.\n",
    "\"\"\"\n",
    "\n",
    "# Grader prompt\n",
    "answer_grader_prompt = \"\"\"QUESTION: \\n\\n {question} \\n\\n STUDENT ANSWER: {generation}.\n",
    "\n",
    "Return JSON with one key, binary_score is 'yes' or 'no' score to indicate whether the STUDENT ANSWER meets the criteria.\"\"\"\n",
    "\n",
    "# Test\n",
    "question_yes = \"What happens when a player cannot make a valid move in Rummikub?\"\n",
    "answer_yes = \"If a player cannot make a valid move, they must draw a tile from the pool. If they still cannot play, their turn ends, and the game proceeds to the next player.\"\n",
    "\n",
    "# Test using question and generation from above, it should return a score of yes\n",
    "answer_grader_prompt_formatted = answer_grader_prompt.format(\n",
    "    question=question_yes, generation=answer_yes\n",
    ")\n",
    "result = llm_json_mode.invoke(\n",
    "    [SystemMessage(content=answer_grader_instructions)]\n",
    "    + [HumanMessage(content=answer_grader_prompt_formatted)]\n",
    ")\n",
    "print(json.loads(result.content))\n",
    "\n",
    "# Test using question and generation from above, it should return a score of no\n",
    "question_no = \"What is the purpose of the joker tile in Rummikub?\"\n",
    "answer_no = \"The joker tile is removed from the game before it begins.\"\n",
    "\n",
    "answer_grader_prompt_formatted = answer_grader_prompt.format(\n",
    "    question=question_no, generation=answer_no\n",
    ")\n",
    "\n",
    "result = llm_json_mode.invoke(\n",
    "    [SystemMessage(content=answer_grader_instructions)]\n",
    "    + [HumanMessage(content=answer_grader_prompt_formatted)]\n",
    ")\n",
    "\n",
    "print(json.loads(result.content))"
   ]
  },
  {
   "cell_type": "code",
   "execution_count": 11,
   "id": "e7e8d7d885f41042",
   "metadata": {
    "ExecuteTime": {
     "end_time": "2024-11-28T15:57:29.166467Z",
     "start_time": "2024-11-28T15:57:28.875237Z"
    }
   },
   "outputs": [],
   "source": [
    "web_search_tool = TavilySearchResults(max_results=3)"
   ]
  },
  {
   "metadata": {},
   "cell_type": "markdown",
   "source": [
    "## Graph state\n",
    "The graph state schema contains keys that we want to:\n",
    "\n",
    "- Pass to each node in our graph\n",
    "- Optionally, modify in each node of our graph\n",
    "See conceptual docs [here](https://langchain-ai.github.io/langgraph/concepts/low_level/#state)."
   ],
   "id": "d3992515d046d256"
  },
  {
   "cell_type": "code",
   "execution_count": 12,
   "id": "12b958e9af03009e",
   "metadata": {
    "ExecuteTime": {
     "end_time": "2024-11-28T15:57:29.188040Z",
     "start_time": "2024-11-28T15:57:29.180820Z"
    }
   },
   "outputs": [],
   "source": [
    "class GraphState(TypedDict):\n",
    "    \"\"\"\n",
    "    Graph state is a dictionary that contains information we want to propagate to, and modify in, each graph node.\n",
    "    \"\"\"\n",
    "\n",
    "    question: str  # User question\n",
    "    generation: str  # LLM generation\n",
    "    web_search: str  # Binary decision to run web search\n",
    "    max_retries: int  # Max number of retries for answer generation\n",
    "    answers: int  # Number of answers generated\n",
    "    loop_step: Annotated[int, operator.add]\n",
    "    documents: List[str]  # List of retrieved documents"
   ]
  },
  {
   "metadata": {},
   "cell_type": "markdown",
   "source": [
    "Each node in our graph is simply a function that:\n",
    "\n",
    "(1) Take `state` as an input\n",
    "\n",
    "(2) Modifies `state`\n",
    "\n",
    "(3) Write the modified state to the state schema (dict)\n",
    "\n",
    "See conceptual docs [here](https://langchain-ai.github.io/langgraph/concepts/low_level/#nodes).\n",
    "\n",
    "Each edge routes between nodes in the graph.\n",
    "\n",
    "See conceptual docs [here](https://langchain-ai.github.io/langgraph/concepts/low_level/#edges)."
   ],
   "id": "fcde3b6bfa037b9e"
  },
  {
   "cell_type": "code",
   "execution_count": 13,
   "id": "c5701bfee0865434",
   "metadata": {
    "ExecuteTime": {
     "end_time": "2024-11-28T15:57:29.243690Z",
     "start_time": "2024-11-28T15:57:29.218578Z"
    }
   },
   "outputs": [],
   "source": [
    "### Nodes\n",
    "\n",
    "\n",
    "def retrieve(state):\n",
    "    \"\"\"\n",
    "    Retrieve documents from vectorstore\n",
    "\n",
    "    Args:\n",
    "        state (dict): The current graph state\n",
    "\n",
    "    Returns:\n",
    "        state (dict): New key added to state, documents, that contains retrieved documents\n",
    "    \"\"\"\n",
    "    print(\"---RETRIEVE---\")\n",
    "    question = state[\"question\"]\n",
    "\n",
    "    # Write retrieved documents to documents key in state\n",
    "    documents = retriever.invoke(question)\n",
    "    return {\"documents\": documents}\n",
    "\n",
    "\n",
    "def handle_irrelevant(state):\n",
    "    \"\"\"\n",
    "    Handle irrelevant questions\n",
    "\n",
    "    Args:\n",
    "        state (dict): The current graph state\n",
    "\n",
    "    Returns:\n",
    "        state (dict): New key added to state, generation, that contains response to irrelevant question\n",
    "    \"\"\"\n",
    "    print(\"---HANDLE IRRELEVANT---\")\n",
    "    return {\n",
    "        \"generation\": \"This question is not related to the Rummikub rules. Please ask something specific to the game.\"\n",
    "    }\n",
    "\n",
    "\n",
    "def generate(state):\n",
    "    \"\"\"\n",
    "    Generate answer using RAG on retrieved documents\n",
    "\n",
    "    Args:\n",
    "        state (dict): The current graph state\n",
    "\n",
    "    Returns:\n",
    "        state (dict): New key added to state, generation, that contains LLM generation\n",
    "    \"\"\"\n",
    "    print(\"---GENERATE---\")\n",
    "    question = state[\"question\"]\n",
    "    documents = state[\"documents\"]\n",
    "    loop_step = state.get(\"loop_step\", 0)\n",
    "\n",
    "    # RAG generation\n",
    "    docs_txt = format_docs(documents)\n",
    "    rag_prompt_formatted = rag_prompt.format(context=docs_txt, question=question)\n",
    "    generation = llm.invoke([HumanMessage(content=rag_prompt_formatted)])\n",
    "    return {\"generation\": generation, \"loop_step\": loop_step + 1}\n",
    "\n",
    "\n",
    "def grade_documents(state):\n",
    "    \"\"\"\n",
    "    Determines whether the retrieved documents are relevant to the question\n",
    "    If any document is not relevant, we will set a flag to run web search\n",
    "\n",
    "    Args:\n",
    "        state (dict): The current graph state\n",
    "\n",
    "    Returns:\n",
    "        state (dict): Filtered out irrelevant documents and updated web_search state\n",
    "    \"\"\"\n",
    "\n",
    "    print(\"---CHECK DOCUMENT RELEVANCE TO QUESTION---\")\n",
    "    question = state[\"question\"]\n",
    "    documents = state[\"documents\"]\n",
    "\n",
    "    # Score each doc\n",
    "    filtered_docs = []\n",
    "    web_search = \"No\"\n",
    "    for d in documents:\n",
    "        doc_grader_prompt_formatted = doc_grader_prompt.format(\n",
    "            document=d.page_content, question=question\n",
    "        )\n",
    "        result = llm_json_mode.invoke(\n",
    "            [SystemMessage(content=doc_grader_instructions)]\n",
    "            + [HumanMessage(content=doc_grader_prompt_formatted)]\n",
    "        )\n",
    "        grade = json.loads(result.content)[\"binary_score\"]\n",
    "        # Document relevant\n",
    "        if grade.lower() == \"yes\":\n",
    "            print(\"---GRADE: DOCUMENT RELEVANT---\")\n",
    "            filtered_docs.append(d)\n",
    "        # Document not relevant\n",
    "        else:\n",
    "            print(\"---GRADE: DOCUMENT NOT RELEVANT---\")\n",
    "            # We do not include the document in filtered_docs\n",
    "            continue\n",
    "\n",
    "    if len(filtered_docs) == 0:\n",
    "        # We set a flag to indicate that we want to run web search only if all documents are irrelevant\n",
    "        web_search = \"Yes\"\n",
    "    return {\"documents\": filtered_docs, \"web_search\": web_search}\n",
    "\n",
    "\n",
    "def web_search(state):\n",
    "    \"\"\"\n",
    "    Web search based on the question\n",
    "\n",
    "    Args:\n",
    "        state (dict): The current graph state\n",
    "\n",
    "    Returns:\n",
    "        state (dict): Appended web results to documents\n",
    "    \"\"\"\n",
    "\n",
    "    print(\"---WEB SEARCH---\")\n",
    "    question = state[\"question\"]\n",
    "    documents = state.get(\"documents\", [])\n",
    "\n",
    "    # Web search\n",
    "    docs = web_search_tool.invoke({\"query\": question})\n",
    "    web_results = \"\\n\".join([d[\"content\"] for d in docs])\n",
    "    web_results = Document(page_content=web_results)\n",
    "    documents.append(web_results)\n",
    "    return {\"documents\": documents}\n",
    "\n",
    "\n",
    "### Edges\n",
    "\n",
    "\n",
    "def route_question(state):\n",
    "    \"\"\"\n",
    "    Route question to web search or RAG or none\n",
    "\n",
    "    Args:\n",
    "        state (dict): The current graph state\n",
    "\n",
    "    Returns:\n",
    "        str: Next node to call\n",
    "    \"\"\"\n",
    "\n",
    "    print(\"---ROUTE QUESTION---\")\n",
    "    route_question = llm_json_mode.invoke(\n",
    "        [SystemMessage(content=router_instructions)]\n",
    "        + [HumanMessage(content=state[\"question\"])]\n",
    "    )\n",
    "    source = json.loads(route_question.content)[\"datasource\"]\n",
    "    if source == \"websearch\":\n",
    "        print(\"---ROUTE QUESTION TO WEB SEARCH---\")\n",
    "        return \"websearch\"\n",
    "    elif source == \"vectorstore\":\n",
    "        print(\"---ROUTE QUESTION TO RAG---\")\n",
    "        return \"vectorstore\"\n",
    "    elif source == \"irrelevant\":\n",
    "        print(\"---ROUTE QUESTION TO IRRELEVANT---\")\n",
    "        return \"irrelevant\"\n",
    "\n",
    "\n",
    "def decide_to_generate(state):\n",
    "    \"\"\"\n",
    "    Determines whether to generate an answer, or add web search\n",
    "\n",
    "    Args:\n",
    "        state (dict): The current graph state\n",
    "\n",
    "    Returns:\n",
    "        str: Binary decision for next node to call\n",
    "    \"\"\"\n",
    "\n",
    "    print(\"---ASSESS GRADED DOCUMENTS---\")\n",
    "    web_search = state[\"web_search\"]\n",
    "\n",
    "    if web_search == \"Yes\":\n",
    "        # All documents have been filtered check_relevance\n",
    "        # We will re-generate a new query\n",
    "        print(\n",
    "            \"---DECISION: NOT ALL DOCUMENTS ARE RELEVANT TO QUESTION, INCLUDE WEB SEARCH---\"\n",
    "        )\n",
    "        return \"websearch\"\n",
    "    else:\n",
    "        # We have relevant documents, so generate answer\n",
    "        print(\"---DECISION: GENERATE---\")\n",
    "        return \"generate\"\n",
    "\n",
    "\n",
    "def grade_generation_v_documents_and_question(state):\n",
    "    \"\"\"\n",
    "    Determines whether the generation is grounded in the document and answers question\n",
    "\n",
    "    Args:\n",
    "        state (dict): The current graph state\n",
    "\n",
    "    Returns:\n",
    "        str: Decision for next node to call\n",
    "    \"\"\"\n",
    "\n",
    "    print(\"---CHECK HALLUCINATIONS---\")\n",
    "    question = state[\"question\"]\n",
    "    documents = state[\"documents\"]\n",
    "    generation = state[\"generation\"]\n",
    "    max_retries = state.get(\"max_retries\", 3)  # Default to 3 if not provided\n",
    "\n",
    "    hallucination_grader_prompt_formatted = hallucination_grader_prompt.format(\n",
    "        documents=format_docs(documents), generation=generation.content\n",
    "    )\n",
    "    result = llm_json_mode.invoke(\n",
    "        [SystemMessage(content=hallucination_grader_instructions)]\n",
    "        + [HumanMessage(content=hallucination_grader_prompt_formatted)]\n",
    "    )\n",
    "    grade = json.loads(result.content)[\"binary_score\"]\n",
    "\n",
    "    # Check hallucination\n",
    "    if grade == \"yes\":\n",
    "        print(\"---DECISION: GENERATION IS GROUNDED IN DOCUMENTS---\")\n",
    "        # Check question-answering\n",
    "        print(\"---GRADE GENERATION vs QUESTION---\")\n",
    "        # Test using question and generation from above\n",
    "        answer_grader_prompt_formatted = answer_grader_prompt.format(\n",
    "            question=question, generation=generation.content\n",
    "        )\n",
    "        result = llm_json_mode.invoke(\n",
    "            [SystemMessage(content=answer_grader_instructions)]\n",
    "            + [HumanMessage(content=answer_grader_prompt_formatted)]\n",
    "        )\n",
    "        grade = json.loads(result.content)[\"binary_score\"]\n",
    "        if grade == \"yes\":\n",
    "            print(\"---DECISION: GENERATION ADDRESSES QUESTION---\")\n",
    "            return \"useful\"\n",
    "        elif state[\"loop_step\"] <= max_retries:\n",
    "            print(\"---DECISION: GENERATION DOES NOT ADDRESS QUESTION---\")\n",
    "            return \"not useful\"\n",
    "        else:\n",
    "            print(\"---DECISION: MAX RETRIES REACHED---\")\n",
    "            return \"max retries\"\n",
    "    elif state[\"loop_step\"] <= max_retries:\n",
    "        print(\"---DECISION: GENERATION IS NOT GROUNDED IN DOCUMENTS, RE-TRY---\")\n",
    "        return \"not supported\"\n",
    "    else:\n",
    "        print(\"---DECISION: MAX RETRIES REACHED---\")\n",
    "        return \"max retries\""
   ]
  },
  {
   "cell_type": "code",
   "execution_count": 14,
   "id": "5ba2dec1739653ef",
   "metadata": {
    "ExecuteTime": {
     "end_time": "2024-11-28T15:57:30.365776Z",
     "start_time": "2024-11-28T15:57:29.257478Z"
    }
   },
   "outputs": [
    {
     "data": {
      "image/png": "[encoded data removed]",
      "text/plain": [
       "<IPython.core.display.Image object>"
      ]
     },
     "metadata": {},
     "output_type": "display_data"
    }
   ],
   "source": [
    "workflow = StateGraph(GraphState)\n",
    "\n",
    "# Define the nodes\n",
    "workflow.add_node(\"websearch\", web_search)  # web search\n",
    "workflow.add_node(\"retrieve\", retrieve)  # retrieve\n",
    "workflow.add_node(\"irrelevant\", handle_irrelevant)  # handle irrelevant\n",
    "workflow.add_node(\"grade_documents\", grade_documents)  # grade documents\n",
    "workflow.add_node(\"generate\", generate)  # generate\n",
    "\n",
    "# Build graph\n",
    "workflow.set_conditional_entry_point(\n",
    "    route_question,\n",
    "    {\n",
    "        \"websearch\": \"websearch\",\n",
    "        \"vectorstore\": \"retrieve\",\n",
    "        \"irrelevant\": \"irrelevant\",\n",
    "    },\n",
    ")\n",
    "workflow.add_edge(\"websearch\", \"generate\")\n",
    "workflow.add_edge(\"retrieve\", \"grade_documents\")\n",
    "workflow.add_conditional_edges(\n",
    "    \"grade_documents\",\n",
    "    decide_to_generate,\n",
    "    {\n",
    "        \"websearch\": \"websearch\",\n",
    "        \"generate\": \"generate\",\n",
    "    },\n",
    ")\n",
    "workflow.add_conditional_edges(\n",
    "    \"generate\",\n",
    "    grade_generation_v_documents_and_question,\n",
    "    {\n",
    "        \"not supported\": \"generate\",\n",
    "        \"useful\": END,\n",
    "        \"not useful\": \"websearch\",\n",
    "        \"max retries\": END,\n",
    "    },\n",
    ")\n",
    "\n",
    "# Set irrelevant as end node\n",
    "workflow.add_edge(\"irrelevant\", END)\n",
    "\n",
    "# Compile\n",
    "graph = workflow.compile()\n",
    "display(Image(graph.get_graph().draw_mermaid_png()))"
   ]
  },
  {
   "cell_type": "code",
   "execution_count": 15,
   "id": "df7e40f137b7055",
   "metadata": {
    "ExecuteTime": {
     "end_time": "2024-11-28T15:57:33.931001Z",
     "start_time": "2024-11-28T15:57:30.384878Z"
    }
   },
   "outputs": [
    {
     "name": "stdout",
     "output_type": "stream",
     "text": [
      "---ROUTE QUESTION---\n",
      "---ROUTE QUESTION TO IRRELEVANT---\n",
      "{'question': 'What are the models released today for llama3.2?', 'max_retries': 3, 'loop_step': 0}\n",
      "---HANDLE IRRELEVANT---\n",
      "{'question': 'What are the models released today for llama3.2?', 'generation': 'This question is not related to the Rummikub rules. Please ask something specific to the game.', 'max_retries': 3, 'loop_step': 0}\n"
     ]
    }
   ],
   "source": [
    "inputs = {\n",
    "    \"question\": \"What are the models released today for llama3.2?\",\n",
    "    \"max_retries\": 3,\n",
    "}\n",
    "for event in graph.stream(inputs, stream_mode=\"values\"):\n",
    "    print(event)"
   ]
  },
  {
   "cell_type": "code",
   "execution_count": null,
   "id": "e1cd4cd8666ded8",
   "metadata": {
    "ExecuteTime": {
     "start_time": "2024-11-28T15:57:33.947481Z"
    },
    "jupyter": {
     "is_executing": true
    }
   },
   "outputs": [
    {
     "name": "stdout",
     "output_type": "stream",
     "text": [
      "---ROUTE QUESTION---\n",
      "---ROUTE QUESTION TO RAG---\n",
      "{'question': 'What is the purpose of the joker tile in Rummikub?', 'max_retries': 3, 'loop_step': 0}\n",
      "---RETRIEVE---\n",
      "{'question': 'What is the purpose of the joker tile in Rummikub?', 'max_retries': 3, 'loop_step': 0, 'documents': [Document(metadata={'CreationDate': \"D:20241118154334+01'00'\", 'Creator': 'Adobe Acrobat Pro (32-bit) 24.4.20272', 'ModDate': \"D:20241123190612+01'00'\", 'Producer': 'Adobe Acrobat Pro (32-bit) 24.4.20272', 'Title': '2600-0236-0041 080719_rummikub rules', 'file_path': '../../data\\\\rummikub_rules.pdf', 'page': 2, 'source': '../../data\\\\rummikub_rules.pdf', 'total_pages': 13}, page_content='2. Tiles on rack Tiles on table\\n1 7 2 3 5 6\\nThe player splits the run\\nand clears the joker. 1 2 3 5 6 7 clear\\n3. Tiles on rack Tiles on table\\n5 6 7\\nThe player adds the blue 5 5 6 7 clear\\nand clears the joker.'), Document(metadata={'CreationDate': \"D:20241118154334+01'00'\", 'Creator': 'Adobe Acrobat Pro (32-bit) 24.4.20272', 'ModDate': \"D:20241123190612+01'00'\", 'Producer': 'Adobe Acrobat Pro (32-bit) 24.4.20272', 'Title': '2600-0236-0041 080719_rummikub rules', 'file_path': '../../data\\\\rummikub_rules.pdf', 'page': 4, 'source': '../../data\\\\rummikub_rules.pdf', 'total_pages': 13}, page_content='Rummikub®\\n• Introduction; Equipment\\n• Sabra Rummikub® - Variations\\n• American Rummikub®\\n• International Rummikub®\\n• Software and Online Games\\nIntroduction; Equipment\\nRummikub® is a group of tile rummy games, played with a set of 106 coloured and numbered\\ntiles. They were introduced to Western Europe and America by the Israeli games inventor\\nEphraim Hertzano. An article in Israel21c (September 2003) tells the story of the genesis of the\\nidea in 1940\\'s Romania where Hertzano grew up and its subsequent international success.\\nSome other sources place the original conecption earier, in the 1930\\'s. Hertzano\\'s \"Official\\nRummikub® Book\", published in 1978, describes three different games with the tiles: American,\\nSabra and International. Subsequently, Sabra has become by far the best known in the West,\\nand modern Rummikub® sets include only the Sabra rules, with no mention of the other\\nversions. Since \"Sabra\" is the word for a native-born Israeli, it may be that the version to which\\nHertzano gave this name was invented in Israel, while the \"American\" game is more closely\\nrelated to the traditional rummy games played in his native Romania.\\nIn the Rummikub® set, 104 of the tiles have numbers, running from 1 to 13, and there are four\\ncolours: black, red, blue and orange. There are two tiles of each number and colour. The other\\ntwo tiles are jokers, which show smiling faces instead of numbers. In most sets the two jokers'), Document(metadata={'CreationDate': \"D:20241118154334+01'00'\", 'Creator': 'Adobe Acrobat Pro (32-bit) 24.4.20272', 'ModDate': \"D:20241123190612+01'00'\", 'Producer': 'Adobe Acrobat Pro (32-bit) 24.4.20272', 'Title': '2600-0236-0041 080719_rummikub rules', 'file_path': '../../data\\\\rummikub_rules.pdf', 'page': 4, 'source': '../../data\\\\rummikub_rules.pdf', 'total_pages': 13}, page_content=\"colours: black, red, blue and orange. There are two tiles of each number and colour. The other\\ntwo tiles are jokers, which show smiling faces instead of numbers. In most sets the two jokers\\nare different colours, but in the games they are identical, as though they had no colour.\\nSabra Rummikub®\\nThis version of Manipulation Rummy is the only game whose rules are included with recent\\nRummikub® sets. Surprisingly, the rules supplied with different editions differ from each other\\nand from the rules in the 1978 book in several details.\\nThere are two, three or four players, and the game is played clockwise. The tiles are shuffled face\\ndown on the table and each player takes 14 tiles, which are kept on a rack so that the other\\nplayers cannot see them. The remaining tiles stay face-down on the table to form the pool.\\nThe object is to be the first to get rid of all of your tiles by melding them in combinations on the\\ntable. The possible combinations are:\\n• groups, consisting of three or four tiles of the same number and different colours\\n• runs, consisting of three or more consecutive numbers of the same colour. (Note that\\nunlike some other games, in Sabra the '1' tiles are always low in runs: 1-2-3 is a valid run;\\n12-13-1 is not.)\\nNo tile may belong to more than one combination at the same time.\\nJokers can be used as substitutes for any numbered tile of any colour to make up a valid\\ncombination.\")]}\n",
      "---CHECK DOCUMENT RELEVANCE TO QUESTION---\n",
      "---GRADE: DOCUMENT NOT RELEVANT---\n",
      "---GRADE: DOCUMENT RELEVANT---\n",
      "---GRADE: DOCUMENT RELEVANT---\n",
      "---ASSESS GRADED DOCUMENTS---\n",
      "---DECISION: GENERATE---\n",
      "{'question': 'What is the purpose of the joker tile in Rummikub?', 'web_search': 'No', 'max_retries': 3, 'loop_step': 0, 'documents': [Document(metadata={'CreationDate': \"D:20241118154334+01'00'\", 'Creator': 'Adobe Acrobat Pro (32-bit) 24.4.20272', 'ModDate': \"D:20241123190612+01'00'\", 'Producer': 'Adobe Acrobat Pro (32-bit) 24.4.20272', 'Title': '2600-0236-0041 080719_rummikub rules', 'file_path': '../../data\\\\rummikub_rules.pdf', 'page': 4, 'source': '../../data\\\\rummikub_rules.pdf', 'total_pages': 13}, page_content='Rummikub®\\n• Introduction; Equipment\\n• Sabra Rummikub® - Variations\\n• American Rummikub®\\n• International Rummikub®\\n• Software and Online Games\\nIntroduction; Equipment\\nRummikub® is a group of tile rummy games, played with a set of 106 coloured and numbered\\ntiles. They were introduced to Western Europe and America by the Israeli games inventor\\nEphraim Hertzano. An article in Israel21c (September 2003) tells the story of the genesis of the\\nidea in 1940\\'s Romania where Hertzano grew up and its subsequent international success.\\nSome other sources place the original conecption earier, in the 1930\\'s. Hertzano\\'s \"Official\\nRummikub® Book\", published in 1978, describes three different games with the tiles: American,\\nSabra and International. Subsequently, Sabra has become by far the best known in the West,\\nand modern Rummikub® sets include only the Sabra rules, with no mention of the other\\nversions. Since \"Sabra\" is the word for a native-born Israeli, it may be that the version to which\\nHertzano gave this name was invented in Israel, while the \"American\" game is more closely\\nrelated to the traditional rummy games played in his native Romania.\\nIn the Rummikub® set, 104 of the tiles have numbers, running from 1 to 13, and there are four\\ncolours: black, red, blue and orange. There are two tiles of each number and colour. The other\\ntwo tiles are jokers, which show smiling faces instead of numbers. In most sets the two jokers'), Document(metadata={'CreationDate': \"D:20241118154334+01'00'\", 'Creator': 'Adobe Acrobat Pro (32-bit) 24.4.20272', 'ModDate': \"D:20241123190612+01'00'\", 'Producer': 'Adobe Acrobat Pro (32-bit) 24.4.20272', 'Title': '2600-0236-0041 080719_rummikub rules', 'file_path': '../../data\\\\rummikub_rules.pdf', 'page': 4, 'source': '../../data\\\\rummikub_rules.pdf', 'total_pages': 13}, page_content=\"colours: black, red, blue and orange. There are two tiles of each number and colour. The other\\ntwo tiles are jokers, which show smiling faces instead of numbers. In most sets the two jokers\\nare different colours, but in the games they are identical, as though they had no colour.\\nSabra Rummikub®\\nThis version of Manipulation Rummy is the only game whose rules are included with recent\\nRummikub® sets. Surprisingly, the rules supplied with different editions differ from each other\\nand from the rules in the 1978 book in several details.\\nThere are two, three or four players, and the game is played clockwise. The tiles are shuffled face\\ndown on the table and each player takes 14 tiles, which are kept on a rack so that the other\\nplayers cannot see them. The remaining tiles stay face-down on the table to form the pool.\\nThe object is to be the first to get rid of all of your tiles by melding them in combinations on the\\ntable. The possible combinations are:\\n• groups, consisting of three or four tiles of the same number and different colours\\n• runs, consisting of three or more consecutive numbers of the same colour. (Note that\\nunlike some other games, in Sabra the '1' tiles are always low in runs: 1-2-3 is a valid run;\\n12-13-1 is not.)\\nNo tile may belong to more than one combination at the same time.\\nJokers can be used as substitutes for any numbered tile of any colour to make up a valid\\ncombination.\")]}\n",
      "---GENERATE---\n",
      "---CHECK HALLUCINATIONS---\n"
     ]
    }
   ],
   "source": [
    "inputs = {\n",
    "    \"question\": \"What is the purpose of the joker tile in Rummikub?\",\n",
    "    \"max_retries\": 3,\n",
    "}\n",
    "for event in graph.stream(inputs, stream_mode=\"values\"):\n",
    "    print(event)"
   ]
  },
  {
   "cell_type": "code",
   "execution_count": 35,
   "id": "add451abb284fbc9",
   "metadata": {
    "ExecuteTime": {
     "end_time": "2024-11-28T16:08:30.524434500Z",
     "start_time": "2024-11-26T17:09:31.504088Z"
    }
   },
   "outputs": [
    {
     "name": "stdout",
     "output_type": "stream",
     "text": [
      "---ROUTE QUESTION---\n",
      "---ROUTE QUESTION TO WEB SEARCH---\n",
      "{'question': 'Is there a Rummikub championship?', 'max_retries': 3, 'loop_step': 0}\n",
      "---WEB SEARCH---\n",
      "{'question': 'Is there a Rummikub championship?', 'max_retries': 3, 'loop_step': 0, 'documents': [Document(metadata={}, page_content='Are There Rummikub Tournaments? Are There Rummikub Tournaments? 1 When was the first Rummikub tournament? 2 Rummikub tournaments 4 Rummikub Tournament Rules 6 The Joker in the Rummikub tournament So are there Rummikub tournaments? Rummikub is a professional game that has tournaments to see who is the best in the world every three years. When was the first Rummikub tournament? When the creator of the Rummikub game, Ephraim sadly passed away at the age of 75, it motivated his children to set in motion the first Rummikub Championship tournament. Rummikub tournaments Rummikub Tournament Rules The Joker in the Rummikub tournament If a joker is still on a player’s rack at the finishing point of the tournament game, then its penalty score is 30 points.\\nWRC - Rummikub WRC WRC WRC The Wrc - Rummikub World Championships The WRC, also known as the Rummikub World Championships, has since evolved into a prestigious event held every three years at different prominent global venues. The quest is underway to find the upcoming Rummikub NZ National Champion, who will proudly stand for New Zealand at the upcoming WRC. If you’re confident that you possess the necessary skills to represent New Zealand in the forthcoming WRC, then its time to register for the New Zealand Rummikub Championship 2024. This year we will be holding the New Zealand Rummikub Championship at JetPark Hotel Auckland. New Zealand has been proudly represented at 7 of the 9 WRC’s. WRC\\nWRC - Rummikub WRC WRC Play Online Play Rummikub online and experience the game conquering the world WRC WRC WRC The WRC- Rummikub World Championships The first WRC was held in Jerusalem 31 years ago, back then only 12 countries participated. The WRC – Rummikub World Championships is occurring every three years in a different major location in the world, such as the Eiffel Tower in Paris, Hamleys the largest toy store in London, a bullfighting arena in Spain and The DZ Bank Berlin architected by Frank Gehry. Last WRC in 2018 we had 120 participants from 32 different countries. 2024 the WRC11 will be held in Gdansk, Poland.')]}\n",
      "---GENERATE---\n",
      "---CHECK HALLUCINATIONS---\n",
      "---DECISION: GENERATION IS GROUNDED IN DOCUMENTS---\n",
      "---GRADE GENERATION vs QUESTION---\n",
      "---DECISION: GENERATION ADDRESSES QUESTION---\n",
      "{'question': 'Is there a Rummikub championship?', 'generation': AIMessage(content='Yes, there are Rummikub tournaments. In fact, the Rummikub World Championships (WRC) is held every three years at different prominent global venues, with a growing number of participants from various countries. The WRC has become a prestigious event that attracts skilled players who compete to be crowned the best in the world.', additional_kwargs={}, response_metadata={'model': 'llama3.2', 'created_at': '2024-11-26T17:09:53.0391144Z', 'message': {'role': 'assistant', 'content': ''}, 'done_reason': 'stop', 'done': True, 'total_duration': 15058310800, 'load_duration': 21370800, 'prompt_eval_count': 645, 'prompt_eval_duration': 5006000000, 'eval_count': 69, 'eval_duration': 10028000000}, id='run-7664cf40-d057-4b9b-bf73-d4fd9b31c900-0', usage_metadata={'input_tokens': 645, 'output_tokens': 69, 'total_tokens': 714}), 'max_retries': 3, 'loop_step': 1, 'documents': [Document(metadata={}, page_content='Are There Rummikub Tournaments? Are There Rummikub Tournaments? 1 When was the first Rummikub tournament? 2 Rummikub tournaments 4 Rummikub Tournament Rules 6 The Joker in the Rummikub tournament So are there Rummikub tournaments? Rummikub is a professional game that has tournaments to see who is the best in the world every three years. When was the first Rummikub tournament? When the creator of the Rummikub game, Ephraim sadly passed away at the age of 75, it motivated his children to set in motion the first Rummikub Championship tournament. Rummikub tournaments Rummikub Tournament Rules The Joker in the Rummikub tournament If a joker is still on a player’s rack at the finishing point of the tournament game, then its penalty score is 30 points.\\nWRC - Rummikub WRC WRC WRC The Wrc - Rummikub World Championships The WRC, also known as the Rummikub World Championships, has since evolved into a prestigious event held every three years at different prominent global venues. The quest is underway to find the upcoming Rummikub NZ National Champion, who will proudly stand for New Zealand at the upcoming WRC. If you’re confident that you possess the necessary skills to represent New Zealand in the forthcoming WRC, then its time to register for the New Zealand Rummikub Championship 2024. This year we will be holding the New Zealand Rummikub Championship at JetPark Hotel Auckland. New Zealand has been proudly represented at 7 of the 9 WRC’s. WRC\\nWRC - Rummikub WRC WRC Play Online Play Rummikub online and experience the game conquering the world WRC WRC WRC The WRC- Rummikub World Championships The first WRC was held in Jerusalem 31 years ago, back then only 12 countries participated. The WRC – Rummikub World Championships is occurring every three years in a different major location in the world, such as the Eiffel Tower in Paris, Hamleys the largest toy store in London, a bullfighting arena in Spain and The DZ Bank Berlin architected by Frank Gehry. Last WRC in 2018 we had 120 participants from 32 different countries. 2024 the WRC11 will be held in Gdansk, Poland.')]}\n"
     ]
    }
   ],
   "source": [
    "inputs = {\"question\": \"Is there a Rummikub championship?\", \"max_retries\": 3}\n",
    "for event in graph.stream(inputs, stream_mode=\"values\"):\n",
    "    print(event)"
   ]
  },
  {
   "cell_type": "code",
   "execution_count": 36,
   "id": "6d909021ecbe6cee",
   "metadata": {
    "ExecuteTime": {
     "end_time": "2024-11-28T16:08:30.529202700Z",
     "start_time": "2024-11-26T17:10:04.187068Z"
    }
   },
   "outputs": [
    {
     "name": "stdout",
     "output_type": "stream",
     "text": [
      "---ROUTE QUESTION---\n",
      "---ROUTE QUESTION TO RAG---\n",
      "---RETRIEVE---\n",
      "---CHECK DOCUMENT RELEVANCE TO QUESTION---\n",
      "---GRADE: DOCUMENT NOT RELEVANT---\n",
      "---GRADE: DOCUMENT RELEVANT---\n",
      "---GRADE: DOCUMENT RELEVANT---\n",
      "---ASSESS GRADED DOCUMENTS---\n",
      "---DECISION: GENERATE---\n",
      "---GENERATE---\n",
      "---CHECK HALLUCINATIONS---\n",
      "---DECISION: GENERATION IS GROUNDED IN DOCUMENTS---\n",
      "---GRADE GENERATION vs QUESTION---\n",
      "---DECISION: GENERATION ADDRESSES QUESTION---\n",
      "The joker tile in Rummikub can be used as a substitute for any numbered tile of any color to make up a valid combination.\n"
     ]
    }
   ],
   "source": [
    "inputs = {\n",
    "    \"question\": \"What is the purpose of the joker tile in Rummikub?\",\n",
    "    \"max_retries\": 3,\n",
    "}\n",
    "\n",
    "# Execute the graph synchronously (no streaming)\n",
    "final_state = graph.invoke(inputs)\n",
    "\n",
    "print(final_state[\"generation\"].content)"
   ]
  },
  {
   "cell_type": "markdown",
   "id": "a62a9d3d7d061bec",
   "metadata": {},
   "source": [
    "## Conclusion\n",
    "I think the rag is working fine. Only a bit slow but that is I think due to resources (I only have cpu). I need to check with the dev ops team to see if we can deploy the Graph."
   ]
  }
 ],
 "metadata": {
  "kernelspec": {
   "display_name": "Python 3",
   "language": "python",
   "name": "python3"
  },
  "language_info": {
   "codemirror_mode": {
    "name": "ipython",
    "version": 2
   },
   "file_extension": ".py",
   "mimetype": "text/x-python",
   "name": "python",
   "nbconvert_exporter": "python",
   "pygments_lexer": "ipython2",
   "version": "2.7.6"
  }
 },
 "nbformat": 4,
 "nbformat_minor": 5
}
