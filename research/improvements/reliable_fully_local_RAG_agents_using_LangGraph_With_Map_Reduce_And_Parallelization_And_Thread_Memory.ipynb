{
 "cells": [
  {
   "metadata": {},
   "cell_type": "markdown",
   "source": [
    "# Reliable Fully Local RAG Agents with LangGraph, Map Reduce, Parallelization, and Thread Memory\n",
    "\n",
    "This notebook demonstrates how **thread memory** enhances the performance of RAG (Retrieval-Augmented Generation) agents by providing context through previous interactions. Additionally, improvements to prompts, graph state, and nodes, as well as the integration of new models for structured output, are showcased.\n",
    "\n",
    "## **What Is Thread Memory?**\n",
    "\n",
    "Thread memory, also referred to as **chat history**, allows the RAG agent to remember previous interactions in the conversation. By storing and referencing past messages, the agent can make more contextually relevant decisions, leading to more coherent and personalized responses.\n",
    "\n",
    "Thread memory enables the agent to recall prior conversation history, improving its ability to maintain context over longer interactions.\n",
    "\n",
    "## **How It Improves RAG Agents**\n",
    "\n",
    "The use of thread memory improves RAG agents by:\n",
    "- **Contextual Awareness**: The agent can recall past interactions, ensuring responses are coherent and contextually accurate.\n",
    "- **Enhanced Dialogue Quality**: With thread memory, the chatbot can provide more personalized and relevant answers based on previous messages.\n",
    "- **Improved Decision Making**: The agent uses thread memory to better understand user intent and adjust responses accordingly.\n",
    "\n",
    "## **Key Benefits**\n",
    "\n",
    "Thread memory improves RAG agents in the following ways:\n",
    "- **Longer Context Retention**: The agent can remember previous messages, ensuring more accurate responses over time.\n",
    "- **Personalized Interactions**: The chatbot can tailor responses based on prior conversations, enhancing user experience.\n",
    "- **Improved Performance**: Combined with MapReduce and Parallelization, thread memory boosts the agent’s ability to process and respond more effectively, leveraging previous context to make decisions faster.\n"
   ],
   "id": "fc2c62510ca93a76"
  },
  {
   "metadata": {
    "ExecuteTime": {
     "end_time": "2025-01-04T15:56:16.775977Z",
     "start_time": "2025-01-04T15:56:16.757313Z"
    }
   },
   "cell_type": "code",
   "source": [
    "import logging\n",
    "import operator\n",
    "import os\n",
    "import traceback\n",
    "from functools import wraps\n",
    "from typing import Annotated, Any, Dict, List\n",
    "\n",
    "import chromadb\n",
    "import httpx\n",
    "from dotenv import load_dotenv\n",
    "from IPython.display import Image, display\n",
    "from langchain.schema import Document\n",
    "from langchain_chroma import Chroma\n",
    "from langchain_community.tools.tavily_search import TavilySearchResults\n",
    "from langchain_core.messages import AIMessage, HumanMessage, SystemMessage\n",
    "from langchain_ollama import ChatOllama, OllamaEmbeddings\n",
    "from langgraph.checkpoint.memory import MemorySaver\n",
    "from langgraph.constants import END, Send\n",
    "from langgraph.graph import MessagesState, StateGraph\n",
    "from pydantic import BaseModel, ValidationError\n",
    "from typing_extensions import Literal, TypedDict\n",
    "from unstructured.partition.pdf import partition_pdf\n",
    "\n",
    "load_dotenv(dotenv_path=\"../../.env.research\")"
   ],
   "id": "6a22abe6e70c7973",
   "outputs": [
    {
     "data": {
      "text/plain": [
       "True"
      ]
     },
     "execution_count": 24,
     "metadata": {},
     "output_type": "execute_result"
    }
   ],
   "execution_count": 24
  },
  {
   "metadata": {
    "ExecuteTime": {
     "end_time": "2025-01-04T15:56:17.810213Z",
     "start_time": "2025-01-04T15:56:16.820855Z"
    }
   },
   "cell_type": "code",
   "source": [
    "client = chromadb.HttpClient(\n",
    "    host=os.getenv(\"CHROMA_HOST\"), port=int(os.getenv(\"CHROMA_PORT\"))\n",
    ")"
   ],
   "id": "25add0caff38870d",
   "outputs": [
    {
     "name": "stderr",
     "output_type": "stream",
     "text": [
      "INFO:chromadb.telemetry.product.posthog:Anonymized telemetry enabled. See                     https://docs.trychroma.com/telemetry for more information.\n",
      "INFO:httpx:HTTP Request: GET http://localhost:5000/api/v2/auth/identity \"HTTP/1.1 200 OK\"\n",
      "INFO:chromadb.telemetry.product.posthog:Anonymized telemetry enabled. See                     https://docs.trychroma.com/telemetry for more information.\n",
      "INFO:httpx:HTTP Request: GET http://localhost:5000/api/v2/tenants/default_tenant \"HTTP/1.1 200 OK\"\n",
      "INFO:httpx:HTTP Request: GET http://localhost:5000/api/v2/tenants/default_tenant/databases/default_database \"HTTP/1.1 200 OK\"\n"
     ]
    }
   ],
   "execution_count": 25
  },
  {
   "cell_type": "code",
   "id": "initial_id",
   "metadata": {
    "collapsed": true,
    "ExecuteTime": {
     "end_time": "2025-01-04T15:56:19.482224Z",
     "start_time": "2025-01-04T15:56:17.823142Z"
    }
   },
   "source": [
    "### LLM\n",
    "local_llm = str(os.getenv(\"LLM_MODEL\"))\n",
    "llm = ChatOllama(model=local_llm, temperature=0.0)\n",
    "embedder = OllamaEmbeddings(\n",
    "    model=str(os.getenv(\"EMBEDDING_MODEL\")), base_url=os.getenv(\"OLLAMA_URI\")\n",
    ")"
   ],
   "outputs": [],
   "execution_count": 26
  },
  {
   "metadata": {
    "ExecuteTime": {
     "end_time": "2025-01-04T15:56:19.631729Z",
     "start_time": "2025-01-04T15:56:19.493162Z"
    }
   },
   "cell_type": "code",
   "source": [
    "if os.getenv(\"CHROMA_COLLECTION_NAME\") in [\n",
    "    collection.name for collection in client.list_collections()\n",
    "]:\n",
    "    client.delete_collection(os.getenv(\"CHROMA_COLLECTION_NAME\"))"
   ],
   "id": "b3f5e7182defa030",
   "outputs": [
    {
     "name": "stderr",
     "output_type": "stream",
     "text": [
      "INFO:httpx:HTTP Request: GET http://localhost:5000/api/v2/tenants/default_tenant/databases/default_database/collections \"HTTP/1.1 200 OK\"\n",
      "INFO:httpx:HTTP Request: DELETE http://localhost:5000/api/v2/tenants/default_tenant/databases/default_database/collections/rummikub_rules_research \"HTTP/1.1 200 OK\"\n"
     ]
    }
   ],
   "execution_count": 27
  },
  {
   "cell_type": "code",
   "id": "541a1e10f44620",
   "metadata": {
    "ExecuteTime": {
     "end_time": "2025-01-04T15:56:38.420157Z",
     "start_time": "2025-01-04T15:56:19.641071Z"
    }
   },
   "source": [
    "if os.getenv(\"CHROMA_COLLECTION_NAME\") not in [\n",
    "    collection.name for collection in client.list_collections()\n",
    "]:\n",
    "    all_splits = partition_pdf(\n",
    "        filename=os.path.join(os.getenv(\"DATA_DIR\"), \"rummikub_rules.pdf\"),\n",
    "        extract_images_in_pdf=False,\n",
    "        infer_table_structure=True,\n",
    "        chunking_strategy=\"by_title\",\n",
    "        max_characters=1500,\n",
    "        new_after_n_chars=1200,\n",
    "        combine_text_under_n_chars=500,\n",
    "    )\n",
    "    texts = []\n",
    "    for element in all_splits:\n",
    "        if \"unstructured.documents.elements.CompositeElement\" in str(type(element)):\n",
    "            texts.append(str(element))\n",
    "    vectorstore = None\n",
    "    try:\n",
    "        vectorstore = Chroma(\n",
    "            client=client,\n",
    "            collection_name=os.getenv(\"CHROMA_COLLECTION_NAME\"),\n",
    "            embedding_function=OllamaEmbeddings(\n",
    "                model=\"nomic-embed-text\", base_url=os.getenv(\"OLLAMA_URI\")\n",
    "            ),\n",
    "        )\n",
    "        vectorstore.add_texts(texts=texts)\n",
    "    except httpx.ConnectError as e:\n",
    "        logging.error(f\"Could not connect to Chroma: {e}\")\n",
    "        vectorstore.delete_collection()"
   ],
   "outputs": [
    {
     "name": "stderr",
     "output_type": "stream",
     "text": [
      "INFO:httpx:HTTP Request: GET http://localhost:5000/api/v2/tenants/default_tenant/databases/default_database/collections \"HTTP/1.1 200 OK\"\n",
      "INFO:unstructured_inference:Reading PDF for file: ../../data\\rummikub_rules.pdf ...\n",
      "INFO:httpx:HTTP Request: POST http://localhost:5000/api/v2/tenants/default_tenant/databases/default_database/collections \"HTTP/1.1 200 OK\"\n",
      "INFO:httpx:HTTP Request: POST http://localhost:11434/api/embed \"HTTP/1.1 200 OK\"\n",
      "INFO:httpx:HTTP Request: GET http://localhost:5000/api/v2/pre-flight-checks \"HTTP/1.1 200 OK\"\n",
      "INFO:httpx:HTTP Request: POST http://localhost:5000/api/v2/tenants/default_tenant/databases/default_database/collections/2a5784fe-c402-402e-9848-8de3734da53b/upsert \"HTTP/1.1 200 OK\"\n"
     ]
    }
   ],
   "execution_count": 28
  },
  {
   "metadata": {
    "ExecuteTime": {
     "end_time": "2025-01-04T15:56:38.446413Z",
     "start_time": "2025-01-04T15:56:38.429578Z"
    }
   },
   "cell_type": "code",
   "source": [
    "### Retriever\n",
    "vectorstore = Chroma(\n",
    "    collection_name=os.getenv(\"CHROMA_COLLECTION_NAME\"),\n",
    "    client=client,\n",
    "    embedding_function=embedder,\n",
    "    create_collection_if_not_exists=False,\n",
    ")\n",
    "retriever = vectorstore.as_retriever(search_kwargs={\"k\": 3})"
   ],
   "id": "d0a8f1467bb3e61f",
   "outputs": [
    {
     "name": "stderr",
     "output_type": "stream",
     "text": [
      "INFO:httpx:HTTP Request: GET http://localhost:5000/api/v2/tenants/default_tenant/databases/default_database/collections/rummikub_rules_research \"HTTP/1.1 200 OK\"\n"
     ]
    }
   ],
   "execution_count": 29
  },
  {
   "cell_type": "markdown",
   "id": "8338b2899d040579",
   "metadata": {},
   "source": "## Components"
  },
  {
   "metadata": {
    "ExecuteTime": {
     "end_time": "2025-01-04T15:56:38.463246Z",
     "start_time": "2025-01-04T15:56:38.457540Z"
    }
   },
   "cell_type": "code",
   "source": [
    "### Improve Query\n",
    "improve_query_instructions = \"\"\"\n",
    "You are tasked with improving the user's query to make it more relevant to Rummikub.\n",
    "\n",
    "Guidelines:\n",
    "1. **Question Analysis:**\n",
    "   - **Do not force connections**: Avoid making assumptions or altering the query that does not align with the context.\n",
    "   - **Do not make assumptions**: Never make assumptions about the question.\n",
    "\n",
    "2. **Query Improvement:**\n",
    "   - Focus on game elements such as rules, gameplay, sets, runs, scoring, etc.\n",
    "   - Maintain original context and intent\n",
    "   - Add relevant Rummikub terminology if necessary (e.g., tiles, sets, runs).\n",
    "   - Do not copy the previous question verbatim.\n",
    "   - You can use the previous context to understand the user's intent better.\n",
    "\"\"\"\n",
    "\n",
    "improve_query_prompt = \"\"\"\n",
    "Instructions:\n",
    "{improve_query_instructions}\n",
    "\n",
    "Previous context:\n",
    "{formatted_context}\n",
    "\n",
    "Latest question:\n",
    "{latest_question}\n",
    "\n",
    "Return JSON: (\"improved_query\": \"<query>\")\n",
    "\"\"\""
   ],
   "id": "9a8d9a227d02c42",
   "outputs": [],
   "execution_count": 30
  },
  {
   "cell_type": "code",
   "id": "763843d9a1f4cc46",
   "metadata": {
    "ExecuteTime": {
     "end_time": "2025-01-04T15:56:38.506068Z",
     "start_time": "2025-01-04T15:56:38.499810Z"
    }
   },
   "source": [
    "### Router\n",
    "\n",
    "router_instructions = \"\"\"\n",
    "You are a question router that classifies the user question into appropriate data sources based on their relevance to Rummikub.\n",
    "\n",
    "It is important that you only return route information about the user's question and not the previous messages.\n",
    "\n",
    "### Guidelines:\n",
    "1. **Primary Task:**\n",
    "   - Determine whether the user's question is about Rummikub. Questions should be about its rules, gameplay, strategy, tiles, or mechanics.\n",
    "   - Analyze the previous messages and the user's question to make an informed decision. The user's question can be a follow-up or a new query.\n",
    "   - Avoid assuming connections between unrelated topics and Rummikub unless explicitly stated by the user or derived from the context.\n",
    "\n",
    "2. **Use Context Selectively:**\n",
    "   - Only refer to the provided previous messages if the question is ambiguous and the context is necessary to make a decision.\n",
    "   - Do not infer a connection between the question and Rummikub if it mentions unrelated terms, games, or concepts.\n",
    "\n",
    "3. **Return:**\n",
    "It is important to not include any other information in the response other than the structured output.\n",
    "Call the RoutingInformation tool for the structured output so that the output is in the correct format.\n",
    "\"\"\"\n",
    "\n",
    "router_prompt = \"\"\"\n",
    "Analyze the user’s question and determine the most appropriate data source.\n",
    "Look at the previous messages and the user's question to make an informed decision. If the question is connected to the previous messages which makes it clear that the question is about Rummikub, then route it either to the vectorstore or websearch depending on the context.\n",
    "Do not force a connection between the question and Rummikub if it is not related. Do not make assumptions or reinterpret the question to fit Rummikub.\n",
    "Do not make rules up or provide information that is not supported by the context.\n",
    "It is important that you make one routing decision of the users question and not the previous messages.\n",
    "\n",
    "#### Context About Rummikub:\n",
    "Rummikub is a **tile-based** game where players aim to be the first to empty their rack by forming valid sets or runs of numbered tiles. The game involves two types of valid combinations: sets (groups of the same number in different colors) and runs (consecutive numbers in the same color). Jokers can substitute for any tile. Questions about other games or concepts are unrelated.\n",
    "\n",
    "#### User’s Question:\n",
    "{question}\n",
    "\n",
    "#### Previous Messages:\n",
    "{formatted_context}\n",
    "\n",
    "### Task:\n",
    "1. Decide the appropriate <datasource>:\n",
    "   - **`vectorstore`:** For questions explicitly about Rummikub.\n",
    "   - **`websearch`:** For questions about recent events or updates related to Rummikub.\n",
    "   - **`irrelevant`:** For all other questions, including those about unrelated topics.\n",
    "\n",
    "2. Provide <reasoning> for your choice:\n",
    "   - Explain briefly why the question fits the selected category.\n",
    "   - For unclear questions, explain why the context provided does or does not clarify the intent.\n",
    "\"\"\""
   ],
   "outputs": [],
   "execution_count": 31
  },
  {
   "cell_type": "code",
   "id": "25865fe9a1aebd22",
   "metadata": {
    "ExecuteTime": {
     "end_time": "2025-01-04T15:56:38.538540Z",
     "start_time": "2025-01-04T15:56:38.531514Z"
    }
   },
   "source": [
    "### Retrieval Grader\n",
    "\n",
    "doc_grader_instructions = \"\"\"\n",
    "You are an evaluator tasked with determining the relevance of a retrieved document to a user's question.\n",
    "\n",
    "Use the following **criteria for relevance**:\n",
    "1. **Direct Match**: The document directly addresses the user's question by answering it or discussing its main subject.\n",
    "2. **Contextual Help**: Even if the document does not provide a direct answer, it could offer partial information, context, or clues that contribute to answering the question. This is considered relevant.\n",
    "3. **Alignment**: The document must contain specific keywords, synonyms, phrases, or related ideas that align closely with the user's question.\n",
    "\n",
    "**Important Considerations**:\n",
    "- Be **strict but fair**: Grade as 'not relevant' only if the document provides no meaningful connection to the user's question.\n",
    "- Avoid being overly conservative: Even partial or incomplete information should be considered relevant if it adds value to the answer.\n",
    "- Use an **objective lens**: Base your decision solely on the content of the document and its connection to the question, without assumptions.\n",
    "\n",
    "Your evaluation must balance strictness with fairness to ensure that useful documents are not unnecessarily excluded.\n",
    "\"\"\"\n",
    "\n",
    "doc_grader_prompt = \"\"\"\n",
    "Here is a retrieved document:\n",
    "\n",
    "{document}\n",
    "\n",
    "Here is the user's question:\n",
    "\n",
    "{improved_query}\n",
    "\n",
    "Using the criteria provided:\n",
    "1. Determine whether the document is relevant to the question.\n",
    "2. Base your assessment on whether the document directly or indirectly addresses the question, provides partial information, or offers contextual relevance. These are all considered relevant.\n",
    "\n",
    "Return JSON with a single key, `binary_score`, as either 'yes' (relevant) or 'no' (not relevant). Make your assessment objective and based solely on the content of the document and its alignment with the question.\n",
    "\"\"\""
   ],
   "outputs": [],
   "execution_count": 32
  },
  {
   "metadata": {
    "ExecuteTime": {
     "end_time": "2025-01-04T15:56:38.579093Z",
     "start_time": "2025-01-04T15:56:38.571456Z"
    }
   },
   "cell_type": "code",
   "source": [
    "### Generate\n",
    "\n",
    "rag_instructions = \"\"\"\n",
    "You are an assistant tasked with answering questions about Rummikub based on provided context. Your response must be well-structured, professional, and formatted for clear readability.\n",
    "\n",
    "### Evaluation Criteria for Responses\n",
    "1. **Accuracy**: Your answer must be directly supported by the provided context.\n",
    "2. **Clarity**: Provide straightforward, clear, and concise answers. Avoid redundant phrases or ambiguous phrasing.\n",
    "3. **Completeness**: Fully address the user question based on the available context and improved query. If the context is insufficient, indicate this and offer actionable suggestions.\n",
    "4. **Relevance**: Stick strictly to the information derived from the provided context. Avoid unnecessary repetition of the query or context unless essential for clarity.\n",
    "5. **Presentation**: Avoid unnecessary headers like **Answer** or extraneous symbols such as `/n`. Format the response in a clean, natural style.\n",
    "\n",
    "### Best Practices\n",
    "- **Stay Grounded**: Only provide information found in the context.\n",
    "- **Address Insufficient Context**: If the context is incomplete or missing, acknowledge this and offer guidance on what additional details might help.\n",
    "- **Direct and User-Friendly**: Structure your response to directly address the query without redundant elaboration. Use a tone that is helpful and professional.\n",
    "- **Clean Formatting**: Ensure the output is formatted as a single, clean paragraph or structured list when appropriate.\n",
    "\"\"\"\n",
    "\n",
    "rag_prompt = \"\"\"\n",
    "You are an assistant tasked with answering questions about Rummikub based on the provided context.\n",
    "\n",
    "### Context\n",
    "{context}\n",
    "\n",
    "### User Question\n",
    "{question}\n",
    "\n",
    "### User Improved Query\n",
    "{improved_query}\n",
    "\n",
    "### Task\n",
    "1. **Review the Context**: Carefully analyze the provided context to extract the most relevant information for answering the question.\n",
    "2. **Improved Query**: Use the improved query to guide your response if the users question is unclear or ambiguous. But always try to answer the user's question directly.\n",
    "3. **Handle Insufficient Context**: If the context does not provide sufficient information to answer the question:\n",
    "   - Acknowledge the insufficiency explicitly.\n",
    "   - Suggest additional clarifications or details needed to proceed.\n",
    "4. **Answer Clearly**: Write a concise, direct, and user-friendly response. Avoid any unnecessary elaboration or repetition.\n",
    "5. **Formatting**:\n",
    "   - Avoid extraneous symbols, headers (like **Answer:**), or redundant breaks.\n",
    "   - Present the answer as a clean paragraph or list, depending on the nature of the question.\n",
    "\n",
    "### Deliverable\n",
    "Provide a concise, well-structured response to the query based solely on the given context.\n",
    "\"\"\"\n",
    "\n",
    "rag_prompt_after_hallucination = \"\"\"\n",
    "You are an assistant tasked with answering questions about Rummikub based on the provided context.\n",
    "\n",
    "### Context\n",
    "{context}\n",
    "\n",
    "### User Question\n",
    "{question}\n",
    "\n",
    "### User Improved Query\n",
    "{improved_query}\n",
    "\n",
    "### Previous Hallucinated Response\n",
    "{previous_response}\n",
    "\n",
    "### Task\n",
    "Your goal is to provide a factual and contextually accurate response, avoiding any inaccuracies or unsupported claims from the previous response.\n",
    "\n",
    "1. **Stay Grounded**: Ensure your answer is entirely based on the provided context. Do not include details, assumptions, or fabrications not explicitly found in the context.\n",
    "2. **Avoid Hallucination**: Treat the previous response only as a reference for what to avoid. Do not rephrase or reuse its content.\n",
    "3. **Improved Query**: Use the improved query to guide your response if the users question is unclear or ambiguous. But always try to answer the user's question directly.\n",
    "4. **Conciseness**: Provide a clear and direct answer. Only repeat information from the context verbatim if absolutely necessary.\n",
    "5. **Formatting**: Present the response cleanly:\n",
    "   - Avoid unnecessary headers, symbols, or line breaks.\n",
    "   - Structure the response as a single clean paragraph or structured list.\n",
    "6. **Transparency**: If the context does not contain sufficient information:\n",
    "   - Clearly state the insufficiency.\n",
    "   - Explain why the context wasn’t helpful.\n",
    "   - Suggest additional clarifications or details for the user to provide.\n",
    "\n",
    "### Deliverable\n",
    "Write a concise and well-structured response to the user’s query, formatted for easy readability and based solely on the context provided.\n",
    "\"\"\"\n",
    "\n",
    "\n",
    "# Post-processing\n",
    "def format_docs(docs):\n",
    "    return \"\\n\\n\".join(doc.page_content for doc in docs)"
   ],
   "id": "45b10284b8175f70",
   "outputs": [],
   "execution_count": 33
  },
  {
   "metadata": {
    "ExecuteTime": {
     "end_time": "2025-01-04T15:56:38.614072Z",
     "start_time": "2025-01-04T15:56:38.608961Z"
    }
   },
   "cell_type": "code",
   "source": [
    "### Hallucination Grader\n",
    "\n",
    "\n",
    "hallucination_grader_instructions = \"\"\"\n",
    "\n",
    "You are a teacher grading a quiz.\n",
    "\n",
    "You will be given FACTS, a QUESTION and a STUDENT ANSWER.\n",
    "\n",
    "Here is the grade criteria to follow:\n",
    "\n",
    "(1) Ensure the STUDENT ANSWER is grounded in the FACTS.\n",
    "\n",
    "(2) Ensure the STUDENT ANSWER does not contain \"hallucinated\" information outside the scope of the FACTS.\n",
    "\n",
    "Score:\n",
    "\n",
    "A score of yes means that the student's answer meets all of the criteria. This is the highest (best) score.\n",
    "\n",
    "A score of no means that the student's answer does not meet all of the criteria. This is the lowest possible score you can give.\n",
    "\"\"\"\n",
    "\n",
    "hallucination_grader_prompt = \"\"\"FACTS: \\n\\n {documents} \\n\\n QUESTION: {question} \\n\\n STUDENT ANSWER: {generation}.\n",
    "\n",
    "Return JSON with one key, binary_score is 'yes' or 'no' score to indicate whether the STUDENT ANSWER is grounded in the FACTS.\"\"\""
   ],
   "id": "b4dcae6861b07879",
   "outputs": [],
   "execution_count": 34
  },
  {
   "metadata": {
    "ExecuteTime": {
     "end_time": "2025-01-04T15:56:38.633610Z",
     "start_time": "2025-01-04T15:56:38.625383Z"
    }
   },
   "cell_type": "code",
   "source": [
    "### Answer Grader\n",
    "\n",
    "answer_grader_instructions = \"\"\"You are a teacher grading a quiz.\n",
    "\n",
    "You will be given a QUESTION and a STUDENT ANSWER.\n",
    "\n",
    "Here is the grade criteria to follow:\n",
    "\n",
    "(1) The STUDENT ANSWER helps to answer the QUESTION\n",
    "\n",
    "Score:\n",
    "\n",
    "A score of yes means that the student's answer meets all of the criteria. This is the highest (best) score.\n",
    "\n",
    "The student can receive a score of yes if the answer contains extra information that is not explicitly asked for in the question.\n",
    "\n",
    "A score of no means that the student's answer does not meet all of the criteria. This is the lowest possible score you can give.\n",
    "\"\"\"\n",
    "\n",
    "answer_grader_prompt = \"\"\"QUESTION: \\n\\n {question} \\n\\n STUDENT ANSWER: {generation}.\n",
    "\n",
    "Return JSON with one key, binary_score is 'yes' or 'no' score to indicate whether the STUDENT ANSWER meets the criteria.\"\"\""
   ],
   "id": "df9c438d5c5abc6b",
   "outputs": [],
   "execution_count": 35
  },
  {
   "metadata": {
    "ExecuteTime": {
     "end_time": "2025-01-04T15:56:38.657207Z",
     "start_time": "2025-01-04T15:56:38.651960Z"
    }
   },
   "cell_type": "code",
   "source": [
    "web_search_tool = TavilySearchResults(max_results=3)"
   ],
   "id": "e7e8d7d885f41042",
   "outputs": [],
   "execution_count": 36
  },
  {
   "metadata": {
    "ExecuteTime": {
     "end_time": "2025-01-04T15:56:38.683198Z",
     "start_time": "2025-01-04T15:56:38.674604Z"
    }
   },
   "cell_type": "code",
   "source": [
    "# Custom exception classes and functions\n",
    "\n",
    "logging.basicConfig(level=logging.INFO)\n",
    "logger = logging.getLogger(__name__)\n",
    "\n",
    "\n",
    "class NodeError(Exception):\n",
    "    \"\"\"Base exception for node-specific errors\"\"\"\n",
    "\n",
    "    pass\n",
    "\n",
    "\n",
    "class DocumentProcessingError(NodeError):\n",
    "    \"\"\"Raised when document processing fails\"\"\"\n",
    "\n",
    "    pass\n",
    "\n",
    "\n",
    "class LLMError(NodeError):\n",
    "    \"\"\"Raised when LLM operations fail\"\"\"\n",
    "\n",
    "    pass\n",
    "\n",
    "\n",
    "class WebSearchError(NodeError):\n",
    "    \"\"\"Raised when web search operations fail\"\"\"\n",
    "\n",
    "    pass\n",
    "\n",
    "\n",
    "def handle_node_errors(func):\n",
    "    \"\"\"\n",
    "    Decorator for handling common node errors and providing fallback behavior.\n",
    "    \"\"\"\n",
    "\n",
    "    @wraps(func)\n",
    "    def wrapper(*args, **kwargs):\n",
    "        try:\n",
    "            return func(*args, **kwargs)\n",
    "        except ValidationError as e:\n",
    "            logger.error(f\"Validation error in {func.__name__}: {str(e)}\")\n",
    "            raise NodeError(f\"Invalid data structure: {str(e)}\")\n",
    "        except LLMError as e:\n",
    "            logger.error(f\"LLM error in {func.__name__}: {str(e)}\")\n",
    "            return handle_llm_fallback(func.__name__)\n",
    "        except WebSearchError as e:\n",
    "            logger.error(f\"Web search error in {func.__name__}: {str(e)}\")\n",
    "            return {\n",
    "                \"documents\": [],\n",
    "                \"loop_web_search\": kwargs.get(\"state\", {}).get(\"loop_web_search\", 0)\n",
    "                + 1,\n",
    "            }\n",
    "        except Exception as e:\n",
    "            logger.error(\n",
    "                f\"Unexpected error in {func.__name__}: {str(e)}\\n{traceback.format_exc()}\"\n",
    "            )\n",
    "            raise NodeError(f\"Unexpected error: {str(e)}\")\n",
    "\n",
    "    return wrapper\n",
    "\n",
    "\n",
    "def handle_llm_fallback(node_name: str) -> Dict[str, Any]:\n",
    "    \"\"\"\n",
    "    Provides fallback behavior for LLM failures based on the node type.\n",
    "    \"\"\"\n",
    "    fallbacks = {\n",
    "        \"improve_query\": {\"improved_query\": \"\", \"question\": \"\"},\n",
    "        \"grade_document\": {\"filtered_docs\": [], \"grades\": []},\n",
    "        \"generate\": {\n",
    "            \"loop_generate\": 0,\n",
    "            \"messages\": [\n",
    "                AIMessage(\n",
    "                    content=\"I apologize, but I'm having trouble processing your request. Could you please rephrase your question?\"\n",
    "                )\n",
    "            ],\n",
    "        },\n",
    "    }\n",
    "    return fallbacks.get(node_name, {})"
   ],
   "id": "1e644d88342cd15d",
   "outputs": [],
   "execution_count": 37
  },
  {
   "metadata": {
    "ExecuteTime": {
     "end_time": "2025-01-04T15:56:38.715980Z",
     "start_time": "2025-01-04T15:56:38.706782Z"
    }
   },
   "cell_type": "code",
   "source": [
    "# Models\n",
    "\n",
    "\n",
    "class ImprovedQuery(BaseModel):\n",
    "    \"\"\"Model for improved query response from the LLM\"\"\"\n",
    "\n",
    "    improved_query: str\n",
    "\n",
    "\n",
    "class RouteInformation(BaseModel):\n",
    "    \"\"\"An answer from the router with routing information based on the user's question\"\"\"\n",
    "\n",
    "    datasource: Literal[\"vectorstore\", \"websearch\", \"irrelevant\"]\n",
    "    reasoning: str\n",
    "\n",
    "\n",
    "class Grade(BaseModel):\n",
    "    \"\"\"Model for grading response from the LLM\"\"\"\n",
    "\n",
    "    binary_score: Literal[\"yes\", \"no\"]\n",
    "\n",
    "\n",
    "class GenerateResponse(BaseModel):\n",
    "    \"\"\"Model for generation response from the LLM\"\"\"\n",
    "\n",
    "    generation: str"
   ],
   "id": "42c5db6053fbe1bb",
   "outputs": [],
   "execution_count": 38
  },
  {
   "metadata": {
    "ExecuteTime": {
     "end_time": "2025-01-04T15:56:38.740053Z",
     "start_time": "2025-01-04T15:56:38.721759Z"
    }
   },
   "cell_type": "code",
   "source": [
    "### State\n",
    "\n",
    "\n",
    "class OverallState(MessagesState):\n",
    "    \"\"\"\n",
    "    Graph state is a dictionary that contains information we want to propagate to, and modify in, each graph node.\n",
    "    \"\"\"\n",
    "\n",
    "    improved_query: str\n",
    "    question: str\n",
    "    web_search: str\n",
    "    max_retries: int\n",
    "    loop_generate: int\n",
    "    loop_web_search: int\n",
    "    documents: List[str]\n",
    "    filtered_docs: Annotated[list[str], operator.add]\n",
    "    grades: Annotated[list[str], operator.add]\n",
    "    hallucination_grade: bool\n",
    "    answer_grade: bool\n",
    "    decision: str\n",
    "    route: str\n",
    "\n",
    "\n",
    "class OutputRouterState(TypedDict):\n",
    "    \"\"\"\n",
    "    Output schema for the router\n",
    "    \"\"\"\n",
    "\n",
    "    question: str\n",
    "    route: str\n",
    "\n",
    "\n",
    "class InputRetrieverState(TypedDict):\n",
    "    \"\"\"\n",
    "    Input schema for the retriever\n",
    "    \"\"\"\n",
    "\n",
    "    improved_query: str\n",
    "\n",
    "\n",
    "class InputProceedToDatasourceState(TypedDict):\n",
    "    \"\"\"\n",
    "    Input schema for the proceed_to_datasource node\n",
    "    \"\"\"\n",
    "\n",
    "    route: str\n",
    "\n",
    "\n",
    "class InputGeneratorState(MessagesState):\n",
    "    \"\"\"\n",
    "    Input schema for the generator\n",
    "    \"\"\"\n",
    "\n",
    "    improved_query: str\n",
    "    filtered_docs: List[str]\n",
    "    loop_generate: int\n",
    "    hallucination_grade: bool\n",
    "    question: str\n",
    "\n",
    "\n",
    "class OutputRetrieverState(TypedDict):\n",
    "    \"\"\"\n",
    "    Output schema for the retriever\n",
    "    \"\"\"\n",
    "\n",
    "    documents: List[str]\n",
    "\n",
    "\n",
    "class OutputGeneratorState(MessagesState):\n",
    "    \"\"\"\n",
    "    Output schema for the generator\n",
    "    \"\"\"\n",
    "\n",
    "    loop_generate: int\n",
    "\n",
    "\n",
    "class InputContinueToGradingsState(TypedDict):\n",
    "    \"\"\"\n",
    "    Input schema for the continue_to_gradings node\n",
    "    \"\"\"\n",
    "\n",
    "    documents: List[str]\n",
    "    improved_query: str\n",
    "\n",
    "\n",
    "class InputDocumentGraderState(TypedDict):\n",
    "    \"\"\"\n",
    "    Input schema for the document grader\n",
    "    \"\"\"\n",
    "\n",
    "    document: str\n",
    "    improved_query: str\n",
    "\n",
    "\n",
    "class OutputDocumentGraderState(TypedDict):\n",
    "    \"\"\"\n",
    "    Output schema for the document grader\n",
    "    \"\"\"\n",
    "\n",
    "    filtered_docs: Annotated[list[str], operator.add]\n",
    "    grades: Annotated[list[str], operator.add]\n",
    "\n",
    "\n",
    "class InputDocumentsGradingsState(TypedDict):\n",
    "    \"\"\"\n",
    "    Input schema for the documents gradings node\n",
    "    \"\"\"\n",
    "\n",
    "    grades: List[str]\n",
    "    loop_web_search: int\n",
    "    max_retries: int\n",
    "\n",
    "\n",
    "class OutputDocumentsGradingsState(TypedDict):\n",
    "    \"\"\"\n",
    "    Output schema for the documents gradings node\n",
    "    \"\"\"\n",
    "\n",
    "    web_search: str\n",
    "    grades: List[str]\n",
    "\n",
    "\n",
    "class InputWebSearchState(TypedDict):\n",
    "    \"\"\"\n",
    "    Input schema for the web search node\n",
    "    \"\"\"\n",
    "\n",
    "    improved_query: str\n",
    "    question: str\n",
    "    loop_web_search: int\n",
    "\n",
    "\n",
    "class ImproveQueryState(TypedDict):\n",
    "    \"\"\"\n",
    "    Input schema for the improvement web search node\n",
    "    \"\"\"\n",
    "\n",
    "    improved_query: str\n",
    "    route: str\n",
    "\n",
    "\n",
    "class InputImproveQueryState(MessagesState):\n",
    "    \"\"\"\n",
    "    Input schema for the web search node\n",
    "    \"\"\"\n",
    "\n",
    "    question: str\n",
    "    route: str\n",
    "\n",
    "\n",
    "class OutputWebSearchState(TypedDict):\n",
    "    \"\"\"\n",
    "    Output schema for the web search node\n",
    "    \"\"\"\n",
    "\n",
    "    documents: List[str]\n",
    "    loop_web_search: int\n",
    "\n",
    "\n",
    "class InputDecisionState(TypedDict):\n",
    "    \"\"\"\n",
    "    Input schema for the decision node\n",
    "    \"\"\"\n",
    "\n",
    "    web_search: str\n",
    "\n",
    "\n",
    "class InputHallucinationGraderState(MessagesState):\n",
    "    \"\"\"\n",
    "    Input schema for the hallucination grader\n",
    "    \"\"\"\n",
    "\n",
    "    filtered_docs: List[str]\n",
    "    question: str\n",
    "\n",
    "\n",
    "class OutputHallucinationGraderState(TypedDict):\n",
    "    \"\"\"\n",
    "    Output schema for the hallucination grader\n",
    "    \"\"\"\n",
    "\n",
    "    hallucination_grade: bool\n",
    "\n",
    "\n",
    "class OutputAnswerGraderState(TypedDict):\n",
    "    \"\"\"\n",
    "    Output schema for the hallucination grader\n",
    "    \"\"\"\n",
    "\n",
    "    answer_grade: bool\n",
    "\n",
    "\n",
    "class InputAnswerGraderState(MessagesState):\n",
    "    \"\"\"\n",
    "    Input schema for the answer grader\n",
    "    \"\"\"\n",
    "\n",
    "    question: str\n",
    "\n",
    "\n",
    "class InputGradersState(TypedDict):\n",
    "    \"\"\"\n",
    "    Input schema for the node which checks the gradings of the hallucination and answer grader\n",
    "    \"\"\"\n",
    "\n",
    "    hallucination_grade: bool\n",
    "    answer_grade: bool\n",
    "    max_retries: int\n",
    "    loop_generate: int\n",
    "    loop_web_search: int\n",
    "\n",
    "\n",
    "class OutputGradersState(TypedDict):\n",
    "    \"\"\"\n",
    "    Output schema for the node which checks the gradings of the hallucination and answer grader\n",
    "    \"\"\"\n",
    "\n",
    "    decision: str\n",
    "\n",
    "\n",
    "class InputResetState(TypedDict):\n",
    "    \"\"\"\n",
    "    Input schema for the reset state node\n",
    "    \"\"\"\n",
    "\n",
    "    filtered_docs: List[str]\n",
    "    grades: List[str]\n",
    "    documents: List[str]\n",
    "\n",
    "\n",
    "class OutputResetState(TypedDict):\n",
    "    \"\"\"\n",
    "    Output schema for the reset state node\n",
    "    \"\"\"\n",
    "\n",
    "    filtered_docs: List[str]\n",
    "    grades: List[str]\n",
    "    documents: List[str]\n",
    "    loop_generate: int\n",
    "    question: str\n",
    "    web_search: str\n",
    "    decision: str\n",
    "    loop_web_search: int\n",
    "    improved_query: str\n",
    "    hallucination_grade: bool\n",
    "    answer_grade: bool"
   ],
   "id": "11798d0da43e96b8",
   "outputs": [],
   "execution_count": 39
  },
  {
   "metadata": {
    "ExecuteTime": {
     "end_time": "2025-01-04T15:56:38.789557Z",
     "start_time": "2025-01-04T15:56:38.752926Z"
    }
   },
   "cell_type": "code",
   "source": [
    "### Nodes\n",
    "\n",
    "\n",
    "@handle_node_errors\n",
    "def route_question(state: MessagesState) -> OutputRouterState:\n",
    "    \"\"\"\n",
    "    Route question to web search or RAG or none\n",
    "\n",
    "    Args:\n",
    "        state (dict): The current graph state\n",
    "\n",
    "    Returns:\n",
    "        str: Next node to call\n",
    "\n",
    "    Raises:\n",
    "        ValidationError: If input validation fails\n",
    "        LLMError: If routing question fails\n",
    "    \"\"\"\n",
    "    logger.info(\"---ROUTE QUESTION---\")\n",
    "    try:\n",
    "        question = state[\"messages\"][-1].content\n",
    "        context_messages = [\n",
    "            f\"{msg.type}: {msg.content}\" for msg in state[\"messages\"][-9:-1]\n",
    "        ]\n",
    "    except (KeyError, IndexError) as e:\n",
    "        raise ValidationError(f\"Invalid input state: {str(e)}\")\n",
    "\n",
    "    try:\n",
    "        formatted_context = \"\\n\".join(context_messages)\n",
    "        router_llm = llm.with_structured_output(RouteInformation)\n",
    "        route_question_prompt_formatted = router_prompt.format(\n",
    "            question=question, formatted_context=formatted_context\n",
    "        )\n",
    "        route_question_response: RouteInformation = router_llm.invoke(\n",
    "            [\n",
    "                SystemMessage(content=router_instructions),\n",
    "                HumanMessage(content=route_question_prompt_formatted),\n",
    "            ]\n",
    "        )\n",
    "\n",
    "        return {\"route\": route_question_response.datasource, \"question\": question}\n",
    "    except Exception as e:\n",
    "        raise LLMError(f\"Routing question failed: {str(e)}\")\n",
    "\n",
    "\n",
    "@handle_node_errors\n",
    "def improve_query(state: InputImproveQueryState) -> ImproveQueryState:\n",
    "    \"\"\"\n",
    "    Improve the query based on the question for vectorstore and web search.\n",
    "\n",
    "    Args:\n",
    "        state: Contains messages with user query history\n",
    "\n",
    "    Returns:\n",
    "        Dictionary with the improved query and original question\n",
    "\n",
    "    Raises:\n",
    "        LLMError: If query improvement fails\n",
    "        ValidationError: If input validation fails\n",
    "    \"\"\"\n",
    "    logger.info(\"---IMPROVE QUERY---\")\n",
    "    try:\n",
    "        question = state[\"question\"]\n",
    "\n",
    "        context_messages = [\n",
    "            f\"{msg.type}: {msg.content}\" for msg in state[\"messages\"][-9:-1]\n",
    "        ]\n",
    "        route = state[\"route\"]\n",
    "    except (KeyError, IndexError) as e:\n",
    "        raise ValidationError(f\"Invalid input state: {str(e)}\")\n",
    "\n",
    "    try:\n",
    "        formatted_context = \"\\n\".join(context_messages)\n",
    "        improve_query_prompt_formatted = improve_query_prompt.format(\n",
    "            formatted_context=formatted_context,\n",
    "            latest_question=question,\n",
    "            improve_query_instructions=improve_query_instructions,\n",
    "        )\n",
    "        structured_llm = llm.with_structured_output(ImprovedQuery)\n",
    "        llm_response: ImprovedQuery = structured_llm.invoke(\n",
    "            [HumanMessage(content=improve_query_prompt_formatted)]\n",
    "        )\n",
    "        return {\"improved_query\": llm_response.improved_query, \"route\": route}\n",
    "    except Exception as e:\n",
    "        raise LLMError(f\"Query improvement failed: {str(e)}\")\n",
    "\n",
    "\n",
    "@handle_node_errors\n",
    "def proceed_to_datasource(state: InputProceedToDatasourceState) -> str:\n",
    "    \"\"\"\n",
    "    Proceed to the datasource based on the route\n",
    "\n",
    "    Args:\n",
    "        state (dict): The current graph state\n",
    "\n",
    "    Returns:\n",
    "        str: Next node to call\n",
    "\n",
    "    Raises:\n",
    "        ValidationError: If input validation fails\n",
    "    \"\"\"\n",
    "    try:\n",
    "        route = state[\"route\"]\n",
    "    except (KeyError, IndexError) as e:\n",
    "        raise ValidationError(f\"Invalid input state: {str(e)}\")\n",
    "\n",
    "    if route == \"vectorstore\":\n",
    "        logger.info(\"---PROCEED TO VECTORSTORE---\")\n",
    "        return \"vectorstore\"\n",
    "    elif route == \"websearch\":\n",
    "        logger.info(\"---PROCEED TO WEB SEARCH---\")\n",
    "        return \"search web\"\n",
    "\n",
    "\n",
    "@handle_node_errors\n",
    "def retrieve(state: InputRetrieverState) -> OutputRetrieverState:\n",
    "    \"\"\"\n",
    "    Retrieve documents from vectorstore\n",
    "\n",
    "    Args:\n",
    "        state (dict): The current graph state\n",
    "\n",
    "    Returns:\n",
    "        state (dict): New key added to state, documents, that contains retrieved documents\n",
    "\n",
    "    Raises:\n",
    "        DocumentProcessingError: If document retrieval fails\n",
    "    \"\"\"\n",
    "    logger.info(\"---RETRIEVE---\")\n",
    "    try:\n",
    "        improved_query = state[\"improved_query\"]\n",
    "    except (KeyError, IndexError) as e:\n",
    "        raise ValidationError(f\"Invalid input state: {str(e)}\")\n",
    "\n",
    "    try:\n",
    "        documents = retriever.invoke(improved_query)\n",
    "        return {\"documents\": documents}\n",
    "    except Exception as e:\n",
    "        raise DocumentProcessingError(f\"Document retrieval failed: {str(e)}\")\n",
    "\n",
    "\n",
    "@handle_node_errors\n",
    "def continue_to_gradings(state: InputContinueToGradingsState) -> List[Send]:\n",
    "    \"\"\"\n",
    "    Continue to grade the documents for relevance to the user's question\n",
    "\n",
    "    Args:\n",
    "        state (dict): The current graph state\n",
    "\n",
    "    Returns:\n",
    "        list: List of Send objects to grade each document\n",
    "\n",
    "    Raises:\n",
    "        ValidationError: If input validation fails\n",
    "    \"\"\"\n",
    "    try:\n",
    "        improved_query = state[\"improved_query\"]\n",
    "        documents = state[\"documents\"]\n",
    "    except (KeyError, IndexError) as e:\n",
    "        raise ValidationError(f\"Invalid input state: {str(e)}\")\n",
    "\n",
    "    return [\n",
    "        Send(\n",
    "            \"grade_document\",\n",
    "            {\"document\": d, \"improved_query\": improved_query},\n",
    "        )\n",
    "        for d in documents\n",
    "    ]\n",
    "\n",
    "\n",
    "@handle_node_errors\n",
    "def grade_document(state: InputDocumentGraderState) -> OutputDocumentGraderState:\n",
    "    \"\"\"\n",
    "    Grades a document for relevance to the user's question.\n",
    "\n",
    "    Args:\n",
    "        state (dict): The current graph state.\n",
    "\n",
    "    Returns:\n",
    "        dict: New keys added to the state, `filtered_docs` and `grades`.\n",
    "\n",
    "    Raises:\n",
    "        ValidationError: If input validation fails\n",
    "        LLMError: If document grading fails\n",
    "    \"\"\"\n",
    "    try:\n",
    "        improved_query = state[\"improved_query\"]\n",
    "        doc = state[\"document\"]\n",
    "    except (KeyError, IndexError) as e:\n",
    "        raise ValidationError(f\"Invalid input state: {str(e)}\")\n",
    "\n",
    "    try:\n",
    "        doc_grader_prompt_formatted = doc_grader_prompt.format(\n",
    "            document=doc.page_content, improved_query=improved_query\n",
    "        )\n",
    "        document_grader_llm = llm.with_structured_output(Grade)\n",
    "        result: Grade = document_grader_llm.invoke(\n",
    "            [SystemMessage(content=doc_grader_instructions)]\n",
    "            + [HumanMessage(content=doc_grader_prompt_formatted)]\n",
    "        )\n",
    "        grade = result.binary_score\n",
    "        if grade.lower() == \"yes\":\n",
    "            logger.info(\"---GRADE: DOCUMENT RELEVANT---\")\n",
    "            return {\"filtered_docs\": [doc], \"grades\": [grade]}\n",
    "        else:\n",
    "            logger.info(\"---GRADE: DOCUMENT NOT RELEVANT---\")\n",
    "            return {\"grades\": [grade], \"filtered_docs\": []}\n",
    "    except Exception as e:\n",
    "        raise LLMError(f\"Document grading failed: {str(e)}\")\n",
    "\n",
    "\n",
    "@handle_node_errors\n",
    "def grade_docs(state: InputDocumentsGradingsState) -> OutputDocumentsGradingsState:\n",
    "    \"\"\"\n",
    "    Determines whether the retrieved documents are relevant to the question\n",
    "    If any document is not relevant, we will set a flag to run web search\n",
    "\n",
    "    Args:\n",
    "        state (dict): The current graph state\n",
    "\n",
    "    Returns:\n",
    "        state (dict): Filtered out irrelevant documents and updated web_search state\n",
    "\n",
    "    Raises:\n",
    "        ValidationError: If input validation fails\n",
    "    \"\"\"\n",
    "    logger.info(\"---CHECK IF WEB SEARCH IS NECESSARY---\")\n",
    "    try:\n",
    "        grades = state.get(\"grades\", [])\n",
    "        max_retries = state.get(\"max_retries\", 3)\n",
    "        loop_web_search = state.get(\"loop_web_search\", 0)\n",
    "    except (KeyError, IndexError) as e:\n",
    "        raise ValidationError(f\"Invalid input state: {str(e)}\")\n",
    "    if loop_web_search >= max_retries:\n",
    "        logger.info(\"---MAX RETRIES REACHED---\")\n",
    "        web_search = \"No\"\n",
    "    elif all(x.lower() == \"no\" for x in grades):\n",
    "        logger.info(\"---NO RELEVANT DOCUMENTS---\")\n",
    "        web_search = \"Yes\"\n",
    "    else:\n",
    "        logger.info(\"---RELEVANT DOCUMENTS FOUND---\")\n",
    "        web_search = \"No\"\n",
    "    grades.clear()\n",
    "    return {\"web_search\": web_search, \"grades\": grades}\n",
    "\n",
    "\n",
    "@handle_node_errors\n",
    "def decide_to_generate(state: InputDecisionState) -> str:\n",
    "    \"\"\"\n",
    "    Determines whether to generate an answer or add web search\n",
    "\n",
    "    Args:\n",
    "        state (dict): The current graph state\n",
    "\n",
    "    Returns:\n",
    "        str: Binary decision for next node to call\n",
    "\n",
    "    Raises:\n",
    "        ValidationError: If input validation fails\n",
    "    \"\"\"\n",
    "\n",
    "    logger.info(\"---ASSESS GRADED DOCUMENTS---\")\n",
    "    try:\n",
    "        web_search = state[\"web_search\"]\n",
    "    except (KeyError, IndexError) as e:\n",
    "        raise ValidationError(f\"Invalid input state: {str(e)}\")\n",
    "\n",
    "    if web_search == \"Yes\":\n",
    "        logger.info(\"---DECISION: NO RELEVANT DOCUMENTS, INCLUDE WEB SEARCH---\")\n",
    "        return \"search web\"\n",
    "    else:\n",
    "        logger.info(\"---DECISION: GENERATE---\")\n",
    "        return \"generate response\"\n",
    "\n",
    "\n",
    "@handle_node_errors\n",
    "def generate(state: InputGeneratorState) -> OutputGeneratorState:\n",
    "    \"\"\"\n",
    "    Generate answer using RAG on retrieved documents\n",
    "\n",
    "    Args:\n",
    "        state (dict): The current graph state\n",
    "\n",
    "    Returns:\n",
    "        state (dict): New key added to state, generation, that contains LLM generation\n",
    "\n",
    "    Raises:\n",
    "        ValidationError: If input validation fails\n",
    "        DocumentProcessingError: If document processing fails\n",
    "        LLMError: If generation fails\n",
    "    \"\"\"\n",
    "    try:\n",
    "        improved_query = state[\"improved_query\"]\n",
    "        documents = state[\"filtered_docs\"]\n",
    "        halucination_grade = state.get(\"hallucination_grade\", False)\n",
    "        loop_generate = state.get(\"loop_generate\", 0)\n",
    "        last_message = state[\"messages\"][-1]\n",
    "        question = state[\"question\"]\n",
    "    except (KeyError, IndexError) as e:\n",
    "        raise ValidationError(f\"Invalid input state: {str(e)}\")\n",
    "\n",
    "    try:\n",
    "        docs_txt = format_docs(documents)\n",
    "    except Exception as e:\n",
    "        raise DocumentProcessingError(f\"Document processing failed: {str(e)}\")\n",
    "    generation_llm = llm.with_structured_output(GenerateResponse)\n",
    "    if halucination_grade:\n",
    "        logger.info(\"---ADJUST GENERATION AFTER HALLUCINATION---\")\n",
    "        try:\n",
    "            rag_halucination_prompt_formatted = rag_prompt_after_hallucination.format(\n",
    "                context=docs_txt,\n",
    "                improved_query=improved_query,\n",
    "                previous_response=last_message.content,\n",
    "                question=question,\n",
    "            )\n",
    "            generation: GenerateResponse = generation_llm.invoke(\n",
    "                [SystemMessage(content=rag_instructions)]\n",
    "                + [HumanMessage(content=rag_halucination_prompt_formatted)]\n",
    "            )\n",
    "            return {\n",
    "                \"loop_generate\": loop_generate + 1,\n",
    "                \"messages\": [\n",
    "                    AIMessage(content=generation.generation, id=last_message.id)\n",
    "                ],\n",
    "            }\n",
    "        except Exception as e:\n",
    "            raise LLMError(f\"Generation after hallucination failed: {str(e)}\")\n",
    "\n",
    "    logger.info(\"---GENERATE---\")\n",
    "    try:\n",
    "        rag_prompt_formatted = rag_prompt.format(\n",
    "            context=docs_txt, improved_query=improved_query, question=question\n",
    "        )\n",
    "        generation = generation_llm.invoke(\n",
    "            [SystemMessage(content=rag_instructions)]\n",
    "            + [HumanMessage(content=rag_prompt_formatted)]\n",
    "        )\n",
    "        return {\n",
    "            \"loop_generate\": loop_generate + 1,\n",
    "            \"messages\": [AIMessage(content=generation.generation)],\n",
    "        }\n",
    "    except Exception as e:\n",
    "        raise LLMError(f\"Generation failed: {str(e)}\")\n",
    "\n",
    "\n",
    "@handle_node_errors\n",
    "def search_web(state: InputWebSearchState) -> OutputWebSearchState:\n",
    "    \"\"\"\n",
    "    Web search based on the question\n",
    "\n",
    "    Args:\n",
    "        state (dict): The current graph state\n",
    "\n",
    "    Returns:\n",
    "        state (dict): Appended web results to documents\n",
    "\n",
    "    Raises:\n",
    "        ValidationError: If input validation fails\n",
    "        WebSearchError: If web search fails\n",
    "    \"\"\"\n",
    "\n",
    "    logger.info(\"---WEB SEARCH---\")\n",
    "    try:\n",
    "        query = state[\"improved_query\"]\n",
    "        loop_web_search = state.get(\"loop_web_search\", 0)\n",
    "    except (KeyError, IndexError) as e:\n",
    "        raise ValidationError(f\"Invalid input state: {str(e)}\")\n",
    "    try:\n",
    "        docs = web_search_tool.invoke({\"query\": query})\n",
    "        web_results = \"\\n\".join([d[\"content\"] for d in docs])\n",
    "        documents = [Document(page_content=web_results)]\n",
    "        return {\"documents\": documents, \"loop_web_search\": loop_web_search + 1}\n",
    "    except Exception as e:\n",
    "        raise WebSearchError(f\"Web search failed: {str(e)}\")\n",
    "\n",
    "\n",
    "@handle_node_errors\n",
    "def grade_hallucination(\n",
    "    state: InputHallucinationGraderState,\n",
    ") -> OutputHallucinationGraderState:\n",
    "    \"\"\"\n",
    "    Determines whether the generation is grounded in the document\n",
    "\n",
    "    Args:\n",
    "        state (dict): The current graph state\n",
    "\n",
    "    Returns:\n",
    "        str: Decision for next node to call\n",
    "\n",
    "    Raises:\n",
    "        ValidationError: If input validation fails\n",
    "        LLMError: If hallucination grading fails\n",
    "    \"\"\"\n",
    "    logger.info(\"---GRADE HALLUCINATION---\")\n",
    "    try:\n",
    "        documents = state[\"filtered_docs\"]\n",
    "        generation = state[\"messages\"][-1]\n",
    "        question = state[\"question\"]\n",
    "    except (KeyError, IndexError) as e:\n",
    "        raise ValidationError(f\"Invalid input state: {str(e)}\")\n",
    "    try:\n",
    "        hallucination_grader_prompt_formatted = hallucination_grader_prompt.format(\n",
    "            documents=format_docs(documents),\n",
    "            generation=generation.content,\n",
    "            question=question,\n",
    "        )\n",
    "        hallucination_llm = llm.with_structured_output(Grade)\n",
    "        result: Grade = hallucination_llm.invoke(\n",
    "            [SystemMessage(content=hallucination_grader_instructions)]\n",
    "            + [HumanMessage(content=hallucination_grader_prompt_formatted)]\n",
    "        )\n",
    "        grade = result.binary_score\n",
    "        if grade.lower() == \"yes\":\n",
    "            logger.info(\"---DECISION: GENERATION GROUNDED IN DOCUMENT---\")\n",
    "            return {\"hallucination_grade\": False}\n",
    "        return {\"hallucination_grade\": True}\n",
    "    except Exception as e:\n",
    "        raise LLMError(f\"Hallucination grading failed: {str(e)}\")\n",
    "\n",
    "\n",
    "@handle_node_errors\n",
    "def grade_answer(state: InputAnswerGraderState) -> OutputAnswerGraderState:\n",
    "    \"\"\"\n",
    "    Determines whether the generation is grounded in the document and answers question\n",
    "\n",
    "    Args:\n",
    "        state (dict): The current graph state\n",
    "\n",
    "    Returns:\n",
    "        str: Decision for next node to call\n",
    "\n",
    "    Raises:\n",
    "        ValidationError: If input validation fails\n",
    "    \"\"\"\n",
    "\n",
    "    logger.info(\"---GRADE GENERATION vs QUESTION---\")\n",
    "    try:\n",
    "        question = state[\"question\"]\n",
    "        generation = state[\"messages\"][-1]\n",
    "    except (KeyError, IndexError) as e:\n",
    "        raise ValidationError(f\"Invalid input state: {str(e)}\")\n",
    "    try:\n",
    "        answer_grader_prompt_formatted = answer_grader_prompt.format(\n",
    "            question=question, generation=generation.content\n",
    "        )\n",
    "        answer_llm = llm.with_structured_output(Grade)\n",
    "        result: Grade = answer_llm.invoke(\n",
    "            [SystemMessage(content=answer_grader_instructions)]\n",
    "            + [HumanMessage(content=answer_grader_prompt_formatted)]\n",
    "        )\n",
    "        grade = result.binary_score\n",
    "        if grade.lower() == \"yes\":\n",
    "            logger.info(\"---DECISION: GENERATION ADDRESSES QUESTION---\")\n",
    "            return {\"answer_grade\": False}\n",
    "        return {\"answer_grade\": True}\n",
    "    except Exception as e:\n",
    "        raise LLMError(f\"Answer grading failed: {str(e)}\")\n",
    "\n",
    "\n",
    "@handle_node_errors\n",
    "def grade_generation_v_documents_and_question(\n",
    "    state: InputGradersState,\n",
    ") -> OutputGradersState:\n",
    "    \"\"\"\n",
    "    Determines whether the generation is grounded in the document and answers question\n",
    "\n",
    "    Args:\n",
    "        state (dict): The current graph state\n",
    "\n",
    "    Returns:\n",
    "        str: Decision for next node to call\n",
    "\n",
    "    Raises:\n",
    "        ValidationError: If input validation fails\n",
    "    \"\"\"\n",
    "\n",
    "    logger.info(\"---CHECK GRADINGS---\")\n",
    "    try:\n",
    "        hallucination_grade = state.get(\"hallucination_grade\", False)\n",
    "        answer_grade = state.get(\"answer_grade\", False)\n",
    "        max_retries = state.get(\"max_retries\", 3)\n",
    "        loop_generate = state.get(\"loop_generate\", 0)\n",
    "        loo_web_search = state.get(\"loop_web_search\", 0)\n",
    "    except (KeyError, IndexError) as e:\n",
    "        raise ValidationError(f\"Invalid input state: {str(e)}\")\n",
    "\n",
    "    if not hallucination_grade and not answer_grade:\n",
    "        logger.info(\"---DECISION: GENERATION ADDRESSES QUESTION---\")\n",
    "        decision = \"useful\"\n",
    "    elif loop_generate >= max_retries or loo_web_search >= max_retries:\n",
    "        logger.info(\"---DECISION: MAX RETRIES REACHED---\")\n",
    "        decision = \"max retries\"\n",
    "    elif answer_grade:\n",
    "        logger.info(\"---DECISION: GENERATION DOES NOT ADDRESS QUESTION---\")\n",
    "        decision = \"not useful\"\n",
    "    elif hallucination_grade:\n",
    "        logger.info(\"---DECISION: GENERATION HALLUCINATED---\")\n",
    "        decision = \"not supported\"\n",
    "    else:\n",
    "        logger.info(\"---DECISION: GENERATION NOT GRADED---\")\n",
    "        decision = \"not supported\"\n",
    "    return {\"decision\": decision}\n",
    "\n",
    "\n",
    "def handle_irrelevant(state) -> MessagesState:\n",
    "    \"\"\"\n",
    "    Handle irrelevant questions\n",
    "    :param state: The current graph state\n",
    "    :return: New message to add to the state\n",
    "    \"\"\"\n",
    "    logger.info(\"---HANDLE IRRELEVANT---\")\n",
    "    irrelevant_message = AIMessage(\n",
    "        content=\"The question is either not clear or not relevant to Rummikub. I can answer any questions related to the game Rummikub.\"\n",
    "    )\n",
    "    return {\"messages\": [irrelevant_message]}\n",
    "\n",
    "\n",
    "@handle_node_errors\n",
    "def reset_state(state: InputResetState) -> OutputResetState:\n",
    "    \"\"\"\n",
    "    Reset the state while keeping messages intact.\n",
    "\n",
    "    Args:\n",
    "        state: The current state object\n",
    "\n",
    "    Returns:\n",
    "        dict: The reset state object\n",
    "\n",
    "    Raises:\n",
    "        ValidationError: If input validation fails\n",
    "    \"\"\"\n",
    "    logger.info(\"---RESET STATE---\")\n",
    "    try:\n",
    "        filtered_docs = state.get(\"filtered_docs\", [])\n",
    "        grades = state.get(\"grades\", [])\n",
    "        documents = state.get(\"documents\", [])\n",
    "        documents.clear()\n",
    "        filtered_docs.clear()\n",
    "        grades.clear()\n",
    "    except (KeyError, IndexError) as e:\n",
    "        raise ValidationError(f\"Invalid input state: {str(e)}\")\n",
    "    return {\n",
    "        \"filtered_docs\": filtered_docs,\n",
    "        \"grades\": grades,\n",
    "        \"documents\": documents,\n",
    "        \"loop_generate\": 0,\n",
    "        \"question\": \"\",\n",
    "        \"web_search\": \"\",\n",
    "        \"decision\": \"\",\n",
    "        \"loop_web_search\": 0,\n",
    "        \"improved_query\": \"\",\n",
    "        \"hallucination_grade\": False,\n",
    "        \"answer_grade\": False,\n",
    "    }"
   ],
   "id": "1c55f3241c420c71",
   "outputs": [],
   "execution_count": 40
  },
  {
   "metadata": {
    "ExecuteTime": {
     "end_time": "2025-01-04T15:56:38.915928Z",
     "start_time": "2025-01-04T15:56:38.800430Z"
    }
   },
   "cell_type": "code",
   "source": [
    "workflow = StateGraph(OverallState, input=MessagesState, output=MessagesState)\n",
    "\n",
    "# Define the nodes\n",
    "workflow.add_node(\"improve_query\", improve_query)  # vectorstore\n",
    "workflow.add_node(\"route_question\", route_question)  # route question\n",
    "workflow.add_node(\"websearch\", search_web)  # web search\n",
    "workflow.add_node(\"retrieve\", retrieve)  # retrieve\n",
    "workflow.add_node(\"irrelevant\", handle_irrelevant)  # handle irrelevant\n",
    "workflow.add_node(\"grade_document\", grade_document)  # grade document\n",
    "workflow.add_node(\"grade_docs\", grade_docs)  # grade documents\n",
    "workflow.add_node(\"generate\", generate)  # generate\n",
    "workflow.add_node(\"grade_hallucination\", grade_hallucination)  # grade hallucination\n",
    "workflow.add_node(\"grade_answer\", grade_answer)  # grade answer\n",
    "workflow.add_node(\n",
    "    \"grade_generation_v_documents_and_question\",\n",
    "    grade_generation_v_documents_and_question,\n",
    ")  # grade generation vs documents and question\n",
    "workflow.add_node(\"reset_state\", reset_state)  # reset state\n",
    "\n",
    "# Build graph\n",
    "workflow.set_entry_point(\"route_question\")\n",
    "workflow.add_conditional_edges(\n",
    "    \"route_question\",\n",
    "    lambda x: x[\"route\"],\n",
    "    {\n",
    "        \"vectorstore\": \"improve_query\",\n",
    "        \"websearch\": \"improve_query\",\n",
    "        \"irrelevant\": \"irrelevant\",\n",
    "    },\n",
    ")\n",
    "workflow.add_conditional_edges(\n",
    "    \"improve_query\",\n",
    "    proceed_to_datasource,\n",
    "    {\"search web\": \"websearch\", \"vectorstore\": \"retrieve\"},\n",
    ")\n",
    "workflow.add_conditional_edges(\"websearch\", continue_to_gradings, [\"grade_document\"])\n",
    "workflow.add_conditional_edges(\"retrieve\", continue_to_gradings, [\"grade_document\"])\n",
    "workflow.add_edge(\"grade_document\", \"grade_docs\")\n",
    "workflow.add_conditional_edges(\n",
    "    \"grade_docs\",\n",
    "    decide_to_generate,\n",
    "    {\n",
    "        \"search web\": \"websearch\",\n",
    "        \"generate response\": \"generate\",\n",
    "    },\n",
    ")\n",
    "workflow.add_edge(\"generate\", \"grade_hallucination\")\n",
    "workflow.add_edge(\"generate\", \"grade_answer\")\n",
    "workflow.add_edge(\"grade_hallucination\", \"grade_generation_v_documents_and_question\")\n",
    "workflow.add_edge(\"grade_answer\", \"grade_generation_v_documents_and_question\")\n",
    "workflow.add_conditional_edges(\n",
    "    \"grade_generation_v_documents_and_question\",\n",
    "    lambda x: x[\"decision\"],\n",
    "    {\n",
    "        \"not supported\": \"generate\",\n",
    "        \"useful\": \"reset_state\",\n",
    "        \"not useful\": \"websearch\",\n",
    "        \"max retries\": \"reset_state\",\n",
    "    },\n",
    ")\n",
    "workflow.add_edge(\"irrelevant\", \"reset_state\")\n",
    "workflow.add_edge(\"reset_state\", END)\n",
    "\n",
    "# Compile\n",
    "memory = MemorySaver()\n",
    "graph = workflow.compile(checkpointer=memory)\n",
    "display(Image(graph.get_graph().draw_mermaid_png()))"
   ],
   "id": "7d9d68168a4627a2",
   "outputs": [
    {
     "data": {
      "image/png": "[encoded data removed]",
      "text/plain": [
       "<IPython.core.display.Image object>"
      ]
     },
     "metadata": {},
     "output_type": "display_data"
    }
   ],
   "execution_count": 41
  },
  {
   "metadata": {},
   "cell_type": "code",
   "outputs": [],
   "execution_count": null,
   "source": [
    "config = {\"configurable\": {\"thread_id\": \"2\"}}\n",
    "\n",
    "inputs = {\n",
    "    \"messages\": [\"What are the models released today for llama3.2?\"],\n",
    "    \"max_retries\": 3,\n",
    "}\n",
    "for event in graph.stream(inputs, stream_mode=\"values\", config=config):\n",
    "    print(event)"
   ],
   "id": "6b513ecd06caa246"
  },
  {
   "metadata": {},
   "cell_type": "code",
   "outputs": [],
   "execution_count": null,
   "source": [
    "config = {\"configurable\": {\"thread_id\": \"2\"}}\n",
    "\n",
    "inputs = {\n",
    "    \"messages\": [\"With how many tiles does each player start with?\"],\n",
    "    \"max_retries\": 3,\n",
    "}\n",
    "\n",
    "for event in graph.stream(inputs, stream_mode=\"values\", config=config):\n",
    "    print(event)"
   ],
   "id": "425b0511ee6c6bf2"
  },
  {
   "metadata": {
    "ExecuteTime": {
     "end_time": "2025-01-03T23:23:10.179414Z",
     "start_time": "2025-01-03T23:17:54.540245Z"
    }
   },
   "cell_type": "code",
   "source": [
    "config = {\"configurable\": {\"thread_id\": \"2\"}}\n",
    "\n",
    "inputs = {\n",
    "    \"messages\": [\"Okay and what do we do after that?\"],\n",
    "    \"max_retries\": 3,\n",
    "}\n",
    "\n",
    "for event in graph.stream(inputs, stream_mode=\"values\", config=config):\n",
    "    print(event)"
   ],
   "id": "14ff02bfe76f147e",
   "outputs": [
    {
     "name": "stderr",
     "output_type": "stream",
     "text": [
      "INFO:__main__:---ROUTE QUESTION---\n"
     ]
    },
    {
     "name": "stdout",
     "output_type": "stream",
     "text": [
      "{'messages': [HumanMessage(content='What are the models released today for llama3.2?', additional_kwargs={}, response_metadata={}, id='b8d0c28f-038f-4990-97a2-2cecf929a3b2'), AIMessage(content='The question is either not clear or not relevant to Rummikub. I can answer any questions related to the game Rummikub.', additional_kwargs={}, response_metadata={}, id='05b9efdc-93ca-4dfc-b770-d8648825d30c'), HumanMessage(content='With how many tiles does each player start with?', additional_kwargs={}, response_metadata={}, id='1079f330-cc89-4bb6-8ad5-ed8ca6146b96'), AIMessage(content='Each player starts with 14 tiles.', additional_kwargs={}, response_metadata={}, id='f53b11c4-b5de-4652-8cfb-96818fe360e0'), HumanMessage(content='Okay and what do we do after that?', additional_kwargs={}, response_metadata={}, id='e04e28af-b0cc-48be-bc24-501a4bb6b652')], 'improved_query': '', 'question': '', 'web_search': '', 'loop_generate': 0, 'loop_web_search': 0, 'documents': [], 'filtered_docs': [], 'grades': [], 'hallucination_grade': False, 'answer_grade': False, 'decision': '', 'web_search_query': '', 'route': 'vectorstore'}\n"
     ]
    },
    {
     "name": "stderr",
     "output_type": "stream",
     "text": [
      "INFO:httpx:HTTP Request: POST http://127.0.0.1:11434/api/chat \"HTTP/1.1 200 OK\"\n",
      "INFO:__main__:---IMPROVE QUERY---\n"
     ]
    },
    {
     "name": "stdout",
     "output_type": "stream",
     "text": [
      "{'messages': [HumanMessage(content='What are the models released today for llama3.2?', additional_kwargs={}, response_metadata={}, id='b8d0c28f-038f-4990-97a2-2cecf929a3b2'), AIMessage(content='The question is either not clear or not relevant to Rummikub. I can answer any questions related to the game Rummikub.', additional_kwargs={}, response_metadata={}, id='05b9efdc-93ca-4dfc-b770-d8648825d30c'), HumanMessage(content='With how many tiles does each player start with?', additional_kwargs={}, response_metadata={}, id='1079f330-cc89-4bb6-8ad5-ed8ca6146b96'), AIMessage(content='Each player starts with 14 tiles.', additional_kwargs={}, response_metadata={}, id='f53b11c4-b5de-4652-8cfb-96818fe360e0'), HumanMessage(content='Okay and what do we do after that?', additional_kwargs={}, response_metadata={}, id='e04e28af-b0cc-48be-bc24-501a4bb6b652')], 'improved_query': '', 'question': 'Okay and what do we do after that?', 'web_search': '', 'loop_generate': 0, 'loop_web_search': 0, 'documents': [], 'filtered_docs': [], 'grades': [], 'hallucination_grade': False, 'answer_grade': False, 'decision': '', 'web_search_query': '', 'route': 'vectorstore'}\n"
     ]
    },
    {
     "name": "stderr",
     "output_type": "stream",
     "text": [
      "INFO:httpx:HTTP Request: POST http://127.0.0.1:11434/api/chat \"HTTP/1.1 200 OK\"\n",
      "INFO:__main__:---PROCEED TO VECTORSTORE---\n",
      "INFO:__main__:---RETRIEVE---\n",
      "INFO:httpx:HTTP Request: POST http://localhost:11434/api/embed \"HTTP/1.1 200 OK\"\n",
      "INFO:httpx:HTTP Request: POST http://localhost:5000/api/v2/tenants/default_tenant/databases/default_database/collections/3d1a31a4-275f-43c1-bc00-4ab3f1aad184/query \"HTTP/1.1 200 OK\"\n"
     ]
    },
    {
     "name": "stdout",
     "output_type": "stream",
     "text": [
      "{'messages': [HumanMessage(content='What are the models released today for llama3.2?', additional_kwargs={}, response_metadata={}, id='b8d0c28f-038f-4990-97a2-2cecf929a3b2'), AIMessage(content='The question is either not clear or not relevant to Rummikub. I can answer any questions related to the game Rummikub.', additional_kwargs={}, response_metadata={}, id='05b9efdc-93ca-4dfc-b770-d8648825d30c'), HumanMessage(content='With how many tiles does each player start with?', additional_kwargs={}, response_metadata={}, id='1079f330-cc89-4bb6-8ad5-ed8ca6146b96'), AIMessage(content='Each player starts with 14 tiles.', additional_kwargs={}, response_metadata={}, id='f53b11c4-b5de-4652-8cfb-96818fe360e0'), HumanMessage(content='Okay and what do we do after that?', additional_kwargs={}, response_metadata={}, id='e04e28af-b0cc-48be-bc24-501a4bb6b652')], 'improved_query': 'what do we do after that?', 'question': 'Okay and what do we do after that?', 'web_search': '', 'loop_generate': 0, 'loop_web_search': 0, 'documents': [], 'filtered_docs': [], 'grades': [], 'hallucination_grade': False, 'answer_grade': False, 'decision': '', 'web_search_query': '', 'route': 'vectorstore'}\n",
      "{'messages': [HumanMessage(content='What are the models released today for llama3.2?', additional_kwargs={}, response_metadata={}, id='b8d0c28f-038f-4990-97a2-2cecf929a3b2'), AIMessage(content='The question is either not clear or not relevant to Rummikub. I can answer any questions related to the game Rummikub.', additional_kwargs={}, response_metadata={}, id='05b9efdc-93ca-4dfc-b770-d8648825d30c'), HumanMessage(content='With how many tiles does each player start with?', additional_kwargs={}, response_metadata={}, id='1079f330-cc89-4bb6-8ad5-ed8ca6146b96'), AIMessage(content='Each player starts with 14 tiles.', additional_kwargs={}, response_metadata={}, id='f53b11c4-b5de-4652-8cfb-96818fe360e0'), HumanMessage(content='Okay and what do we do after that?', additional_kwargs={}, response_metadata={}, id='e04e28af-b0cc-48be-bc24-501a4bb6b652')], 'improved_query': 'what do we do after that?', 'question': 'Okay and what do we do after that?', 'web_search': '', 'loop_generate': 0, 'loop_web_search': 0, 'documents': [Document(metadata={}, page_content='Taking Turns\\n\\n- After the initial meld, players can:\\n\\n- Add tiles to existing sets on the table.\\n\\n- Rearrange or \"manipulate\" tiles on the table to create new valid sets.\\n\\n- Play new sets from their rack.\\n\\n- Players who cannot make a play must draw one tile from the pool and end their turn.\\n\\n- Tiles drawn from the pool cannot be played until the next turn.\\n\\nManipulation\\n\\n- Players may rearrange tiles on the table to form new sets as long as all sets remain valid.\\n\\n- Examples include:\\n\\n- Adding a tile to extend a run.\\n\\n- Splitting a run to create new sets.\\n\\n- Replacing a joker and using it elsewhere in the same turn.'), Document(metadata={}, page_content='Pool\\n\\n- The collection of all remaining tiles after each player has drawn their starting tiles. The pool is placed face down on the table, and players draw from it when they cannot make a valid play or choose to skip their turn.\\n\\nSets\\n\\nThere are two types of sets:\\n\\n- Group: A set of 3 or 4 tiles of the same number in different colors.\\n\\n- Run: A set of 3 or more consecutive numbers in the same color. The number 1 is the lowest and cannot follow 13.\\n\\nJoker\\n\\n- A tile that can represent any other tile in a set. Its number and color are that of the tile it replaces.\\n\\n- A joker can be retrieved from a set if the player replaces it with the appropriate tile(s) during their turn. Once retrieved, the joker must be reused immediately.'), Document(metadata={}, page_content='Time Limit Per Turn\\n\\n- Each turn is limited to 1 minute. Players exceeding this limit must:\\n\\n1. Return the table to its previous state.\\n\\n2. Draw 3 tiles as a penalty.\\n\\n3. End their turn.\\n\\nEnding a Game\\n\\n- A game ends when a player empties their rack and declares \"Rummikub!\"\\n\\n- If the pool is empty and no valid plays can be made, the game ends. The player with the lowest total value of tiles on their rack wins.\\n\\nScoring\\n\\n- Winner: Gains points equal to the total of all opponents\\' unplayed tiles.\\n\\n- Other Players: Deduct points equal to the total value of unplayed tiles on their rack.\\n\\nJokers left on a rack incur a 30-point penalty.\\n\\n- Tie: The player with the lowest unplayed tile total wins.')], 'filtered_docs': [], 'grades': [], 'hallucination_grade': False, 'answer_grade': False, 'decision': '', 'web_search_query': '', 'route': 'vectorstore'}\n"
     ]
    },
    {
     "name": "stderr",
     "output_type": "stream",
     "text": [
      "INFO:httpx:HTTP Request: POST http://127.0.0.1:11434/api/chat \"HTTP/1.1 200 OK\"\n",
      "INFO:__main__:---GRADE: DOCUMENT RELEVANT---\n",
      "INFO:httpx:HTTP Request: POST http://127.0.0.1:11434/api/chat \"HTTP/1.1 200 OK\"\n",
      "INFO:__main__:---GRADE: DOCUMENT RELEVANT---\n",
      "INFO:httpx:HTTP Request: POST http://127.0.0.1:11434/api/chat \"HTTP/1.1 200 OK\"\n",
      "INFO:__main__:---GRADE: DOCUMENT RELEVANT---\n",
      "INFO:__main__:---CHECK IF WEB SEARCH IS NECESSARY---\n",
      "INFO:__main__:---RELEVANT DOCUMENTS FOUND---\n",
      "INFO:__main__:---ASSESS GRADED DOCUMENTS---\n",
      "INFO:__main__:---DECISION: GENERATE---\n",
      "INFO:__main__:---GENERATE---\n"
     ]
    },
    {
     "name": "stdout",
     "output_type": "stream",
     "text": [
      "{'messages': [HumanMessage(content='What are the models released today for llama3.2?', additional_kwargs={}, response_metadata={}, id='b8d0c28f-038f-4990-97a2-2cecf929a3b2'), AIMessage(content='The question is either not clear or not relevant to Rummikub. I can answer any questions related to the game Rummikub.', additional_kwargs={}, response_metadata={}, id='05b9efdc-93ca-4dfc-b770-d8648825d30c'), HumanMessage(content='With how many tiles does each player start with?', additional_kwargs={}, response_metadata={}, id='1079f330-cc89-4bb6-8ad5-ed8ca6146b96'), AIMessage(content='Each player starts with 14 tiles.', additional_kwargs={}, response_metadata={}, id='f53b11c4-b5de-4652-8cfb-96818fe360e0'), HumanMessage(content='Okay and what do we do after that?', additional_kwargs={}, response_metadata={}, id='e04e28af-b0cc-48be-bc24-501a4bb6b652')], 'improved_query': 'what do we do after that?', 'question': 'Okay and what do we do after that?', 'web_search': '', 'loop_generate': 0, 'loop_web_search': 0, 'documents': [Document(metadata={}, page_content='Taking Turns\\n\\n- After the initial meld, players can:\\n\\n- Add tiles to existing sets on the table.\\n\\n- Rearrange or \"manipulate\" tiles on the table to create new valid sets.\\n\\n- Play new sets from their rack.\\n\\n- Players who cannot make a play must draw one tile from the pool and end their turn.\\n\\n- Tiles drawn from the pool cannot be played until the next turn.\\n\\nManipulation\\n\\n- Players may rearrange tiles on the table to form new sets as long as all sets remain valid.\\n\\n- Examples include:\\n\\n- Adding a tile to extend a run.\\n\\n- Splitting a run to create new sets.\\n\\n- Replacing a joker and using it elsewhere in the same turn.'), Document(metadata={}, page_content='Pool\\n\\n- The collection of all remaining tiles after each player has drawn their starting tiles. The pool is placed face down on the table, and players draw from it when they cannot make a valid play or choose to skip their turn.\\n\\nSets\\n\\nThere are two types of sets:\\n\\n- Group: A set of 3 or 4 tiles of the same number in different colors.\\n\\n- Run: A set of 3 or more consecutive numbers in the same color. The number 1 is the lowest and cannot follow 13.\\n\\nJoker\\n\\n- A tile that can represent any other tile in a set. Its number and color are that of the tile it replaces.\\n\\n- A joker can be retrieved from a set if the player replaces it with the appropriate tile(s) during their turn. Once retrieved, the joker must be reused immediately.'), Document(metadata={}, page_content='Time Limit Per Turn\\n\\n- Each turn is limited to 1 minute. Players exceeding this limit must:\\n\\n1. Return the table to its previous state.\\n\\n2. Draw 3 tiles as a penalty.\\n\\n3. End their turn.\\n\\nEnding a Game\\n\\n- A game ends when a player empties their rack and declares \"Rummikub!\"\\n\\n- If the pool is empty and no valid plays can be made, the game ends. The player with the lowest total value of tiles on their rack wins.\\n\\nScoring\\n\\n- Winner: Gains points equal to the total of all opponents\\' unplayed tiles.\\n\\n- Other Players: Deduct points equal to the total value of unplayed tiles on their rack.\\n\\nJokers left on a rack incur a 30-point penalty.\\n\\n- Tie: The player with the lowest unplayed tile total wins.')], 'filtered_docs': [Document(metadata={}, page_content='Taking Turns\\n\\n- After the initial meld, players can:\\n\\n- Add tiles to existing sets on the table.\\n\\n- Rearrange or \"manipulate\" tiles on the table to create new valid sets.\\n\\n- Play new sets from their rack.\\n\\n- Players who cannot make a play must draw one tile from the pool and end their turn.\\n\\n- Tiles drawn from the pool cannot be played until the next turn.\\n\\nManipulation\\n\\n- Players may rearrange tiles on the table to form new sets as long as all sets remain valid.\\n\\n- Examples include:\\n\\n- Adding a tile to extend a run.\\n\\n- Splitting a run to create new sets.\\n\\n- Replacing a joker and using it elsewhere in the same turn.'), Document(metadata={}, page_content='Pool\\n\\n- The collection of all remaining tiles after each player has drawn their starting tiles. The pool is placed face down on the table, and players draw from it when they cannot make a valid play or choose to skip their turn.\\n\\nSets\\n\\nThere are two types of sets:\\n\\n- Group: A set of 3 or 4 tiles of the same number in different colors.\\n\\n- Run: A set of 3 or more consecutive numbers in the same color. The number 1 is the lowest and cannot follow 13.\\n\\nJoker\\n\\n- A tile that can represent any other tile in a set. Its number and color are that of the tile it replaces.\\n\\n- A joker can be retrieved from a set if the player replaces it with the appropriate tile(s) during their turn. Once retrieved, the joker must be reused immediately.'), Document(metadata={}, page_content='Time Limit Per Turn\\n\\n- Each turn is limited to 1 minute. Players exceeding this limit must:\\n\\n1. Return the table to its previous state.\\n\\n2. Draw 3 tiles as a penalty.\\n\\n3. End their turn.\\n\\nEnding a Game\\n\\n- A game ends when a player empties their rack and declares \"Rummikub!\"\\n\\n- If the pool is empty and no valid plays can be made, the game ends. The player with the lowest total value of tiles on their rack wins.\\n\\nScoring\\n\\n- Winner: Gains points equal to the total of all opponents\\' unplayed tiles.\\n\\n- Other Players: Deduct points equal to the total value of unplayed tiles on their rack.\\n\\nJokers left on a rack incur a 30-point penalty.\\n\\n- Tie: The player with the lowest unplayed tile total wins.')], 'grades': ['yes', 'yes', 'yes'], 'hallucination_grade': False, 'answer_grade': False, 'decision': '', 'web_search_query': '', 'route': 'vectorstore'}\n",
      "{'messages': [HumanMessage(content='What are the models released today for llama3.2?', additional_kwargs={}, response_metadata={}, id='b8d0c28f-038f-4990-97a2-2cecf929a3b2'), AIMessage(content='The question is either not clear or not relevant to Rummikub. I can answer any questions related to the game Rummikub.', additional_kwargs={}, response_metadata={}, id='05b9efdc-93ca-4dfc-b770-d8648825d30c'), HumanMessage(content='With how many tiles does each player start with?', additional_kwargs={}, response_metadata={}, id='1079f330-cc89-4bb6-8ad5-ed8ca6146b96'), AIMessage(content='Each player starts with 14 tiles.', additional_kwargs={}, response_metadata={}, id='f53b11c4-b5de-4652-8cfb-96818fe360e0'), HumanMessage(content='Okay and what do we do after that?', additional_kwargs={}, response_metadata={}, id='e04e28af-b0cc-48be-bc24-501a4bb6b652')], 'improved_query': 'what do we do after that?', 'question': 'Okay and what do we do after that?', 'web_search': 'No', 'loop_generate': 0, 'loop_web_search': 0, 'documents': [Document(metadata={}, page_content='Taking Turns\\n\\n- After the initial meld, players can:\\n\\n- Add tiles to existing sets on the table.\\n\\n- Rearrange or \"manipulate\" tiles on the table to create new valid sets.\\n\\n- Play new sets from their rack.\\n\\n- Players who cannot make a play must draw one tile from the pool and end their turn.\\n\\n- Tiles drawn from the pool cannot be played until the next turn.\\n\\nManipulation\\n\\n- Players may rearrange tiles on the table to form new sets as long as all sets remain valid.\\n\\n- Examples include:\\n\\n- Adding a tile to extend a run.\\n\\n- Splitting a run to create new sets.\\n\\n- Replacing a joker and using it elsewhere in the same turn.'), Document(metadata={}, page_content='Pool\\n\\n- The collection of all remaining tiles after each player has drawn their starting tiles. The pool is placed face down on the table, and players draw from it when they cannot make a valid play or choose to skip their turn.\\n\\nSets\\n\\nThere are two types of sets:\\n\\n- Group: A set of 3 or 4 tiles of the same number in different colors.\\n\\n- Run: A set of 3 or more consecutive numbers in the same color. The number 1 is the lowest and cannot follow 13.\\n\\nJoker\\n\\n- A tile that can represent any other tile in a set. Its number and color are that of the tile it replaces.\\n\\n- A joker can be retrieved from a set if the player replaces it with the appropriate tile(s) during their turn. Once retrieved, the joker must be reused immediately.'), Document(metadata={}, page_content='Time Limit Per Turn\\n\\n- Each turn is limited to 1 minute. Players exceeding this limit must:\\n\\n1. Return the table to its previous state.\\n\\n2. Draw 3 tiles as a penalty.\\n\\n3. End their turn.\\n\\nEnding a Game\\n\\n- A game ends when a player empties their rack and declares \"Rummikub!\"\\n\\n- If the pool is empty and no valid plays can be made, the game ends. The player with the lowest total value of tiles on their rack wins.\\n\\nScoring\\n\\n- Winner: Gains points equal to the total of all opponents\\' unplayed tiles.\\n\\n- Other Players: Deduct points equal to the total value of unplayed tiles on their rack.\\n\\nJokers left on a rack incur a 30-point penalty.\\n\\n- Tie: The player with the lowest unplayed tile total wins.')], 'filtered_docs': [Document(metadata={}, page_content='Taking Turns\\n\\n- After the initial meld, players can:\\n\\n- Add tiles to existing sets on the table.\\n\\n- Rearrange or \"manipulate\" tiles on the table to create new valid sets.\\n\\n- Play new sets from their rack.\\n\\n- Players who cannot make a play must draw one tile from the pool and end their turn.\\n\\n- Tiles drawn from the pool cannot be played until the next turn.\\n\\nManipulation\\n\\n- Players may rearrange tiles on the table to form new sets as long as all sets remain valid.\\n\\n- Examples include:\\n\\n- Adding a tile to extend a run.\\n\\n- Splitting a run to create new sets.\\n\\n- Replacing a joker and using it elsewhere in the same turn.'), Document(metadata={}, page_content='Pool\\n\\n- The collection of all remaining tiles after each player has drawn their starting tiles. The pool is placed face down on the table, and players draw from it when they cannot make a valid play or choose to skip their turn.\\n\\nSets\\n\\nThere are two types of sets:\\n\\n- Group: A set of 3 or 4 tiles of the same number in different colors.\\n\\n- Run: A set of 3 or more consecutive numbers in the same color. The number 1 is the lowest and cannot follow 13.\\n\\nJoker\\n\\n- A tile that can represent any other tile in a set. Its number and color are that of the tile it replaces.\\n\\n- A joker can be retrieved from a set if the player replaces it with the appropriate tile(s) during their turn. Once retrieved, the joker must be reused immediately.'), Document(metadata={}, page_content='Time Limit Per Turn\\n\\n- Each turn is limited to 1 minute. Players exceeding this limit must:\\n\\n1. Return the table to its previous state.\\n\\n2. Draw 3 tiles as a penalty.\\n\\n3. End their turn.\\n\\nEnding a Game\\n\\n- A game ends when a player empties their rack and declares \"Rummikub!\"\\n\\n- If the pool is empty and no valid plays can be made, the game ends. The player with the lowest total value of tiles on their rack wins.\\n\\nScoring\\n\\n- Winner: Gains points equal to the total of all opponents\\' unplayed tiles.\\n\\n- Other Players: Deduct points equal to the total value of unplayed tiles on their rack.\\n\\nJokers left on a rack incur a 30-point penalty.\\n\\n- Tie: The player with the lowest unplayed tile total wins.')], 'grades': [], 'hallucination_grade': False, 'answer_grade': False, 'decision': '', 'web_search_query': '', 'route': 'vectorstore'}\n"
     ]
    },
    {
     "name": "stderr",
     "output_type": "stream",
     "text": [
      "INFO:httpx:HTTP Request: POST http://127.0.0.1:11434/api/chat \"HTTP/1.1 200 OK\"\n",
      "INFO:__main__:---GRADE HALLUCINATION---\n",
      "INFO:__main__:---GRADE GENERATION vs QUESTION---\n"
     ]
    },
    {
     "name": "stdout",
     "output_type": "stream",
     "text": [
      "{'messages': [HumanMessage(content='What are the models released today for llama3.2?', additional_kwargs={}, response_metadata={}, id='b8d0c28f-038f-4990-97a2-2cecf929a3b2'), AIMessage(content='The question is either not clear or not relevant to Rummikub. I can answer any questions related to the game Rummikub.', additional_kwargs={}, response_metadata={}, id='05b9efdc-93ca-4dfc-b770-d8648825d30c'), HumanMessage(content='With how many tiles does each player start with?', additional_kwargs={}, response_metadata={}, id='1079f330-cc89-4bb6-8ad5-ed8ca6146b96'), AIMessage(content='Each player starts with 14 tiles.', additional_kwargs={}, response_metadata={}, id='f53b11c4-b5de-4652-8cfb-96818fe360e0'), HumanMessage(content='Okay and what do we do after that?', additional_kwargs={}, response_metadata={}, id='e04e28af-b0cc-48be-bc24-501a4bb6b652'), AIMessage(content='After the initial meld, players can add tiles to existing sets on the table, rearrange or manipulate tiles to create new valid sets, play new sets from their rack.', additional_kwargs={}, response_metadata={}, id='59145d8c-4729-49f5-a360-11e3600651bf')], 'improved_query': 'what do we do after that?', 'question': 'Okay and what do we do after that?', 'web_search': 'No', 'loop_generate': 1, 'loop_web_search': 0, 'documents': [Document(metadata={}, page_content='Taking Turns\\n\\n- After the initial meld, players can:\\n\\n- Add tiles to existing sets on the table.\\n\\n- Rearrange or \"manipulate\" tiles on the table to create new valid sets.\\n\\n- Play new sets from their rack.\\n\\n- Players who cannot make a play must draw one tile from the pool and end their turn.\\n\\n- Tiles drawn from the pool cannot be played until the next turn.\\n\\nManipulation\\n\\n- Players may rearrange tiles on the table to form new sets as long as all sets remain valid.\\n\\n- Examples include:\\n\\n- Adding a tile to extend a run.\\n\\n- Splitting a run to create new sets.\\n\\n- Replacing a joker and using it elsewhere in the same turn.'), Document(metadata={}, page_content='Pool\\n\\n- The collection of all remaining tiles after each player has drawn their starting tiles. The pool is placed face down on the table, and players draw from it when they cannot make a valid play or choose to skip their turn.\\n\\nSets\\n\\nThere are two types of sets:\\n\\n- Group: A set of 3 or 4 tiles of the same number in different colors.\\n\\n- Run: A set of 3 or more consecutive numbers in the same color. The number 1 is the lowest and cannot follow 13.\\n\\nJoker\\n\\n- A tile that can represent any other tile in a set. Its number and color are that of the tile it replaces.\\n\\n- A joker can be retrieved from a set if the player replaces it with the appropriate tile(s) during their turn. Once retrieved, the joker must be reused immediately.'), Document(metadata={}, page_content='Time Limit Per Turn\\n\\n- Each turn is limited to 1 minute. Players exceeding this limit must:\\n\\n1. Return the table to its previous state.\\n\\n2. Draw 3 tiles as a penalty.\\n\\n3. End their turn.\\n\\nEnding a Game\\n\\n- A game ends when a player empties their rack and declares \"Rummikub!\"\\n\\n- If the pool is empty and no valid plays can be made, the game ends. The player with the lowest total value of tiles on their rack wins.\\n\\nScoring\\n\\n- Winner: Gains points equal to the total of all opponents\\' unplayed tiles.\\n\\n- Other Players: Deduct points equal to the total value of unplayed tiles on their rack.\\n\\nJokers left on a rack incur a 30-point penalty.\\n\\n- Tie: The player with the lowest unplayed tile total wins.')], 'filtered_docs': [Document(metadata={}, page_content='Taking Turns\\n\\n- After the initial meld, players can:\\n\\n- Add tiles to existing sets on the table.\\n\\n- Rearrange or \"manipulate\" tiles on the table to create new valid sets.\\n\\n- Play new sets from their rack.\\n\\n- Players who cannot make a play must draw one tile from the pool and end their turn.\\n\\n- Tiles drawn from the pool cannot be played until the next turn.\\n\\nManipulation\\n\\n- Players may rearrange tiles on the table to form new sets as long as all sets remain valid.\\n\\n- Examples include:\\n\\n- Adding a tile to extend a run.\\n\\n- Splitting a run to create new sets.\\n\\n- Replacing a joker and using it elsewhere in the same turn.'), Document(metadata={}, page_content='Pool\\n\\n- The collection of all remaining tiles after each player has drawn their starting tiles. The pool is placed face down on the table, and players draw from it when they cannot make a valid play or choose to skip their turn.\\n\\nSets\\n\\nThere are two types of sets:\\n\\n- Group: A set of 3 or 4 tiles of the same number in different colors.\\n\\n- Run: A set of 3 or more consecutive numbers in the same color. The number 1 is the lowest and cannot follow 13.\\n\\nJoker\\n\\n- A tile that can represent any other tile in a set. Its number and color are that of the tile it replaces.\\n\\n- A joker can be retrieved from a set if the player replaces it with the appropriate tile(s) during their turn. Once retrieved, the joker must be reused immediately.'), Document(metadata={}, page_content='Time Limit Per Turn\\n\\n- Each turn is limited to 1 minute. Players exceeding this limit must:\\n\\n1. Return the table to its previous state.\\n\\n2. Draw 3 tiles as a penalty.\\n\\n3. End their turn.\\n\\nEnding a Game\\n\\n- A game ends when a player empties their rack and declares \"Rummikub!\"\\n\\n- If the pool is empty and no valid plays can be made, the game ends. The player with the lowest total value of tiles on their rack wins.\\n\\nScoring\\n\\n- Winner: Gains points equal to the total of all opponents\\' unplayed tiles.\\n\\n- Other Players: Deduct points equal to the total value of unplayed tiles on their rack.\\n\\nJokers left on a rack incur a 30-point penalty.\\n\\n- Tie: The player with the lowest unplayed tile total wins.')], 'grades': [], 'hallucination_grade': False, 'answer_grade': False, 'decision': '', 'web_search_query': '', 'route': 'vectorstore'}\n"
     ]
    },
    {
     "name": "stderr",
     "output_type": "stream",
     "text": [
      "INFO:httpx:HTTP Request: POST http://127.0.0.1:11434/api/chat \"HTTP/1.1 200 OK\"\n"
     ]
    },
    {
     "name": "stdout",
     "output_type": "stream",
     "text": [
      "---DECISION: GENERATION ADDRESSES QUESTION---\n"
     ]
    },
    {
     "name": "stderr",
     "output_type": "stream",
     "text": [
      "INFO:httpx:HTTP Request: POST http://127.0.0.1:11434/api/chat \"HTTP/1.1 200 OK\"\n",
      "INFO:__main__:---DECISION: GENERATION GROUNDED IN DOCUMENT---\n",
      "INFO:__main__:---CHECK GRADINGS---\n",
      "INFO:__main__:---DECISION: GENERATION ADDRESSES QUESTION---\n",
      "INFO:__main__:---RESET STATE---\n"
     ]
    },
    {
     "name": "stdout",
     "output_type": "stream",
     "text": [
      "{'messages': [HumanMessage(content='What are the models released today for llama3.2?', additional_kwargs={}, response_metadata={}, id='b8d0c28f-038f-4990-97a2-2cecf929a3b2'), AIMessage(content='The question is either not clear or not relevant to Rummikub. I can answer any questions related to the game Rummikub.', additional_kwargs={}, response_metadata={}, id='05b9efdc-93ca-4dfc-b770-d8648825d30c'), HumanMessage(content='With how many tiles does each player start with?', additional_kwargs={}, response_metadata={}, id='1079f330-cc89-4bb6-8ad5-ed8ca6146b96'), AIMessage(content='Each player starts with 14 tiles.', additional_kwargs={}, response_metadata={}, id='f53b11c4-b5de-4652-8cfb-96818fe360e0'), HumanMessage(content='Okay and what do we do after that?', additional_kwargs={}, response_metadata={}, id='e04e28af-b0cc-48be-bc24-501a4bb6b652'), AIMessage(content='After the initial meld, players can add tiles to existing sets on the table, rearrange or manipulate tiles to create new valid sets, play new sets from their rack.', additional_kwargs={}, response_metadata={}, id='59145d8c-4729-49f5-a360-11e3600651bf')], 'improved_query': 'what do we do after that?', 'question': 'Okay and what do we do after that?', 'web_search': 'No', 'loop_generate': 1, 'loop_web_search': 0, 'documents': [Document(metadata={}, page_content='Taking Turns\\n\\n- After the initial meld, players can:\\n\\n- Add tiles to existing sets on the table.\\n\\n- Rearrange or \"manipulate\" tiles on the table to create new valid sets.\\n\\n- Play new sets from their rack.\\n\\n- Players who cannot make a play must draw one tile from the pool and end their turn.\\n\\n- Tiles drawn from the pool cannot be played until the next turn.\\n\\nManipulation\\n\\n- Players may rearrange tiles on the table to form new sets as long as all sets remain valid.\\n\\n- Examples include:\\n\\n- Adding a tile to extend a run.\\n\\n- Splitting a run to create new sets.\\n\\n- Replacing a joker and using it elsewhere in the same turn.'), Document(metadata={}, page_content='Pool\\n\\n- The collection of all remaining tiles after each player has drawn their starting tiles. The pool is placed face down on the table, and players draw from it when they cannot make a valid play or choose to skip their turn.\\n\\nSets\\n\\nThere are two types of sets:\\n\\n- Group: A set of 3 or 4 tiles of the same number in different colors.\\n\\n- Run: A set of 3 or more consecutive numbers in the same color. The number 1 is the lowest and cannot follow 13.\\n\\nJoker\\n\\n- A tile that can represent any other tile in a set. Its number and color are that of the tile it replaces.\\n\\n- A joker can be retrieved from a set if the player replaces it with the appropriate tile(s) during their turn. Once retrieved, the joker must be reused immediately.'), Document(metadata={}, page_content='Time Limit Per Turn\\n\\n- Each turn is limited to 1 minute. Players exceeding this limit must:\\n\\n1. Return the table to its previous state.\\n\\n2. Draw 3 tiles as a penalty.\\n\\n3. End their turn.\\n\\nEnding a Game\\n\\n- A game ends when a player empties their rack and declares \"Rummikub!\"\\n\\n- If the pool is empty and no valid plays can be made, the game ends. The player with the lowest total value of tiles on their rack wins.\\n\\nScoring\\n\\n- Winner: Gains points equal to the total of all opponents\\' unplayed tiles.\\n\\n- Other Players: Deduct points equal to the total value of unplayed tiles on their rack.\\n\\nJokers left on a rack incur a 30-point penalty.\\n\\n- Tie: The player with the lowest unplayed tile total wins.')], 'filtered_docs': [Document(metadata={}, page_content='Taking Turns\\n\\n- After the initial meld, players can:\\n\\n- Add tiles to existing sets on the table.\\n\\n- Rearrange or \"manipulate\" tiles on the table to create new valid sets.\\n\\n- Play new sets from their rack.\\n\\n- Players who cannot make a play must draw one tile from the pool and end their turn.\\n\\n- Tiles drawn from the pool cannot be played until the next turn.\\n\\nManipulation\\n\\n- Players may rearrange tiles on the table to form new sets as long as all sets remain valid.\\n\\n- Examples include:\\n\\n- Adding a tile to extend a run.\\n\\n- Splitting a run to create new sets.\\n\\n- Replacing a joker and using it elsewhere in the same turn.'), Document(metadata={}, page_content='Pool\\n\\n- The collection of all remaining tiles after each player has drawn their starting tiles. The pool is placed face down on the table, and players draw from it when they cannot make a valid play or choose to skip their turn.\\n\\nSets\\n\\nThere are two types of sets:\\n\\n- Group: A set of 3 or 4 tiles of the same number in different colors.\\n\\n- Run: A set of 3 or more consecutive numbers in the same color. The number 1 is the lowest and cannot follow 13.\\n\\nJoker\\n\\n- A tile that can represent any other tile in a set. Its number and color are that of the tile it replaces.\\n\\n- A joker can be retrieved from a set if the player replaces it with the appropriate tile(s) during their turn. Once retrieved, the joker must be reused immediately.'), Document(metadata={}, page_content='Time Limit Per Turn\\n\\n- Each turn is limited to 1 minute. Players exceeding this limit must:\\n\\n1. Return the table to its previous state.\\n\\n2. Draw 3 tiles as a penalty.\\n\\n3. End their turn.\\n\\nEnding a Game\\n\\n- A game ends when a player empties their rack and declares \"Rummikub!\"\\n\\n- If the pool is empty and no valid plays can be made, the game ends. The player with the lowest total value of tiles on their rack wins.\\n\\nScoring\\n\\n- Winner: Gains points equal to the total of all opponents\\' unplayed tiles.\\n\\n- Other Players: Deduct points equal to the total value of unplayed tiles on their rack.\\n\\nJokers left on a rack incur a 30-point penalty.\\n\\n- Tie: The player with the lowest unplayed tile total wins.')], 'grades': [], 'hallucination_grade': False, 'answer_grade': False, 'decision': '', 'web_search_query': '', 'route': 'vectorstore'}\n",
      "{'messages': [HumanMessage(content='What are the models released today for llama3.2?', additional_kwargs={}, response_metadata={}, id='b8d0c28f-038f-4990-97a2-2cecf929a3b2'), AIMessage(content='The question is either not clear or not relevant to Rummikub. I can answer any questions related to the game Rummikub.', additional_kwargs={}, response_metadata={}, id='05b9efdc-93ca-4dfc-b770-d8648825d30c'), HumanMessage(content='With how many tiles does each player start with?', additional_kwargs={}, response_metadata={}, id='1079f330-cc89-4bb6-8ad5-ed8ca6146b96'), AIMessage(content='Each player starts with 14 tiles.', additional_kwargs={}, response_metadata={}, id='f53b11c4-b5de-4652-8cfb-96818fe360e0'), HumanMessage(content='Okay and what do we do after that?', additional_kwargs={}, response_metadata={}, id='e04e28af-b0cc-48be-bc24-501a4bb6b652'), AIMessage(content='After the initial meld, players can add tiles to existing sets on the table, rearrange or manipulate tiles to create new valid sets, play new sets from their rack.', additional_kwargs={}, response_metadata={}, id='59145d8c-4729-49f5-a360-11e3600651bf')], 'improved_query': 'what do we do after that?', 'question': 'Okay and what do we do after that?', 'web_search': 'No', 'loop_generate': 1, 'loop_web_search': 0, 'documents': [Document(metadata={}, page_content='Taking Turns\\n\\n- After the initial meld, players can:\\n\\n- Add tiles to existing sets on the table.\\n\\n- Rearrange or \"manipulate\" tiles on the table to create new valid sets.\\n\\n- Play new sets from their rack.\\n\\n- Players who cannot make a play must draw one tile from the pool and end their turn.\\n\\n- Tiles drawn from the pool cannot be played until the next turn.\\n\\nManipulation\\n\\n- Players may rearrange tiles on the table to form new sets as long as all sets remain valid.\\n\\n- Examples include:\\n\\n- Adding a tile to extend a run.\\n\\n- Splitting a run to create new sets.\\n\\n- Replacing a joker and using it elsewhere in the same turn.'), Document(metadata={}, page_content='Pool\\n\\n- The collection of all remaining tiles after each player has drawn their starting tiles. The pool is placed face down on the table, and players draw from it when they cannot make a valid play or choose to skip their turn.\\n\\nSets\\n\\nThere are two types of sets:\\n\\n- Group: A set of 3 or 4 tiles of the same number in different colors.\\n\\n- Run: A set of 3 or more consecutive numbers in the same color. The number 1 is the lowest and cannot follow 13.\\n\\nJoker\\n\\n- A tile that can represent any other tile in a set. Its number and color are that of the tile it replaces.\\n\\n- A joker can be retrieved from a set if the player replaces it with the appropriate tile(s) during their turn. Once retrieved, the joker must be reused immediately.'), Document(metadata={}, page_content='Time Limit Per Turn\\n\\n- Each turn is limited to 1 minute. Players exceeding this limit must:\\n\\n1. Return the table to its previous state.\\n\\n2. Draw 3 tiles as a penalty.\\n\\n3. End their turn.\\n\\nEnding a Game\\n\\n- A game ends when a player empties their rack and declares \"Rummikub!\"\\n\\n- If the pool is empty and no valid plays can be made, the game ends. The player with the lowest total value of tiles on their rack wins.\\n\\nScoring\\n\\n- Winner: Gains points equal to the total of all opponents\\' unplayed tiles.\\n\\n- Other Players: Deduct points equal to the total value of unplayed tiles on their rack.\\n\\nJokers left on a rack incur a 30-point penalty.\\n\\n- Tie: The player with the lowest unplayed tile total wins.')], 'filtered_docs': [Document(metadata={}, page_content='Taking Turns\\n\\n- After the initial meld, players can:\\n\\n- Add tiles to existing sets on the table.\\n\\n- Rearrange or \"manipulate\" tiles on the table to create new valid sets.\\n\\n- Play new sets from their rack.\\n\\n- Players who cannot make a play must draw one tile from the pool and end their turn.\\n\\n- Tiles drawn from the pool cannot be played until the next turn.\\n\\nManipulation\\n\\n- Players may rearrange tiles on the table to form new sets as long as all sets remain valid.\\n\\n- Examples include:\\n\\n- Adding a tile to extend a run.\\n\\n- Splitting a run to create new sets.\\n\\n- Replacing a joker and using it elsewhere in the same turn.'), Document(metadata={}, page_content='Pool\\n\\n- The collection of all remaining tiles after each player has drawn their starting tiles. The pool is placed face down on the table, and players draw from it when they cannot make a valid play or choose to skip their turn.\\n\\nSets\\n\\nThere are two types of sets:\\n\\n- Group: A set of 3 or 4 tiles of the same number in different colors.\\n\\n- Run: A set of 3 or more consecutive numbers in the same color. The number 1 is the lowest and cannot follow 13.\\n\\nJoker\\n\\n- A tile that can represent any other tile in a set. Its number and color are that of the tile it replaces.\\n\\n- A joker can be retrieved from a set if the player replaces it with the appropriate tile(s) during their turn. Once retrieved, the joker must be reused immediately.'), Document(metadata={}, page_content='Time Limit Per Turn\\n\\n- Each turn is limited to 1 minute. Players exceeding this limit must:\\n\\n1. Return the table to its previous state.\\n\\n2. Draw 3 tiles as a penalty.\\n\\n3. End their turn.\\n\\nEnding a Game\\n\\n- A game ends when a player empties their rack and declares \"Rummikub!\"\\n\\n- If the pool is empty and no valid plays can be made, the game ends. The player with the lowest total value of tiles on their rack wins.\\n\\nScoring\\n\\n- Winner: Gains points equal to the total of all opponents\\' unplayed tiles.\\n\\n- Other Players: Deduct points equal to the total value of unplayed tiles on their rack.\\n\\nJokers left on a rack incur a 30-point penalty.\\n\\n- Tie: The player with the lowest unplayed tile total wins.')], 'grades': [], 'hallucination_grade': False, 'answer_grade': False, 'decision': 'useful', 'web_search_query': '', 'route': 'vectorstore'}\n",
      "{'messages': [HumanMessage(content='What are the models released today for llama3.2?', additional_kwargs={}, response_metadata={}, id='b8d0c28f-038f-4990-97a2-2cecf929a3b2'), AIMessage(content='The question is either not clear or not relevant to Rummikub. I can answer any questions related to the game Rummikub.', additional_kwargs={}, response_metadata={}, id='05b9efdc-93ca-4dfc-b770-d8648825d30c'), HumanMessage(content='With how many tiles does each player start with?', additional_kwargs={}, response_metadata={}, id='1079f330-cc89-4bb6-8ad5-ed8ca6146b96'), AIMessage(content='Each player starts with 14 tiles.', additional_kwargs={}, response_metadata={}, id='f53b11c4-b5de-4652-8cfb-96818fe360e0'), HumanMessage(content='Okay and what do we do after that?', additional_kwargs={}, response_metadata={}, id='e04e28af-b0cc-48be-bc24-501a4bb6b652'), AIMessage(content='After the initial meld, players can add tiles to existing sets on the table, rearrange or manipulate tiles to create new valid sets, play new sets from their rack.', additional_kwargs={}, response_metadata={}, id='59145d8c-4729-49f5-a360-11e3600651bf')], 'improved_query': '', 'question': '', 'web_search': '', 'loop_generate': 0, 'loop_web_search': 0, 'documents': [], 'filtered_docs': [], 'grades': [], 'hallucination_grade': False, 'answer_grade': False, 'decision': '', 'web_search_query': '', 'route': 'vectorstore'}\n"
     ]
    }
   ],
   "execution_count": 386
  },
  {
   "cell_type": "code",
   "id": "e1cd4cd8666ded8",
   "metadata": {
    "ExecuteTime": {
     "end_time": "2025-01-03T23:28:10.517474Z",
     "start_time": "2025-01-03T23:23:10.267177Z"
    }
   },
   "source": [
    "config = {\"configurable\": {\"thread_id\": \"1\"}}\n",
    "\n",
    "inputs = {\n",
    "    \"messages\": [\"What is the purpose of the joker tile in Rummikub?\"],\n",
    "    \"max_retries\": 3,\n",
    "}\n",
    "for event in graph.stream(inputs, stream_mode=\"values\", config=config):\n",
    "    print(event)"
   ],
   "outputs": [
    {
     "name": "stderr",
     "output_type": "stream",
     "text": [
      "INFO:__main__:---ROUTE QUESTION---\n"
     ]
    },
    {
     "name": "stdout",
     "output_type": "stream",
     "text": [
      "{'messages': [HumanMessage(content='What is the purpose of the joker tile in Rummikub?', additional_kwargs={}, response_metadata={}, id='743e87de-8c66-427f-b92e-f0e192a90c96')], 'filtered_docs': [], 'grades': []}\n"
     ]
    },
    {
     "name": "stderr",
     "output_type": "stream",
     "text": [
      "INFO:httpx:HTTP Request: POST http://127.0.0.1:11434/api/chat \"HTTP/1.1 200 OK\"\n",
      "INFO:__main__:---IMPROVE QUERY---\n"
     ]
    },
    {
     "name": "stdout",
     "output_type": "stream",
     "text": [
      "{'messages': [HumanMessage(content='What is the purpose of the joker tile in Rummikub?', additional_kwargs={}, response_metadata={}, id='743e87de-8c66-427f-b92e-f0e192a90c96')], 'question': 'What is the purpose of the joker tile in Rummikub?', 'filtered_docs': [], 'grades': [], 'route': 'vectorstore'}\n"
     ]
    },
    {
     "name": "stderr",
     "output_type": "stream",
     "text": [
      "INFO:httpx:HTTP Request: POST http://127.0.0.1:11434/api/chat \"HTTP/1.1 200 OK\"\n",
      "INFO:__main__:---PROCEED TO VECTORSTORE---\n",
      "INFO:__main__:---RETRIEVE---\n"
     ]
    },
    {
     "name": "stdout",
     "output_type": "stream",
     "text": [
      "{'messages': [HumanMessage(content='What is the purpose of the joker tile in Rummikub?', additional_kwargs={}, response_metadata={}, id='743e87de-8c66-427f-b92e-f0e192a90c96')], 'improved_query': 'What is the purpose of the joker tile in Rummikub?', 'question': 'What is the purpose of the joker tile in Rummikub?', 'filtered_docs': [], 'grades': [], 'route': 'vectorstore'}\n"
     ]
    },
    {
     "name": "stderr",
     "output_type": "stream",
     "text": [
      "INFO:httpx:HTTP Request: POST http://localhost:11434/api/embed \"HTTP/1.1 200 OK\"\n",
      "INFO:httpx:HTTP Request: POST http://localhost:5000/api/v2/tenants/default_tenant/databases/default_database/collections/3d1a31a4-275f-43c1-bc00-4ab3f1aad184/query \"HTTP/1.1 200 OK\"\n"
     ]
    },
    {
     "name": "stdout",
     "output_type": "stream",
     "text": [
      "{'messages': [HumanMessage(content='What is the purpose of the joker tile in Rummikub?', additional_kwargs={}, response_metadata={}, id='743e87de-8c66-427f-b92e-f0e192a90c96')], 'improved_query': 'What is the purpose of the joker tile in Rummikub?', 'question': 'What is the purpose of the joker tile in Rummikub?', 'documents': [Document(metadata={}, page_content='Rummikub Rules: Comprehensive Guide to Gameplay and Strategies\\n\\nObjective of the Game\\n\\nTo be the first player to play all the tiles from your rack by forming valid sets (runs and/or groups) on the table.\\n\\nGame Components\\n\\n106 Tiles: Numbers 1-13 in four colors (two of each) and 2 jokers.\\n\\n- 4 Tile Racks.\\n\\n- Extended Version (Rummikub XP): 160 tiles (12 sets of tiles 1-13 in four colors, and 4 joker tiles) and 6 racks for 5-6 players.\\n\\nKey Concepts and Definitions\\n\\nRack\\n\\n- A stand used by each player to hold their tiles. The rack keeps the tiles hidden from other players while allowing the player to organize them for strategic play.'), Document(metadata={}, page_content='Pool\\n\\n- The collection of all remaining tiles after each player has drawn their starting tiles. The pool is placed face down on the table, and players draw from it when they cannot make a valid play or choose to skip their turn.\\n\\nSets\\n\\nThere are two types of sets:\\n\\n- Group: A set of 3 or 4 tiles of the same number in different colors.\\n\\n- Run: A set of 3 or more consecutive numbers in the same color. The number 1 is the lowest and cannot follow 13.\\n\\nJoker\\n\\n- A tile that can represent any other tile in a set. Its number and color are that of the tile it replaces.\\n\\n- A joker can be retrieved from a set if the player replaces it with the appropriate tile(s) during their turn. Once retrieved, the joker must be reused immediately.'), Document(metadata={}, page_content='Strategy Tips\\n\\n- Hold Back Tiles: Save some tiles to increase flexibility later in the game.\\n\\n- Smart Joker Use: Retain jokers for strategic opportunities, but avoid being caught with them.\\n\\n- Maximize Manipulation: Rearrange tiles on the table to reduce your rack as much as possible.\\n\\nInitial Meld: Plan your first meld carefully to avoid getting stuck.\\n\\nAdditional Features and Variants\\n\\nDigital Enhancements\\n\\n- Rummikub offers a free app with tutorials and a score timer for convenience.\\n\\nVariants\\n\\n1. Higher Initial Meld Value: Some versions require 50 points for the first meld, increasing the challenge.\\n\\n2. Restricted Manipulation: Certain variants allow manipulation only after the turn following the initial meld.\\n\\n3. Adjusted Scoring: Jokers may count as 25 points instead of 30 in some versions.')], 'filtered_docs': [], 'grades': [], 'route': 'vectorstore'}\n"
     ]
    },
    {
     "name": "stderr",
     "output_type": "stream",
     "text": [
      "INFO:httpx:HTTP Request: POST http://127.0.0.1:11434/api/chat \"HTTP/1.1 200 OK\"\n",
      "INFO:__main__:---GRADE: DOCUMENT RELEVANT---\n",
      "INFO:httpx:HTTP Request: POST http://127.0.0.1:11434/api/chat \"HTTP/1.1 200 OK\"\n",
      "INFO:__main__:---GRADE: DOCUMENT RELEVANT---\n",
      "INFO:httpx:HTTP Request: POST http://127.0.0.1:11434/api/chat \"HTTP/1.1 200 OK\"\n",
      "INFO:__main__:---GRADE: DOCUMENT RELEVANT---\n",
      "INFO:__main__:---CHECK IF WEB SEARCH IS NECESSARY---\n",
      "INFO:__main__:---RELEVANT DOCUMENTS FOUND---\n",
      "INFO:__main__:---ASSESS GRADED DOCUMENTS---\n",
      "INFO:__main__:---DECISION: GENERATE---\n",
      "INFO:__main__:---GENERATE---\n"
     ]
    },
    {
     "name": "stdout",
     "output_type": "stream",
     "text": [
      "{'messages': [HumanMessage(content='What is the purpose of the joker tile in Rummikub?', additional_kwargs={}, response_metadata={}, id='743e87de-8c66-427f-b92e-f0e192a90c96')], 'improved_query': 'What is the purpose of the joker tile in Rummikub?', 'question': 'What is the purpose of the joker tile in Rummikub?', 'documents': [Document(metadata={}, page_content='Rummikub Rules: Comprehensive Guide to Gameplay and Strategies\\n\\nObjective of the Game\\n\\nTo be the first player to play all the tiles from your rack by forming valid sets (runs and/or groups) on the table.\\n\\nGame Components\\n\\n106 Tiles: Numbers 1-13 in four colors (two of each) and 2 jokers.\\n\\n- 4 Tile Racks.\\n\\n- Extended Version (Rummikub XP): 160 tiles (12 sets of tiles 1-13 in four colors, and 4 joker tiles) and 6 racks for 5-6 players.\\n\\nKey Concepts and Definitions\\n\\nRack\\n\\n- A stand used by each player to hold their tiles. The rack keeps the tiles hidden from other players while allowing the player to organize them for strategic play.'), Document(metadata={}, page_content='Pool\\n\\n- The collection of all remaining tiles after each player has drawn their starting tiles. The pool is placed face down on the table, and players draw from it when they cannot make a valid play or choose to skip their turn.\\n\\nSets\\n\\nThere are two types of sets:\\n\\n- Group: A set of 3 or 4 tiles of the same number in different colors.\\n\\n- Run: A set of 3 or more consecutive numbers in the same color. The number 1 is the lowest and cannot follow 13.\\n\\nJoker\\n\\n- A tile that can represent any other tile in a set. Its number and color are that of the tile it replaces.\\n\\n- A joker can be retrieved from a set if the player replaces it with the appropriate tile(s) during their turn. Once retrieved, the joker must be reused immediately.'), Document(metadata={}, page_content='Strategy Tips\\n\\n- Hold Back Tiles: Save some tiles to increase flexibility later in the game.\\n\\n- Smart Joker Use: Retain jokers for strategic opportunities, but avoid being caught with them.\\n\\n- Maximize Manipulation: Rearrange tiles on the table to reduce your rack as much as possible.\\n\\nInitial Meld: Plan your first meld carefully to avoid getting stuck.\\n\\nAdditional Features and Variants\\n\\nDigital Enhancements\\n\\n- Rummikub offers a free app with tutorials and a score timer for convenience.\\n\\nVariants\\n\\n1. Higher Initial Meld Value: Some versions require 50 points for the first meld, increasing the challenge.\\n\\n2. Restricted Manipulation: Certain variants allow manipulation only after the turn following the initial meld.\\n\\n3. Adjusted Scoring: Jokers may count as 25 points instead of 30 in some versions.')], 'filtered_docs': [Document(metadata={}, page_content='Rummikub Rules: Comprehensive Guide to Gameplay and Strategies\\n\\nObjective of the Game\\n\\nTo be the first player to play all the tiles from your rack by forming valid sets (runs and/or groups) on the table.\\n\\nGame Components\\n\\n106 Tiles: Numbers 1-13 in four colors (two of each) and 2 jokers.\\n\\n- 4 Tile Racks.\\n\\n- Extended Version (Rummikub XP): 160 tiles (12 sets of tiles 1-13 in four colors, and 4 joker tiles) and 6 racks for 5-6 players.\\n\\nKey Concepts and Definitions\\n\\nRack\\n\\n- A stand used by each player to hold their tiles. The rack keeps the tiles hidden from other players while allowing the player to organize them for strategic play.'), Document(metadata={}, page_content='Pool\\n\\n- The collection of all remaining tiles after each player has drawn their starting tiles. The pool is placed face down on the table, and players draw from it when they cannot make a valid play or choose to skip their turn.\\n\\nSets\\n\\nThere are two types of sets:\\n\\n- Group: A set of 3 or 4 tiles of the same number in different colors.\\n\\n- Run: A set of 3 or more consecutive numbers in the same color. The number 1 is the lowest and cannot follow 13.\\n\\nJoker\\n\\n- A tile that can represent any other tile in a set. Its number and color are that of the tile it replaces.\\n\\n- A joker can be retrieved from a set if the player replaces it with the appropriate tile(s) during their turn. Once retrieved, the joker must be reused immediately.'), Document(metadata={}, page_content='Strategy Tips\\n\\n- Hold Back Tiles: Save some tiles to increase flexibility later in the game.\\n\\n- Smart Joker Use: Retain jokers for strategic opportunities, but avoid being caught with them.\\n\\n- Maximize Manipulation: Rearrange tiles on the table to reduce your rack as much as possible.\\n\\nInitial Meld: Plan your first meld carefully to avoid getting stuck.\\n\\nAdditional Features and Variants\\n\\nDigital Enhancements\\n\\n- Rummikub offers a free app with tutorials and a score timer for convenience.\\n\\nVariants\\n\\n1. Higher Initial Meld Value: Some versions require 50 points for the first meld, increasing the challenge.\\n\\n2. Restricted Manipulation: Certain variants allow manipulation only after the turn following the initial meld.\\n\\n3. Adjusted Scoring: Jokers may count as 25 points instead of 30 in some versions.')], 'grades': ['yes', 'yes', 'yes'], 'route': 'vectorstore'}\n",
      "{'messages': [HumanMessage(content='What is the purpose of the joker tile in Rummikub?', additional_kwargs={}, response_metadata={}, id='743e87de-8c66-427f-b92e-f0e192a90c96')], 'improved_query': 'What is the purpose of the joker tile in Rummikub?', 'question': 'What is the purpose of the joker tile in Rummikub?', 'web_search': 'No', 'documents': [Document(metadata={}, page_content='Rummikub Rules: Comprehensive Guide to Gameplay and Strategies\\n\\nObjective of the Game\\n\\nTo be the first player to play all the tiles from your rack by forming valid sets (runs and/or groups) on the table.\\n\\nGame Components\\n\\n106 Tiles: Numbers 1-13 in four colors (two of each) and 2 jokers.\\n\\n- 4 Tile Racks.\\n\\n- Extended Version (Rummikub XP): 160 tiles (12 sets of tiles 1-13 in four colors, and 4 joker tiles) and 6 racks for 5-6 players.\\n\\nKey Concepts and Definitions\\n\\nRack\\n\\n- A stand used by each player to hold their tiles. The rack keeps the tiles hidden from other players while allowing the player to organize them for strategic play.'), Document(metadata={}, page_content='Pool\\n\\n- The collection of all remaining tiles after each player has drawn their starting tiles. The pool is placed face down on the table, and players draw from it when they cannot make a valid play or choose to skip their turn.\\n\\nSets\\n\\nThere are two types of sets:\\n\\n- Group: A set of 3 or 4 tiles of the same number in different colors.\\n\\n- Run: A set of 3 or more consecutive numbers in the same color. The number 1 is the lowest and cannot follow 13.\\n\\nJoker\\n\\n- A tile that can represent any other tile in a set. Its number and color are that of the tile it replaces.\\n\\n- A joker can be retrieved from a set if the player replaces it with the appropriate tile(s) during their turn. Once retrieved, the joker must be reused immediately.'), Document(metadata={}, page_content='Strategy Tips\\n\\n- Hold Back Tiles: Save some tiles to increase flexibility later in the game.\\n\\n- Smart Joker Use: Retain jokers for strategic opportunities, but avoid being caught with them.\\n\\n- Maximize Manipulation: Rearrange tiles on the table to reduce your rack as much as possible.\\n\\nInitial Meld: Plan your first meld carefully to avoid getting stuck.\\n\\nAdditional Features and Variants\\n\\nDigital Enhancements\\n\\n- Rummikub offers a free app with tutorials and a score timer for convenience.\\n\\nVariants\\n\\n1. Higher Initial Meld Value: Some versions require 50 points for the first meld, increasing the challenge.\\n\\n2. Restricted Manipulation: Certain variants allow manipulation only after the turn following the initial meld.\\n\\n3. Adjusted Scoring: Jokers may count as 25 points instead of 30 in some versions.')], 'filtered_docs': [Document(metadata={}, page_content='Rummikub Rules: Comprehensive Guide to Gameplay and Strategies\\n\\nObjective of the Game\\n\\nTo be the first player to play all the tiles from your rack by forming valid sets (runs and/or groups) on the table.\\n\\nGame Components\\n\\n106 Tiles: Numbers 1-13 in four colors (two of each) and 2 jokers.\\n\\n- 4 Tile Racks.\\n\\n- Extended Version (Rummikub XP): 160 tiles (12 sets of tiles 1-13 in four colors, and 4 joker tiles) and 6 racks for 5-6 players.\\n\\nKey Concepts and Definitions\\n\\nRack\\n\\n- A stand used by each player to hold their tiles. The rack keeps the tiles hidden from other players while allowing the player to organize them for strategic play.'), Document(metadata={}, page_content='Pool\\n\\n- The collection of all remaining tiles after each player has drawn their starting tiles. The pool is placed face down on the table, and players draw from it when they cannot make a valid play or choose to skip their turn.\\n\\nSets\\n\\nThere are two types of sets:\\n\\n- Group: A set of 3 or 4 tiles of the same number in different colors.\\n\\n- Run: A set of 3 or more consecutive numbers in the same color. The number 1 is the lowest and cannot follow 13.\\n\\nJoker\\n\\n- A tile that can represent any other tile in a set. Its number and color are that of the tile it replaces.\\n\\n- A joker can be retrieved from a set if the player replaces it with the appropriate tile(s) during their turn. Once retrieved, the joker must be reused immediately.'), Document(metadata={}, page_content='Strategy Tips\\n\\n- Hold Back Tiles: Save some tiles to increase flexibility later in the game.\\n\\n- Smart Joker Use: Retain jokers for strategic opportunities, but avoid being caught with them.\\n\\n- Maximize Manipulation: Rearrange tiles on the table to reduce your rack as much as possible.\\n\\nInitial Meld: Plan your first meld carefully to avoid getting stuck.\\n\\nAdditional Features and Variants\\n\\nDigital Enhancements\\n\\n- Rummikub offers a free app with tutorials and a score timer for convenience.\\n\\nVariants\\n\\n1. Higher Initial Meld Value: Some versions require 50 points for the first meld, increasing the challenge.\\n\\n2. Restricted Manipulation: Certain variants allow manipulation only after the turn following the initial meld.\\n\\n3. Adjusted Scoring: Jokers may count as 25 points instead of 30 in some versions.')], 'grades': [], 'route': 'vectorstore'}\n"
     ]
    },
    {
     "name": "stderr",
     "output_type": "stream",
     "text": [
      "INFO:httpx:HTTP Request: POST http://127.0.0.1:11434/api/chat \"HTTP/1.1 200 OK\"\n",
      "INFO:__main__:---GRADE HALLUCINATION---\n",
      "INFO:__main__:---GRADE GENERATION vs QUESTION---\n"
     ]
    },
    {
     "name": "stdout",
     "output_type": "stream",
     "text": [
      "{'messages': [HumanMessage(content='What is the purpose of the joker tile in Rummikub?', additional_kwargs={}, response_metadata={}, id='743e87de-8c66-427f-b92e-f0e192a90c96'), AIMessage(content='The joker tile in Rummikub can represent any other tile in a set, and its number and color are that of the tile it replaces. It can be retrieved from a set if the player replaces it with the appropriate tile(s) during their turn.', additional_kwargs={}, response_metadata={}, id='a3251d84-a573-426a-82e5-581513e8df86')], 'improved_query': 'What is the purpose of the joker tile in Rummikub?', 'question': 'What is the purpose of the joker tile in Rummikub?', 'web_search': 'No', 'loop_generate': 1, 'documents': [Document(metadata={}, page_content='Rummikub Rules: Comprehensive Guide to Gameplay and Strategies\\n\\nObjective of the Game\\n\\nTo be the first player to play all the tiles from your rack by forming valid sets (runs and/or groups) on the table.\\n\\nGame Components\\n\\n106 Tiles: Numbers 1-13 in four colors (two of each) and 2 jokers.\\n\\n- 4 Tile Racks.\\n\\n- Extended Version (Rummikub XP): 160 tiles (12 sets of tiles 1-13 in four colors, and 4 joker tiles) and 6 racks for 5-6 players.\\n\\nKey Concepts and Definitions\\n\\nRack\\n\\n- A stand used by each player to hold their tiles. The rack keeps the tiles hidden from other players while allowing the player to organize them for strategic play.'), Document(metadata={}, page_content='Pool\\n\\n- The collection of all remaining tiles after each player has drawn their starting tiles. The pool is placed face down on the table, and players draw from it when they cannot make a valid play or choose to skip their turn.\\n\\nSets\\n\\nThere are two types of sets:\\n\\n- Group: A set of 3 or 4 tiles of the same number in different colors.\\n\\n- Run: A set of 3 or more consecutive numbers in the same color. The number 1 is the lowest and cannot follow 13.\\n\\nJoker\\n\\n- A tile that can represent any other tile in a set. Its number and color are that of the tile it replaces.\\n\\n- A joker can be retrieved from a set if the player replaces it with the appropriate tile(s) during their turn. Once retrieved, the joker must be reused immediately.'), Document(metadata={}, page_content='Strategy Tips\\n\\n- Hold Back Tiles: Save some tiles to increase flexibility later in the game.\\n\\n- Smart Joker Use: Retain jokers for strategic opportunities, but avoid being caught with them.\\n\\n- Maximize Manipulation: Rearrange tiles on the table to reduce your rack as much as possible.\\n\\nInitial Meld: Plan your first meld carefully to avoid getting stuck.\\n\\nAdditional Features and Variants\\n\\nDigital Enhancements\\n\\n- Rummikub offers a free app with tutorials and a score timer for convenience.\\n\\nVariants\\n\\n1. Higher Initial Meld Value: Some versions require 50 points for the first meld, increasing the challenge.\\n\\n2. Restricted Manipulation: Certain variants allow manipulation only after the turn following the initial meld.\\n\\n3. Adjusted Scoring: Jokers may count as 25 points instead of 30 in some versions.')], 'filtered_docs': [Document(metadata={}, page_content='Rummikub Rules: Comprehensive Guide to Gameplay and Strategies\\n\\nObjective of the Game\\n\\nTo be the first player to play all the tiles from your rack by forming valid sets (runs and/or groups) on the table.\\n\\nGame Components\\n\\n106 Tiles: Numbers 1-13 in four colors (two of each) and 2 jokers.\\n\\n- 4 Tile Racks.\\n\\n- Extended Version (Rummikub XP): 160 tiles (12 sets of tiles 1-13 in four colors, and 4 joker tiles) and 6 racks for 5-6 players.\\n\\nKey Concepts and Definitions\\n\\nRack\\n\\n- A stand used by each player to hold their tiles. The rack keeps the tiles hidden from other players while allowing the player to organize them for strategic play.'), Document(metadata={}, page_content='Pool\\n\\n- The collection of all remaining tiles after each player has drawn their starting tiles. The pool is placed face down on the table, and players draw from it when they cannot make a valid play or choose to skip their turn.\\n\\nSets\\n\\nThere are two types of sets:\\n\\n- Group: A set of 3 or 4 tiles of the same number in different colors.\\n\\n- Run: A set of 3 or more consecutive numbers in the same color. The number 1 is the lowest and cannot follow 13.\\n\\nJoker\\n\\n- A tile that can represent any other tile in a set. Its number and color are that of the tile it replaces.\\n\\n- A joker can be retrieved from a set if the player replaces it with the appropriate tile(s) during their turn. Once retrieved, the joker must be reused immediately.'), Document(metadata={}, page_content='Strategy Tips\\n\\n- Hold Back Tiles: Save some tiles to increase flexibility later in the game.\\n\\n- Smart Joker Use: Retain jokers for strategic opportunities, but avoid being caught with them.\\n\\n- Maximize Manipulation: Rearrange tiles on the table to reduce your rack as much as possible.\\n\\nInitial Meld: Plan your first meld carefully to avoid getting stuck.\\n\\nAdditional Features and Variants\\n\\nDigital Enhancements\\n\\n- Rummikub offers a free app with tutorials and a score timer for convenience.\\n\\nVariants\\n\\n1. Higher Initial Meld Value: Some versions require 50 points for the first meld, increasing the challenge.\\n\\n2. Restricted Manipulation: Certain variants allow manipulation only after the turn following the initial meld.\\n\\n3. Adjusted Scoring: Jokers may count as 25 points instead of 30 in some versions.')], 'grades': [], 'route': 'vectorstore'}\n"
     ]
    },
    {
     "name": "stderr",
     "output_type": "stream",
     "text": [
      "INFO:httpx:HTTP Request: POST http://127.0.0.1:11434/api/chat \"HTTP/1.1 200 OK\"\n"
     ]
    },
    {
     "name": "stdout",
     "output_type": "stream",
     "text": [
      "---DECISION: GENERATION ADDRESSES QUESTION---\n"
     ]
    },
    {
     "name": "stderr",
     "output_type": "stream",
     "text": [
      "INFO:httpx:HTTP Request: POST http://127.0.0.1:11434/api/chat \"HTTP/1.1 200 OK\"\n",
      "INFO:__main__:---DECISION: GENERATION GROUNDED IN DOCUMENT---\n",
      "INFO:__main__:---CHECK GRADINGS---\n",
      "INFO:__main__:---DECISION: GENERATION ADDRESSES QUESTION---\n",
      "INFO:__main__:---RESET STATE---\n"
     ]
    },
    {
     "name": "stdout",
     "output_type": "stream",
     "text": [
      "{'messages': [HumanMessage(content='What is the purpose of the joker tile in Rummikub?', additional_kwargs={}, response_metadata={}, id='743e87de-8c66-427f-b92e-f0e192a90c96'), AIMessage(content='The joker tile in Rummikub can represent any other tile in a set, and its number and color are that of the tile it replaces. It can be retrieved from a set if the player replaces it with the appropriate tile(s) during their turn.', additional_kwargs={}, response_metadata={}, id='a3251d84-a573-426a-82e5-581513e8df86')], 'improved_query': 'What is the purpose of the joker tile in Rummikub?', 'question': 'What is the purpose of the joker tile in Rummikub?', 'web_search': 'No', 'loop_generate': 1, 'documents': [Document(metadata={}, page_content='Rummikub Rules: Comprehensive Guide to Gameplay and Strategies\\n\\nObjective of the Game\\n\\nTo be the first player to play all the tiles from your rack by forming valid sets (runs and/or groups) on the table.\\n\\nGame Components\\n\\n106 Tiles: Numbers 1-13 in four colors (two of each) and 2 jokers.\\n\\n- 4 Tile Racks.\\n\\n- Extended Version (Rummikub XP): 160 tiles (12 sets of tiles 1-13 in four colors, and 4 joker tiles) and 6 racks for 5-6 players.\\n\\nKey Concepts and Definitions\\n\\nRack\\n\\n- A stand used by each player to hold their tiles. The rack keeps the tiles hidden from other players while allowing the player to organize them for strategic play.'), Document(metadata={}, page_content='Pool\\n\\n- The collection of all remaining tiles after each player has drawn their starting tiles. The pool is placed face down on the table, and players draw from it when they cannot make a valid play or choose to skip their turn.\\n\\nSets\\n\\nThere are two types of sets:\\n\\n- Group: A set of 3 or 4 tiles of the same number in different colors.\\n\\n- Run: A set of 3 or more consecutive numbers in the same color. The number 1 is the lowest and cannot follow 13.\\n\\nJoker\\n\\n- A tile that can represent any other tile in a set. Its number and color are that of the tile it replaces.\\n\\n- A joker can be retrieved from a set if the player replaces it with the appropriate tile(s) during their turn. Once retrieved, the joker must be reused immediately.'), Document(metadata={}, page_content='Strategy Tips\\n\\n- Hold Back Tiles: Save some tiles to increase flexibility later in the game.\\n\\n- Smart Joker Use: Retain jokers for strategic opportunities, but avoid being caught with them.\\n\\n- Maximize Manipulation: Rearrange tiles on the table to reduce your rack as much as possible.\\n\\nInitial Meld: Plan your first meld carefully to avoid getting stuck.\\n\\nAdditional Features and Variants\\n\\nDigital Enhancements\\n\\n- Rummikub offers a free app with tutorials and a score timer for convenience.\\n\\nVariants\\n\\n1. Higher Initial Meld Value: Some versions require 50 points for the first meld, increasing the challenge.\\n\\n2. Restricted Manipulation: Certain variants allow manipulation only after the turn following the initial meld.\\n\\n3. Adjusted Scoring: Jokers may count as 25 points instead of 30 in some versions.')], 'filtered_docs': [Document(metadata={}, page_content='Rummikub Rules: Comprehensive Guide to Gameplay and Strategies\\n\\nObjective of the Game\\n\\nTo be the first player to play all the tiles from your rack by forming valid sets (runs and/or groups) on the table.\\n\\nGame Components\\n\\n106 Tiles: Numbers 1-13 in four colors (two of each) and 2 jokers.\\n\\n- 4 Tile Racks.\\n\\n- Extended Version (Rummikub XP): 160 tiles (12 sets of tiles 1-13 in four colors, and 4 joker tiles) and 6 racks for 5-6 players.\\n\\nKey Concepts and Definitions\\n\\nRack\\n\\n- A stand used by each player to hold their tiles. The rack keeps the tiles hidden from other players while allowing the player to organize them for strategic play.'), Document(metadata={}, page_content='Pool\\n\\n- The collection of all remaining tiles after each player has drawn their starting tiles. The pool is placed face down on the table, and players draw from it when they cannot make a valid play or choose to skip their turn.\\n\\nSets\\n\\nThere are two types of sets:\\n\\n- Group: A set of 3 or 4 tiles of the same number in different colors.\\n\\n- Run: A set of 3 or more consecutive numbers in the same color. The number 1 is the lowest and cannot follow 13.\\n\\nJoker\\n\\n- A tile that can represent any other tile in a set. Its number and color are that of the tile it replaces.\\n\\n- A joker can be retrieved from a set if the player replaces it with the appropriate tile(s) during their turn. Once retrieved, the joker must be reused immediately.'), Document(metadata={}, page_content='Strategy Tips\\n\\n- Hold Back Tiles: Save some tiles to increase flexibility later in the game.\\n\\n- Smart Joker Use: Retain jokers for strategic opportunities, but avoid being caught with them.\\n\\n- Maximize Manipulation: Rearrange tiles on the table to reduce your rack as much as possible.\\n\\nInitial Meld: Plan your first meld carefully to avoid getting stuck.\\n\\nAdditional Features and Variants\\n\\nDigital Enhancements\\n\\n- Rummikub offers a free app with tutorials and a score timer for convenience.\\n\\nVariants\\n\\n1. Higher Initial Meld Value: Some versions require 50 points for the first meld, increasing the challenge.\\n\\n2. Restricted Manipulation: Certain variants allow manipulation only after the turn following the initial meld.\\n\\n3. Adjusted Scoring: Jokers may count as 25 points instead of 30 in some versions.')], 'grades': [], 'hallucination_grade': False, 'answer_grade': False, 'route': 'vectorstore'}\n",
      "{'messages': [HumanMessage(content='What is the purpose of the joker tile in Rummikub?', additional_kwargs={}, response_metadata={}, id='743e87de-8c66-427f-b92e-f0e192a90c96'), AIMessage(content='The joker tile in Rummikub can represent any other tile in a set, and its number and color are that of the tile it replaces. It can be retrieved from a set if the player replaces it with the appropriate tile(s) during their turn.', additional_kwargs={}, response_metadata={}, id='a3251d84-a573-426a-82e5-581513e8df86')], 'improved_query': 'What is the purpose of the joker tile in Rummikub?', 'question': 'What is the purpose of the joker tile in Rummikub?', 'web_search': 'No', 'loop_generate': 1, 'documents': [Document(metadata={}, page_content='Rummikub Rules: Comprehensive Guide to Gameplay and Strategies\\n\\nObjective of the Game\\n\\nTo be the first player to play all the tiles from your rack by forming valid sets (runs and/or groups) on the table.\\n\\nGame Components\\n\\n106 Tiles: Numbers 1-13 in four colors (two of each) and 2 jokers.\\n\\n- 4 Tile Racks.\\n\\n- Extended Version (Rummikub XP): 160 tiles (12 sets of tiles 1-13 in four colors, and 4 joker tiles) and 6 racks for 5-6 players.\\n\\nKey Concepts and Definitions\\n\\nRack\\n\\n- A stand used by each player to hold their tiles. The rack keeps the tiles hidden from other players while allowing the player to organize them for strategic play.'), Document(metadata={}, page_content='Pool\\n\\n- The collection of all remaining tiles after each player has drawn their starting tiles. The pool is placed face down on the table, and players draw from it when they cannot make a valid play or choose to skip their turn.\\n\\nSets\\n\\nThere are two types of sets:\\n\\n- Group: A set of 3 or 4 tiles of the same number in different colors.\\n\\n- Run: A set of 3 or more consecutive numbers in the same color. The number 1 is the lowest and cannot follow 13.\\n\\nJoker\\n\\n- A tile that can represent any other tile in a set. Its number and color are that of the tile it replaces.\\n\\n- A joker can be retrieved from a set if the player replaces it with the appropriate tile(s) during their turn. Once retrieved, the joker must be reused immediately.'), Document(metadata={}, page_content='Strategy Tips\\n\\n- Hold Back Tiles: Save some tiles to increase flexibility later in the game.\\n\\n- Smart Joker Use: Retain jokers for strategic opportunities, but avoid being caught with them.\\n\\n- Maximize Manipulation: Rearrange tiles on the table to reduce your rack as much as possible.\\n\\nInitial Meld: Plan your first meld carefully to avoid getting stuck.\\n\\nAdditional Features and Variants\\n\\nDigital Enhancements\\n\\n- Rummikub offers a free app with tutorials and a score timer for convenience.\\n\\nVariants\\n\\n1. Higher Initial Meld Value: Some versions require 50 points for the first meld, increasing the challenge.\\n\\n2. Restricted Manipulation: Certain variants allow manipulation only after the turn following the initial meld.\\n\\n3. Adjusted Scoring: Jokers may count as 25 points instead of 30 in some versions.')], 'filtered_docs': [Document(metadata={}, page_content='Rummikub Rules: Comprehensive Guide to Gameplay and Strategies\\n\\nObjective of the Game\\n\\nTo be the first player to play all the tiles from your rack by forming valid sets (runs and/or groups) on the table.\\n\\nGame Components\\n\\n106 Tiles: Numbers 1-13 in four colors (two of each) and 2 jokers.\\n\\n- 4 Tile Racks.\\n\\n- Extended Version (Rummikub XP): 160 tiles (12 sets of tiles 1-13 in four colors, and 4 joker tiles) and 6 racks for 5-6 players.\\n\\nKey Concepts and Definitions\\n\\nRack\\n\\n- A stand used by each player to hold their tiles. The rack keeps the tiles hidden from other players while allowing the player to organize them for strategic play.'), Document(metadata={}, page_content='Pool\\n\\n- The collection of all remaining tiles after each player has drawn their starting tiles. The pool is placed face down on the table, and players draw from it when they cannot make a valid play or choose to skip their turn.\\n\\nSets\\n\\nThere are two types of sets:\\n\\n- Group: A set of 3 or 4 tiles of the same number in different colors.\\n\\n- Run: A set of 3 or more consecutive numbers in the same color. The number 1 is the lowest and cannot follow 13.\\n\\nJoker\\n\\n- A tile that can represent any other tile in a set. Its number and color are that of the tile it replaces.\\n\\n- A joker can be retrieved from a set if the player replaces it with the appropriate tile(s) during their turn. Once retrieved, the joker must be reused immediately.'), Document(metadata={}, page_content='Strategy Tips\\n\\n- Hold Back Tiles: Save some tiles to increase flexibility later in the game.\\n\\n- Smart Joker Use: Retain jokers for strategic opportunities, but avoid being caught with them.\\n\\n- Maximize Manipulation: Rearrange tiles on the table to reduce your rack as much as possible.\\n\\nInitial Meld: Plan your first meld carefully to avoid getting stuck.\\n\\nAdditional Features and Variants\\n\\nDigital Enhancements\\n\\n- Rummikub offers a free app with tutorials and a score timer for convenience.\\n\\nVariants\\n\\n1. Higher Initial Meld Value: Some versions require 50 points for the first meld, increasing the challenge.\\n\\n2. Restricted Manipulation: Certain variants allow manipulation only after the turn following the initial meld.\\n\\n3. Adjusted Scoring: Jokers may count as 25 points instead of 30 in some versions.')], 'grades': [], 'hallucination_grade': False, 'answer_grade': False, 'decision': 'useful', 'route': 'vectorstore'}\n",
      "{'messages': [HumanMessage(content='What is the purpose of the joker tile in Rummikub?', additional_kwargs={}, response_metadata={}, id='743e87de-8c66-427f-b92e-f0e192a90c96'), AIMessage(content='The joker tile in Rummikub can represent any other tile in a set, and its number and color are that of the tile it replaces. It can be retrieved from a set if the player replaces it with the appropriate tile(s) during their turn.', additional_kwargs={}, response_metadata={}, id='a3251d84-a573-426a-82e5-581513e8df86')], 'improved_query': '', 'question': '', 'web_search': '', 'loop_generate': 0, 'loop_web_search': 0, 'documents': [], 'filtered_docs': [], 'grades': [], 'hallucination_grade': False, 'answer_grade': False, 'decision': '', 'web_search_query': '', 'route': 'vectorstore'}\n"
     ]
    }
   ],
   "execution_count": 387
  },
  {
   "metadata": {
    "ExecuteTime": {
     "end_time": "2025-01-03T23:33:09.427001Z",
     "start_time": "2025-01-03T23:28:10.539298Z"
    }
   },
   "cell_type": "code",
   "source": [
    "config = {\"configurable\": {\"thread_id\": \"1\"}}\n",
    "\n",
    "inputs = {\n",
    "    \"messages\": [\"And how would I use it strategically?\"],\n",
    "    \"max_retries\": 3,\n",
    "}\n",
    "for event in graph.stream(inputs, stream_mode=\"values\", config=config):\n",
    "    print(event)"
   ],
   "id": "cf025210199e182c",
   "outputs": [
    {
     "name": "stderr",
     "output_type": "stream",
     "text": [
      "INFO:__main__:---ROUTE QUESTION---\n"
     ]
    },
    {
     "name": "stdout",
     "output_type": "stream",
     "text": [
      "{'messages': [HumanMessage(content='What is the purpose of the joker tile in Rummikub?', additional_kwargs={}, response_metadata={}, id='743e87de-8c66-427f-b92e-f0e192a90c96'), AIMessage(content='The joker tile in Rummikub can represent any other tile in a set, and its number and color are that of the tile it replaces. It can be retrieved from a set if the player replaces it with the appropriate tile(s) during their turn.', additional_kwargs={}, response_metadata={}, id='a3251d84-a573-426a-82e5-581513e8df86'), HumanMessage(content='And how would I use it strategically?', additional_kwargs={}, response_metadata={}, id='eff5dad0-a9cb-41e5-a62e-4caec6e95d35')], 'improved_query': '', 'question': '', 'web_search': '', 'loop_generate': 0, 'loop_web_search': 0, 'documents': [], 'filtered_docs': [], 'grades': [], 'hallucination_grade': False, 'answer_grade': False, 'decision': '', 'web_search_query': '', 'route': 'vectorstore'}\n"
     ]
    },
    {
     "name": "stderr",
     "output_type": "stream",
     "text": [
      "INFO:httpx:HTTP Request: POST http://127.0.0.1:11434/api/chat \"HTTP/1.1 200 OK\"\n",
      "INFO:__main__:---IMPROVE QUERY---\n"
     ]
    },
    {
     "name": "stdout",
     "output_type": "stream",
     "text": [
      "{'messages': [HumanMessage(content='What is the purpose of the joker tile in Rummikub?', additional_kwargs={}, response_metadata={}, id='743e87de-8c66-427f-b92e-f0e192a90c96'), AIMessage(content='The joker tile in Rummikub can represent any other tile in a set, and its number and color are that of the tile it replaces. It can be retrieved from a set if the player replaces it with the appropriate tile(s) during their turn.', additional_kwargs={}, response_metadata={}, id='a3251d84-a573-426a-82e5-581513e8df86'), HumanMessage(content='And how would I use it strategically?', additional_kwargs={}, response_metadata={}, id='eff5dad0-a9cb-41e5-a62e-4caec6e95d35')], 'improved_query': '', 'question': 'And how would I use it strategically?', 'web_search': '', 'loop_generate': 0, 'loop_web_search': 0, 'documents': [], 'filtered_docs': [], 'grades': [], 'hallucination_grade': False, 'answer_grade': False, 'decision': '', 'web_search_query': '', 'route': 'vectorstore'}\n"
     ]
    },
    {
     "name": "stderr",
     "output_type": "stream",
     "text": [
      "INFO:httpx:HTTP Request: POST http://127.0.0.1:11434/api/chat \"HTTP/1.1 200 OK\"\n",
      "INFO:__main__:---PROCEED TO VECTORSTORE---\n",
      "INFO:__main__:---RETRIEVE---\n"
     ]
    },
    {
     "name": "stdout",
     "output_type": "stream",
     "text": [
      "{'messages': [HumanMessage(content='What is the purpose of the joker tile in Rummikub?', additional_kwargs={}, response_metadata={}, id='743e87de-8c66-427f-b92e-f0e192a90c96'), AIMessage(content='The joker tile in Rummikub can represent any other tile in a set, and its number and color are that of the tile it replaces. It can be retrieved from a set if the player replaces it with the appropriate tile(s) during their turn.', additional_kwargs={}, response_metadata={}, id='a3251d84-a573-426a-82e5-581513e8df86'), HumanMessage(content='And how would I use it strategically?', additional_kwargs={}, response_metadata={}, id='eff5dad0-a9cb-41e5-a62e-4caec6e95d35')], 'improved_query': 'How would you use the joker tile in Rummikub strategically?', 'question': 'And how would I use it strategically?', 'web_search': '', 'loop_generate': 0, 'loop_web_search': 0, 'documents': [], 'filtered_docs': [], 'grades': [], 'hallucination_grade': False, 'answer_grade': False, 'decision': '', 'web_search_query': '', 'route': 'vectorstore'}\n"
     ]
    },
    {
     "name": "stderr",
     "output_type": "stream",
     "text": [
      "INFO:httpx:HTTP Request: POST http://localhost:11434/api/embed \"HTTP/1.1 200 OK\"\n",
      "INFO:httpx:HTTP Request: POST http://localhost:5000/api/v2/tenants/default_tenant/databases/default_database/collections/3d1a31a4-275f-43c1-bc00-4ab3f1aad184/query \"HTTP/1.1 200 OK\"\n"
     ]
    },
    {
     "name": "stdout",
     "output_type": "stream",
     "text": [
      "{'messages': [HumanMessage(content='What is the purpose of the joker tile in Rummikub?', additional_kwargs={}, response_metadata={}, id='743e87de-8c66-427f-b92e-f0e192a90c96'), AIMessage(content='The joker tile in Rummikub can represent any other tile in a set, and its number and color are that of the tile it replaces. It can be retrieved from a set if the player replaces it with the appropriate tile(s) during their turn.', additional_kwargs={}, response_metadata={}, id='a3251d84-a573-426a-82e5-581513e8df86'), HumanMessage(content='And how would I use it strategically?', additional_kwargs={}, response_metadata={}, id='eff5dad0-a9cb-41e5-a62e-4caec6e95d35')], 'improved_query': 'How would you use the joker tile in Rummikub strategically?', 'question': 'And how would I use it strategically?', 'web_search': '', 'loop_generate': 0, 'loop_web_search': 0, 'documents': [Document(metadata={}, page_content='Strategy Tips\\n\\n- Hold Back Tiles: Save some tiles to increase flexibility later in the game.\\n\\n- Smart Joker Use: Retain jokers for strategic opportunities, but avoid being caught with them.\\n\\n- Maximize Manipulation: Rearrange tiles on the table to reduce your rack as much as possible.\\n\\nInitial Meld: Plan your first meld carefully to avoid getting stuck.\\n\\nAdditional Features and Variants\\n\\nDigital Enhancements\\n\\n- Rummikub offers a free app with tutorials and a score timer for convenience.\\n\\nVariants\\n\\n1. Higher Initial Meld Value: Some versions require 50 points for the first meld, increasing the challenge.\\n\\n2. Restricted Manipulation: Certain variants allow manipulation only after the turn following the initial meld.\\n\\n3. Adjusted Scoring: Jokers may count as 25 points instead of 30 in some versions.'), Document(metadata={}, page_content='Rummikub Rules: Comprehensive Guide to Gameplay and Strategies\\n\\nObjective of the Game\\n\\nTo be the first player to play all the tiles from your rack by forming valid sets (runs and/or groups) on the table.\\n\\nGame Components\\n\\n106 Tiles: Numbers 1-13 in four colors (two of each) and 2 jokers.\\n\\n- 4 Tile Racks.\\n\\n- Extended Version (Rummikub XP): 160 tiles (12 sets of tiles 1-13 in four colors, and 4 joker tiles) and 6 racks for 5-6 players.\\n\\nKey Concepts and Definitions\\n\\nRack\\n\\n- A stand used by each player to hold their tiles. The rack keeps the tiles hidden from other players while allowing the player to organize them for strategic play.'), Document(metadata={}, page_content='Quick Start Guide\\n\\n1. Shuffle the tiles and place them face down on the table.\\n\\n2. Each player draws 14 tiles and arranges them on their rack.\\n\\n3. The remaining tiles form the pool.\\n\\n4. The player with the highest drawn tile goes first.\\n\\n5. Players must create an initial meld totaling at least 30 points using only tiles from their rack.\\n\\n6. Continue taking turns until a player empties their rack and declares \"Rummikub!\"\\n\\nGame Play\\n\\nStarting the Game\\n\\n- Each tile is worth its face value.\\n\\n- Players must make an initial meld worth at least 30 points using only the tiles from their rack. Jokers count as the value of the tile they represent.\\n\\n- Players who cannot make the initial meld must draw a tile from the pool and end their turn.')], 'filtered_docs': [], 'grades': [], 'hallucination_grade': False, 'answer_grade': False, 'decision': '', 'web_search_query': '', 'route': 'vectorstore'}\n"
     ]
    },
    {
     "name": "stderr",
     "output_type": "stream",
     "text": [
      "INFO:httpx:HTTP Request: POST http://127.0.0.1:11434/api/chat \"HTTP/1.1 200 OK\"\n",
      "INFO:__main__:---GRADE: DOCUMENT RELEVANT---\n",
      "INFO:httpx:HTTP Request: POST http://127.0.0.1:11434/api/chat \"HTTP/1.1 200 OK\"\n",
      "INFO:__main__:---GRADE: DOCUMENT RELEVANT---\n",
      "INFO:httpx:HTTP Request: POST http://127.0.0.1:11434/api/chat \"HTTP/1.1 200 OK\"\n",
      "INFO:__main__:---GRADE: DOCUMENT RELEVANT---\n",
      "INFO:__main__:---CHECK IF WEB SEARCH IS NECESSARY---\n",
      "INFO:__main__:---RELEVANT DOCUMENTS FOUND---\n",
      "INFO:__main__:---ASSESS GRADED DOCUMENTS---\n",
      "INFO:__main__:---DECISION: GENERATE---\n",
      "INFO:__main__:---GENERATE---\n"
     ]
    },
    {
     "name": "stdout",
     "output_type": "stream",
     "text": [
      "{'messages': [HumanMessage(content='What is the purpose of the joker tile in Rummikub?', additional_kwargs={}, response_metadata={}, id='743e87de-8c66-427f-b92e-f0e192a90c96'), AIMessage(content='The joker tile in Rummikub can represent any other tile in a set, and its number and color are that of the tile it replaces. It can be retrieved from a set if the player replaces it with the appropriate tile(s) during their turn.', additional_kwargs={}, response_metadata={}, id='a3251d84-a573-426a-82e5-581513e8df86'), HumanMessage(content='And how would I use it strategically?', additional_kwargs={}, response_metadata={}, id='eff5dad0-a9cb-41e5-a62e-4caec6e95d35')], 'improved_query': 'How would you use the joker tile in Rummikub strategically?', 'question': 'And how would I use it strategically?', 'web_search': '', 'loop_generate': 0, 'loop_web_search': 0, 'documents': [Document(metadata={}, page_content='Strategy Tips\\n\\n- Hold Back Tiles: Save some tiles to increase flexibility later in the game.\\n\\n- Smart Joker Use: Retain jokers for strategic opportunities, but avoid being caught with them.\\n\\n- Maximize Manipulation: Rearrange tiles on the table to reduce your rack as much as possible.\\n\\nInitial Meld: Plan your first meld carefully to avoid getting stuck.\\n\\nAdditional Features and Variants\\n\\nDigital Enhancements\\n\\n- Rummikub offers a free app with tutorials and a score timer for convenience.\\n\\nVariants\\n\\n1. Higher Initial Meld Value: Some versions require 50 points for the first meld, increasing the challenge.\\n\\n2. Restricted Manipulation: Certain variants allow manipulation only after the turn following the initial meld.\\n\\n3. Adjusted Scoring: Jokers may count as 25 points instead of 30 in some versions.'), Document(metadata={}, page_content='Rummikub Rules: Comprehensive Guide to Gameplay and Strategies\\n\\nObjective of the Game\\n\\nTo be the first player to play all the tiles from your rack by forming valid sets (runs and/or groups) on the table.\\n\\nGame Components\\n\\n106 Tiles: Numbers 1-13 in four colors (two of each) and 2 jokers.\\n\\n- 4 Tile Racks.\\n\\n- Extended Version (Rummikub XP): 160 tiles (12 sets of tiles 1-13 in four colors, and 4 joker tiles) and 6 racks for 5-6 players.\\n\\nKey Concepts and Definitions\\n\\nRack\\n\\n- A stand used by each player to hold their tiles. The rack keeps the tiles hidden from other players while allowing the player to organize them for strategic play.'), Document(metadata={}, page_content='Quick Start Guide\\n\\n1. Shuffle the tiles and place them face down on the table.\\n\\n2. Each player draws 14 tiles and arranges them on their rack.\\n\\n3. The remaining tiles form the pool.\\n\\n4. The player with the highest drawn tile goes first.\\n\\n5. Players must create an initial meld totaling at least 30 points using only tiles from their rack.\\n\\n6. Continue taking turns until a player empties their rack and declares \"Rummikub!\"\\n\\nGame Play\\n\\nStarting the Game\\n\\n- Each tile is worth its face value.\\n\\n- Players must make an initial meld worth at least 30 points using only the tiles from their rack. Jokers count as the value of the tile they represent.\\n\\n- Players who cannot make the initial meld must draw a tile from the pool and end their turn.')], 'filtered_docs': [Document(metadata={}, page_content='Strategy Tips\\n\\n- Hold Back Tiles: Save some tiles to increase flexibility later in the game.\\n\\n- Smart Joker Use: Retain jokers for strategic opportunities, but avoid being caught with them.\\n\\n- Maximize Manipulation: Rearrange tiles on the table to reduce your rack as much as possible.\\n\\nInitial Meld: Plan your first meld carefully to avoid getting stuck.\\n\\nAdditional Features and Variants\\n\\nDigital Enhancements\\n\\n- Rummikub offers a free app with tutorials and a score timer for convenience.\\n\\nVariants\\n\\n1. Higher Initial Meld Value: Some versions require 50 points for the first meld, increasing the challenge.\\n\\n2. Restricted Manipulation: Certain variants allow manipulation only after the turn following the initial meld.\\n\\n3. Adjusted Scoring: Jokers may count as 25 points instead of 30 in some versions.'), Document(metadata={}, page_content='Rummikub Rules: Comprehensive Guide to Gameplay and Strategies\\n\\nObjective of the Game\\n\\nTo be the first player to play all the tiles from your rack by forming valid sets (runs and/or groups) on the table.\\n\\nGame Components\\n\\n106 Tiles: Numbers 1-13 in four colors (two of each) and 2 jokers.\\n\\n- 4 Tile Racks.\\n\\n- Extended Version (Rummikub XP): 160 tiles (12 sets of tiles 1-13 in four colors, and 4 joker tiles) and 6 racks for 5-6 players.\\n\\nKey Concepts and Definitions\\n\\nRack\\n\\n- A stand used by each player to hold their tiles. The rack keeps the tiles hidden from other players while allowing the player to organize them for strategic play.'), Document(metadata={}, page_content='Quick Start Guide\\n\\n1. Shuffle the tiles and place them face down on the table.\\n\\n2. Each player draws 14 tiles and arranges them on their rack.\\n\\n3. The remaining tiles form the pool.\\n\\n4. The player with the highest drawn tile goes first.\\n\\n5. Players must create an initial meld totaling at least 30 points using only tiles from their rack.\\n\\n6. Continue taking turns until a player empties their rack and declares \"Rummikub!\"\\n\\nGame Play\\n\\nStarting the Game\\n\\n- Each tile is worth its face value.\\n\\n- Players must make an initial meld worth at least 30 points using only the tiles from their rack. Jokers count as the value of the tile they represent.\\n\\n- Players who cannot make the initial meld must draw a tile from the pool and end their turn.')], 'grades': ['yes', 'yes', 'yes'], 'hallucination_grade': False, 'answer_grade': False, 'decision': '', 'web_search_query': '', 'route': 'vectorstore'}\n",
      "{'messages': [HumanMessage(content='What is the purpose of the joker tile in Rummikub?', additional_kwargs={}, response_metadata={}, id='743e87de-8c66-427f-b92e-f0e192a90c96'), AIMessage(content='The joker tile in Rummikub can represent any other tile in a set, and its number and color are that of the tile it replaces. It can be retrieved from a set if the player replaces it with the appropriate tile(s) during their turn.', additional_kwargs={}, response_metadata={}, id='a3251d84-a573-426a-82e5-581513e8df86'), HumanMessage(content='And how would I use it strategically?', additional_kwargs={}, response_metadata={}, id='eff5dad0-a9cb-41e5-a62e-4caec6e95d35')], 'improved_query': 'How would you use the joker tile in Rummikub strategically?', 'question': 'And how would I use it strategically?', 'web_search': 'No', 'loop_generate': 0, 'loop_web_search': 0, 'documents': [Document(metadata={}, page_content='Strategy Tips\\n\\n- Hold Back Tiles: Save some tiles to increase flexibility later in the game.\\n\\n- Smart Joker Use: Retain jokers for strategic opportunities, but avoid being caught with them.\\n\\n- Maximize Manipulation: Rearrange tiles on the table to reduce your rack as much as possible.\\n\\nInitial Meld: Plan your first meld carefully to avoid getting stuck.\\n\\nAdditional Features and Variants\\n\\nDigital Enhancements\\n\\n- Rummikub offers a free app with tutorials and a score timer for convenience.\\n\\nVariants\\n\\n1. Higher Initial Meld Value: Some versions require 50 points for the first meld, increasing the challenge.\\n\\n2. Restricted Manipulation: Certain variants allow manipulation only after the turn following the initial meld.\\n\\n3. Adjusted Scoring: Jokers may count as 25 points instead of 30 in some versions.'), Document(metadata={}, page_content='Rummikub Rules: Comprehensive Guide to Gameplay and Strategies\\n\\nObjective of the Game\\n\\nTo be the first player to play all the tiles from your rack by forming valid sets (runs and/or groups) on the table.\\n\\nGame Components\\n\\n106 Tiles: Numbers 1-13 in four colors (two of each) and 2 jokers.\\n\\n- 4 Tile Racks.\\n\\n- Extended Version (Rummikub XP): 160 tiles (12 sets of tiles 1-13 in four colors, and 4 joker tiles) and 6 racks for 5-6 players.\\n\\nKey Concepts and Definitions\\n\\nRack\\n\\n- A stand used by each player to hold their tiles. The rack keeps the tiles hidden from other players while allowing the player to organize them for strategic play.'), Document(metadata={}, page_content='Quick Start Guide\\n\\n1. Shuffle the tiles and place them face down on the table.\\n\\n2. Each player draws 14 tiles and arranges them on their rack.\\n\\n3. The remaining tiles form the pool.\\n\\n4. The player with the highest drawn tile goes first.\\n\\n5. Players must create an initial meld totaling at least 30 points using only tiles from their rack.\\n\\n6. Continue taking turns until a player empties their rack and declares \"Rummikub!\"\\n\\nGame Play\\n\\nStarting the Game\\n\\n- Each tile is worth its face value.\\n\\n- Players must make an initial meld worth at least 30 points using only the tiles from their rack. Jokers count as the value of the tile they represent.\\n\\n- Players who cannot make the initial meld must draw a tile from the pool and end their turn.')], 'filtered_docs': [Document(metadata={}, page_content='Strategy Tips\\n\\n- Hold Back Tiles: Save some tiles to increase flexibility later in the game.\\n\\n- Smart Joker Use: Retain jokers for strategic opportunities, but avoid being caught with them.\\n\\n- Maximize Manipulation: Rearrange tiles on the table to reduce your rack as much as possible.\\n\\nInitial Meld: Plan your first meld carefully to avoid getting stuck.\\n\\nAdditional Features and Variants\\n\\nDigital Enhancements\\n\\n- Rummikub offers a free app with tutorials and a score timer for convenience.\\n\\nVariants\\n\\n1. Higher Initial Meld Value: Some versions require 50 points for the first meld, increasing the challenge.\\n\\n2. Restricted Manipulation: Certain variants allow manipulation only after the turn following the initial meld.\\n\\n3. Adjusted Scoring: Jokers may count as 25 points instead of 30 in some versions.'), Document(metadata={}, page_content='Rummikub Rules: Comprehensive Guide to Gameplay and Strategies\\n\\nObjective of the Game\\n\\nTo be the first player to play all the tiles from your rack by forming valid sets (runs and/or groups) on the table.\\n\\nGame Components\\n\\n106 Tiles: Numbers 1-13 in four colors (two of each) and 2 jokers.\\n\\n- 4 Tile Racks.\\n\\n- Extended Version (Rummikub XP): 160 tiles (12 sets of tiles 1-13 in four colors, and 4 joker tiles) and 6 racks for 5-6 players.\\n\\nKey Concepts and Definitions\\n\\nRack\\n\\n- A stand used by each player to hold their tiles. The rack keeps the tiles hidden from other players while allowing the player to organize them for strategic play.'), Document(metadata={}, page_content='Quick Start Guide\\n\\n1. Shuffle the tiles and place them face down on the table.\\n\\n2. Each player draws 14 tiles and arranges them on their rack.\\n\\n3. The remaining tiles form the pool.\\n\\n4. The player with the highest drawn tile goes first.\\n\\n5. Players must create an initial meld totaling at least 30 points using only tiles from their rack.\\n\\n6. Continue taking turns until a player empties their rack and declares \"Rummikub!\"\\n\\nGame Play\\n\\nStarting the Game\\n\\n- Each tile is worth its face value.\\n\\n- Players must make an initial meld worth at least 30 points using only the tiles from their rack. Jokers count as the value of the tile they represent.\\n\\n- Players who cannot make the initial meld must draw a tile from the pool and end their turn.')], 'grades': [], 'hallucination_grade': False, 'answer_grade': False, 'decision': '', 'web_search_query': '', 'route': 'vectorstore'}\n"
     ]
    },
    {
     "name": "stderr",
     "output_type": "stream",
     "text": [
      "INFO:httpx:HTTP Request: POST http://127.0.0.1:11434/api/chat \"HTTP/1.1 200 OK\"\n",
      "INFO:__main__:---GRADE HALLUCINATION---\n",
      "INFO:__main__:---GRADE GENERATION vs QUESTION---\n"
     ]
    },
    {
     "name": "stdout",
     "output_type": "stream",
     "text": [
      "{'messages': [HumanMessage(content='What is the purpose of the joker tile in Rummikub?', additional_kwargs={}, response_metadata={}, id='743e87de-8c66-427f-b92e-f0e192a90c96'), AIMessage(content='The joker tile in Rummikub can represent any other tile in a set, and its number and color are that of the tile it replaces. It can be retrieved from a set if the player replaces it with the appropriate tile(s) during their turn.', additional_kwargs={}, response_metadata={}, id='a3251d84-a573-426a-82e5-581513e8df86'), HumanMessage(content='And how would I use it strategically?', additional_kwargs={}, response_metadata={}, id='eff5dad0-a9cb-41e5-a62e-4caec6e95d35'), AIMessage(content='Use jokers strategically by retaining them for opportunities to form sets or runs, but avoid holding onto them when you can', additional_kwargs={}, response_metadata={}, id='7a73670b-c688-482e-ae80-9e70c53053b4')], 'improved_query': 'How would you use the joker tile in Rummikub strategically?', 'question': 'And how would I use it strategically?', 'web_search': 'No', 'loop_generate': 1, 'loop_web_search': 0, 'documents': [Document(metadata={}, page_content='Strategy Tips\\n\\n- Hold Back Tiles: Save some tiles to increase flexibility later in the game.\\n\\n- Smart Joker Use: Retain jokers for strategic opportunities, but avoid being caught with them.\\n\\n- Maximize Manipulation: Rearrange tiles on the table to reduce your rack as much as possible.\\n\\nInitial Meld: Plan your first meld carefully to avoid getting stuck.\\n\\nAdditional Features and Variants\\n\\nDigital Enhancements\\n\\n- Rummikub offers a free app with tutorials and a score timer for convenience.\\n\\nVariants\\n\\n1. Higher Initial Meld Value: Some versions require 50 points for the first meld, increasing the challenge.\\n\\n2. Restricted Manipulation: Certain variants allow manipulation only after the turn following the initial meld.\\n\\n3. Adjusted Scoring: Jokers may count as 25 points instead of 30 in some versions.'), Document(metadata={}, page_content='Rummikub Rules: Comprehensive Guide to Gameplay and Strategies\\n\\nObjective of the Game\\n\\nTo be the first player to play all the tiles from your rack by forming valid sets (runs and/or groups) on the table.\\n\\nGame Components\\n\\n106 Tiles: Numbers 1-13 in four colors (two of each) and 2 jokers.\\n\\n- 4 Tile Racks.\\n\\n- Extended Version (Rummikub XP): 160 tiles (12 sets of tiles 1-13 in four colors, and 4 joker tiles) and 6 racks for 5-6 players.\\n\\nKey Concepts and Definitions\\n\\nRack\\n\\n- A stand used by each player to hold their tiles. The rack keeps the tiles hidden from other players while allowing the player to organize them for strategic play.'), Document(metadata={}, page_content='Quick Start Guide\\n\\n1. Shuffle the tiles and place them face down on the table.\\n\\n2. Each player draws 14 tiles and arranges them on their rack.\\n\\n3. The remaining tiles form the pool.\\n\\n4. The player with the highest drawn tile goes first.\\n\\n5. Players must create an initial meld totaling at least 30 points using only tiles from their rack.\\n\\n6. Continue taking turns until a player empties their rack and declares \"Rummikub!\"\\n\\nGame Play\\n\\nStarting the Game\\n\\n- Each tile is worth its face value.\\n\\n- Players must make an initial meld worth at least 30 points using only the tiles from their rack. Jokers count as the value of the tile they represent.\\n\\n- Players who cannot make the initial meld must draw a tile from the pool and end their turn.')], 'filtered_docs': [Document(metadata={}, page_content='Strategy Tips\\n\\n- Hold Back Tiles: Save some tiles to increase flexibility later in the game.\\n\\n- Smart Joker Use: Retain jokers for strategic opportunities, but avoid being caught with them.\\n\\n- Maximize Manipulation: Rearrange tiles on the table to reduce your rack as much as possible.\\n\\nInitial Meld: Plan your first meld carefully to avoid getting stuck.\\n\\nAdditional Features and Variants\\n\\nDigital Enhancements\\n\\n- Rummikub offers a free app with tutorials and a score timer for convenience.\\n\\nVariants\\n\\n1. Higher Initial Meld Value: Some versions require 50 points for the first meld, increasing the challenge.\\n\\n2. Restricted Manipulation: Certain variants allow manipulation only after the turn following the initial meld.\\n\\n3. Adjusted Scoring: Jokers may count as 25 points instead of 30 in some versions.'), Document(metadata={}, page_content='Rummikub Rules: Comprehensive Guide to Gameplay and Strategies\\n\\nObjective of the Game\\n\\nTo be the first player to play all the tiles from your rack by forming valid sets (runs and/or groups) on the table.\\n\\nGame Components\\n\\n106 Tiles: Numbers 1-13 in four colors (two of each) and 2 jokers.\\n\\n- 4 Tile Racks.\\n\\n- Extended Version (Rummikub XP): 160 tiles (12 sets of tiles 1-13 in four colors, and 4 joker tiles) and 6 racks for 5-6 players.\\n\\nKey Concepts and Definitions\\n\\nRack\\n\\n- A stand used by each player to hold their tiles. The rack keeps the tiles hidden from other players while allowing the player to organize them for strategic play.'), Document(metadata={}, page_content='Quick Start Guide\\n\\n1. Shuffle the tiles and place them face down on the table.\\n\\n2. Each player draws 14 tiles and arranges them on their rack.\\n\\n3. The remaining tiles form the pool.\\n\\n4. The player with the highest drawn tile goes first.\\n\\n5. Players must create an initial meld totaling at least 30 points using only tiles from their rack.\\n\\n6. Continue taking turns until a player empties their rack and declares \"Rummikub!\"\\n\\nGame Play\\n\\nStarting the Game\\n\\n- Each tile is worth its face value.\\n\\n- Players must make an initial meld worth at least 30 points using only the tiles from their rack. Jokers count as the value of the tile they represent.\\n\\n- Players who cannot make the initial meld must draw a tile from the pool and end their turn.')], 'grades': [], 'hallucination_grade': False, 'answer_grade': False, 'decision': '', 'web_search_query': '', 'route': 'vectorstore'}\n"
     ]
    },
    {
     "name": "stderr",
     "output_type": "stream",
     "text": [
      "INFO:httpx:HTTP Request: POST http://127.0.0.1:11434/api/chat \"HTTP/1.1 200 OK\"\n"
     ]
    },
    {
     "name": "stdout",
     "output_type": "stream",
     "text": [
      "---DECISION: GENERATION ADDRESSES QUESTION---\n"
     ]
    },
    {
     "name": "stderr",
     "output_type": "stream",
     "text": [
      "INFO:httpx:HTTP Request: POST http://127.0.0.1:11434/api/chat \"HTTP/1.1 200 OK\"\n",
      "INFO:__main__:---DECISION: GENERATION GROUNDED IN DOCUMENT---\n",
      "INFO:__main__:---CHECK GRADINGS---\n",
      "INFO:__main__:---DECISION: GENERATION ADDRESSES QUESTION---\n",
      "INFO:__main__:---RESET STATE---\n"
     ]
    },
    {
     "name": "stdout",
     "output_type": "stream",
     "text": [
      "{'messages': [HumanMessage(content='What is the purpose of the joker tile in Rummikub?', additional_kwargs={}, response_metadata={}, id='743e87de-8c66-427f-b92e-f0e192a90c96'), AIMessage(content='The joker tile in Rummikub can represent any other tile in a set, and its number and color are that of the tile it replaces. It can be retrieved from a set if the player replaces it with the appropriate tile(s) during their turn.', additional_kwargs={}, response_metadata={}, id='a3251d84-a573-426a-82e5-581513e8df86'), HumanMessage(content='And how would I use it strategically?', additional_kwargs={}, response_metadata={}, id='eff5dad0-a9cb-41e5-a62e-4caec6e95d35'), AIMessage(content='Use jokers strategically by retaining them for opportunities to form sets or runs, but avoid holding onto them when you can', additional_kwargs={}, response_metadata={}, id='7a73670b-c688-482e-ae80-9e70c53053b4')], 'improved_query': 'How would you use the joker tile in Rummikub strategically?', 'question': 'And how would I use it strategically?', 'web_search': 'No', 'loop_generate': 1, 'loop_web_search': 0, 'documents': [Document(metadata={}, page_content='Strategy Tips\\n\\n- Hold Back Tiles: Save some tiles to increase flexibility later in the game.\\n\\n- Smart Joker Use: Retain jokers for strategic opportunities, but avoid being caught with them.\\n\\n- Maximize Manipulation: Rearrange tiles on the table to reduce your rack as much as possible.\\n\\nInitial Meld: Plan your first meld carefully to avoid getting stuck.\\n\\nAdditional Features and Variants\\n\\nDigital Enhancements\\n\\n- Rummikub offers a free app with tutorials and a score timer for convenience.\\n\\nVariants\\n\\n1. Higher Initial Meld Value: Some versions require 50 points for the first meld, increasing the challenge.\\n\\n2. Restricted Manipulation: Certain variants allow manipulation only after the turn following the initial meld.\\n\\n3. Adjusted Scoring: Jokers may count as 25 points instead of 30 in some versions.'), Document(metadata={}, page_content='Rummikub Rules: Comprehensive Guide to Gameplay and Strategies\\n\\nObjective of the Game\\n\\nTo be the first player to play all the tiles from your rack by forming valid sets (runs and/or groups) on the table.\\n\\nGame Components\\n\\n106 Tiles: Numbers 1-13 in four colors (two of each) and 2 jokers.\\n\\n- 4 Tile Racks.\\n\\n- Extended Version (Rummikub XP): 160 tiles (12 sets of tiles 1-13 in four colors, and 4 joker tiles) and 6 racks for 5-6 players.\\n\\nKey Concepts and Definitions\\n\\nRack\\n\\n- A stand used by each player to hold their tiles. The rack keeps the tiles hidden from other players while allowing the player to organize them for strategic play.'), Document(metadata={}, page_content='Quick Start Guide\\n\\n1. Shuffle the tiles and place them face down on the table.\\n\\n2. Each player draws 14 tiles and arranges them on their rack.\\n\\n3. The remaining tiles form the pool.\\n\\n4. The player with the highest drawn tile goes first.\\n\\n5. Players must create an initial meld totaling at least 30 points using only tiles from their rack.\\n\\n6. Continue taking turns until a player empties their rack and declares \"Rummikub!\"\\n\\nGame Play\\n\\nStarting the Game\\n\\n- Each tile is worth its face value.\\n\\n- Players must make an initial meld worth at least 30 points using only the tiles from their rack. Jokers count as the value of the tile they represent.\\n\\n- Players who cannot make the initial meld must draw a tile from the pool and end their turn.')], 'filtered_docs': [Document(metadata={}, page_content='Strategy Tips\\n\\n- Hold Back Tiles: Save some tiles to increase flexibility later in the game.\\n\\n- Smart Joker Use: Retain jokers for strategic opportunities, but avoid being caught with them.\\n\\n- Maximize Manipulation: Rearrange tiles on the table to reduce your rack as much as possible.\\n\\nInitial Meld: Plan your first meld carefully to avoid getting stuck.\\n\\nAdditional Features and Variants\\n\\nDigital Enhancements\\n\\n- Rummikub offers a free app with tutorials and a score timer for convenience.\\n\\nVariants\\n\\n1. Higher Initial Meld Value: Some versions require 50 points for the first meld, increasing the challenge.\\n\\n2. Restricted Manipulation: Certain variants allow manipulation only after the turn following the initial meld.\\n\\n3. Adjusted Scoring: Jokers may count as 25 points instead of 30 in some versions.'), Document(metadata={}, page_content='Rummikub Rules: Comprehensive Guide to Gameplay and Strategies\\n\\nObjective of the Game\\n\\nTo be the first player to play all the tiles from your rack by forming valid sets (runs and/or groups) on the table.\\n\\nGame Components\\n\\n106 Tiles: Numbers 1-13 in four colors (two of each) and 2 jokers.\\n\\n- 4 Tile Racks.\\n\\n- Extended Version (Rummikub XP): 160 tiles (12 sets of tiles 1-13 in four colors, and 4 joker tiles) and 6 racks for 5-6 players.\\n\\nKey Concepts and Definitions\\n\\nRack\\n\\n- A stand used by each player to hold their tiles. The rack keeps the tiles hidden from other players while allowing the player to organize them for strategic play.'), Document(metadata={}, page_content='Quick Start Guide\\n\\n1. Shuffle the tiles and place them face down on the table.\\n\\n2. Each player draws 14 tiles and arranges them on their rack.\\n\\n3. The remaining tiles form the pool.\\n\\n4. The player with the highest drawn tile goes first.\\n\\n5. Players must create an initial meld totaling at least 30 points using only tiles from their rack.\\n\\n6. Continue taking turns until a player empties their rack and declares \"Rummikub!\"\\n\\nGame Play\\n\\nStarting the Game\\n\\n- Each tile is worth its face value.\\n\\n- Players must make an initial meld worth at least 30 points using only the tiles from their rack. Jokers count as the value of the tile they represent.\\n\\n- Players who cannot make the initial meld must draw a tile from the pool and end their turn.')], 'grades': [], 'hallucination_grade': False, 'answer_grade': False, 'decision': '', 'web_search_query': '', 'route': 'vectorstore'}\n",
      "{'messages': [HumanMessage(content='What is the purpose of the joker tile in Rummikub?', additional_kwargs={}, response_metadata={}, id='743e87de-8c66-427f-b92e-f0e192a90c96'), AIMessage(content='The joker tile in Rummikub can represent any other tile in a set, and its number and color are that of the tile it replaces. It can be retrieved from a set if the player replaces it with the appropriate tile(s) during their turn.', additional_kwargs={}, response_metadata={}, id='a3251d84-a573-426a-82e5-581513e8df86'), HumanMessage(content='And how would I use it strategically?', additional_kwargs={}, response_metadata={}, id='eff5dad0-a9cb-41e5-a62e-4caec6e95d35'), AIMessage(content='Use jokers strategically by retaining them for opportunities to form sets or runs, but avoid holding onto them when you can', additional_kwargs={}, response_metadata={}, id='7a73670b-c688-482e-ae80-9e70c53053b4')], 'improved_query': 'How would you use the joker tile in Rummikub strategically?', 'question': 'And how would I use it strategically?', 'web_search': 'No', 'loop_generate': 1, 'loop_web_search': 0, 'documents': [Document(metadata={}, page_content='Strategy Tips\\n\\n- Hold Back Tiles: Save some tiles to increase flexibility later in the game.\\n\\n- Smart Joker Use: Retain jokers for strategic opportunities, but avoid being caught with them.\\n\\n- Maximize Manipulation: Rearrange tiles on the table to reduce your rack as much as possible.\\n\\nInitial Meld: Plan your first meld carefully to avoid getting stuck.\\n\\nAdditional Features and Variants\\n\\nDigital Enhancements\\n\\n- Rummikub offers a free app with tutorials and a score timer for convenience.\\n\\nVariants\\n\\n1. Higher Initial Meld Value: Some versions require 50 points for the first meld, increasing the challenge.\\n\\n2. Restricted Manipulation: Certain variants allow manipulation only after the turn following the initial meld.\\n\\n3. Adjusted Scoring: Jokers may count as 25 points instead of 30 in some versions.'), Document(metadata={}, page_content='Rummikub Rules: Comprehensive Guide to Gameplay and Strategies\\n\\nObjective of the Game\\n\\nTo be the first player to play all the tiles from your rack by forming valid sets (runs and/or groups) on the table.\\n\\nGame Components\\n\\n106 Tiles: Numbers 1-13 in four colors (two of each) and 2 jokers.\\n\\n- 4 Tile Racks.\\n\\n- Extended Version (Rummikub XP): 160 tiles (12 sets of tiles 1-13 in four colors, and 4 joker tiles) and 6 racks for 5-6 players.\\n\\nKey Concepts and Definitions\\n\\nRack\\n\\n- A stand used by each player to hold their tiles. The rack keeps the tiles hidden from other players while allowing the player to organize them for strategic play.'), Document(metadata={}, page_content='Quick Start Guide\\n\\n1. Shuffle the tiles and place them face down on the table.\\n\\n2. Each player draws 14 tiles and arranges them on their rack.\\n\\n3. The remaining tiles form the pool.\\n\\n4. The player with the highest drawn tile goes first.\\n\\n5. Players must create an initial meld totaling at least 30 points using only tiles from their rack.\\n\\n6. Continue taking turns until a player empties their rack and declares \"Rummikub!\"\\n\\nGame Play\\n\\nStarting the Game\\n\\n- Each tile is worth its face value.\\n\\n- Players must make an initial meld worth at least 30 points using only the tiles from their rack. Jokers count as the value of the tile they represent.\\n\\n- Players who cannot make the initial meld must draw a tile from the pool and end their turn.')], 'filtered_docs': [Document(metadata={}, page_content='Strategy Tips\\n\\n- Hold Back Tiles: Save some tiles to increase flexibility later in the game.\\n\\n- Smart Joker Use: Retain jokers for strategic opportunities, but avoid being caught with them.\\n\\n- Maximize Manipulation: Rearrange tiles on the table to reduce your rack as much as possible.\\n\\nInitial Meld: Plan your first meld carefully to avoid getting stuck.\\n\\nAdditional Features and Variants\\n\\nDigital Enhancements\\n\\n- Rummikub offers a free app with tutorials and a score timer for convenience.\\n\\nVariants\\n\\n1. Higher Initial Meld Value: Some versions require 50 points for the first meld, increasing the challenge.\\n\\n2. Restricted Manipulation: Certain variants allow manipulation only after the turn following the initial meld.\\n\\n3. Adjusted Scoring: Jokers may count as 25 points instead of 30 in some versions.'), Document(metadata={}, page_content='Rummikub Rules: Comprehensive Guide to Gameplay and Strategies\\n\\nObjective of the Game\\n\\nTo be the first player to play all the tiles from your rack by forming valid sets (runs and/or groups) on the table.\\n\\nGame Components\\n\\n106 Tiles: Numbers 1-13 in four colors (two of each) and 2 jokers.\\n\\n- 4 Tile Racks.\\n\\n- Extended Version (Rummikub XP): 160 tiles (12 sets of tiles 1-13 in four colors, and 4 joker tiles) and 6 racks for 5-6 players.\\n\\nKey Concepts and Definitions\\n\\nRack\\n\\n- A stand used by each player to hold their tiles. The rack keeps the tiles hidden from other players while allowing the player to organize them for strategic play.'), Document(metadata={}, page_content='Quick Start Guide\\n\\n1. Shuffle the tiles and place them face down on the table.\\n\\n2. Each player draws 14 tiles and arranges them on their rack.\\n\\n3. The remaining tiles form the pool.\\n\\n4. The player with the highest drawn tile goes first.\\n\\n5. Players must create an initial meld totaling at least 30 points using only tiles from their rack.\\n\\n6. Continue taking turns until a player empties their rack and declares \"Rummikub!\"\\n\\nGame Play\\n\\nStarting the Game\\n\\n- Each tile is worth its face value.\\n\\n- Players must make an initial meld worth at least 30 points using only the tiles from their rack. Jokers count as the value of the tile they represent.\\n\\n- Players who cannot make the initial meld must draw a tile from the pool and end their turn.')], 'grades': [], 'hallucination_grade': False, 'answer_grade': False, 'decision': 'useful', 'web_search_query': '', 'route': 'vectorstore'}\n",
      "{'messages': [HumanMessage(content='What is the purpose of the joker tile in Rummikub?', additional_kwargs={}, response_metadata={}, id='743e87de-8c66-427f-b92e-f0e192a90c96'), AIMessage(content='The joker tile in Rummikub can represent any other tile in a set, and its number and color are that of the tile it replaces. It can be retrieved from a set if the player replaces it with the appropriate tile(s) during their turn.', additional_kwargs={}, response_metadata={}, id='a3251d84-a573-426a-82e5-581513e8df86'), HumanMessage(content='And how would I use it strategically?', additional_kwargs={}, response_metadata={}, id='eff5dad0-a9cb-41e5-a62e-4caec6e95d35'), AIMessage(content='Use jokers strategically by retaining them for opportunities to form sets or runs, but avoid holding onto them when you can', additional_kwargs={}, response_metadata={}, id='7a73670b-c688-482e-ae80-9e70c53053b4')], 'improved_query': '', 'question': '', 'web_search': '', 'loop_generate': 0, 'loop_web_search': 0, 'documents': [], 'filtered_docs': [], 'grades': [], 'hallucination_grade': False, 'answer_grade': False, 'decision': '', 'web_search_query': '', 'route': 'vectorstore'}\n"
     ]
    }
   ],
   "execution_count": 388
  },
  {
   "cell_type": "code",
   "id": "add451abb284fbc9",
   "metadata": {
    "ExecuteTime": {
     "end_time": "2025-01-03T23:38:54.269853Z",
     "start_time": "2025-01-03T23:33:09.484805Z"
    }
   },
   "source": [
    "config = {\"configurable\": {\"thread_id\": \"1\"}}\n",
    "\n",
    "inputs = {\"messages\": [\"Is there a Rummikub championship?\"], \"max_retries\": 3}\n",
    "for event in graph.stream(inputs, stream_mode=\"values\", config=config):\n",
    "    print(event)"
   ],
   "outputs": [
    {
     "name": "stderr",
     "output_type": "stream",
     "text": [
      "INFO:__main__:---ROUTE QUESTION---\n"
     ]
    },
    {
     "name": "stdout",
     "output_type": "stream",
     "text": [
      "{'messages': [HumanMessage(content='What is the purpose of the joker tile in Rummikub?', additional_kwargs={}, response_metadata={}, id='743e87de-8c66-427f-b92e-f0e192a90c96'), AIMessage(content='The joker tile in Rummikub can represent any other tile in a set, and its number and color are that of the tile it replaces. It can be retrieved from a set if the player replaces it with the appropriate tile(s) during their turn.', additional_kwargs={}, response_metadata={}, id='a3251d84-a573-426a-82e5-581513e8df86'), HumanMessage(content='And how would I use it strategically?', additional_kwargs={}, response_metadata={}, id='eff5dad0-a9cb-41e5-a62e-4caec6e95d35'), AIMessage(content='Use jokers strategically by retaining them for opportunities to form sets or runs, but avoid holding onto them when you can', additional_kwargs={}, response_metadata={}, id='7a73670b-c688-482e-ae80-9e70c53053b4'), HumanMessage(content='Is there a Rummikub championship?', additional_kwargs={}, response_metadata={}, id='58739175-3624-4c3c-a47b-07e35dbd03d4')], 'improved_query': '', 'question': '', 'web_search': '', 'loop_generate': 0, 'loop_web_search': 0, 'documents': [], 'filtered_docs': [], 'grades': [], 'hallucination_grade': False, 'answer_grade': False, 'decision': '', 'web_search_query': '', 'route': 'vectorstore'}\n"
     ]
    },
    {
     "name": "stderr",
     "output_type": "stream",
     "text": [
      "INFO:httpx:HTTP Request: POST http://127.0.0.1:11434/api/chat \"HTTP/1.1 200 OK\"\n",
      "INFO:__main__:---IMPROVE QUERY---\n"
     ]
    },
    {
     "name": "stdout",
     "output_type": "stream",
     "text": [
      "{'messages': [HumanMessage(content='What is the purpose of the joker tile in Rummikub?', additional_kwargs={}, response_metadata={}, id='743e87de-8c66-427f-b92e-f0e192a90c96'), AIMessage(content='The joker tile in Rummikub can represent any other tile in a set, and its number and color are that of the tile it replaces. It can be retrieved from a set if the player replaces it with the appropriate tile(s) during their turn.', additional_kwargs={}, response_metadata={}, id='a3251d84-a573-426a-82e5-581513e8df86'), HumanMessage(content='And how would I use it strategically?', additional_kwargs={}, response_metadata={}, id='eff5dad0-a9cb-41e5-a62e-4caec6e95d35'), AIMessage(content='Use jokers strategically by retaining them for opportunities to form sets or runs, but avoid holding onto them when you can', additional_kwargs={}, response_metadata={}, id='7a73670b-c688-482e-ae80-9e70c53053b4'), HumanMessage(content='Is there a Rummikub championship?', additional_kwargs={}, response_metadata={}, id='58739175-3624-4c3c-a47b-07e35dbd03d4')], 'improved_query': '', 'question': 'Is there a Rummikub championship?', 'web_search': '', 'loop_generate': 0, 'loop_web_search': 0, 'documents': [], 'filtered_docs': [], 'grades': [], 'hallucination_grade': False, 'answer_grade': False, 'decision': '', 'web_search_query': '', 'route': 'vectorstore'}\n"
     ]
    },
    {
     "name": "stderr",
     "output_type": "stream",
     "text": [
      "INFO:httpx:HTTP Request: POST http://127.0.0.1:11434/api/chat \"HTTP/1.1 200 OK\"\n",
      "INFO:__main__:---PROCEED TO VECTORSTORE---\n",
      "INFO:__main__:---RETRIEVE---\n"
     ]
    },
    {
     "name": "stdout",
     "output_type": "stream",
     "text": [
      "{'messages': [HumanMessage(content='What is the purpose of the joker tile in Rummikub?', additional_kwargs={}, response_metadata={}, id='743e87de-8c66-427f-b92e-f0e192a90c96'), AIMessage(content='The joker tile in Rummikub can represent any other tile in a set, and its number and color are that of the tile it replaces. It can be retrieved from a set if the player replaces it with the appropriate tile(s) during their turn.', additional_kwargs={}, response_metadata={}, id='a3251d84-a573-426a-82e5-581513e8df86'), HumanMessage(content='And how would I use it strategically?', additional_kwargs={}, response_metadata={}, id='eff5dad0-a9cb-41e5-a62e-4caec6e95d35'), AIMessage(content='Use jokers strategically by retaining them for opportunities to form sets or runs, but avoid holding onto them when you can', additional_kwargs={}, response_metadata={}, id='7a73670b-c688-482e-ae80-9e70c53053b4'), HumanMessage(content='Is there a Rummikub championship?', additional_kwargs={}, response_metadata={}, id='58739175-3624-4c3c-a47b-07e35dbd03d4')], 'improved_query': 'Is there a Rummikub championship?', 'question': 'Is there a Rummikub championship?', 'web_search': '', 'loop_generate': 0, 'loop_web_search': 0, 'documents': [], 'filtered_docs': [], 'grades': [], 'hallucination_grade': False, 'answer_grade': False, 'decision': '', 'web_search_query': '', 'route': 'vectorstore'}\n"
     ]
    },
    {
     "name": "stderr",
     "output_type": "stream",
     "text": [
      "INFO:httpx:HTTP Request: POST http://localhost:11434/api/embed \"HTTP/1.1 200 OK\"\n",
      "INFO:httpx:HTTP Request: POST http://localhost:5000/api/v2/tenants/default_tenant/databases/default_database/collections/3d1a31a4-275f-43c1-bc00-4ab3f1aad184/query \"HTTP/1.1 200 OK\"\n"
     ]
    },
    {
     "name": "stdout",
     "output_type": "stream",
     "text": [
      "{'messages': [HumanMessage(content='What is the purpose of the joker tile in Rummikub?', additional_kwargs={}, response_metadata={}, id='743e87de-8c66-427f-b92e-f0e192a90c96'), AIMessage(content='The joker tile in Rummikub can represent any other tile in a set, and its number and color are that of the tile it replaces. It can be retrieved from a set if the player replaces it with the appropriate tile(s) during their turn.', additional_kwargs={}, response_metadata={}, id='a3251d84-a573-426a-82e5-581513e8df86'), HumanMessage(content='And how would I use it strategically?', additional_kwargs={}, response_metadata={}, id='eff5dad0-a9cb-41e5-a62e-4caec6e95d35'), AIMessage(content='Use jokers strategically by retaining them for opportunities to form sets or runs, but avoid holding onto them when you can', additional_kwargs={}, response_metadata={}, id='7a73670b-c688-482e-ae80-9e70c53053b4'), HumanMessage(content='Is there a Rummikub championship?', additional_kwargs={}, response_metadata={}, id='58739175-3624-4c3c-a47b-07e35dbd03d4')], 'improved_query': 'Is there a Rummikub championship?', 'question': 'Is there a Rummikub championship?', 'web_search': '', 'loop_generate': 0, 'loop_web_search': 0, 'documents': [Document(metadata={}, page_content='Rummikub Rules: Comprehensive Guide to Gameplay and Strategies\\n\\nObjective of the Game\\n\\nTo be the first player to play all the tiles from your rack by forming valid sets (runs and/or groups) on the table.\\n\\nGame Components\\n\\n106 Tiles: Numbers 1-13 in four colors (two of each) and 2 jokers.\\n\\n- 4 Tile Racks.\\n\\n- Extended Version (Rummikub XP): 160 tiles (12 sets of tiles 1-13 in four colors, and 4 joker tiles) and 6 racks for 5-6 players.\\n\\nKey Concepts and Definitions\\n\\nRack\\n\\n- A stand used by each player to hold their tiles. The rack keeps the tiles hidden from other players while allowing the player to organize them for strategic play.'), Document(metadata={}, page_content='Quick Start Guide\\n\\n1. Shuffle the tiles and place them face down on the table.\\n\\n2. Each player draws 14 tiles and arranges them on their rack.\\n\\n3. The remaining tiles form the pool.\\n\\n4. The player with the highest drawn tile goes first.\\n\\n5. Players must create an initial meld totaling at least 30 points using only tiles from their rack.\\n\\n6. Continue taking turns until a player empties their rack and declares \"Rummikub!\"\\n\\nGame Play\\n\\nStarting the Game\\n\\n- Each tile is worth its face value.\\n\\n- Players must make an initial meld worth at least 30 points using only the tiles from their rack. Jokers count as the value of the tile they represent.\\n\\n- Players who cannot make the initial meld must draw a tile from the pool and end their turn.'), Document(metadata={}, page_content='Time Limit Per Turn\\n\\n- Each turn is limited to 1 minute. Players exceeding this limit must:\\n\\n1. Return the table to its previous state.\\n\\n2. Draw 3 tiles as a penalty.\\n\\n3. End their turn.\\n\\nEnding a Game\\n\\n- A game ends when a player empties their rack and declares \"Rummikub!\"\\n\\n- If the pool is empty and no valid plays can be made, the game ends. The player with the lowest total value of tiles on their rack wins.\\n\\nScoring\\n\\n- Winner: Gains points equal to the total of all opponents\\' unplayed tiles.\\n\\n- Other Players: Deduct points equal to the total value of unplayed tiles on their rack.\\n\\nJokers left on a rack incur a 30-point penalty.\\n\\n- Tie: The player with the lowest unplayed tile total wins.')], 'filtered_docs': [], 'grades': [], 'hallucination_grade': False, 'answer_grade': False, 'decision': '', 'web_search_query': '', 'route': 'vectorstore'}\n"
     ]
    },
    {
     "name": "stderr",
     "output_type": "stream",
     "text": [
      "INFO:httpx:HTTP Request: POST http://127.0.0.1:11434/api/chat \"HTTP/1.1 200 OK\"\n",
      "INFO:httpx:HTTP Request: POST http://127.0.0.1:11434/api/chat \"HTTP/1.1 200 OK\"\n",
      "INFO:__main__:---GRADE: DOCUMENT NOT RELEVANT---\n",
      "INFO:__main__:---GRADE: DOCUMENT NOT RELEVANT---\n",
      "INFO:httpx:HTTP Request: POST http://127.0.0.1:11434/api/chat \"HTTP/1.1 200 OK\"\n",
      "INFO:__main__:---GRADE: DOCUMENT NOT RELEVANT---\n",
      "INFO:__main__:---CHECK IF WEB SEARCH IS NECESSARY---\n",
      "INFO:__main__:---NO RELEVANT DOCUMENTS---\n",
      "INFO:__main__:---ASSESS GRADED DOCUMENTS---\n",
      "INFO:__main__:---DECISION: NO RELEVANT DOCUMENTS, INCLUDE WEB SEARCH---\n",
      "INFO:__main__:---WEB SEARCH---\n"
     ]
    },
    {
     "name": "stdout",
     "output_type": "stream",
     "text": [
      "{'messages': [HumanMessage(content='What is the purpose of the joker tile in Rummikub?', additional_kwargs={}, response_metadata={}, id='743e87de-8c66-427f-b92e-f0e192a90c96'), AIMessage(content='The joker tile in Rummikub can represent any other tile in a set, and its number and color are that of the tile it replaces. It can be retrieved from a set if the player replaces it with the appropriate tile(s) during their turn.', additional_kwargs={}, response_metadata={}, id='a3251d84-a573-426a-82e5-581513e8df86'), HumanMessage(content='And how would I use it strategically?', additional_kwargs={}, response_metadata={}, id='eff5dad0-a9cb-41e5-a62e-4caec6e95d35'), AIMessage(content='Use jokers strategically by retaining them for opportunities to form sets or runs, but avoid holding onto them when you can', additional_kwargs={}, response_metadata={}, id='7a73670b-c688-482e-ae80-9e70c53053b4'), HumanMessage(content='Is there a Rummikub championship?', additional_kwargs={}, response_metadata={}, id='58739175-3624-4c3c-a47b-07e35dbd03d4')], 'improved_query': 'Is there a Rummikub championship?', 'question': 'Is there a Rummikub championship?', 'web_search': '', 'loop_generate': 0, 'loop_web_search': 0, 'documents': [Document(metadata={}, page_content='Rummikub Rules: Comprehensive Guide to Gameplay and Strategies\\n\\nObjective of the Game\\n\\nTo be the first player to play all the tiles from your rack by forming valid sets (runs and/or groups) on the table.\\n\\nGame Components\\n\\n106 Tiles: Numbers 1-13 in four colors (two of each) and 2 jokers.\\n\\n- 4 Tile Racks.\\n\\n- Extended Version (Rummikub XP): 160 tiles (12 sets of tiles 1-13 in four colors, and 4 joker tiles) and 6 racks for 5-6 players.\\n\\nKey Concepts and Definitions\\n\\nRack\\n\\n- A stand used by each player to hold their tiles. The rack keeps the tiles hidden from other players while allowing the player to organize them for strategic play.'), Document(metadata={}, page_content='Quick Start Guide\\n\\n1. Shuffle the tiles and place them face down on the table.\\n\\n2. Each player draws 14 tiles and arranges them on their rack.\\n\\n3. The remaining tiles form the pool.\\n\\n4. The player with the highest drawn tile goes first.\\n\\n5. Players must create an initial meld totaling at least 30 points using only tiles from their rack.\\n\\n6. Continue taking turns until a player empties their rack and declares \"Rummikub!\"\\n\\nGame Play\\n\\nStarting the Game\\n\\n- Each tile is worth its face value.\\n\\n- Players must make an initial meld worth at least 30 points using only the tiles from their rack. Jokers count as the value of the tile they represent.\\n\\n- Players who cannot make the initial meld must draw a tile from the pool and end their turn.'), Document(metadata={}, page_content='Time Limit Per Turn\\n\\n- Each turn is limited to 1 minute. Players exceeding this limit must:\\n\\n1. Return the table to its previous state.\\n\\n2. Draw 3 tiles as a penalty.\\n\\n3. End their turn.\\n\\nEnding a Game\\n\\n- A game ends when a player empties their rack and declares \"Rummikub!\"\\n\\n- If the pool is empty and no valid plays can be made, the game ends. The player with the lowest total value of tiles on their rack wins.\\n\\nScoring\\n\\n- Winner: Gains points equal to the total of all opponents\\' unplayed tiles.\\n\\n- Other Players: Deduct points equal to the total value of unplayed tiles on their rack.\\n\\nJokers left on a rack incur a 30-point penalty.\\n\\n- Tie: The player with the lowest unplayed tile total wins.')], 'filtered_docs': [], 'grades': ['no', 'no', 'no'], 'hallucination_grade': False, 'answer_grade': False, 'decision': '', 'web_search_query': '', 'route': 'vectorstore'}\n",
      "{'messages': [HumanMessage(content='What is the purpose of the joker tile in Rummikub?', additional_kwargs={}, response_metadata={}, id='743e87de-8c66-427f-b92e-f0e192a90c96'), AIMessage(content='The joker tile in Rummikub can represent any other tile in a set, and its number and color are that of the tile it replaces. It can be retrieved from a set if the player replaces it with the appropriate tile(s) during their turn.', additional_kwargs={}, response_metadata={}, id='a3251d84-a573-426a-82e5-581513e8df86'), HumanMessage(content='And how would I use it strategically?', additional_kwargs={}, response_metadata={}, id='eff5dad0-a9cb-41e5-a62e-4caec6e95d35'), AIMessage(content='Use jokers strategically by retaining them for opportunities to form sets or runs, but avoid holding onto them when you can', additional_kwargs={}, response_metadata={}, id='7a73670b-c688-482e-ae80-9e70c53053b4'), HumanMessage(content='Is there a Rummikub championship?', additional_kwargs={}, response_metadata={}, id='58739175-3624-4c3c-a47b-07e35dbd03d4')], 'improved_query': 'Is there a Rummikub championship?', 'question': 'Is there a Rummikub championship?', 'web_search': 'Yes', 'loop_generate': 0, 'loop_web_search': 0, 'documents': [Document(metadata={}, page_content='Rummikub Rules: Comprehensive Guide to Gameplay and Strategies\\n\\nObjective of the Game\\n\\nTo be the first player to play all the tiles from your rack by forming valid sets (runs and/or groups) on the table.\\n\\nGame Components\\n\\n106 Tiles: Numbers 1-13 in four colors (two of each) and 2 jokers.\\n\\n- 4 Tile Racks.\\n\\n- Extended Version (Rummikub XP): 160 tiles (12 sets of tiles 1-13 in four colors, and 4 joker tiles) and 6 racks for 5-6 players.\\n\\nKey Concepts and Definitions\\n\\nRack\\n\\n- A stand used by each player to hold their tiles. The rack keeps the tiles hidden from other players while allowing the player to organize them for strategic play.'), Document(metadata={}, page_content='Quick Start Guide\\n\\n1. Shuffle the tiles and place them face down on the table.\\n\\n2. Each player draws 14 tiles and arranges them on their rack.\\n\\n3. The remaining tiles form the pool.\\n\\n4. The player with the highest drawn tile goes first.\\n\\n5. Players must create an initial meld totaling at least 30 points using only tiles from their rack.\\n\\n6. Continue taking turns until a player empties their rack and declares \"Rummikub!\"\\n\\nGame Play\\n\\nStarting the Game\\n\\n- Each tile is worth its face value.\\n\\n- Players must make an initial meld worth at least 30 points using only the tiles from their rack. Jokers count as the value of the tile they represent.\\n\\n- Players who cannot make the initial meld must draw a tile from the pool and end their turn.'), Document(metadata={}, page_content='Time Limit Per Turn\\n\\n- Each turn is limited to 1 minute. Players exceeding this limit must:\\n\\n1. Return the table to its previous state.\\n\\n2. Draw 3 tiles as a penalty.\\n\\n3. End their turn.\\n\\nEnding a Game\\n\\n- A game ends when a player empties their rack and declares \"Rummikub!\"\\n\\n- If the pool is empty and no valid plays can be made, the game ends. The player with the lowest total value of tiles on their rack wins.\\n\\nScoring\\n\\n- Winner: Gains points equal to the total of all opponents\\' unplayed tiles.\\n\\n- Other Players: Deduct points equal to the total value of unplayed tiles on their rack.\\n\\nJokers left on a rack incur a 30-point penalty.\\n\\n- Tie: The player with the lowest unplayed tile total wins.')], 'filtered_docs': [], 'grades': [], 'hallucination_grade': False, 'answer_grade': False, 'decision': '', 'web_search_query': '', 'route': 'vectorstore'}\n",
      "{'messages': [HumanMessage(content='What is the purpose of the joker tile in Rummikub?', additional_kwargs={}, response_metadata={}, id='743e87de-8c66-427f-b92e-f0e192a90c96'), AIMessage(content='The joker tile in Rummikub can represent any other tile in a set, and its number and color are that of the tile it replaces. It can be retrieved from a set if the player replaces it with the appropriate tile(s) during their turn.', additional_kwargs={}, response_metadata={}, id='a3251d84-a573-426a-82e5-581513e8df86'), HumanMessage(content='And how would I use it strategically?', additional_kwargs={}, response_metadata={}, id='eff5dad0-a9cb-41e5-a62e-4caec6e95d35'), AIMessage(content='Use jokers strategically by retaining them for opportunities to form sets or runs, but avoid holding onto them when you can', additional_kwargs={}, response_metadata={}, id='7a73670b-c688-482e-ae80-9e70c53053b4'), HumanMessage(content='Is there a Rummikub championship?', additional_kwargs={}, response_metadata={}, id='58739175-3624-4c3c-a47b-07e35dbd03d4')], 'improved_query': 'Is there a Rummikub championship?', 'question': 'Is there a Rummikub championship?', 'web_search': 'Yes', 'loop_generate': 0, 'loop_web_search': 1, 'documents': [Document(metadata={}, page_content='WRC - Rummikub WRC WRC WRC The Wrc - Rummikub World Championships The WRC, also known as the Rummikub World Championships, has since evolved into a prestigious event held every three years at different prominent global venues. The quest is underway to find the upcoming Rummikub NZ National Champion, who will proudly stand for New Zealand at the upcoming WRC. If you’re confident that you possess the necessary skills to represent New Zealand in the forthcoming WRC, then its time to register for the New Zealand Rummikub Championship 2024. This year we will be holding the New Zealand Rummikub Championship at JetPark Hotel Auckland. New Zealand has been proudly represented at 7 of the 9 WRC’s. WRC\\nWRC - Rummikub WRC WRC Play Online Play Rummikub online and experience the game conquering the world WRC WRC WRC The WRC- Rummikub World Championships The first WRC was held in Jerusalem 31 years ago, back then only 12 countries participated. The WRC – Rummikub World Championships is occurring every three years in a different major location in the world, such as the Eiffel Tower in Paris, Hamleys the largest toy store in London, a bullfighting arena in Spain and The DZ Bank Berlin architected by Frank Gehry. Last WRC in 2018 we had 120 participants from 32 different countries. 2024 the WRC11 will be held in Gdansk, Poland.\\nJun 6, 2024 ... The winner walks away with a £250 cash prize, an IDEAL games bundle – and bragging rights. Rummikub Championship, John Adams, Lynette Leet.')], 'filtered_docs': [], 'grades': [], 'hallucination_grade': False, 'answer_grade': False, 'decision': '', 'web_search_query': '', 'route': 'vectorstore'}\n"
     ]
    },
    {
     "name": "stderr",
     "output_type": "stream",
     "text": [
      "INFO:httpx:HTTP Request: POST http://127.0.0.1:11434/api/chat \"HTTP/1.1 200 OK\"\n",
      "INFO:__main__:---GRADE: DOCUMENT RELEVANT---\n",
      "INFO:__main__:---CHECK IF WEB SEARCH IS NECESSARY---\n",
      "INFO:__main__:---RELEVANT DOCUMENTS FOUND---\n",
      "INFO:__main__:---ASSESS GRADED DOCUMENTS---\n",
      "INFO:__main__:---DECISION: GENERATE---\n",
      "INFO:__main__:---GENERATE---\n"
     ]
    },
    {
     "name": "stdout",
     "output_type": "stream",
     "text": [
      "{'messages': [HumanMessage(content='What is the purpose of the joker tile in Rummikub?', additional_kwargs={}, response_metadata={}, id='743e87de-8c66-427f-b92e-f0e192a90c96'), AIMessage(content='The joker tile in Rummikub can represent any other tile in a set, and its number and color are that of the tile it replaces. It can be retrieved from a set if the player replaces it with the appropriate tile(s) during their turn.', additional_kwargs={}, response_metadata={}, id='a3251d84-a573-426a-82e5-581513e8df86'), HumanMessage(content='And how would I use it strategically?', additional_kwargs={}, response_metadata={}, id='eff5dad0-a9cb-41e5-a62e-4caec6e95d35'), AIMessage(content='Use jokers strategically by retaining them for opportunities to form sets or runs, but avoid holding onto them when you can', additional_kwargs={}, response_metadata={}, id='7a73670b-c688-482e-ae80-9e70c53053b4'), HumanMessage(content='Is there a Rummikub championship?', additional_kwargs={}, response_metadata={}, id='58739175-3624-4c3c-a47b-07e35dbd03d4')], 'improved_query': 'Is there a Rummikub championship?', 'question': 'Is there a Rummikub championship?', 'web_search': 'Yes', 'loop_generate': 0, 'loop_web_search': 1, 'documents': [Document(metadata={}, page_content='WRC - Rummikub WRC WRC WRC The Wrc - Rummikub World Championships The WRC, also known as the Rummikub World Championships, has since evolved into a prestigious event held every three years at different prominent global venues. The quest is underway to find the upcoming Rummikub NZ National Champion, who will proudly stand for New Zealand at the upcoming WRC. If you’re confident that you possess the necessary skills to represent New Zealand in the forthcoming WRC, then its time to register for the New Zealand Rummikub Championship 2024. This year we will be holding the New Zealand Rummikub Championship at JetPark Hotel Auckland. New Zealand has been proudly represented at 7 of the 9 WRC’s. WRC\\nWRC - Rummikub WRC WRC Play Online Play Rummikub online and experience the game conquering the world WRC WRC WRC The WRC- Rummikub World Championships The first WRC was held in Jerusalem 31 years ago, back then only 12 countries participated. The WRC – Rummikub World Championships is occurring every three years in a different major location in the world, such as the Eiffel Tower in Paris, Hamleys the largest toy store in London, a bullfighting arena in Spain and The DZ Bank Berlin architected by Frank Gehry. Last WRC in 2018 we had 120 participants from 32 different countries. 2024 the WRC11 will be held in Gdansk, Poland.\\nJun 6, 2024 ... The winner walks away with a £250 cash prize, an IDEAL games bundle – and bragging rights. Rummikub Championship, John Adams, Lynette Leet.')], 'filtered_docs': [Document(metadata={}, page_content='WRC - Rummikub WRC WRC WRC The Wrc - Rummikub World Championships The WRC, also known as the Rummikub World Championships, has since evolved into a prestigious event held every three years at different prominent global venues. The quest is underway to find the upcoming Rummikub NZ National Champion, who will proudly stand for New Zealand at the upcoming WRC. If you’re confident that you possess the necessary skills to represent New Zealand in the forthcoming WRC, then its time to register for the New Zealand Rummikub Championship 2024. This year we will be holding the New Zealand Rummikub Championship at JetPark Hotel Auckland. New Zealand has been proudly represented at 7 of the 9 WRC’s. WRC\\nWRC - Rummikub WRC WRC Play Online Play Rummikub online and experience the game conquering the world WRC WRC WRC The WRC- Rummikub World Championships The first WRC was held in Jerusalem 31 years ago, back then only 12 countries participated. The WRC – Rummikub World Championships is occurring every three years in a different major location in the world, such as the Eiffel Tower in Paris, Hamleys the largest toy store in London, a bullfighting arena in Spain and The DZ Bank Berlin architected by Frank Gehry. Last WRC in 2018 we had 120 participants from 32 different countries. 2024 the WRC11 will be held in Gdansk, Poland.\\nJun 6, 2024 ... The winner walks away with a £250 cash prize, an IDEAL games bundle – and bragging rights. Rummikub Championship, John Adams, Lynette Leet.')], 'grades': ['yes'], 'hallucination_grade': False, 'answer_grade': False, 'decision': '', 'web_search_query': '', 'route': 'vectorstore'}\n",
      "{'messages': [HumanMessage(content='What is the purpose of the joker tile in Rummikub?', additional_kwargs={}, response_metadata={}, id='743e87de-8c66-427f-b92e-f0e192a90c96'), AIMessage(content='The joker tile in Rummikub can represent any other tile in a set, and its number and color are that of the tile it replaces. It can be retrieved from a set if the player replaces it with the appropriate tile(s) during their turn.', additional_kwargs={}, response_metadata={}, id='a3251d84-a573-426a-82e5-581513e8df86'), HumanMessage(content='And how would I use it strategically?', additional_kwargs={}, response_metadata={}, id='eff5dad0-a9cb-41e5-a62e-4caec6e95d35'), AIMessage(content='Use jokers strategically by retaining them for opportunities to form sets or runs, but avoid holding onto them when you can', additional_kwargs={}, response_metadata={}, id='7a73670b-c688-482e-ae80-9e70c53053b4'), HumanMessage(content='Is there a Rummikub championship?', additional_kwargs={}, response_metadata={}, id='58739175-3624-4c3c-a47b-07e35dbd03d4')], 'improved_query': 'Is there a Rummikub championship?', 'question': 'Is there a Rummikub championship?', 'web_search': 'No', 'loop_generate': 0, 'loop_web_search': 1, 'documents': [Document(metadata={}, page_content='WRC - Rummikub WRC WRC WRC The Wrc - Rummikub World Championships The WRC, also known as the Rummikub World Championships, has since evolved into a prestigious event held every three years at different prominent global venues. The quest is underway to find the upcoming Rummikub NZ National Champion, who will proudly stand for New Zealand at the upcoming WRC. If you’re confident that you possess the necessary skills to represent New Zealand in the forthcoming WRC, then its time to register for the New Zealand Rummikub Championship 2024. This year we will be holding the New Zealand Rummikub Championship at JetPark Hotel Auckland. New Zealand has been proudly represented at 7 of the 9 WRC’s. WRC\\nWRC - Rummikub WRC WRC Play Online Play Rummikub online and experience the game conquering the world WRC WRC WRC The WRC- Rummikub World Championships The first WRC was held in Jerusalem 31 years ago, back then only 12 countries participated. The WRC – Rummikub World Championships is occurring every three years in a different major location in the world, such as the Eiffel Tower in Paris, Hamleys the largest toy store in London, a bullfighting arena in Spain and The DZ Bank Berlin architected by Frank Gehry. Last WRC in 2018 we had 120 participants from 32 different countries. 2024 the WRC11 will be held in Gdansk, Poland.\\nJun 6, 2024 ... The winner walks away with a £250 cash prize, an IDEAL games bundle – and bragging rights. Rummikub Championship, John Adams, Lynette Leet.')], 'filtered_docs': [Document(metadata={}, page_content='WRC - Rummikub WRC WRC WRC The Wrc - Rummikub World Championships The WRC, also known as the Rummikub World Championships, has since evolved into a prestigious event held every three years at different prominent global venues. The quest is underway to find the upcoming Rummikub NZ National Champion, who will proudly stand for New Zealand at the upcoming WRC. If you’re confident that you possess the necessary skills to represent New Zealand in the forthcoming WRC, then its time to register for the New Zealand Rummikub Championship 2024. This year we will be holding the New Zealand Rummikub Championship at JetPark Hotel Auckland. New Zealand has been proudly represented at 7 of the 9 WRC’s. WRC\\nWRC - Rummikub WRC WRC Play Online Play Rummikub online and experience the game conquering the world WRC WRC WRC The WRC- Rummikub World Championships The first WRC was held in Jerusalem 31 years ago, back then only 12 countries participated. The WRC – Rummikub World Championships is occurring every three years in a different major location in the world, such as the Eiffel Tower in Paris, Hamleys the largest toy store in London, a bullfighting arena in Spain and The DZ Bank Berlin architected by Frank Gehry. Last WRC in 2018 we had 120 participants from 32 different countries. 2024 the WRC11 will be held in Gdansk, Poland.\\nJun 6, 2024 ... The winner walks away with a £250 cash prize, an IDEAL games bundle – and bragging rights. Rummikub Championship, John Adams, Lynette Leet.')], 'grades': [], 'hallucination_grade': False, 'answer_grade': False, 'decision': '', 'web_search_query': '', 'route': 'vectorstore'}\n"
     ]
    },
    {
     "name": "stderr",
     "output_type": "stream",
     "text": [
      "INFO:httpx:HTTP Request: POST http://127.0.0.1:11434/api/chat \"HTTP/1.1 200 OK\"\n",
      "INFO:__main__:---GRADE HALLUCINATION---\n",
      "INFO:__main__:---GRADE GENERATION vs QUESTION---\n"
     ]
    },
    {
     "name": "stdout",
     "output_type": "stream",
     "text": [
      "{'messages': [HumanMessage(content='What is the purpose of the joker tile in Rummikub?', additional_kwargs={}, response_metadata={}, id='743e87de-8c66-427f-b92e-f0e192a90c96'), AIMessage(content='The joker tile in Rummikub can represent any other tile in a set, and its number and color are that of the tile it replaces. It can be retrieved from a set if the player replaces it with the appropriate tile(s) during their turn.', additional_kwargs={}, response_metadata={}, id='a3251d84-a573-426a-82e5-581513e8df86'), HumanMessage(content='And how would I use it strategically?', additional_kwargs={}, response_metadata={}, id='eff5dad0-a9cb-41e5-a62e-4caec6e95d35'), AIMessage(content='Use jokers strategically by retaining them for opportunities to form sets or runs, but avoid holding onto them when you can', additional_kwargs={}, response_metadata={}, id='7a73670b-c688-482e-ae80-9e70c53053b4'), HumanMessage(content='Is there a Rummikub championship?', additional_kwargs={}, response_metadata={}, id='58739175-3624-4c3c-a47b-07e35dbd03d4'), AIMessage(content='Is there a Rummikub championship? The WRC - Rummikub World Championships has been held every three years at different prominent global venues, with the next one scheduled for 2024 in Gdansk, Poland. The winner will receive a £250 cash prize and bragging rights.', additional_kwargs={}, response_metadata={}, id='0802b194-5f35-4f32-b17a-781dbfd4210b')], 'improved_query': 'Is there a Rummikub championship?', 'question': 'Is there a Rummikub championship?', 'web_search': 'No', 'loop_generate': 1, 'loop_web_search': 1, 'documents': [Document(metadata={}, page_content='WRC - Rummikub WRC WRC WRC The Wrc - Rummikub World Championships The WRC, also known as the Rummikub World Championships, has since evolved into a prestigious event held every three years at different prominent global venues. The quest is underway to find the upcoming Rummikub NZ National Champion, who will proudly stand for New Zealand at the upcoming WRC. If you’re confident that you possess the necessary skills to represent New Zealand in the forthcoming WRC, then its time to register for the New Zealand Rummikub Championship 2024. This year we will be holding the New Zealand Rummikub Championship at JetPark Hotel Auckland. New Zealand has been proudly represented at 7 of the 9 WRC’s. WRC\\nWRC - Rummikub WRC WRC Play Online Play Rummikub online and experience the game conquering the world WRC WRC WRC The WRC- Rummikub World Championships The first WRC was held in Jerusalem 31 years ago, back then only 12 countries participated. The WRC – Rummikub World Championships is occurring every three years in a different major location in the world, such as the Eiffel Tower in Paris, Hamleys the largest toy store in London, a bullfighting arena in Spain and The DZ Bank Berlin architected by Frank Gehry. Last WRC in 2018 we had 120 participants from 32 different countries. 2024 the WRC11 will be held in Gdansk, Poland.\\nJun 6, 2024 ... The winner walks away with a £250 cash prize, an IDEAL games bundle – and bragging rights. Rummikub Championship, John Adams, Lynette Leet.')], 'filtered_docs': [Document(metadata={}, page_content='WRC - Rummikub WRC WRC WRC The Wrc - Rummikub World Championships The WRC, also known as the Rummikub World Championships, has since evolved into a prestigious event held every three years at different prominent global venues. The quest is underway to find the upcoming Rummikub NZ National Champion, who will proudly stand for New Zealand at the upcoming WRC. If you’re confident that you possess the necessary skills to represent New Zealand in the forthcoming WRC, then its time to register for the New Zealand Rummikub Championship 2024. This year we will be holding the New Zealand Rummikub Championship at JetPark Hotel Auckland. New Zealand has been proudly represented at 7 of the 9 WRC’s. WRC\\nWRC - Rummikub WRC WRC Play Online Play Rummikub online and experience the game conquering the world WRC WRC WRC The WRC- Rummikub World Championships The first WRC was held in Jerusalem 31 years ago, back then only 12 countries participated. The WRC – Rummikub World Championships is occurring every three years in a different major location in the world, such as the Eiffel Tower in Paris, Hamleys the largest toy store in London, a bullfighting arena in Spain and The DZ Bank Berlin architected by Frank Gehry. Last WRC in 2018 we had 120 participants from 32 different countries. 2024 the WRC11 will be held in Gdansk, Poland.\\nJun 6, 2024 ... The winner walks away with a £250 cash prize, an IDEAL games bundle – and bragging rights. Rummikub Championship, John Adams, Lynette Leet.')], 'grades': [], 'hallucination_grade': False, 'answer_grade': False, 'decision': '', 'web_search_query': '', 'route': 'vectorstore'}\n"
     ]
    },
    {
     "name": "stderr",
     "output_type": "stream",
     "text": [
      "INFO:httpx:HTTP Request: POST http://127.0.0.1:11434/api/chat \"HTTP/1.1 200 OK\"\n"
     ]
    },
    {
     "name": "stdout",
     "output_type": "stream",
     "text": [
      "---DECISION: GENERATION ADDRESSES QUESTION---\n"
     ]
    },
    {
     "name": "stderr",
     "output_type": "stream",
     "text": [
      "INFO:httpx:HTTP Request: POST http://127.0.0.1:11434/api/chat \"HTTP/1.1 200 OK\"\n",
      "INFO:__main__:---DECISION: GENERATION GROUNDED IN DOCUMENT---\n",
      "INFO:__main__:---CHECK GRADINGS---\n",
      "INFO:__main__:---DECISION: GENERATION ADDRESSES QUESTION---\n",
      "INFO:__main__:---RESET STATE---\n"
     ]
    },
    {
     "name": "stdout",
     "output_type": "stream",
     "text": [
      "{'messages': [HumanMessage(content='What is the purpose of the joker tile in Rummikub?', additional_kwargs={}, response_metadata={}, id='743e87de-8c66-427f-b92e-f0e192a90c96'), AIMessage(content='The joker tile in Rummikub can represent any other tile in a set, and its number and color are that of the tile it replaces. It can be retrieved from a set if the player replaces it with the appropriate tile(s) during their turn.', additional_kwargs={}, response_metadata={}, id='a3251d84-a573-426a-82e5-581513e8df86'), HumanMessage(content='And how would I use it strategically?', additional_kwargs={}, response_metadata={}, id='eff5dad0-a9cb-41e5-a62e-4caec6e95d35'), AIMessage(content='Use jokers strategically by retaining them for opportunities to form sets or runs, but avoid holding onto them when you can', additional_kwargs={}, response_metadata={}, id='7a73670b-c688-482e-ae80-9e70c53053b4'), HumanMessage(content='Is there a Rummikub championship?', additional_kwargs={}, response_metadata={}, id='58739175-3624-4c3c-a47b-07e35dbd03d4'), AIMessage(content='Is there a Rummikub championship? The WRC - Rummikub World Championships has been held every three years at different prominent global venues, with the next one scheduled for 2024 in Gdansk, Poland. The winner will receive a £250 cash prize and bragging rights.', additional_kwargs={}, response_metadata={}, id='0802b194-5f35-4f32-b17a-781dbfd4210b')], 'improved_query': 'Is there a Rummikub championship?', 'question': 'Is there a Rummikub championship?', 'web_search': 'No', 'loop_generate': 1, 'loop_web_search': 1, 'documents': [Document(metadata={}, page_content='WRC - Rummikub WRC WRC WRC The Wrc - Rummikub World Championships The WRC, also known as the Rummikub World Championships, has since evolved into a prestigious event held every three years at different prominent global venues. The quest is underway to find the upcoming Rummikub NZ National Champion, who will proudly stand for New Zealand at the upcoming WRC. If you’re confident that you possess the necessary skills to represent New Zealand in the forthcoming WRC, then its time to register for the New Zealand Rummikub Championship 2024. This year we will be holding the New Zealand Rummikub Championship at JetPark Hotel Auckland. New Zealand has been proudly represented at 7 of the 9 WRC’s. WRC\\nWRC - Rummikub WRC WRC Play Online Play Rummikub online and experience the game conquering the world WRC WRC WRC The WRC- Rummikub World Championships The first WRC was held in Jerusalem 31 years ago, back then only 12 countries participated. The WRC – Rummikub World Championships is occurring every three years in a different major location in the world, such as the Eiffel Tower in Paris, Hamleys the largest toy store in London, a bullfighting arena in Spain and The DZ Bank Berlin architected by Frank Gehry. Last WRC in 2018 we had 120 participants from 32 different countries. 2024 the WRC11 will be held in Gdansk, Poland.\\nJun 6, 2024 ... The winner walks away with a £250 cash prize, an IDEAL games bundle – and bragging rights. Rummikub Championship, John Adams, Lynette Leet.')], 'filtered_docs': [Document(metadata={}, page_content='WRC - Rummikub WRC WRC WRC The Wrc - Rummikub World Championships The WRC, also known as the Rummikub World Championships, has since evolved into a prestigious event held every three years at different prominent global venues. The quest is underway to find the upcoming Rummikub NZ National Champion, who will proudly stand for New Zealand at the upcoming WRC. If you’re confident that you possess the necessary skills to represent New Zealand in the forthcoming WRC, then its time to register for the New Zealand Rummikub Championship 2024. This year we will be holding the New Zealand Rummikub Championship at JetPark Hotel Auckland. New Zealand has been proudly represented at 7 of the 9 WRC’s. WRC\\nWRC - Rummikub WRC WRC Play Online Play Rummikub online and experience the game conquering the world WRC WRC WRC The WRC- Rummikub World Championships The first WRC was held in Jerusalem 31 years ago, back then only 12 countries participated. The WRC – Rummikub World Championships is occurring every three years in a different major location in the world, such as the Eiffel Tower in Paris, Hamleys the largest toy store in London, a bullfighting arena in Spain and The DZ Bank Berlin architected by Frank Gehry. Last WRC in 2018 we had 120 participants from 32 different countries. 2024 the WRC11 will be held in Gdansk, Poland.\\nJun 6, 2024 ... The winner walks away with a £250 cash prize, an IDEAL games bundle – and bragging rights. Rummikub Championship, John Adams, Lynette Leet.')], 'grades': [], 'hallucination_grade': False, 'answer_grade': False, 'decision': '', 'web_search_query': '', 'route': 'vectorstore'}\n",
      "{'messages': [HumanMessage(content='What is the purpose of the joker tile in Rummikub?', additional_kwargs={}, response_metadata={}, id='743e87de-8c66-427f-b92e-f0e192a90c96'), AIMessage(content='The joker tile in Rummikub can represent any other tile in a set, and its number and color are that of the tile it replaces. It can be retrieved from a set if the player replaces it with the appropriate tile(s) during their turn.', additional_kwargs={}, response_metadata={}, id='a3251d84-a573-426a-82e5-581513e8df86'), HumanMessage(content='And how would I use it strategically?', additional_kwargs={}, response_metadata={}, id='eff5dad0-a9cb-41e5-a62e-4caec6e95d35'), AIMessage(content='Use jokers strategically by retaining them for opportunities to form sets or runs, but avoid holding onto them when you can', additional_kwargs={}, response_metadata={}, id='7a73670b-c688-482e-ae80-9e70c53053b4'), HumanMessage(content='Is there a Rummikub championship?', additional_kwargs={}, response_metadata={}, id='58739175-3624-4c3c-a47b-07e35dbd03d4'), AIMessage(content='Is there a Rummikub championship? The WRC - Rummikub World Championships has been held every three years at different prominent global venues, with the next one scheduled for 2024 in Gdansk, Poland. The winner will receive a £250 cash prize and bragging rights.', additional_kwargs={}, response_metadata={}, id='0802b194-5f35-4f32-b17a-781dbfd4210b')], 'improved_query': 'Is there a Rummikub championship?', 'question': 'Is there a Rummikub championship?', 'web_search': 'No', 'loop_generate': 1, 'loop_web_search': 1, 'documents': [Document(metadata={}, page_content='WRC - Rummikub WRC WRC WRC The Wrc - Rummikub World Championships The WRC, also known as the Rummikub World Championships, has since evolved into a prestigious event held every three years at different prominent global venues. The quest is underway to find the upcoming Rummikub NZ National Champion, who will proudly stand for New Zealand at the upcoming WRC. If you’re confident that you possess the necessary skills to represent New Zealand in the forthcoming WRC, then its time to register for the New Zealand Rummikub Championship 2024. This year we will be holding the New Zealand Rummikub Championship at JetPark Hotel Auckland. New Zealand has been proudly represented at 7 of the 9 WRC’s. WRC\\nWRC - Rummikub WRC WRC Play Online Play Rummikub online and experience the game conquering the world WRC WRC WRC The WRC- Rummikub World Championships The first WRC was held in Jerusalem 31 years ago, back then only 12 countries participated. The WRC – Rummikub World Championships is occurring every three years in a different major location in the world, such as the Eiffel Tower in Paris, Hamleys the largest toy store in London, a bullfighting arena in Spain and The DZ Bank Berlin architected by Frank Gehry. Last WRC in 2018 we had 120 participants from 32 different countries. 2024 the WRC11 will be held in Gdansk, Poland.\\nJun 6, 2024 ... The winner walks away with a £250 cash prize, an IDEAL games bundle – and bragging rights. Rummikub Championship, John Adams, Lynette Leet.')], 'filtered_docs': [Document(metadata={}, page_content='WRC - Rummikub WRC WRC WRC The Wrc - Rummikub World Championships The WRC, also known as the Rummikub World Championships, has since evolved into a prestigious event held every three years at different prominent global venues. The quest is underway to find the upcoming Rummikub NZ National Champion, who will proudly stand for New Zealand at the upcoming WRC. If you’re confident that you possess the necessary skills to represent New Zealand in the forthcoming WRC, then its time to register for the New Zealand Rummikub Championship 2024. This year we will be holding the New Zealand Rummikub Championship at JetPark Hotel Auckland. New Zealand has been proudly represented at 7 of the 9 WRC’s. WRC\\nWRC - Rummikub WRC WRC Play Online Play Rummikub online and experience the game conquering the world WRC WRC WRC The WRC- Rummikub World Championships The first WRC was held in Jerusalem 31 years ago, back then only 12 countries participated. The WRC – Rummikub World Championships is occurring every three years in a different major location in the world, such as the Eiffel Tower in Paris, Hamleys the largest toy store in London, a bullfighting arena in Spain and The DZ Bank Berlin architected by Frank Gehry. Last WRC in 2018 we had 120 participants from 32 different countries. 2024 the WRC11 will be held in Gdansk, Poland.\\nJun 6, 2024 ... The winner walks away with a £250 cash prize, an IDEAL games bundle – and bragging rights. Rummikub Championship, John Adams, Lynette Leet.')], 'grades': [], 'hallucination_grade': False, 'answer_grade': False, 'decision': 'useful', 'web_search_query': '', 'route': 'vectorstore'}\n",
      "{'messages': [HumanMessage(content='What is the purpose of the joker tile in Rummikub?', additional_kwargs={}, response_metadata={}, id='743e87de-8c66-427f-b92e-f0e192a90c96'), AIMessage(content='The joker tile in Rummikub can represent any other tile in a set, and its number and color are that of the tile it replaces. It can be retrieved from a set if the player replaces it with the appropriate tile(s) during their turn.', additional_kwargs={}, response_metadata={}, id='a3251d84-a573-426a-82e5-581513e8df86'), HumanMessage(content='And how would I use it strategically?', additional_kwargs={}, response_metadata={}, id='eff5dad0-a9cb-41e5-a62e-4caec6e95d35'), AIMessage(content='Use jokers strategically by retaining them for opportunities to form sets or runs, but avoid holding onto them when you can', additional_kwargs={}, response_metadata={}, id='7a73670b-c688-482e-ae80-9e70c53053b4'), HumanMessage(content='Is there a Rummikub championship?', additional_kwargs={}, response_metadata={}, id='58739175-3624-4c3c-a47b-07e35dbd03d4'), AIMessage(content='Is there a Rummikub championship? The WRC - Rummikub World Championships has been held every three years at different prominent global venues, with the next one scheduled for 2024 in Gdansk, Poland. The winner will receive a £250 cash prize and bragging rights.', additional_kwargs={}, response_metadata={}, id='0802b194-5f35-4f32-b17a-781dbfd4210b')], 'improved_query': '', 'question': '', 'web_search': '', 'loop_generate': 0, 'loop_web_search': 0, 'documents': [], 'filtered_docs': [], 'grades': [], 'hallucination_grade': False, 'answer_grade': False, 'decision': '', 'web_search_query': '', 'route': 'vectorstore'}\n"
     ]
    }
   ],
   "execution_count": 389
  },
  {
   "cell_type": "code",
   "id": "6d909021ecbe6cee",
   "metadata": {
    "ExecuteTime": {
     "end_time": "2025-01-03T23:45:41.173760Z",
     "start_time": "2025-01-03T23:38:54.295309Z"
    }
   },
   "source": [
    "config = {\"configurable\": {\"thread_id\": \"1\"}}\n",
    "\n",
    "inputs = {\n",
    "    \"messages\": [\"Where was the last one held?\"],\n",
    "    \"max_retries\": 3,\n",
    "}\n",
    "\n",
    "# Execute the graph synchronously (no streaming)\n",
    "final_state = graph.invoke(inputs, config=config)\n",
    "\n",
    "print(final_state[\"messages\"][-1].content)"
   ],
   "outputs": [
    {
     "name": "stderr",
     "output_type": "stream",
     "text": [
      "INFO:__main__:---ROUTE QUESTION---\n",
      "INFO:httpx:HTTP Request: POST http://127.0.0.1:11434/api/chat \"HTTP/1.1 200 OK\"\n",
      "INFO:__main__:---IMPROVE QUERY---\n",
      "INFO:httpx:HTTP Request: POST http://127.0.0.1:11434/api/chat \"HTTP/1.1 200 OK\"\n",
      "INFO:__main__:---PROCEED TO VECTORSTORE---\n",
      "INFO:__main__:---RETRIEVE---\n",
      "INFO:httpx:HTTP Request: POST http://localhost:11434/api/embed \"HTTP/1.1 200 OK\"\n",
      "INFO:httpx:HTTP Request: POST http://localhost:5000/api/v2/tenants/default_tenant/databases/default_database/collections/3d1a31a4-275f-43c1-bc00-4ab3f1aad184/query \"HTTP/1.1 200 OK\"\n",
      "INFO:httpx:HTTP Request: POST http://127.0.0.1:11434/api/chat \"HTTP/1.1 200 OK\"\n",
      "INFO:__main__:---GRADE: DOCUMENT NOT RELEVANT---\n",
      "INFO:httpx:HTTP Request: POST http://127.0.0.1:11434/api/chat \"HTTP/1.1 200 OK\"\n",
      "INFO:httpx:HTTP Request: POST http://127.0.0.1:11434/api/chat \"HTTP/1.1 200 OK\"\n",
      "INFO:__main__:---GRADE: DOCUMENT NOT RELEVANT---\n",
      "INFO:__main__:---GRADE: DOCUMENT NOT RELEVANT---\n",
      "INFO:__main__:---CHECK IF WEB SEARCH IS NECESSARY---\n",
      "INFO:__main__:---NO RELEVANT DOCUMENTS---\n",
      "INFO:__main__:---ASSESS GRADED DOCUMENTS---\n",
      "INFO:__main__:---DECISION: NO RELEVANT DOCUMENTS, INCLUDE WEB SEARCH---\n",
      "INFO:__main__:---WEB SEARCH---\n",
      "INFO:httpx:HTTP Request: POST http://127.0.0.1:11434/api/chat \"HTTP/1.1 200 OK\"\n",
      "INFO:__main__:---GRADE: DOCUMENT RELEVANT---\n",
      "INFO:__main__:---CHECK IF WEB SEARCH IS NECESSARY---\n",
      "INFO:__main__:---RELEVANT DOCUMENTS FOUND---\n",
      "INFO:__main__:---ASSESS GRADED DOCUMENTS---\n",
      "INFO:__main__:---DECISION: GENERATE---\n",
      "INFO:__main__:---GENERATE---\n",
      "INFO:httpx:HTTP Request: POST http://127.0.0.1:11434/api/chat \"HTTP/1.1 200 OK\"\n",
      "INFO:__main__:---GRADE HALLUCINATION---\n",
      "INFO:__main__:---GRADE GENERATION vs QUESTION---\n",
      "INFO:httpx:HTTP Request: POST http://127.0.0.1:11434/api/chat \"HTTP/1.1 200 OK\"\n"
     ]
    },
    {
     "name": "stdout",
     "output_type": "stream",
     "text": [
      "---DECISION: GENERATION ADDRESSES QUESTION---\n"
     ]
    },
    {
     "name": "stderr",
     "output_type": "stream",
     "text": [
      "INFO:httpx:HTTP Request: POST http://127.0.0.1:11434/api/chat \"HTTP/1.1 200 OK\"\n",
      "INFO:__main__:---CHECK GRADINGS---\n",
      "INFO:__main__:---DECISION: GENERATION HALLUCINATED---\n",
      "INFO:__main__:---ADJUST GENERATION AFTER HALLUCINATION---\n",
      "INFO:httpx:HTTP Request: POST http://127.0.0.1:11434/api/chat \"HTTP/1.1 200 OK\"\n",
      "INFO:__main__:---GRADE HALLUCINATION---\n",
      "INFO:__main__:---GRADE GENERATION vs QUESTION---\n",
      "INFO:httpx:HTTP Request: POST http://127.0.0.1:11434/api/chat \"HTTP/1.1 200 OK\"\n"
     ]
    },
    {
     "name": "stdout",
     "output_type": "stream",
     "text": [
      "---DECISION: GENERATION ADDRESSES QUESTION---\n"
     ]
    },
    {
     "name": "stderr",
     "output_type": "stream",
     "text": [
      "INFO:httpx:HTTP Request: POST http://127.0.0.1:11434/api/chat \"HTTP/1.1 200 OK\"\n",
      "INFO:__main__:---CHECK GRADINGS---\n",
      "INFO:__main__:---DECISION: GENERATION HALLUCINATED---\n",
      "INFO:__main__:---ADJUST GENERATION AFTER HALLUCINATION---\n",
      "INFO:httpx:HTTP Request: POST http://127.0.0.1:11434/api/chat \"HTTP/1.1 200 OK\"\n",
      "INFO:__main__:---GRADE HALLUCINATION---\n",
      "INFO:__main__:---GRADE GENERATION vs QUESTION---\n",
      "INFO:httpx:HTTP Request: POST http://127.0.0.1:11434/api/chat \"HTTP/1.1 200 OK\"\n"
     ]
    },
    {
     "name": "stdout",
     "output_type": "stream",
     "text": [
      "---DECISION: GENERATION ADDRESSES QUESTION---\n"
     ]
    },
    {
     "name": "stderr",
     "output_type": "stream",
     "text": [
      "INFO:httpx:HTTP Request: POST http://127.0.0.1:11434/api/chat \"HTTP/1.1 200 OK\"\n",
      "INFO:__main__:---DECISION: GENERATION GROUNDED IN DOCUMENT---\n",
      "INFO:__main__:---CHECK GRADINGS---\n",
      "INFO:__main__:---DECISION: GENERATION ADDRESSES QUESTION---\n",
      "INFO:__main__:---RESET STATE---\n"
     ]
    },
    {
     "name": "stdout",
     "output_type": "stream",
     "text": [
      "The WRC - Rummikub World Championships has been held every three years at different prominent global venues, with the next one scheduled for 2024 in Gdansk, Poland. The winner will receive a cash prize and bragging rights.\n"
     ]
    }
   ],
   "execution_count": 390
  },
  {
   "metadata": {
    "ExecuteTime": {
     "end_time": "2025-01-03T23:51:40.333668Z",
     "start_time": "2025-01-03T23:45:41.199427Z"
    }
   },
   "cell_type": "code",
   "source": [
    "config = {\"configurable\": {\"thread_id\": \"1\"}}\n",
    "\n",
    "inputs = {\n",
    "    \"messages\": [\"What do you mean that holding a joker could lose you the game?\"],\n",
    "    \"max_retries\": 3,\n",
    "}\n",
    "\n",
    "# Execute the graph synchronously (no streaming)\n",
    "final_state = graph.invoke(inputs, config=config)\n",
    "\n",
    "print(final_state[\"messages\"][-1].content)"
   ],
   "id": "d53e6e5ec3a12f31",
   "outputs": [
    {
     "name": "stderr",
     "output_type": "stream",
     "text": [
      "INFO:__main__:---ROUTE QUESTION---\n",
      "INFO:httpx:HTTP Request: POST http://127.0.0.1:11434/api/chat \"HTTP/1.1 200 OK\"\n",
      "INFO:__main__:---IMPROVE QUERY---\n",
      "INFO:httpx:HTTP Request: POST http://127.0.0.1:11434/api/chat \"HTTP/1.1 200 OK\"\n",
      "INFO:__main__:---PROCEED TO VECTORSTORE---\n",
      "INFO:__main__:---RETRIEVE---\n",
      "INFO:httpx:HTTP Request: POST http://localhost:11434/api/embed \"HTTP/1.1 200 OK\"\n",
      "INFO:httpx:HTTP Request: POST http://localhost:5000/api/v2/tenants/default_tenant/databases/default_database/collections/3d1a31a4-275f-43c1-bc00-4ab3f1aad184/query \"HTTP/1.1 200 OK\"\n",
      "INFO:httpx:HTTP Request: POST http://127.0.0.1:11434/api/chat \"HTTP/1.1 200 OK\"\n",
      "INFO:__main__:---GRADE: DOCUMENT RELEVANT---\n",
      "INFO:httpx:HTTP Request: POST http://127.0.0.1:11434/api/chat \"HTTP/1.1 200 OK\"\n",
      "INFO:httpx:HTTP Request: POST http://127.0.0.1:11434/api/chat \"HTTP/1.1 200 OK\"\n",
      "INFO:__main__:---GRADE: DOCUMENT RELEVANT---\n",
      "INFO:__main__:---GRADE: DOCUMENT RELEVANT---\n",
      "INFO:__main__:---CHECK IF WEB SEARCH IS NECESSARY---\n",
      "INFO:__main__:---RELEVANT DOCUMENTS FOUND---\n",
      "INFO:__main__:---ASSESS GRADED DOCUMENTS---\n",
      "INFO:__main__:---DECISION: GENERATE---\n",
      "INFO:__main__:---GENERATE---\n",
      "INFO:httpx:HTTP Request: POST http://127.0.0.1:11434/api/chat \"HTTP/1.1 200 OK\"\n",
      "INFO:__main__:---GRADE HALLUCINATION---\n",
      "INFO:__main__:---GRADE GENERATION vs QUESTION---\n",
      "INFO:httpx:HTTP Request: POST http://127.0.0.1:11434/api/chat \"HTTP/1.1 200 OK\"\n"
     ]
    },
    {
     "name": "stdout",
     "output_type": "stream",
     "text": [
      "---DECISION: GENERATION ADDRESSES QUESTION---\n"
     ]
    },
    {
     "name": "stderr",
     "output_type": "stream",
     "text": [
      "INFO:httpx:HTTP Request: POST http://127.0.0.1:11434/api/chat \"HTTP/1.1 200 OK\"\n",
      "INFO:__main__:---DECISION: GENERATION GROUNDED IN DOCUMENT---\n",
      "INFO:__main__:---CHECK GRADINGS---\n",
      "INFO:__main__:---DECISION: GENERATION ADDRESSES QUESTION---\n",
      "INFO:__main__:---RESET STATE---\n"
     ]
    },
    {
     "name": "stdout",
     "output_type": "stream",
     "text": [
      "To hold a joker in Rummikub means retaining it for strategic opportunities, such as replacing it with another tile during your turn. To avoid losing the game with one, save jokers for critical moments and be cautious not to get caught without using them.\n"
     ]
    }
   ],
   "execution_count": 391
  },
  {
   "metadata": {
    "ExecuteTime": {
     "end_time": "2025-01-03T23:52:39.738231Z",
     "start_time": "2025-01-03T23:51:40.382310Z"
    }
   },
   "cell_type": "code",
   "source": [
    "config = {\"configurable\": {\"thread_id\": \"1\"}}\n",
    "\n",
    "inputs = {\n",
    "    \"messages\": [\"Why is paris called the city of love?\"],\n",
    "    \"max_retries\": 3,\n",
    "}\n",
    "\n",
    "# Execute the graph synchronously (no streaming)\n",
    "final_state = graph.invoke(inputs, config=config)\n",
    "\n",
    "print(final_state[\"messages\"][-1].content)"
   ],
   "id": "3d8c3ccad2979ad2",
   "outputs": [
    {
     "name": "stderr",
     "output_type": "stream",
     "text": [
      "INFO:__main__:---ROUTE QUESTION---\n",
      "INFO:httpx:HTTP Request: POST http://127.0.0.1:11434/api/chat \"HTTP/1.1 200 OK\"\n",
      "INFO:__main__:---HANDLE IRRELEVANT---\n",
      "INFO:__main__:---RESET STATE---\n"
     ]
    },
    {
     "name": "stdout",
     "output_type": "stream",
     "text": [
      "The question is either not clear or not relevant to Rummikub. I can answer any questions related to the game Rummikub.\n"
     ]
    }
   ],
   "execution_count": 392
  },
  {
   "cell_type": "markdown",
   "id": "a62a9d3d7d061bec",
   "metadata": {},
   "source": [
    "## Conclusion\n",
    "Everything is optimized to answer the questions as best as possible. But remember that the llm is still a small, so it may not be perfect."
   ]
  }
 ],
 "metadata": {
  "kernelspec": {
   "display_name": "Python 3",
   "language": "python",
   "name": "python3"
  },
  "language_info": {
   "codemirror_mode": {
    "name": "ipython",
    "version": 2
   },
   "file_extension": ".py",
   "mimetype": "text/x-python",
   "name": "python",
   "nbconvert_exporter": "python",
   "pygments_lexer": "ipython2",
   "version": "2.7.6"
  }
 },
 "nbformat": 4,
 "nbformat_minor": 5
}
