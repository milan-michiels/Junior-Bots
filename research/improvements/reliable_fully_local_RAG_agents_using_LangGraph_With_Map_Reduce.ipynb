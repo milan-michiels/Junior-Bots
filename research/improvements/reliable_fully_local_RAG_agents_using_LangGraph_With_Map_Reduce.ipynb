{
 "cells": [
  {
   "metadata": {},
   "cell_type": "markdown",
   "source": [
    "# Reliable Fully Local RAG Agents Using LangGraph with MapReduce\n",
    "\n",
    "This notebook demonstrates how integrating the **MapReduce** programming model enhances the performance of RAG (Retrieval-Augmented Generation) agents.\n",
    "\n",
    "## **What Is MapReduce?**\n",
    "\n",
    "MapReduce is a programming model for processing large datasets using a parallel, distributed algorithm. It consists of two key steps:\n",
    "\n",
    "1. **Map Phase**: Filters and sorts data (e.g., grouping students by first name).\n",
    "2. **Reduce Phase**: Aggregates or summarizes data (e.g., counting students in each group).\n",
    "\n",
    "The MapReduce system manages distributed servers, parallel tasks, data transfers, and ensures fault tolerance.\n",
    "\n",
    "## **How It Improves RAG Agents**\n",
    "\n",
    "In this notebook, MapReduce enables parallel processing for:\n",
    "- **Document Grading**: Analyzing multiple documents at the same time.\n",
    "- **Decision Making**: Based on the graded documents, the agent either:\n",
    "  - Generates an answer, or\n",
    "  - Conducts a web search for additional context.\n",
    "\n",
    "## **Key Benefits**\n",
    "\n",
    "Using MapReduce allows the RAG agent to:\n",
    "- Process multiple tasks concurrently.\n",
    "- Handle large datasets more efficiently.\n",
    "- Improve response times while maintaining reliability."
   ],
   "id": "52e78572e0bbd561"
  },
  {
   "cell_type": "code",
   "id": "c9d93df7f9f5dec8",
   "metadata": {
    "ExecuteTime": {
     "end_time": "2024-12-22T13:12:59.141970Z",
     "start_time": "2024-12-22T13:12:59.124555Z"
    }
   },
   "source": [
    "import json\n",
    "import logging\n",
    "import operator\n",
    "import os\n",
    "from typing import Annotated, List\n",
    "\n",
    "import chromadb\n",
    "import httpx\n",
    "from dotenv import load_dotenv\n",
    "from IPython.display import Image, display\n",
    "from langchain.schema import Document\n",
    "from langchain_chroma import Chroma\n",
    "from langchain_community.document_loaders import PDFPlumberLoader\n",
    "from langchain_community.tools.tavily_search import TavilySearchResults\n",
    "from langchain_core.messages import HumanMessage, SystemMessage\n",
    "from langchain_ollama import ChatOllama, OllamaEmbeddings\n",
    "from langchain_text_splitters import RecursiveCharacterTextSplitter\n",
    "from langgraph.constants import Send\n",
    "from langgraph.graph import END, StateGraph\n",
    "from typing_extensions import TypedDict\n",
    "\n",
    "load_dotenv(dotenv_path=\"../../.env.research\")"
   ],
   "outputs": [
    {
     "data": {
      "text/plain": [
       "True"
      ]
     },
     "execution_count": 98,
     "metadata": {},
     "output_type": "execute_result"
    }
   ],
   "execution_count": 98
  },
  {
   "cell_type": "code",
   "id": "4cf03d6ccb693db4",
   "metadata": {
    "ExecuteTime": {
     "end_time": "2024-12-22T13:13:00.384462Z",
     "start_time": "2024-12-22T13:12:59.165390Z"
    }
   },
   "source": [
    "client = chromadb.HttpClient(\n",
    "    host=os.getenv(\"CHROMA_HOST\"), port=int(os.getenv(\"CHROMA_PORT\"))\n",
    ")"
   ],
   "outputs": [],
   "execution_count": 99
  },
  {
   "cell_type": "code",
   "id": "initial_id",
   "metadata": {
    "collapsed": true,
    "ExecuteTime": {
     "end_time": "2024-12-22T13:13:03.559690Z",
     "start_time": "2024-12-22T13:13:00.399884Z"
    }
   },
   "source": [
    "### LLM\n",
    "local_llm = str(os.getenv(\"LLM_MODEL\"))\n",
    "llm = ChatOllama(model=local_llm, temperature=0.1)\n",
    "llm_json_mode = ChatOllama(model=local_llm, temperature=0, format=\"json\")\n",
    "embedder = OllamaEmbeddings(\n",
    "    model=str(os.getenv(\"EMBEDDING_MODEL\")), base_url=os.getenv(\"OLLAMA_URI\")\n",
    ")"
   ],
   "outputs": [],
   "execution_count": 100
  },
  {
   "metadata": {
    "ExecuteTime": {
     "end_time": "2024-12-22T13:13:03.586015Z",
     "start_time": "2024-12-22T13:13:03.578Z"
    }
   },
   "cell_type": "code",
   "source": [
    "def load_pdfs_from_directory(directory_path):\n",
    "    all_documents = []\n",
    "    for filename in os.listdir(directory_path):\n",
    "        if filename.endswith(\".pdf\"):\n",
    "            file_path = os.path.join(directory_path, filename)\n",
    "            loader = PDFPlumberLoader(file_path=file_path)\n",
    "            documents = loader.load()\n",
    "            all_documents.extend(documents)\n",
    "    return all_documents"
   ],
   "id": "605ccf47916d849c",
   "outputs": [],
   "execution_count": 101
  },
  {
   "cell_type": "code",
   "id": "541a1e10f44620",
   "metadata": {
    "ExecuteTime": {
     "end_time": "2024-12-22T13:13:03.625865Z",
     "start_time": "2024-12-22T13:13:03.605736Z"
    }
   },
   "source": [
    "if os.getenv(\"CHROMA_COLLECTION_NAME\") not in [\n",
    "    collection.name for collection in client.list_collections()\n",
    "]:\n",
    "    pdf_docs = load_pdfs_from_directory(os.getenv(\"DATA_DIR\"))\n",
    "    text_splitter = RecursiveCharacterTextSplitter(chunk_size=1000, chunk_overlap=200)\n",
    "    all_splits = text_splitter.split_documents(pdf_docs)\n",
    "    vectorstore = None\n",
    "    try:\n",
    "        vectorstore = Chroma(\n",
    "            client=client,\n",
    "            collection_name=os.getenv(\"CHROMA_COLLECTION_NAME\"),\n",
    "            embedding_function=OllamaEmbeddings(\n",
    "                model=\"nomic-embed-text\", base_url=os.getenv(\"OLLAMA_URI\")\n",
    "            ),\n",
    "        )\n",
    "        vectorstore.add_documents(documents=all_splits)\n",
    "    except httpx.ConnectError as e:\n",
    "        logging.error(f\"Could not connect to Chroma: {e}\")\n",
    "        vectorstore.delete_collection()"
   ],
   "outputs": [],
   "execution_count": 102
  },
  {
   "metadata": {
    "ExecuteTime": {
     "end_time": "2024-12-22T13:13:03.665411Z",
     "start_time": "2024-12-22T13:13:03.643835Z"
    }
   },
   "cell_type": "code",
   "source": [
    "### Retriever\n",
    "vectorstore = Chroma(\n",
    "    collection_name=os.getenv(\"CHROMA_COLLECTION_NAME\"),\n",
    "    client=client,\n",
    "    embedding_function=embedder,\n",
    "    create_collection_if_not_exists=False,\n",
    ")\n",
    "retriever = vectorstore.as_retriever(search_kwargs={\"k\": 3})"
   ],
   "id": "d0a8f1467bb3e61f",
   "outputs": [],
   "execution_count": 103
  },
  {
   "cell_type": "markdown",
   "id": "8338b2899d040579",
   "metadata": {},
   "source": "## Components"
  },
  {
   "cell_type": "code",
   "id": "763843d9a1f4cc46",
   "metadata": {
    "ExecuteTime": {
     "end_time": "2024-12-22T13:13:03.689945Z",
     "start_time": "2024-12-22T13:13:03.683417Z"
    }
   },
   "source": [
    "### Router\n",
    "\n",
    "# Prompt\n",
    "router_instructions = \"\"\"You are a routing assistant that determines the best data source to answer user questions. There are three options:\n",
    "\n",
    "Vectorstore: Use this for **specific and detailed questions** about the rules, setup, or gameplay of Rummikub.\n",
    "Websearch: Use this for **recent changes to Rummikub rules**, **current events**, or information explicitly marked as being **outside the scope** of the vectorstore.\n",
    "Irrelevant: Use this for **questions unrelated to Rummikub**, including general questions about unrelated topics, technologies, or concepts or uncertain questions.\n",
    "\n",
    "**Output Format:**\n",
    "Respond strictly in the following JSON format:\n",
    "\n",
    "{\"datasource\": \"<vectorstore | websearch | irrelevant>\"}\n",
    "\n",
    "**Guidelines:**\n",
    "1. Use `vectorstore` **only** for questions directly referencing Rummikub rules, setup, or gameplay. Examples:\n",
    "   - \"What are the rules for forming sets in Rummikub?\"\n",
    "   - \"How many tiles does each player start with?\"\n",
    "2. Use `websearch` **only** for questions requiring external research or recent updates about Rummikub. Examples:\n",
    "   - \"Who is the current world champion of Rummikub?\"\n",
    "   - \"Have there been recent changes to Rummikub rules?\"\n",
    "3. Use `irrelevant` for all other questions, including general knowledge or unrelated topics. Examples:\n",
    "   - \"What are the main causes of global warming?\"\n",
    "   - \"What are the types of agent memory?\"\n",
    "\n",
    "Always prioritize the most accurate category.\n",
    "\"\"\""
   ],
   "outputs": [],
   "execution_count": 104
  },
  {
   "cell_type": "code",
   "id": "25865fe9a1aebd22",
   "metadata": {
    "ExecuteTime": {
     "end_time": "2024-12-22T13:13:03.718226Z",
     "start_time": "2024-12-22T13:13:03.711350Z"
    }
   },
   "source": [
    "### Retrieval Grader\n",
    "\n",
    "# Doc grader instructions\n",
    "doc_grader_instructions = \"\"\"You are a grader assessing relevance of a retrieved document to a user question.\n",
    "\n",
    "If the document contains keyword(s) or semantic meaning related to the question, grade it as relevant.\"\"\"\n",
    "\n",
    "# Grader prompt\n",
    "doc_grader_prompt = \"\"\"Here is the retrieved document: \\n\\n {document} \\n\\n Here is the user question: \\n\\n {question}.\n",
    "\n",
    "This carefully and objectively assess whether the document contains at least some information that is relevant to the question.\n",
    "\n",
    "Return JSON with single key, binary_score, that is 'yes' or 'no' score to indicate whether the document contains at least some information that is relevant to the question.\"\"\""
   ],
   "outputs": [],
   "execution_count": 105
  },
  {
   "cell_type": "code",
   "id": "6e575c70c4c005c1",
   "metadata": {
    "ExecuteTime": {
     "end_time": "2024-12-22T13:13:03.744459Z",
     "start_time": "2024-12-22T13:13:03.737927Z"
    }
   },
   "source": [
    "### Generate\n",
    "\n",
    "# Prompt\n",
    "rag_prompt = \"\"\"You are an assistant for question-answering tasks.\n",
    "\n",
    "Here is the context to use to answer the question:\n",
    "\n",
    "{context}\n",
    "\n",
    "Carefully analyze the context above.\n",
    "\n",
    "Now, review the user question:\n",
    "\n",
    "{question}\n",
    "\n",
    "Provide a clear, direct, and concise answer to the user's question, using only the information from the context. Avoid repeating long excerpts from the context verbatim unless necessary to clarify your response.\n",
    "\n",
    "Make sure the answer is well-structured, easy to understand, and directly addresses the user's query.\n",
    "\n",
    "Answer:\"\"\"\n",
    "\n",
    "\n",
    "# Post-processing\n",
    "def format_docs(docs):\n",
    "    return \"\\n\\n\".join(doc.page_content for doc in docs)"
   ],
   "outputs": [],
   "execution_count": 106
  },
  {
   "cell_type": "code",
   "id": "5fbfd68a4a953d4e",
   "metadata": {
    "ExecuteTime": {
     "end_time": "2024-12-22T13:13:03.783815Z",
     "start_time": "2024-12-22T13:13:03.777814Z"
    }
   },
   "source": [
    "### Hallucination Grader\n",
    "\n",
    "\n",
    "# Hallucination grader instructions\n",
    "hallucination_grader_instructions = \"\"\"\n",
    "\n",
    "You are a teacher grading a quiz.\n",
    "\n",
    "You will be given FACTS and a STUDENT ANSWER.\n",
    "\n",
    "Here is the grade criteria to follow:\n",
    "\n",
    "(1) Ensure the STUDENT ANSWER is grounded in the FACTS.\n",
    "\n",
    "(2) Ensure the STUDENT ANSWER does not contain \"hallucinated\" information outside the scope of the FACTS.\n",
    "\n",
    "Score:\n",
    "\n",
    "A score of yes means that the student's answer meets all of the criteria. This is the highest (best) score.\n",
    "\n",
    "A score of no means that the student's answer does not meet all of the criteria. This is the lowest possible score you can give.\n",
    "\"\"\"\n",
    "\n",
    "# Grader prompt\n",
    "hallucination_grader_prompt = \"\"\"FACTS: \\n\\n {documents} \\n\\n STUDENT ANSWER: {generation}.\n",
    "\n",
    "Return JSON with one key, binary_score is 'yes' or 'no' score to indicate whether the STUDENT ANSWER is grounded in the FACTS.\"\"\""
   ],
   "outputs": [],
   "execution_count": 107
  },
  {
   "cell_type": "code",
   "id": "b95ec7338a89cffe",
   "metadata": {
    "ExecuteTime": {
     "end_time": "2024-12-22T13:13:03.806628Z",
     "start_time": "2024-12-22T13:13:03.801360Z"
    }
   },
   "source": [
    "### Answer Grader\n",
    "\n",
    "# Answer grader instructions\n",
    "answer_grader_instructions = \"\"\"You are a teacher grading a quiz.\n",
    "\n",
    "You will be given a QUESTION and a STUDENT ANSWER.\n",
    "\n",
    "Here is the grade criteria to follow:\n",
    "\n",
    "(1) The STUDENT ANSWER helps to answer the QUESTION\n",
    "\n",
    "Score:\n",
    "\n",
    "A score of yes means that the student's answer meets all of the criteria. This is the highest (best) score.\n",
    "\n",
    "The student can receive a score of yes if the answer contains extra information that is not explicitly asked for in the question.\n",
    "\n",
    "A score of no means that the student's answer does not meet all of the criteria. This is the lowest possible score you can give.\n",
    "\"\"\"\n",
    "\n",
    "# Grader prompt\n",
    "answer_grader_prompt = \"\"\"QUESTION: \\n\\n {question} \\n\\n STUDENT ANSWER: {generation}.\n",
    "\n",
    "Return JSON with one key, binary_score is 'yes' or 'no' score to indicate whether the STUDENT ANSWER meets the criteria.\"\"\""
   ],
   "outputs": [],
   "execution_count": 108
  },
  {
   "cell_type": "code",
   "id": "e7e8d7d885f41042",
   "metadata": {
    "ExecuteTime": {
     "end_time": "2024-12-22T13:13:03.830084Z",
     "start_time": "2024-12-22T13:13:03.825609Z"
    }
   },
   "source": [
    "web_search_tool = TavilySearchResults(max_results=3)"
   ],
   "outputs": [],
   "execution_count": 109
  },
  {
   "cell_type": "code",
   "id": "12b958e9af03009e",
   "metadata": {
    "ExecuteTime": {
     "end_time": "2024-12-22T13:13:03.869146Z",
     "start_time": "2024-12-22T13:13:03.862657Z"
    }
   },
   "source": [
    "class GraphState(TypedDict):\n",
    "    \"\"\"\n",
    "    Graph state is a dictionary that contains information we want to propagate to, and modify in, each graph node.\n",
    "    \"\"\"\n",
    "\n",
    "    question: str  # User question\n",
    "    generation: str  # LLM generation\n",
    "    web_search: str  # Binary decision to run web search\n",
    "    max_retries: int  # Max number of retries for answer generation\n",
    "    answers: int  # Number of answers generated\n",
    "    loop_step: Annotated[int, operator.add]\n",
    "    documents: List[str]  # List of retrieved documents\n",
    "    filtered_docs: Annotated[\n",
    "        list[str], operator.add\n",
    "    ]  # Filtered out irrelevant documents\n",
    "    grades: Annotated[list[str], operator.add]  # Grade of document relevance"
   ],
   "outputs": [],
   "execution_count": 110
  },
  {
   "cell_type": "code",
   "id": "c5701bfee0865434",
   "metadata": {
    "ExecuteTime": {
     "end_time": "2024-12-22T13:13:03.909614Z",
     "start_time": "2024-12-22T13:13:03.886684Z"
    }
   },
   "source": [
    "### Nodes\n",
    "\n",
    "\n",
    "def retrieve(state):\n",
    "    \"\"\"\n",
    "    Retrieve documents from vectorstore\n",
    "\n",
    "    Args:\n",
    "        state (dict): The current graph state\n",
    "\n",
    "    Returns:\n",
    "        state (dict): New key added to state, documents, that contains retrieved documents\n",
    "    \"\"\"\n",
    "    print(\"---RETRIEVE---\")\n",
    "    question = state[\"question\"]\n",
    "\n",
    "    # Write retrieved documents to documents key in state\n",
    "    documents = retriever.invoke(question)\n",
    "    return {\"documents\": documents}\n",
    "\n",
    "\n",
    "def handle_irrelevant(state):\n",
    "    \"\"\"\n",
    "    Handle irrelevant questions\n",
    "\n",
    "    Args:\n",
    "        state (dict): The current graph state\n",
    "\n",
    "    Returns:\n",
    "        state (dict): New key added to state, generation, that contains response to irrelevant question\n",
    "    \"\"\"\n",
    "    print(\"---HANDLE IRRELEVANT---\")\n",
    "    return {\n",
    "        \"generation\": \"This question is not related to the Rummikub rules. Please ask something specific to the game.\"\n",
    "    }\n",
    "\n",
    "\n",
    "def generate(state):\n",
    "    \"\"\"\n",
    "    Generate answer using RAG on retrieved documents\n",
    "\n",
    "    Args:\n",
    "        state (dict): The current graph state\n",
    "\n",
    "    Returns:\n",
    "        state (dict): New key added to state, generation, that contains LLM generation\n",
    "    \"\"\"\n",
    "    print(\"---GENERATE---\")\n",
    "    question = state[\"question\"]\n",
    "    documents = state[\"documents\"]\n",
    "    loop_step = state.get(\"loop_step\", 0)\n",
    "\n",
    "    # RAG generation\n",
    "    docs_txt = format_docs(documents)\n",
    "    rag_prompt_formatted = rag_prompt.format(context=docs_txt, question=question)\n",
    "    generation = llm.invoke([HumanMessage(content=rag_prompt_formatted)])\n",
    "    return {\"generation\": generation, \"loop_step\": loop_step + 1}\n",
    "\n",
    "\n",
    "def continue_to_gradings(state):\n",
    "    return [\n",
    "        Send(\"grade_document\", {\"document\": d, \"question\": state[\"question\"]})\n",
    "        for d in state[\"documents\"]\n",
    "    ]\n",
    "\n",
    "\n",
    "def grade_document(state):\n",
    "    question = state[\"question\"]\n",
    "    doc = state[\"document\"]\n",
    "    doc_grader_prompt_formatted = doc_grader_prompt.format(\n",
    "        document=doc.page_content, question=question\n",
    "    )\n",
    "    result = llm_json_mode.invoke(\n",
    "        [SystemMessage(content=doc_grader_instructions)]\n",
    "        + [HumanMessage(content=doc_grader_prompt_formatted)]\n",
    "    )\n",
    "    grade = json.loads(result.content)[\"binary_score\"]\n",
    "    if grade.lower() == \"yes\":\n",
    "        print(\"---GRADE: DOCUMENT RELEVANT---\")\n",
    "        return {\"filtered_docs\": [doc], \"grades\": [grade]}\n",
    "    else:\n",
    "        print(\"---GRADE: DOCUMENT NOT RELEVANT---\")\n",
    "        return {\"grades\": [grade]}\n",
    "\n",
    "\n",
    "def grade_docs(state):\n",
    "    \"\"\"\n",
    "    Determines whether the retrieved documents are relevant to the question\n",
    "    If any document is not relevant, we will set a flag to run web search\n",
    "\n",
    "    Args:\n",
    "        state (dict): The current graph state\n",
    "\n",
    "    Returns:\n",
    "        state (dict): Filtered out irrelevant documents and updated web_search state\n",
    "    \"\"\"\n",
    "    print(\"---CHECK IF WEB SEARCH IS NECESSARY---\")\n",
    "    grades = state[\"grades\"]\n",
    "    web_search = \"Yes\" if all(x.lower() == \"no\" for x in grades) else \"No\"\n",
    "    return {\"web_search\": web_search}\n",
    "\n",
    "\n",
    "def web_search(state):\n",
    "    \"\"\"\n",
    "    Web search based on the question\n",
    "\n",
    "    Args:\n",
    "        state (dict): The current graph state\n",
    "\n",
    "    Returns:\n",
    "        state (dict): Appended web results to documents\n",
    "    \"\"\"\n",
    "\n",
    "    print(\"---WEB SEARCH---\")\n",
    "    question = state[\"question\"]\n",
    "    documents = state.get(\"documents\", [])\n",
    "\n",
    "    # Web search\n",
    "    docs = web_search_tool.invoke({\"query\": question})\n",
    "    web_results = \"\\n\".join([d[\"content\"] for d in docs])\n",
    "    web_results = Document(page_content=web_results)\n",
    "    documents.append(web_results)\n",
    "    return {\"documents\": documents}\n",
    "\n",
    "\n",
    "### Edges\n",
    "\n",
    "\n",
    "def route_question(state):\n",
    "    \"\"\"\n",
    "    Route question to web search or RAG or none\n",
    "\n",
    "    Args:\n",
    "        state (dict): The current graph state\n",
    "\n",
    "    Returns:\n",
    "        str: Next node to call\n",
    "    \"\"\"\n",
    "\n",
    "    print(\"---ROUTE QUESTION---\")\n",
    "    route_question = llm_json_mode.invoke(\n",
    "        [SystemMessage(content=router_instructions)]\n",
    "        + [HumanMessage(content=state[\"question\"])]\n",
    "    )\n",
    "    source = json.loads(route_question.content)[\"datasource\"]\n",
    "    if source == \"websearch\":\n",
    "        print(\"---ROUTE QUESTION TO WEB SEARCH---\")\n",
    "        return \"websearch\"\n",
    "    elif source == \"vectorstore\":\n",
    "        print(\"---ROUTE QUESTION TO RAG---\")\n",
    "        return \"vectorstore\"\n",
    "    elif source == \"irrelevant\":\n",
    "        print(\"---ROUTE QUESTION TO IRRELEVANT---\")\n",
    "        return \"irrelevant\"\n",
    "\n",
    "\n",
    "def decide_to_generate(state):\n",
    "    \"\"\"\n",
    "    Determines whether to generate an answer, or add web search\n",
    "\n",
    "    Args:\n",
    "        state (dict): The current graph state\n",
    "\n",
    "    Returns:\n",
    "        str: Binary decision for next node to call\n",
    "    \"\"\"\n",
    "\n",
    "    print(\"---ASSESS GRADED DOCUMENTS---\")\n",
    "    web_search = state[\"web_search\"]\n",
    "\n",
    "    if web_search == \"Yes\":\n",
    "        # All documents have been filtered check_relevance\n",
    "        # We will re-generate a new query\n",
    "        print(\n",
    "            \"---DECISION: NOT ALL DOCUMENTS ARE RELEVANT TO QUESTION, INCLUDE WEB SEARCH---\"\n",
    "        )\n",
    "        return \"websearch\"\n",
    "    else:\n",
    "        # We have relevant documents, so generate answer\n",
    "        print(\"---DECISION: GENERATE---\")\n",
    "        return \"generate\"\n",
    "\n",
    "\n",
    "def grade_generation_v_documents_and_question(state):\n",
    "    \"\"\"\n",
    "    Determines whether the generation is grounded in the document and answers question\n",
    "\n",
    "    Args:\n",
    "        state (dict): The current graph state\n",
    "\n",
    "    Returns:\n",
    "        str: Decision for next node to call\n",
    "    \"\"\"\n",
    "\n",
    "    print(\"---CHECK HALLUCINATIONS---\")\n",
    "    question = state[\"question\"]\n",
    "    documents = state[\"documents\"]\n",
    "    generation = state[\"generation\"]\n",
    "    max_retries = state.get(\"max_retries\", 3)  # Default to 3 if not provided\n",
    "\n",
    "    hallucination_grader_prompt_formatted = hallucination_grader_prompt.format(\n",
    "        documents=format_docs(documents), generation=generation.content\n",
    "    )\n",
    "    result = llm_json_mode.invoke(\n",
    "        [SystemMessage(content=hallucination_grader_instructions)]\n",
    "        + [HumanMessage(content=hallucination_grader_prompt_formatted)]\n",
    "    )\n",
    "    grade = json.loads(result.content)[\"binary_score\"]\n",
    "\n",
    "    # Check hallucination\n",
    "    if grade == \"yes\":\n",
    "        print(\"---DECISION: GENERATION IS GROUNDED IN DOCUMENTS---\")\n",
    "        # Check question-answering\n",
    "        print(\"---GRADE GENERATION vs QUESTION---\")\n",
    "        # Test using question and generation from above\n",
    "        answer_grader_prompt_formatted = answer_grader_prompt.format(\n",
    "            question=question, generation=generation.content\n",
    "        )\n",
    "        result = llm_json_mode.invoke(\n",
    "            [SystemMessage(content=answer_grader_instructions)]\n",
    "            + [HumanMessage(content=answer_grader_prompt_formatted)]\n",
    "        )\n",
    "        grade = json.loads(result.content)[\"binary_score\"]\n",
    "        if grade == \"yes\":\n",
    "            print(\"---DECISION: GENERATION ADDRESSES QUESTION---\")\n",
    "            return \"useful\"\n",
    "        elif state[\"loop_step\"] <= max_retries:\n",
    "            print(\"---DECISION: GENERATION DOES NOT ADDRESS QUESTION---\")\n",
    "            return \"not useful\"\n",
    "        else:\n",
    "            print(\"---DECISION: MAX RETRIES REACHED---\")\n",
    "            return \"max retries\"\n",
    "    elif state[\"loop_step\"] <= max_retries:\n",
    "        print(\"---DECISION: GENERATION IS NOT GROUNDED IN DOCUMENTS, RE-TRY---\")\n",
    "        return \"not supported\"\n",
    "    else:\n",
    "        print(\"---DECISION: MAX RETRIES REACHED---\")\n",
    "        return \"max retries\""
   ],
   "outputs": [],
   "execution_count": 111
  },
  {
   "cell_type": "code",
   "id": "5ba2dec1739653ef",
   "metadata": {
    "ExecuteTime": {
     "end_time": "2024-12-22T13:13:04.057555Z",
     "start_time": "2024-12-22T13:13:03.925163Z"
    }
   },
   "source": [
    "workflow = StateGraph(GraphState)\n",
    "\n",
    "# Define the nodes\n",
    "workflow.add_node(\"websearch\", web_search)  # web search\n",
    "workflow.add_node(\"retrieve\", retrieve)  # retrieve\n",
    "workflow.add_node(\"irrelevant\", handle_irrelevant)  # handle irrelevant\n",
    "workflow.add_node(\"grade_document\", grade_document)  # grade document\n",
    "workflow.add_node(\"grade_docs\", grade_docs)  # grade documents\n",
    "workflow.add_node(\"generate\", generate)  # generate\n",
    "\n",
    "# Build graph\n",
    "workflow.set_conditional_entry_point(\n",
    "    route_question,\n",
    "    {\n",
    "        \"websearch\": \"websearch\",\n",
    "        \"vectorstore\": \"retrieve\",\n",
    "        \"irrelevant\": \"irrelevant\",\n",
    "    },\n",
    ")\n",
    "workflow.add_edge(\"websearch\", \"generate\")\n",
    "workflow.add_conditional_edges(\"retrieve\", continue_to_gradings, [\"grade_document\"])\n",
    "workflow.add_edge(\"grade_document\", \"grade_docs\")\n",
    "workflow.add_conditional_edges(\n",
    "    \"grade_docs\",\n",
    "    decide_to_generate,\n",
    "    {\n",
    "        \"websearch\": \"websearch\",\n",
    "        \"generate\": \"generate\",\n",
    "    },\n",
    ")\n",
    "workflow.add_conditional_edges(\n",
    "    \"generate\",\n",
    "    grade_generation_v_documents_and_question,\n",
    "    {\n",
    "        \"not supported\": \"generate\",\n",
    "        \"useful\": END,\n",
    "        \"not useful\": \"websearch\",\n",
    "        \"max retries\": END,\n",
    "    },\n",
    ")\n",
    "\n",
    "# Set irrelevant as end node\n",
    "workflow.add_edge(\"irrelevant\", END)\n",
    "\n",
    "# Compile\n",
    "graph = workflow.compile()\n",
    "display(Image(graph.get_graph().draw_mermaid_png()))"
   ],
   "outputs": [
    {
     "data": {
      "image/png": "[encoded data removed]",
      "text/plain": [
       "<IPython.core.display.Image object>"
      ]
     },
     "metadata": {},
     "output_type": "display_data"
    }
   ],
   "execution_count": 112
  },
  {
   "cell_type": "code",
   "id": "df7e40f137b7055",
   "metadata": {
    "ExecuteTime": {
     "end_time": "2024-12-22T13:13:27.334839Z",
     "start_time": "2024-12-22T13:13:04.091154Z"
    }
   },
   "source": [
    "inputs = {\n",
    "    \"question\": \"What are the models released today for llama3.2?\",\n",
    "    \"max_retries\": 3,\n",
    "}\n",
    "for event in graph.stream(inputs, stream_mode=\"values\"):\n",
    "    print(event)"
   ],
   "outputs": [
    {
     "name": "stdout",
     "output_type": "stream",
     "text": [
      "---ROUTE QUESTION---\n",
      "---ROUTE QUESTION TO IRRELEVANT---\n",
      "{'question': 'What are the models released today for llama3.2?', 'max_retries': 3, 'loop_step': 0, 'filtered_docs': [], 'grades': []}\n",
      "---HANDLE IRRELEVANT---\n",
      "{'question': 'What are the models released today for llama3.2?', 'generation': 'This question is not related to the Rummikub rules. Please ask something specific to the game.', 'max_retries': 3, 'loop_step': 0, 'filtered_docs': [], 'grades': []}\n"
     ]
    }
   ],
   "execution_count": 113
  },
  {
   "cell_type": "code",
   "id": "e1cd4cd8666ded8",
   "metadata": {
    "ExecuteTime": {
     "end_time": "2024-12-22T13:16:28.341256Z",
     "start_time": "2024-12-22T13:13:27.350828Z"
    }
   },
   "source": [
    "inputs = {\n",
    "    \"question\": \"What is the purpose of the joker tile in Rummikub?\",\n",
    "    \"max_retries\": 3,\n",
    "}\n",
    "for event in graph.stream(inputs, stream_mode=\"values\"):\n",
    "    print(event)"
   ],
   "outputs": [
    {
     "name": "stdout",
     "output_type": "stream",
     "text": [
      "---ROUTE QUESTION---\n",
      "---ROUTE QUESTION TO RAG---\n",
      "{'question': 'What is the purpose of the joker tile in Rummikub?', 'max_retries': 3, 'loop_step': 0, 'filtered_docs': [], 'grades': []}\n",
      "---RETRIEVE---\n",
      "{'question': 'What is the purpose of the joker tile in Rummikub?', 'max_retries': 3, 'loop_step': 0, 'documents': [Document(metadata={'CreationDate': \"D:20241118154334+01'00'\", 'Creator': 'Adobe Acrobat Pro (32-bit) 24.4.20272', 'ModDate': \"D:20241123190612+01'00'\", 'Producer': 'Adobe Acrobat Pro (32-bit) 24.4.20272', 'Title': '2600-0236-0041 080719_rummikub rules', 'file_path': '../../data\\\\rummikub_rules.pdf', 'page': 3, 'source': '../../data\\\\rummikub_rules.pdf', 'total_pages': 13}, page_content='possible. In the early stages of the game it’s a good idea to hold back some tiles so that other players open\\nup the table and provide more opportunities for play. Sometimes it is useful to hold back the fourth tile of\\na group or run and play only three, so that on the next turn you can play a tile instead of drawing from the\\npool. Keeping a joker on your rack is also a good strategy; however, you risk being caught with it\\n(earning a penalty of 30 points) when another player goes “Rummikub!”\\nRUMMIKUB and are Registered Trademarks of M&M Ventures (2014) Limited.\\nAll other company or product names are the trademarks or registered trademarks\\nof their respective holders. All rights not expressly granted are reserved.\\n© 2007 Copyrights M&M Ventures (2014) Limited Rummikub Joker\\n© 1950 M&M Ventures (2014) Limited\\nManufactured by: Lemada Light Industries Ltd., 27 Betzalel st., Arad 8909355, Israel.\\n“WARNING”! Not suitable for children under 36 months. Contains small parts.'), Document(metadata={'CreationDate': \"D:20241118154334+01'00'\", 'Creator': 'Adobe Acrobat Pro (32-bit) 24.4.20272', 'ModDate': \"D:20241123190612+01'00'\", 'Producer': 'Adobe Acrobat Pro (32-bit) 24.4.20272', 'Title': '2600-0236-0041 080719_rummikub rules', 'file_path': '../../data\\\\rummikub_rules.pdf', 'page': 7, 'source': '../../data\\\\rummikub_rules.pdf', 'total_pages': 13}, page_content='elsewhere, or even to destroy the set completely by moving each of its tiles to a different\\nset, provided that the joker continues to represent the same tile, and of course that all the\\nresulting sets are valid. Care must be taken not to change the tile represented by the joker when\\ndoing this. The only way the joker can be made to represent a different tile is if the player\\nsupplies from hand the tile that the joker originally represented, and this replacement of the\\njoker may be subject to additional restrictions as discussed above.\\nThe Dutch translation of the Official Book, Spelregelboek Voor het originele Rummikub (Goliath,\\n1985) includes the version where sets containing a joker can be manipulated as a variation,\\nknown as Dutch Sabra. On the other hand, the 1987 edition of the Pressman rules agrees with\\nthe Official Book: \"You can add a tile to a meld containing a Joker\" but \"You may not take a tile\\naway from a meld which includes a Joker.\"'), Document(metadata={'CreationDate': \"D:20241118154334+01'00'\", 'Creator': 'Adobe Acrobat Pro (32-bit) 24.4.20272', 'ModDate': \"D:20241123190612+01'00'\", 'Producer': 'Adobe Acrobat Pro (32-bit) 24.4.20272', 'Title': '2600-0236-0041 080719_rummikub rules', 'file_path': '../../data\\\\rummikub_rules.pdf', 'page': 5, 'source': '../../data\\\\rummikub_rules.pdf', 'total_pages': 13}, page_content='A combination which contains a joker can have further tiles added to it, but nothing can be taken\\nfrom it, nor can it be rearranged in any way while there is a joker in it. For example if a run has a\\njoker at one end the joker cannot be moved to the other end in order to add a tile. However, a\\nplayer who has in hand the tile which is represented by a joker on the table, the player can\\nsubstitute the real tile for the joker and then re-use the joker in some combination on the table. A\\njoker released in this way cannot be taken into the player\\'s hand for later use. In the case of\\ngroup consisting of two equal tiles and a joker, the joker can be replaced by a matching tile of\\neither of the missing colors.\\nBecause of the complexity of the possible rearrangements, it is usual to set a time limit for a\\nturn, for example two minutes. When you have finished your turn, you say \"pass\", and the next\\nperson can play.')], 'filtered_docs': [], 'grades': []}\n",
      "yes\n",
      "---GRADE: DOCUMENT RELEVANT---\n",
      "yes\n",
      "---GRADE: DOCUMENT RELEVANT---\n",
      "yes\n",
      "---GRADE: DOCUMENT RELEVANT---\n",
      "{'question': 'What is the purpose of the joker tile in Rummikub?', 'max_retries': 3, 'loop_step': 0, 'documents': [Document(metadata={'CreationDate': \"D:20241118154334+01'00'\", 'Creator': 'Adobe Acrobat Pro (32-bit) 24.4.20272', 'ModDate': \"D:20241123190612+01'00'\", 'Producer': 'Adobe Acrobat Pro (32-bit) 24.4.20272', 'Title': '2600-0236-0041 080719_rummikub rules', 'file_path': '../../data\\\\rummikub_rules.pdf', 'page': 3, 'source': '../../data\\\\rummikub_rules.pdf', 'total_pages': 13}, page_content='possible. In the early stages of the game it’s a good idea to hold back some tiles so that other players open\\nup the table and provide more opportunities for play. Sometimes it is useful to hold back the fourth tile of\\na group or run and play only three, so that on the next turn you can play a tile instead of drawing from the\\npool. Keeping a joker on your rack is also a good strategy; however, you risk being caught with it\\n(earning a penalty of 30 points) when another player goes “Rummikub!”\\nRUMMIKUB and are Registered Trademarks of M&M Ventures (2014) Limited.\\nAll other company or product names are the trademarks or registered trademarks\\nof their respective holders. All rights not expressly granted are reserved.\\n© 2007 Copyrights M&M Ventures (2014) Limited Rummikub Joker\\n© 1950 M&M Ventures (2014) Limited\\nManufactured by: Lemada Light Industries Ltd., 27 Betzalel st., Arad 8909355, Israel.\\n“WARNING”! Not suitable for children under 36 months. Contains small parts.'), Document(metadata={'CreationDate': \"D:20241118154334+01'00'\", 'Creator': 'Adobe Acrobat Pro (32-bit) 24.4.20272', 'ModDate': \"D:20241123190612+01'00'\", 'Producer': 'Adobe Acrobat Pro (32-bit) 24.4.20272', 'Title': '2600-0236-0041 080719_rummikub rules', 'file_path': '../../data\\\\rummikub_rules.pdf', 'page': 7, 'source': '../../data\\\\rummikub_rules.pdf', 'total_pages': 13}, page_content='elsewhere, or even to destroy the set completely by moving each of its tiles to a different\\nset, provided that the joker continues to represent the same tile, and of course that all the\\nresulting sets are valid. Care must be taken not to change the tile represented by the joker when\\ndoing this. The only way the joker can be made to represent a different tile is if the player\\nsupplies from hand the tile that the joker originally represented, and this replacement of the\\njoker may be subject to additional restrictions as discussed above.\\nThe Dutch translation of the Official Book, Spelregelboek Voor het originele Rummikub (Goliath,\\n1985) includes the version where sets containing a joker can be manipulated as a variation,\\nknown as Dutch Sabra. On the other hand, the 1987 edition of the Pressman rules agrees with\\nthe Official Book: \"You can add a tile to a meld containing a Joker\" but \"You may not take a tile\\naway from a meld which includes a Joker.\"'), Document(metadata={'CreationDate': \"D:20241118154334+01'00'\", 'Creator': 'Adobe Acrobat Pro (32-bit) 24.4.20272', 'ModDate': \"D:20241123190612+01'00'\", 'Producer': 'Adobe Acrobat Pro (32-bit) 24.4.20272', 'Title': '2600-0236-0041 080719_rummikub rules', 'file_path': '../../data\\\\rummikub_rules.pdf', 'page': 5, 'source': '../../data\\\\rummikub_rules.pdf', 'total_pages': 13}, page_content='A combination which contains a joker can have further tiles added to it, but nothing can be taken\\nfrom it, nor can it be rearranged in any way while there is a joker in it. For example if a run has a\\njoker at one end the joker cannot be moved to the other end in order to add a tile. However, a\\nplayer who has in hand the tile which is represented by a joker on the table, the player can\\nsubstitute the real tile for the joker and then re-use the joker in some combination on the table. A\\njoker released in this way cannot be taken into the player\\'s hand for later use. In the case of\\ngroup consisting of two equal tiles and a joker, the joker can be replaced by a matching tile of\\neither of the missing colors.\\nBecause of the complexity of the possible rearrangements, it is usual to set a time limit for a\\nturn, for example two minutes. When you have finished your turn, you say \"pass\", and the next\\nperson can play.')], 'filtered_docs': [Document(metadata={'CreationDate': \"D:20241118154334+01'00'\", 'Creator': 'Adobe Acrobat Pro (32-bit) 24.4.20272', 'ModDate': \"D:20241123190612+01'00'\", 'Producer': 'Adobe Acrobat Pro (32-bit) 24.4.20272', 'Title': '2600-0236-0041 080719_rummikub rules', 'file_path': '../../data\\\\rummikub_rules.pdf', 'page': 3, 'source': '../../data\\\\rummikub_rules.pdf', 'total_pages': 13}, page_content='possible. In the early stages of the game it’s a good idea to hold back some tiles so that other players open\\nup the table and provide more opportunities for play. Sometimes it is useful to hold back the fourth tile of\\na group or run and play only three, so that on the next turn you can play a tile instead of drawing from the\\npool. Keeping a joker on your rack is also a good strategy; however, you risk being caught with it\\n(earning a penalty of 30 points) when another player goes “Rummikub!”\\nRUMMIKUB and are Registered Trademarks of M&M Ventures (2014) Limited.\\nAll other company or product names are the trademarks or registered trademarks\\nof their respective holders. All rights not expressly granted are reserved.\\n© 2007 Copyrights M&M Ventures (2014) Limited Rummikub Joker\\n© 1950 M&M Ventures (2014) Limited\\nManufactured by: Lemada Light Industries Ltd., 27 Betzalel st., Arad 8909355, Israel.\\n“WARNING”! Not suitable for children under 36 months. Contains small parts.'), Document(metadata={'CreationDate': \"D:20241118154334+01'00'\", 'Creator': 'Adobe Acrobat Pro (32-bit) 24.4.20272', 'ModDate': \"D:20241123190612+01'00'\", 'Producer': 'Adobe Acrobat Pro (32-bit) 24.4.20272', 'Title': '2600-0236-0041 080719_rummikub rules', 'file_path': '../../data\\\\rummikub_rules.pdf', 'page': 7, 'source': '../../data\\\\rummikub_rules.pdf', 'total_pages': 13}, page_content='elsewhere, or even to destroy the set completely by moving each of its tiles to a different\\nset, provided that the joker continues to represent the same tile, and of course that all the\\nresulting sets are valid. Care must be taken not to change the tile represented by the joker when\\ndoing this. The only way the joker can be made to represent a different tile is if the player\\nsupplies from hand the tile that the joker originally represented, and this replacement of the\\njoker may be subject to additional restrictions as discussed above.\\nThe Dutch translation of the Official Book, Spelregelboek Voor het originele Rummikub (Goliath,\\n1985) includes the version where sets containing a joker can be manipulated as a variation,\\nknown as Dutch Sabra. On the other hand, the 1987 edition of the Pressman rules agrees with\\nthe Official Book: \"You can add a tile to a meld containing a Joker\" but \"You may not take a tile\\naway from a meld which includes a Joker.\"'), Document(metadata={'CreationDate': \"D:20241118154334+01'00'\", 'Creator': 'Adobe Acrobat Pro (32-bit) 24.4.20272', 'ModDate': \"D:20241123190612+01'00'\", 'Producer': 'Adobe Acrobat Pro (32-bit) 24.4.20272', 'Title': '2600-0236-0041 080719_rummikub rules', 'file_path': '../../data\\\\rummikub_rules.pdf', 'page': 5, 'source': '../../data\\\\rummikub_rules.pdf', 'total_pages': 13}, page_content='A combination which contains a joker can have further tiles added to it, but nothing can be taken\\nfrom it, nor can it be rearranged in any way while there is a joker in it. For example if a run has a\\njoker at one end the joker cannot be moved to the other end in order to add a tile. However, a\\nplayer who has in hand the tile which is represented by a joker on the table, the player can\\nsubstitute the real tile for the joker and then re-use the joker in some combination on the table. A\\njoker released in this way cannot be taken into the player\\'s hand for later use. In the case of\\ngroup consisting of two equal tiles and a joker, the joker can be replaced by a matching tile of\\neither of the missing colors.\\nBecause of the complexity of the possible rearrangements, it is usual to set a time limit for a\\nturn, for example two minutes. When you have finished your turn, you say \"pass\", and the next\\nperson can play.')], 'grades': ['yes', 'yes', 'yes']}\n",
      "---CHECK IF WEB SEARCH IS NECESSARY---\n",
      "---ASSESS GRADED DOCUMENTS---\n",
      "---DECISION: GENERATE---\n",
      "{'question': 'What is the purpose of the joker tile in Rummikub?', 'web_search': 'No', 'max_retries': 3, 'loop_step': 0, 'documents': [Document(metadata={'CreationDate': \"D:20241118154334+01'00'\", 'Creator': 'Adobe Acrobat Pro (32-bit) 24.4.20272', 'ModDate': \"D:20241123190612+01'00'\", 'Producer': 'Adobe Acrobat Pro (32-bit) 24.4.20272', 'Title': '2600-0236-0041 080719_rummikub rules', 'file_path': '../../data\\\\rummikub_rules.pdf', 'page': 3, 'source': '../../data\\\\rummikub_rules.pdf', 'total_pages': 13}, page_content='possible. In the early stages of the game it’s a good idea to hold back some tiles so that other players open\\nup the table and provide more opportunities for play. Sometimes it is useful to hold back the fourth tile of\\na group or run and play only three, so that on the next turn you can play a tile instead of drawing from the\\npool. Keeping a joker on your rack is also a good strategy; however, you risk being caught with it\\n(earning a penalty of 30 points) when another player goes “Rummikub!”\\nRUMMIKUB and are Registered Trademarks of M&M Ventures (2014) Limited.\\nAll other company or product names are the trademarks or registered trademarks\\nof their respective holders. All rights not expressly granted are reserved.\\n© 2007 Copyrights M&M Ventures (2014) Limited Rummikub Joker\\n© 1950 M&M Ventures (2014) Limited\\nManufactured by: Lemada Light Industries Ltd., 27 Betzalel st., Arad 8909355, Israel.\\n“WARNING”! Not suitable for children under 36 months. Contains small parts.'), Document(metadata={'CreationDate': \"D:20241118154334+01'00'\", 'Creator': 'Adobe Acrobat Pro (32-bit) 24.4.20272', 'ModDate': \"D:20241123190612+01'00'\", 'Producer': 'Adobe Acrobat Pro (32-bit) 24.4.20272', 'Title': '2600-0236-0041 080719_rummikub rules', 'file_path': '../../data\\\\rummikub_rules.pdf', 'page': 7, 'source': '../../data\\\\rummikub_rules.pdf', 'total_pages': 13}, page_content='elsewhere, or even to destroy the set completely by moving each of its tiles to a different\\nset, provided that the joker continues to represent the same tile, and of course that all the\\nresulting sets are valid. Care must be taken not to change the tile represented by the joker when\\ndoing this. The only way the joker can be made to represent a different tile is if the player\\nsupplies from hand the tile that the joker originally represented, and this replacement of the\\njoker may be subject to additional restrictions as discussed above.\\nThe Dutch translation of the Official Book, Spelregelboek Voor het originele Rummikub (Goliath,\\n1985) includes the version where sets containing a joker can be manipulated as a variation,\\nknown as Dutch Sabra. On the other hand, the 1987 edition of the Pressman rules agrees with\\nthe Official Book: \"You can add a tile to a meld containing a Joker\" but \"You may not take a tile\\naway from a meld which includes a Joker.\"'), Document(metadata={'CreationDate': \"D:20241118154334+01'00'\", 'Creator': 'Adobe Acrobat Pro (32-bit) 24.4.20272', 'ModDate': \"D:20241123190612+01'00'\", 'Producer': 'Adobe Acrobat Pro (32-bit) 24.4.20272', 'Title': '2600-0236-0041 080719_rummikub rules', 'file_path': '../../data\\\\rummikub_rules.pdf', 'page': 5, 'source': '../../data\\\\rummikub_rules.pdf', 'total_pages': 13}, page_content='A combination which contains a joker can have further tiles added to it, but nothing can be taken\\nfrom it, nor can it be rearranged in any way while there is a joker in it. For example if a run has a\\njoker at one end the joker cannot be moved to the other end in order to add a tile. However, a\\nplayer who has in hand the tile which is represented by a joker on the table, the player can\\nsubstitute the real tile for the joker and then re-use the joker in some combination on the table. A\\njoker released in this way cannot be taken into the player\\'s hand for later use. In the case of\\ngroup consisting of two equal tiles and a joker, the joker can be replaced by a matching tile of\\neither of the missing colors.\\nBecause of the complexity of the possible rearrangements, it is usual to set a time limit for a\\nturn, for example two minutes. When you have finished your turn, you say \"pass\", and the next\\nperson can play.')], 'filtered_docs': [Document(metadata={'CreationDate': \"D:20241118154334+01'00'\", 'Creator': 'Adobe Acrobat Pro (32-bit) 24.4.20272', 'ModDate': \"D:20241123190612+01'00'\", 'Producer': 'Adobe Acrobat Pro (32-bit) 24.4.20272', 'Title': '2600-0236-0041 080719_rummikub rules', 'file_path': '../../data\\\\rummikub_rules.pdf', 'page': 3, 'source': '../../data\\\\rummikub_rules.pdf', 'total_pages': 13}, page_content='possible. In the early stages of the game it’s a good idea to hold back some tiles so that other players open\\nup the table and provide more opportunities for play. Sometimes it is useful to hold back the fourth tile of\\na group or run and play only three, so that on the next turn you can play a tile instead of drawing from the\\npool. Keeping a joker on your rack is also a good strategy; however, you risk being caught with it\\n(earning a penalty of 30 points) when another player goes “Rummikub!”\\nRUMMIKUB and are Registered Trademarks of M&M Ventures (2014) Limited.\\nAll other company or product names are the trademarks or registered trademarks\\nof their respective holders. All rights not expressly granted are reserved.\\n© 2007 Copyrights M&M Ventures (2014) Limited Rummikub Joker\\n© 1950 M&M Ventures (2014) Limited\\nManufactured by: Lemada Light Industries Ltd., 27 Betzalel st., Arad 8909355, Israel.\\n“WARNING”! Not suitable for children under 36 months. Contains small parts.'), Document(metadata={'CreationDate': \"D:20241118154334+01'00'\", 'Creator': 'Adobe Acrobat Pro (32-bit) 24.4.20272', 'ModDate': \"D:20241123190612+01'00'\", 'Producer': 'Adobe Acrobat Pro (32-bit) 24.4.20272', 'Title': '2600-0236-0041 080719_rummikub rules', 'file_path': '../../data\\\\rummikub_rules.pdf', 'page': 7, 'source': '../../data\\\\rummikub_rules.pdf', 'total_pages': 13}, page_content='elsewhere, or even to destroy the set completely by moving each of its tiles to a different\\nset, provided that the joker continues to represent the same tile, and of course that all the\\nresulting sets are valid. Care must be taken not to change the tile represented by the joker when\\ndoing this. The only way the joker can be made to represent a different tile is if the player\\nsupplies from hand the tile that the joker originally represented, and this replacement of the\\njoker may be subject to additional restrictions as discussed above.\\nThe Dutch translation of the Official Book, Spelregelboek Voor het originele Rummikub (Goliath,\\n1985) includes the version where sets containing a joker can be manipulated as a variation,\\nknown as Dutch Sabra. On the other hand, the 1987 edition of the Pressman rules agrees with\\nthe Official Book: \"You can add a tile to a meld containing a Joker\" but \"You may not take a tile\\naway from a meld which includes a Joker.\"'), Document(metadata={'CreationDate': \"D:20241118154334+01'00'\", 'Creator': 'Adobe Acrobat Pro (32-bit) 24.4.20272', 'ModDate': \"D:20241123190612+01'00'\", 'Producer': 'Adobe Acrobat Pro (32-bit) 24.4.20272', 'Title': '2600-0236-0041 080719_rummikub rules', 'file_path': '../../data\\\\rummikub_rules.pdf', 'page': 5, 'source': '../../data\\\\rummikub_rules.pdf', 'total_pages': 13}, page_content='A combination which contains a joker can have further tiles added to it, but nothing can be taken\\nfrom it, nor can it be rearranged in any way while there is a joker in it. For example if a run has a\\njoker at one end the joker cannot be moved to the other end in order to add a tile. However, a\\nplayer who has in hand the tile which is represented by a joker on the table, the player can\\nsubstitute the real tile for the joker and then re-use the joker in some combination on the table. A\\njoker released in this way cannot be taken into the player\\'s hand for later use. In the case of\\ngroup consisting of two equal tiles and a joker, the joker can be replaced by a matching tile of\\neither of the missing colors.\\nBecause of the complexity of the possible rearrangements, it is usual to set a time limit for a\\nturn, for example two minutes. When you have finished your turn, you say \"pass\", and the next\\nperson can play.')], 'grades': ['yes', 'yes', 'yes']}\n",
      "---GENERATE---\n",
      "---CHECK HALLUCINATIONS---\n",
      "---DECISION: GENERATION IS GROUNDED IN DOCUMENTS---\n",
      "---GRADE GENERATION vs QUESTION---\n",
      "---DECISION: GENERATION ADDRESSES QUESTION---\n",
      "{'question': 'What is the purpose of the joker tile in Rummikub?', 'generation': AIMessage(content='The joker tile in Rummikub serves as a wildcard, allowing players to substitute it for any specific tile when forming sets or runs. However, there are restrictions on using the joker, such as not being able to take tiles away from a meld containing a joker and not rearranging combinations with a joker.', additional_kwargs={}, response_metadata={'model': 'llama3.2', 'created_at': '2024-12-22T13:15:24.081943535Z', 'message': {'role': 'assistant', 'content': ''}, 'done_reason': 'stop', 'done': True, 'total_duration': 50978789474, 'load_duration': 198734932, 'prompt_eval_count': 810, 'prompt_eval_duration': 43442000000, 'eval_count': 63, 'eval_duration': 7335000000}, id='run-a78002bb-f11d-4d31-a987-34da8a2874d8-0', usage_metadata={'input_tokens': 810, 'output_tokens': 63, 'total_tokens': 873}), 'web_search': 'No', 'max_retries': 3, 'loop_step': 1, 'documents': [Document(metadata={'CreationDate': \"D:20241118154334+01'00'\", 'Creator': 'Adobe Acrobat Pro (32-bit) 24.4.20272', 'ModDate': \"D:20241123190612+01'00'\", 'Producer': 'Adobe Acrobat Pro (32-bit) 24.4.20272', 'Title': '2600-0236-0041 080719_rummikub rules', 'file_path': '../../data\\\\rummikub_rules.pdf', 'page': 3, 'source': '../../data\\\\rummikub_rules.pdf', 'total_pages': 13}, page_content='possible. In the early stages of the game it’s a good idea to hold back some tiles so that other players open\\nup the table and provide more opportunities for play. Sometimes it is useful to hold back the fourth tile of\\na group or run and play only three, so that on the next turn you can play a tile instead of drawing from the\\npool. Keeping a joker on your rack is also a good strategy; however, you risk being caught with it\\n(earning a penalty of 30 points) when another player goes “Rummikub!”\\nRUMMIKUB and are Registered Trademarks of M&M Ventures (2014) Limited.\\nAll other company or product names are the trademarks or registered trademarks\\nof their respective holders. All rights not expressly granted are reserved.\\n© 2007 Copyrights M&M Ventures (2014) Limited Rummikub Joker\\n© 1950 M&M Ventures (2014) Limited\\nManufactured by: Lemada Light Industries Ltd., 27 Betzalel st., Arad 8909355, Israel.\\n“WARNING”! Not suitable for children under 36 months. Contains small parts.'), Document(metadata={'CreationDate': \"D:20241118154334+01'00'\", 'Creator': 'Adobe Acrobat Pro (32-bit) 24.4.20272', 'ModDate': \"D:20241123190612+01'00'\", 'Producer': 'Adobe Acrobat Pro (32-bit) 24.4.20272', 'Title': '2600-0236-0041 080719_rummikub rules', 'file_path': '../../data\\\\rummikub_rules.pdf', 'page': 7, 'source': '../../data\\\\rummikub_rules.pdf', 'total_pages': 13}, page_content='elsewhere, or even to destroy the set completely by moving each of its tiles to a different\\nset, provided that the joker continues to represent the same tile, and of course that all the\\nresulting sets are valid. Care must be taken not to change the tile represented by the joker when\\ndoing this. The only way the joker can be made to represent a different tile is if the player\\nsupplies from hand the tile that the joker originally represented, and this replacement of the\\njoker may be subject to additional restrictions as discussed above.\\nThe Dutch translation of the Official Book, Spelregelboek Voor het originele Rummikub (Goliath,\\n1985) includes the version where sets containing a joker can be manipulated as a variation,\\nknown as Dutch Sabra. On the other hand, the 1987 edition of the Pressman rules agrees with\\nthe Official Book: \"You can add a tile to a meld containing a Joker\" but \"You may not take a tile\\naway from a meld which includes a Joker.\"'), Document(metadata={'CreationDate': \"D:20241118154334+01'00'\", 'Creator': 'Adobe Acrobat Pro (32-bit) 24.4.20272', 'ModDate': \"D:20241123190612+01'00'\", 'Producer': 'Adobe Acrobat Pro (32-bit) 24.4.20272', 'Title': '2600-0236-0041 080719_rummikub rules', 'file_path': '../../data\\\\rummikub_rules.pdf', 'page': 5, 'source': '../../data\\\\rummikub_rules.pdf', 'total_pages': 13}, page_content='A combination which contains a joker can have further tiles added to it, but nothing can be taken\\nfrom it, nor can it be rearranged in any way while there is a joker in it. For example if a run has a\\njoker at one end the joker cannot be moved to the other end in order to add a tile. However, a\\nplayer who has in hand the tile which is represented by a joker on the table, the player can\\nsubstitute the real tile for the joker and then re-use the joker in some combination on the table. A\\njoker released in this way cannot be taken into the player\\'s hand for later use. In the case of\\ngroup consisting of two equal tiles and a joker, the joker can be replaced by a matching tile of\\neither of the missing colors.\\nBecause of the complexity of the possible rearrangements, it is usual to set a time limit for a\\nturn, for example two minutes. When you have finished your turn, you say \"pass\", and the next\\nperson can play.')], 'filtered_docs': [Document(metadata={'CreationDate': \"D:20241118154334+01'00'\", 'Creator': 'Adobe Acrobat Pro (32-bit) 24.4.20272', 'ModDate': \"D:20241123190612+01'00'\", 'Producer': 'Adobe Acrobat Pro (32-bit) 24.4.20272', 'Title': '2600-0236-0041 080719_rummikub rules', 'file_path': '../../data\\\\rummikub_rules.pdf', 'page': 3, 'source': '../../data\\\\rummikub_rules.pdf', 'total_pages': 13}, page_content='possible. In the early stages of the game it’s a good idea to hold back some tiles so that other players open\\nup the table and provide more opportunities for play. Sometimes it is useful to hold back the fourth tile of\\na group or run and play only three, so that on the next turn you can play a tile instead of drawing from the\\npool. Keeping a joker on your rack is also a good strategy; however, you risk being caught with it\\n(earning a penalty of 30 points) when another player goes “Rummikub!”\\nRUMMIKUB and are Registered Trademarks of M&M Ventures (2014) Limited.\\nAll other company or product names are the trademarks or registered trademarks\\nof their respective holders. All rights not expressly granted are reserved.\\n© 2007 Copyrights M&M Ventures (2014) Limited Rummikub Joker\\n© 1950 M&M Ventures (2014) Limited\\nManufactured by: Lemada Light Industries Ltd., 27 Betzalel st., Arad 8909355, Israel.\\n“WARNING”! Not suitable for children under 36 months. Contains small parts.'), Document(metadata={'CreationDate': \"D:20241118154334+01'00'\", 'Creator': 'Adobe Acrobat Pro (32-bit) 24.4.20272', 'ModDate': \"D:20241123190612+01'00'\", 'Producer': 'Adobe Acrobat Pro (32-bit) 24.4.20272', 'Title': '2600-0236-0041 080719_rummikub rules', 'file_path': '../../data\\\\rummikub_rules.pdf', 'page': 7, 'source': '../../data\\\\rummikub_rules.pdf', 'total_pages': 13}, page_content='elsewhere, or even to destroy the set completely by moving each of its tiles to a different\\nset, provided that the joker continues to represent the same tile, and of course that all the\\nresulting sets are valid. Care must be taken not to change the tile represented by the joker when\\ndoing this. The only way the joker can be made to represent a different tile is if the player\\nsupplies from hand the tile that the joker originally represented, and this replacement of the\\njoker may be subject to additional restrictions as discussed above.\\nThe Dutch translation of the Official Book, Spelregelboek Voor het originele Rummikub (Goliath,\\n1985) includes the version where sets containing a joker can be manipulated as a variation,\\nknown as Dutch Sabra. On the other hand, the 1987 edition of the Pressman rules agrees with\\nthe Official Book: \"You can add a tile to a meld containing a Joker\" but \"You may not take a tile\\naway from a meld which includes a Joker.\"'), Document(metadata={'CreationDate': \"D:20241118154334+01'00'\", 'Creator': 'Adobe Acrobat Pro (32-bit) 24.4.20272', 'ModDate': \"D:20241123190612+01'00'\", 'Producer': 'Adobe Acrobat Pro (32-bit) 24.4.20272', 'Title': '2600-0236-0041 080719_rummikub rules', 'file_path': '../../data\\\\rummikub_rules.pdf', 'page': 5, 'source': '../../data\\\\rummikub_rules.pdf', 'total_pages': 13}, page_content='A combination which contains a joker can have further tiles added to it, but nothing can be taken\\nfrom it, nor can it be rearranged in any way while there is a joker in it. For example if a run has a\\njoker at one end the joker cannot be moved to the other end in order to add a tile. However, a\\nplayer who has in hand the tile which is represented by a joker on the table, the player can\\nsubstitute the real tile for the joker and then re-use the joker in some combination on the table. A\\njoker released in this way cannot be taken into the player\\'s hand for later use. In the case of\\ngroup consisting of two equal tiles and a joker, the joker can be replaced by a matching tile of\\neither of the missing colors.\\nBecause of the complexity of the possible rearrangements, it is usual to set a time limit for a\\nturn, for example two minutes. When you have finished your turn, you say \"pass\", and the next\\nperson can play.')], 'grades': ['yes', 'yes', 'yes']}\n"
     ]
    }
   ],
   "execution_count": 114
  },
  {
   "cell_type": "code",
   "id": "add451abb284fbc9",
   "metadata": {
    "ExecuteTime": {
     "end_time": "2024-12-22T13:11:30.595559200Z",
     "start_time": "2024-12-22T13:00:48.679132Z"
    }
   },
   "source": [
    "inputs = {\"question\": \"Is there a Rummikub championship?\", \"max_retries\": 3}\n",
    "for event in graph.stream(inputs, stream_mode=\"values\"):\n",
    "    print(event)"
   ],
   "outputs": [
    {
     "name": "stdout",
     "output_type": "stream",
     "text": [
      "---ROUTE QUESTION---\n",
      "---ROUTE QUESTION TO WEB SEARCH---\n",
      "{'question': 'Is there a Rummikub championship?', 'max_retries': 3, 'loop_step': 0, 'filtered_docs': [], 'grades': []}\n",
      "---WEB SEARCH---\n",
      "{'question': 'Is there a Rummikub championship?', 'max_retries': 3, 'loop_step': 0, 'documents': [Document(metadata={}, page_content='1.8K subscribers in the rummikub community. The sub dedicated to Rummikub and similar tile games. ... Is there a world championship this year? ... Sad-Manufacturer2221 • They are holding a National Championship at the Chicago Toy & Game Fair each year. I think they already selected their Champion last year, see Facebook page World Rummikub\\nAre There Rummikub Tournaments? Are There Rummikub Tournaments? 1 When was the first Rummikub tournament? 2 Rummikub tournaments 4 Rummikub Tournament Rules 6 The Joker in the Rummikub tournament So are there Rummikub tournaments? Rummikub is a professional game that has tournaments to see who is the best in the world every three years. When was the first Rummikub tournament? When the creator of the Rummikub game, Ephraim sadly passed away at the age of 75, it motivated his children to set in motion the first Rummikub Championship tournament. Rummikub tournaments Rummikub Tournament Rules The Joker in the Rummikub tournament If a joker is still on a player’s rack at the finishing point of the tournament game, then its penalty score is 30 points.\\nWRC - Rummikub WRC WRC WRC The Wrc - Rummikub World Championships The WRC, also known as the Rummikub World Championships, has since evolved into a prestigious event held every three years at different prominent global venues. The quest is underway to find the upcoming Rummikub NZ National Champion, who will proudly stand for New Zealand at the upcoming WRC. If you’re confident that you possess the necessary skills to represent New Zealand in the forthcoming WRC, then its time to register for the New Zealand Rummikub Championship 2024. This year we will be holding the New Zealand Rummikub Championship at JetPark Hotel Auckland. New Zealand has been proudly represented at 7 of the 9 WRC’s. WRC')], 'filtered_docs': [], 'grades': []}\n",
      "---GENERATE---\n",
      "---CHECK HALLUCINATIONS---\n",
      "---DECISION: GENERATION IS NOT GROUNDED IN DOCUMENTS, RE-TRY---\n",
      "{'question': 'Is there a Rummikub championship?', 'generation': AIMessage(content='Yes, there are Rummikub championships. The World Rummikub Championships (WRC) is held every three years at different prominent global venues, with a National Championship also being held annually at the Chicago Toy & Game Fair. Additionally, New Zealand has its own national championship, which will be held in 2024 at JetPark Hotel Auckland.', additional_kwargs={}, response_metadata={'model': 'llama3.2', 'created_at': '2024-12-22T13:01:08.7916996Z', 'message': {'role': 'assistant', 'content': ''}, 'done_reason': 'stop', 'done': True, 'total_duration': 14234655400, 'load_duration': 24737400, 'prompt_eval_count': 560, 'prompt_eval_duration': 3429000000, 'eval_count': 73, 'eval_duration': 10778000000}, id='run-3566df68-a969-4c0b-bbeb-026aef2a2b4e-0', usage_metadata={'input_tokens': 560, 'output_tokens': 73, 'total_tokens': 633}), 'max_retries': 3, 'loop_step': 1, 'documents': [Document(metadata={}, page_content='1.8K subscribers in the rummikub community. The sub dedicated to Rummikub and similar tile games. ... Is there a world championship this year? ... Sad-Manufacturer2221 • They are holding a National Championship at the Chicago Toy & Game Fair each year. I think they already selected their Champion last year, see Facebook page World Rummikub\\nAre There Rummikub Tournaments? Are There Rummikub Tournaments? 1 When was the first Rummikub tournament? 2 Rummikub tournaments 4 Rummikub Tournament Rules 6 The Joker in the Rummikub tournament So are there Rummikub tournaments? Rummikub is a professional game that has tournaments to see who is the best in the world every three years. When was the first Rummikub tournament? When the creator of the Rummikub game, Ephraim sadly passed away at the age of 75, it motivated his children to set in motion the first Rummikub Championship tournament. Rummikub tournaments Rummikub Tournament Rules The Joker in the Rummikub tournament If a joker is still on a player’s rack at the finishing point of the tournament game, then its penalty score is 30 points.\\nWRC - Rummikub WRC WRC WRC The Wrc - Rummikub World Championships The WRC, also known as the Rummikub World Championships, has since evolved into a prestigious event held every three years at different prominent global venues. The quest is underway to find the upcoming Rummikub NZ National Champion, who will proudly stand for New Zealand at the upcoming WRC. If you’re confident that you possess the necessary skills to represent New Zealand in the forthcoming WRC, then its time to register for the New Zealand Rummikub Championship 2024. This year we will be holding the New Zealand Rummikub Championship at JetPark Hotel Auckland. New Zealand has been proudly represented at 7 of the 9 WRC’s. WRC')], 'filtered_docs': [], 'grades': []}\n",
      "---GENERATE---\n",
      "---CHECK HALLUCINATIONS---\n",
      "---DECISION: GENERATION IS NOT GROUNDED IN DOCUMENTS, RE-TRY---\n",
      "{'question': 'Is there a Rummikub championship?', 'generation': AIMessage(content='Yes, there are Rummikub championships. The World Rummikub Championships (WRC) is held every three years at different prominent global venues, with a National Championship also being held annually at the Chicago Toy & Game Fair. Additionally, New Zealand has its own national championship, which will be held in 2024 at JetPark Hotel Auckland.', additional_kwargs={}, response_metadata={'model': 'llama3.2', 'created_at': '2024-12-22T13:01:29.5545744Z', 'message': {'role': 'assistant', 'content': ''}, 'done_reason': 'stop', 'done': True, 'total_duration': 15070494300, 'load_duration': 33020400, 'prompt_eval_count': 560, 'prompt_eval_duration': 3519000000, 'eval_count': 73, 'eval_duration': 11516000000}, id='run-aa55ad05-fca1-4ca7-842c-7adb70d613b4-0', usage_metadata={'input_tokens': 560, 'output_tokens': 73, 'total_tokens': 633}), 'max_retries': 3, 'loop_step': 3, 'documents': [Document(metadata={}, page_content='1.8K subscribers in the rummikub community. The sub dedicated to Rummikub and similar tile games. ... Is there a world championship this year? ... Sad-Manufacturer2221 • They are holding a National Championship at the Chicago Toy & Game Fair each year. I think they already selected their Champion last year, see Facebook page World Rummikub\\nAre There Rummikub Tournaments? Are There Rummikub Tournaments? 1 When was the first Rummikub tournament? 2 Rummikub tournaments 4 Rummikub Tournament Rules 6 The Joker in the Rummikub tournament So are there Rummikub tournaments? Rummikub is a professional game that has tournaments to see who is the best in the world every three years. When was the first Rummikub tournament? When the creator of the Rummikub game, Ephraim sadly passed away at the age of 75, it motivated his children to set in motion the first Rummikub Championship tournament. Rummikub tournaments Rummikub Tournament Rules The Joker in the Rummikub tournament If a joker is still on a player’s rack at the finishing point of the tournament game, then its penalty score is 30 points.\\nWRC - Rummikub WRC WRC WRC The Wrc - Rummikub World Championships The WRC, also known as the Rummikub World Championships, has since evolved into a prestigious event held every three years at different prominent global venues. The quest is underway to find the upcoming Rummikub NZ National Champion, who will proudly stand for New Zealand at the upcoming WRC. If you’re confident that you possess the necessary skills to represent New Zealand in the forthcoming WRC, then its time to register for the New Zealand Rummikub Championship 2024. This year we will be holding the New Zealand Rummikub Championship at JetPark Hotel Auckland. New Zealand has been proudly represented at 7 of the 9 WRC’s. WRC')], 'filtered_docs': [], 'grades': []}\n",
      "---GENERATE---\n",
      "---CHECK HALLUCINATIONS---\n",
      "---DECISION: GENERATION IS GROUNDED IN DOCUMENTS---\n",
      "---GRADE GENERATION vs QUESTION---\n",
      "---DECISION: GENERATION ADDRESSES QUESTION---\n",
      "{'question': 'Is there a Rummikub championship?', 'generation': AIMessage(content=\"Yes, there are Rummikub championships. The World Rummikub Championships (WRC) is held every three years at different prominent global venues, and it has been a prestigious event since its evolution from the first Rummikub Championship tournament, which was organized by Ephraim's children after his passing.\", additional_kwargs={}, response_metadata={'model': 'llama3.2', 'created_at': '2024-12-22T13:01:49.3794999Z', 'message': {'role': 'assistant', 'content': ''}, 'done_reason': 'stop', 'done': True, 'total_duration': 13766237400, 'load_duration': 37247500, 'prompt_eval_count': 560, 'prompt_eval_duration': 3514000000, 'eval_count': 66, 'eval_duration': 10213000000}, id='run-ef3a10c3-afa0-40ac-9e08-a488bfd2307d-0', usage_metadata={'input_tokens': 560, 'output_tokens': 66, 'total_tokens': 626}), 'max_retries': 3, 'loop_step': 7, 'documents': [Document(metadata={}, page_content='1.8K subscribers in the rummikub community. The sub dedicated to Rummikub and similar tile games. ... Is there a world championship this year? ... Sad-Manufacturer2221 • They are holding a National Championship at the Chicago Toy & Game Fair each year. I think they already selected their Champion last year, see Facebook page World Rummikub\\nAre There Rummikub Tournaments? Are There Rummikub Tournaments? 1 When was the first Rummikub tournament? 2 Rummikub tournaments 4 Rummikub Tournament Rules 6 The Joker in the Rummikub tournament So are there Rummikub tournaments? Rummikub is a professional game that has tournaments to see who is the best in the world every three years. When was the first Rummikub tournament? When the creator of the Rummikub game, Ephraim sadly passed away at the age of 75, it motivated his children to set in motion the first Rummikub Championship tournament. Rummikub tournaments Rummikub Tournament Rules The Joker in the Rummikub tournament If a joker is still on a player’s rack at the finishing point of the tournament game, then its penalty score is 30 points.\\nWRC - Rummikub WRC WRC WRC The Wrc - Rummikub World Championships The WRC, also known as the Rummikub World Championships, has since evolved into a prestigious event held every three years at different prominent global venues. The quest is underway to find the upcoming Rummikub NZ National Champion, who will proudly stand for New Zealand at the upcoming WRC. If you’re confident that you possess the necessary skills to represent New Zealand in the forthcoming WRC, then its time to register for the New Zealand Rummikub Championship 2024. This year we will be holding the New Zealand Rummikub Championship at JetPark Hotel Auckland. New Zealand has been proudly represented at 7 of the 9 WRC’s. WRC')], 'filtered_docs': [], 'grades': []}\n"
     ]
    }
   ],
   "execution_count": 91
  },
  {
   "cell_type": "code",
   "id": "6d909021ecbe6cee",
   "metadata": {
    "ExecuteTime": {
     "end_time": "2024-12-22T13:11:30.643154300Z",
     "start_time": "2024-12-22T13:01:58.377143Z"
    }
   },
   "source": [
    "inputs = {\n",
    "    \"question\": \"What is the purpose of the joker tile in Rummikub?\",\n",
    "    \"max_retries\": 3,\n",
    "}\n",
    "\n",
    "# Execute the graph synchronously (no streaming)\n",
    "final_state = graph.invoke(inputs)\n",
    "\n",
    "print(final_state[\"generation\"].content)"
   ],
   "outputs": [
    {
     "name": "stdout",
     "output_type": "stream",
     "text": [
      "---ROUTE QUESTION---\n",
      "---ROUTE QUESTION TO RAG---\n",
      "---RETRIEVE---\n",
      "---GRADE: DOCUMENT RELEVANT---\n",
      "---GRADE: DOCUMENT RELEVANT---\n",
      "---GRADE: DOCUMENT RELEVANT---\n",
      "---CHECK IF WEB SEARCH IS NECESSARY---\n",
      "---ASSESS GRADED DOCUMENTS---\n",
      "---DECISION: GENERATE---\n",
      "---GENERATE---\n",
      "---CHECK HALLUCINATIONS---\n",
      "---DECISION: GENERATION IS GROUNDED IN DOCUMENTS---\n",
      "---GRADE GENERATION vs QUESTION---\n",
      "---DECISION: GENERATION ADDRESSES QUESTION---\n",
      "The joker tile in Rummikub serves as a wild card, allowing players to substitute it for any specific tile when forming sets or runs. However, there are restrictions on using the joker, such as not being able to take tiles away from a meld containing a joker and not rearranging combinations with a joker.\n"
     ]
    }
   ],
   "execution_count": 92
  },
  {
   "cell_type": "markdown",
   "id": "a62a9d3d7d061bec",
   "metadata": {},
   "source": [
    "## Conclusion\n",
    "Since we implemented the map reduce the rag agent should now be faster because it can now run multiple instances of the same agent at the same time."
   ]
  }
 ],
 "metadata": {
  "kernelspec": {
   "display_name": "Python 3",
   "language": "python",
   "name": "python3"
  },
  "language_info": {
   "codemirror_mode": {
    "name": "ipython",
    "version": 2
   },
   "file_extension": ".py",
   "mimetype": "text/x-python",
   "name": "python",
   "nbconvert_exporter": "python",
   "pygments_lexer": "ipython2",
   "version": "2.7.6"
  }
 },
 "nbformat": 4,
 "nbformat_minor": 5
}
