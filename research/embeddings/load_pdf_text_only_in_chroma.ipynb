{
 "cells": [
  {
   "metadata": {
    "ExecuteTime": {
     "end_time": "2024-12-23T16:37:59.949131Z",
     "start_time": "2024-12-23T16:37:57.321152Z"
    }
   },
   "cell_type": "code",
   "source": [
    "import os\n",
    "\n",
    "import chromadb\n",
    "from dotenv import load_dotenv\n",
    "from langchain.text_splitter import RecursiveCharacterTextSplitter\n",
    "from langchain_chroma import Chroma\n",
    "from langchain_community.document_loaders import PDFPlumberLoader\n",
    "from langchain_ollama import OllamaEmbeddings\n",
    "\n",
    "load_dotenv(\"../../.env.research\")"
   ],
   "id": "f48fe73a3f84f402",
   "outputs": [
    {
     "data": {
      "text/plain": [
       "False"
      ]
     },
     "execution_count": 1,
     "metadata": {},
     "output_type": "execute_result"
    }
   ],
   "execution_count": 1
  },
  {
   "metadata": {},
   "cell_type": "markdown",
   "source": [
    "## Load text embeddings in Chroma\n",
    "In this notebook, we will load the text embeddings of the Rummikub rules in Chroma. We do this using the RecursiveCharacterTextSplitter to split the text into chunks of 1000 characters. It splits text by recursively looking at characters. It tries to split by different characters to find one that works. Chroma is a vector store that allows us to store and retrieve embeddings. A vectorstore is a collection of embeddings that can be queried, and embeddings are numerical representations of words or sentences that capture their meanings and relationships."
   ],
   "id": "e87311fcd319090e"
  },
  {
   "metadata": {
    "ExecuteTime": {
     "end_time": "2024-11-22T13:53:22.464035Z",
     "start_time": "2024-11-22T13:53:22.452010Z"
    }
   },
   "cell_type": "code",
   "source": [
    "def load_pdfs_from_directory(directory_path):\n",
    "    all_documents = []\n",
    "    for filename in os.listdir(directory_path):\n",
    "        if filename.endswith(\".pdf\"):\n",
    "            file_path = os.path.join(directory_path, filename)\n",
    "            loader = PDFPlumberLoader(file_path=file_path)\n",
    "            documents = loader.load()\n",
    "            all_documents.extend(documents)\n",
    "    return all_documents"
   ],
   "id": "1c65b37f0296df13",
   "outputs": [],
   "execution_count": 8
  },
  {
   "metadata": {
    "ExecuteTime": {
     "end_time": "2024-11-22T13:53:26.364054Z",
     "start_time": "2024-11-22T13:53:22.503914Z"
    }
   },
   "cell_type": "code",
   "source": [
    "pdf_docs = load_pdfs_from_directory(os.getenv(\"DATA_DIR\"))\n",
    "text_splitter = RecursiveCharacterTextSplitter(chunk_size=1000, chunk_overlap=0)\n",
    "all_splits = text_splitter.split_documents(pdf_docs)"
   ],
   "id": "522c1d159a11b682",
   "outputs": [],
   "execution_count": 9
  },
  {
   "metadata": {
    "ExecuteTime": {
     "end_time": "2024-11-22T13:53:36.800311Z",
     "start_time": "2024-11-22T13:53:26.373850Z"
    }
   },
   "cell_type": "code",
   "source": [
    "client = chromadb.HttpClient(host=\"localhost\", port=5000)\n",
    "if \"rummikub_rules\" in client.list_collections():\n",
    "    client.delete_collection(\"rummikub_rules\")\n",
    "vectorstore = Chroma.from_documents(\n",
    "    documents=all_splits,\n",
    "    embedding=OllamaEmbeddings(model=\"nomic-embed-text\"),\n",
    "    collection_name=\"rummikub_rules\",\n",
    "    client=client,\n",
    ")\n",
    "\n",
    "retriever = vectorstore.as_retriever()"
   ],
   "id": "199a81f3821a077f",
   "outputs": [],
   "execution_count": 10
  },
  {
   "metadata": {
    "ExecuteTime": {
     "end_time": "2024-11-22T13:53:36.894727Z",
     "start_time": "2024-11-22T13:53:36.814293Z"
    }
   },
   "cell_type": "code",
   "source": [
    "retriever.invoke(\"Explain manipulation\")"
   ],
   "id": "c3b93ec979c27669",
   "outputs": [
    {
     "data": {
      "text/plain": [
       "[Document(metadata={'CreationDate': \"D:20241118154334+01'00'\", 'Creator': 'Adobe Acrobat Pro (32-bit) 24.4.20272', 'ModDate': \"D:20241118212718+01'00'\", 'Producer': 'Adobe Acrobat Pro (32-bit) 24.4.20272', 'Title': '2600-0236-0041 080719_rummikub rules', 'file_path': './data\\\\rummikub_rules.pdf', 'page': 1, 'source': './data\\\\rummikub_rules.pdf', 'total_pages': 13}, page_content='Manipulation:\\nManipulation is the most exciting part of playing \"Rummikub®\". Players try to table the greatest amount\\nof tiles by rearranging or adding to sets which are already on the table. Sets can be manipulated in many\\nways (examples follow) as long as at the end of each round only legitimate sets remain and no loose tiles\\nare left over.\\nAdd one or more tiles from rack to make new set:\\nTiles on rack Tiles on table\\n3 8 4 5 6 8 8 8\\nBlue 4,5,6 are on the table. The player'),\n",
       " Document(metadata={'CreationDate': \"D:20241118154334+01'00'\", 'Creator': 'Adobe Acrobat Pro (32-bit) 24.4.20272', 'ModDate': \"D:20241118212718+01'00'\", 'Producer': 'Adobe Acrobat Pro (32-bit) 24.4.20272', 'Title': '2600-0236-0041 080719_rummikub rules', 'file_path': './data\\\\rummikub_rules.pdf', 'page': 1, 'source': './data\\\\rummikub_rules.pdf', 'total_pages': 13}, page_content='Manipulation:\\nManipulation is the most exciting part of playing \"Rummikub®\". Players try to table the greatest amount\\nof tiles by rearranging or adding to sets which are already on the table. Sets can be manipulated in many\\nways (examples follow) as long as at the end of each round only legitimate sets remain and no loose tiles\\nare left over.\\nAdd one or more tiles from rack to make new set:\\nTiles on rack Tiles on table\\n3 8 4 5 6 8 8 8\\nBlue 4,5,6 are on the table. The player\\nadds a blue 3. The blue 8 is added to the 3 4 5 6 8 8 8 8\\ngroup of 8’s already on the table.\\nRemove a fourth tile from a group and use it to form a new set:\\nTiles on rack Tiles on table\\n3 5 6 4 4 4 4\\nA tile is missing from the potential blue run\\non the rack. The player takes the blue 4\\n3 4 5 6 4 4 4\\nfrom the group of four on the table and\\nlays the run: blue 3,4,5,6.\\nAdd a fourth tile to a set and remove one tile from it, to make another set:\\nTiles on rack Tiles on table\\n11 8 8 8 9 10'),\n",
       " Document(metadata={'CreationDate': \"D:20241118154334+01'00'\", 'Creator': 'Adobe Acrobat Pro (32-bit) 24.4.20272', 'ModDate': \"D:20241118212718+01'00'\", 'Producer': 'Adobe Acrobat Pro (32-bit) 24.4.20272', 'Title': '2600-0236-0041 080719_rummikub rules', 'file_path': './data\\\\rummikub_rules.pdf', 'page': 1, 'source': './data\\\\rummikub_rules.pdf', 'total_pages': 13}, page_content='Manipulation:\\nManipulation is the most exciting part of playing \"Rummikub®\". Players try to table the greatest amount\\nof tiles by rearranging or adding to sets which are already on the table. Sets can be manipulated in many\\nways (examples follow) as long as at the end of each round only legitimate sets remain and no loose tiles\\nare left over.\\nAdd one or more tiles from rack to make new set:\\nTiles on rack Tiles on table\\n3 8 4 5 6 8 8 8\\nBlue 4,5,6 are on the table. The player\\nadds a blue 3. The blue 8 is added to the 3 4 5 6 8 8 8 8\\ngroup of 8’s already on the table.\\nRemove a fourth tile from a group and use it to form a new set:\\nTiles on rack Tiles on table\\n3 5 6 4 4 4 4\\nA tile is missing from the potential blue run\\non the rack. The player takes the blue 4\\n3 4 5 6 4 4 4\\nfrom the group of four on the table and\\nlays the run: blue 3,4,5,6.\\nAdd a fourth tile to a set and remove one tile from it, to make another set:\\nTiles on rack Tiles on table\\n11 8 8 8 9 10'),\n",
       " Document(metadata={'CreationDate': \"D:20241118154334+01'00'\", 'Creator': 'Adobe Acrobat Pro (32-bit) 24.4.20272', 'ModDate': \"D:20241118212718+01'00'\", 'Producer': 'Adobe Acrobat Pro (32-bit) 24.4.20272', 'Title': '2600-0236-0041 080719_rummikub rules', 'file_path': './data\\\\rummikub_rules.pdf', 'page': 7, 'source': './data\\\\rummikub_rules.pdf', 'total_pages': 13}, page_content='them. According to the Dutch Spelregelboek, however, manipulation can only begin on your next\\nturn after the turn in which you laid down your initial meld. Manipulation on the same turn that\\nyou lay down your initial meld is, however, allowed in the \"Dutch Sabra\" variation in that book.\\nThe Lemada (1999) rules also appear not to allow manipulation on the turn in which you make\\nyour initial meld. The Spears (1988) rules explicitly do allow it (\"once players have entered the')]"
      ]
     },
     "execution_count": 11,
     "metadata": {},
     "output_type": "execute_result"
    }
   ],
   "execution_count": 11
  },
  {
   "metadata": {},
   "cell_type": "markdown",
   "source": [
    "## Conclusion\n",
    "Works fine, we will try to also load the images in the next notebook."
   ],
   "id": "bd910c94ead9e0bd"
  }
 ],
 "metadata": {
  "kernelspec": {
   "name": "python3",
   "language": "python",
   "display_name": "Python 3 (ipykernel)"
  }
 },
 "nbformat": 5,
 "nbformat_minor": 9
}
