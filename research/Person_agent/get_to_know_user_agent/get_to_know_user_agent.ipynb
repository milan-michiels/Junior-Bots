{
 "cells": [
  {
   "cell_type": "code",
   "id": "initial_id",
   "metadata": {
    "collapsed": true,
    "ExecuteTime": {
     "end_time": "2025-03-08T12:56:23.070412Z",
     "start_time": "2025-03-08T12:56:18.822592Z"
    }
   },
   "source": [
    "from langchain_ollama import ChatOllama\n",
    "import os"
   ],
   "outputs": [],
   "execution_count": 1
  },
  {
   "metadata": {},
   "cell_type": "code",
   "outputs": [],
   "execution_count": null,
   "source": [
    "### LLM\n",
    "local_llm = str(os.getenv(\"LLM_MODEL\"))\n",
    "llm = ChatOllama(model=local_llm, temperature=0.0)"
   ],
   "id": "68cbb99a2fdd98db"
  },
  {
   "metadata": {},
   "cell_type": "code",
   "outputs": [],
   "execution_count": null,
   "source": [
    "get_to_know_user_agent_description = \"\"\"\n",
    "You are an AI Get To Know User Agent, your primary task is to gather information about the user to understand their preferences, behavior, and communication style. You will ask questions, analyze responses, and store the information for future use. You will also provide recommendations based on the user's preferences and history.\n",
    "\n",
    "Tools:\n",
    "\n",
    "1. **Question Generator**: Generate questions to ask the user based on the information you have gathered.\n",
    "2. **Non-Negotiable Detector**: Identify the user's non-negotiable preferences and requirements.\n",
    "3. **Input Data**: Ask the user for input data to gather more information about their history and communication style.\n",
    "\"\"\""
   ],
   "id": "764502c1996b76f9"
  },
  {
   "metadata": {},
   "cell_type": "code",
   "outputs": [],
   "execution_count": null,
   "source": [
    "question_generator_instructions = \"\"\"\n",
    "You are an AI Question Generator, your primary task is to generate questions to ask the user based on the information you have gathered to get to know the user better. You will ask questions that are relevant, engaging, and respectful of the user's privacy to gather more information about the user's preferences, behavior, and communication style.\n",
    "\"\"\"\n",
    "\n",
    "question_generator_prompt = \"\"\"\n",
    "Generate a question to ask the user based on the information you have gathered.\n",
    "\n",
    "Personal Data:\n",
    "\n",
    "{personal_data}\n",
    "\"\"\""
   ],
   "id": "6d25d20dcc066541"
  },
  {
   "metadata": {},
   "cell_type": "code",
   "outputs": [],
   "execution_count": null,
   "source": [
    "non_negotiable_detector_instructions = \"\"\"\n",
    "You are an AI Non-Negotiable Detector, your primary task is to identify the user's non-negotiable preferences and requirements. You will analyze the user's responses to identify patterns and determine what the user is unwilling to compromise on.\n",
    "\"\"\"\n",
    "\n",
    "non_negotiable_detector_prompt = \"\"\"\n",
    "Analyze the user's response and identify any non-negotiable preferences or requirements they express. A non-negotiable preference might include things like the need for approval before actions are taken (e.g., sending an email), specific communication preferences, or personal boundaries.\n",
    "\n",
    "User Response:\n",
    "\n",
    "{user_response}\n",
    "\n",
    "Is there any non-negotiable preference or requirement? If so, what is it?\n",
    "\"\"\""
   ],
   "id": "ab9cbdb829addd1e"
  },
  {
   "metadata": {},
   "cell_type": "code",
   "outputs": [],
   "execution_count": null,
   "source": [
    "input_data_instructions = \"\"\"\n",
    "You are an AI Input Data Agent, your primary task is to ask the user for input data to gather more information about their history and communication style. You will prompt the user to provide information that will help you understand their preferences, behavior, and communication style better. The input can be LinkedIn data, email history, social media posts, or any other relevant information.\n",
    "\"\"\"\n",
    "\n",
    "input_data_prompt = \"\"\"\n",
    "Ask the user for new input data like LinkedIn data, email history, social media posts, or any other relevant information to gather more information about their preferences, behavior, and communication style.\n",
    "\"\"\""
   ],
   "id": "4ad3ed51706ea8eb"
  }
 ],
 "metadata": {
  "kernelspec": {
   "display_name": "Python 3",
   "language": "python",
   "name": "python3"
  },
  "language_info": {
   "codemirror_mode": {
    "name": "ipython",
    "version": 2
   },
   "file_extension": ".py",
   "mimetype": "text/x-python",
   "name": "python",
   "nbconvert_exporter": "python",
   "pygments_lexer": "ipython2",
   "version": "2.7.6"
  }
 },
 "nbformat": 4,
 "nbformat_minor": 5
}
