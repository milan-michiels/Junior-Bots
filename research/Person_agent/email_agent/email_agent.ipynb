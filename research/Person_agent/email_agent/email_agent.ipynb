{
 "cells": [
  {
   "metadata": {},
   "cell_type": "code",
   "outputs": [],
   "execution_count": null,
   "source": [
    "import os\n",
    "from typing import TypedDict\n",
    "\n",
    "from langchain_ollama import ChatOllama"
   ],
   "id": "1ac9b846bdde8c78"
  },
  {
   "metadata": {},
   "cell_type": "code",
   "outputs": [],
   "execution_count": null,
   "source": [
    "### LLM\n",
    "local_llm = str(os.getenv(\"LLM_MODEL\"))\n",
    "llm = ChatOllama(model=local_llm, temperature=0.0)"
   ],
   "id": "95ceae8488defa"
  },
  {
   "metadata": {},
   "cell_type": "code",
   "outputs": [],
   "execution_count": null,
   "source": [
    "### Tool utilities\n",
    "\n",
    "email_agent_description = \"\"\"\n",
    "You are an AI Email Assistant, your primary task is to efficiently manage the user’s inbox by categorizing, drafting, prioritizing and responding to emails. You will mimic the user’s email writing style and detect important tasks. You are also responsible for summarizing email threads and sending follow-up reminders when necessary.\n",
    "\n",
    "Tools:\n",
    "\n",
    "1. **Email Summarization**: Summarize the incoming email into 1 to 5 bulletpoints\n",
    "2. **Email Categorization**: Sort the incoming email into a category: urgent, follow-up, informational, spam, newsletter or other\n",
    "3. **Email Analyzer**: Based on the category and the summary of the incoming email it will determine whether it requires a direct response, a later response, or no response\n",
    "4. **Email Drafting**: Draft a response to the incoming email based on the summary and the category based on the user's writing style and send it if the category is urgent.\n",
    "5. **Email Reminder**: Send a follow-up reminder to the user if the email is categorized as follow-up and the user has not responded within a certain time frame.\n",
    "\"\"\""
   ],
   "id": "36a63930f555619b"
  },
  {
   "metadata": {},
   "cell_type": "code",
   "outputs": [],
   "execution_count": null,
   "source": [
    "\n",
    "email_summarization_instructions = \"\"\"\n",
    "You are an AI Email Summarizer, your primary task is to summarize incoming emails into 1 to 5 bullet points. You will extract the most important information from the email and present it in a concise manner.\n",
    "\"\"\"\n",
    "\n",
    "email_summarization_prompt = \"\"\"\n",
    "Summarize the incoming email into 1 to 5 bullet points.\n",
    "\n",
    "Input:\n",
    "\n",
    "{input}\n",
    "\n",
    "Personal Data:\n",
    "\n",
    "{personal_data}\n",
    "\"\"\""
   ],
   "id": "bc963ee8f01b9e3c"
  },
  {
   "metadata": {},
   "cell_type": "code",
   "outputs": [],
   "execution_count": null,
   "source": [
    "email_category_instructions = \"\"\"\n",
    "You are an AI Email Categorizer, your primary task is to categorize incoming emails into one of the following categories: urgent, follow-up, informational, spam, newsletter or other. You will analyze the content of the email and determine its priority and relevance.\n",
    "\"\"\"\n",
    "\n",
    "email_category_prompt = \"\"\"\n",
    "Categorize the incoming email into one of the following categories: urgent, follow-up, informational, spam, newsletter or other.\n",
    "\n",
    "Input:\n",
    "\n",
    "{input}\n",
    "\"\"\""
   ],
   "id": "ff9aef49a6a9bd24"
  },
  {
   "metadata": {},
   "cell_type": "code",
   "outputs": [],
   "execution_count": null,
   "source": [
    "email_analyzer_instructions = \"\"\"\n",
    "You are an AI Email Analyzer, your primary task is to analyze incoming emails based on the summary and category provided. You will determine whether the email requires a direct response, a later response, or no response.\n",
    "\"\"\"\n",
    "\n",
    "email_analyzer_prompt = \"\"\"\n",
    "Analyze the incoming email based on the summary and category provided.\n",
    "\n",
    "Summary:\n",
    "\n",
    "{summary}\n",
    "\n",
    "Category:\n",
    "\n",
    "{category}\n",
    "\"\"\""
   ],
   "id": "99c499d3006e3edf"
  },
  {
   "metadata": {},
   "cell_type": "code",
   "outputs": [],
   "execution_count": null,
   "source": [
    "email_drafting_instructions = \"\"\"\n",
    "You are an AI Email Drafter, your primary task is to draft a response to the incoming email based on the summary and category provided. You will mimic the user's writing style and send the response if the category is urgent.\n",
    "\"\"\"\n",
    "\n",
    "email_drafting_prompt = \"\"\"\n",
    "Draft a response to the incoming email based on the summary and category provided.\n",
    "\n",
    "Summary:\n",
    "\n",
    "{summary}\n",
    "\n",
    "Category:\n",
    "\n",
    "{category}\n",
    "\"\"\""
   ],
   "id": "2396d78ef0c7480e"
  },
  {
   "metadata": {},
   "cell_type": "code",
   "outputs": [],
   "execution_count": null,
   "source": [
    "email_reminder_instructions = \"\"\"\n",
    "You are an AI Email Reminder, your primary task is to send a follow-up reminder to the user if the email is categorized as follow-up and the user has not responded within 24 hours.\n",
    "\"\"\"\n",
    "\n",
    "email_reminder_prompt = \"\"\"\n",
    "Send a follow-up reminder to the user if the email is categorized as follow-up and the user has not responded within a 24 hours.\n",
    "\n",
    "Summary:\n",
    "\n",
    "{summary}\n",
    "\n",
    "Category:\n",
    "\n",
    "{category}\n",
    "\"\"\""
   ],
   "id": "f098ed3d6f4aaa37"
  },
  {
   "metadata": {},
   "cell_type": "code",
   "outputs": [],
   "execution_count": null,
   "source": "### Models\n",
   "id": "9810d57f850d7018"
  },
  {
   "metadata": {},
   "cell_type": "code",
   "outputs": [],
   "execution_count": null,
   "source": [
    "### State\n",
    "\n",
    "class EmailState(TypedDict):\n",
    "    input: str\n",
    "    personal_data: str\n",
    "    summary: str\n",
    "    category: str\n",
    "    response: str\n",
    "    reminder: str"
   ],
   "id": "30dd652ee00e92c1"
  },
  {
   "metadata": {},
   "cell_type": "code",
   "outputs": [],
   "execution_count": null,
   "source": [
    "### Nodes\n",
    "\n",
    "def email_summarization(state: EmailState) -> EmailState:\n",
    "    pass\n",
    "\n",
    "\n",
    "def email_category(state: EmailState) -> EmailState:\n",
    "    pass\n",
    "\n",
    "\n",
    "def email_analyzer(state: EmailState) -> EmailState:\n",
    "    pass\n",
    "\n",
    "\n",
    "def email_drafting(state: EmailState) -> EmailState:\n",
    "    pass\n",
    "\n",
    "\n",
    "def email_reminder(state: EmailState) -> EmailState:\n",
    "    pass"
   ],
   "id": "2e5fa2ad57bb7b56"
  },
  {
   "metadata": {},
   "cell_type": "code",
   "outputs": [],
   "execution_count": null,
   "source": "",
   "id": "73f19320df8e374f"
  }
 ],
 "metadata": {
  "kernelspec": {
   "display_name": "Python 3",
   "language": "python",
   "name": "python3"
  },
  "language_info": {
   "codemirror_mode": {
    "name": "ipython",
    "version": 2
   },
   "file_extension": ".py",
   "mimetype": "text/x-python",
   "name": "python",
   "nbconvert_exporter": "python",
   "pygments_lexer": "ipython2",
   "version": "2.7.6"
  }
 },
 "nbformat": 4,
 "nbformat_minor": 5
}
