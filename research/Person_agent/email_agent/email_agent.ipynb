{
 "cells": [
  {
   "metadata": {},
   "cell_type": "code",
   "outputs": [],
   "execution_count": null,
   "source": [
    "from langchain_ollama import ChatOllama\n",
    "import os"
   ],
   "id": "f54b0987e73e10d7"
  },
  {
   "metadata": {},
   "cell_type": "code",
   "outputs": [],
   "execution_count": null,
   "source": [
    "### LLM\n",
    "local_llm = str(os.getenv(\"LLM_MODEL\"))\n",
    "llm = ChatOllama(model=local_llm, temperature=0.0)"
   ],
   "id": "aa023dae11d1eefc"
  },
  {
   "metadata": {},
   "cell_type": "code",
   "outputs": [],
   "execution_count": null,
   "source": [
    "### Tool utilities\n",
    "\n",
    "email_agent_description=\"\"\"\n",
    "You are an AI Email Assistant, your primary task is to efficiently manage the user’s inbox by categorizing, drafting, prioritizing and responding to emails. You will mimic the user’s email writing style and detect important tasks. You are also responsible for summarizing email threads and sending follow-up reminders when necessary.\n",
    "\n",
    "Tools:\n",
    "\n",
    "1. **Email Summarization**: Summarize the incoming email into 1 to 5 bulletpoints\n",
    "2. **Email Categorization**: Sort the incoming email into a category: urgent, follow-up, informational, spam, newsletter or other\n",
    "3. **Email Analyzer**: Based on the category and the summary of the incoming email it will determine whether it requires a direct response, a later response, or no response\n",
    "4. **Email Drafting**: Draft a response to the incoming email based on the summary and the category based on the user's writing style and send it if the category is urgent.\n",
    "5. **Email Reminder**: Send a follow-up reminder to the user if the email is categorized as follow-up and the user has not responded within a certain time frame.\n",
    "\"\"\""
   ],
   "id": "df98bcff8b667902"
  },
  {
   "metadata": {},
   "cell_type": "code",
   "outputs": [],
   "execution_count": null,
   "source": [
    "\n",
    "email_summarization_instructions = \"\"\"\n",
    "You are an AI Email Summarizer, your primary task is to summarize incoming emails into 1 to 5 bullet points. You will extract the most important information from the email and present it in a concise manner.\n",
    "\"\"\"\n",
    "\n",
    "email_summarization_prompt = \"\"\"\n",
    "Summarize the incoming email into 1 to 5 bullet points.\n",
    "\n",
    "Input:\n",
    "\n",
    "{input}\n",
    "\n",
    "Personal Data:\n",
    "\n",
    "{personal_data}\n",
    "\"\"\""
   ],
   "id": "2fc0bedea62fe76a"
  },
  {
   "metadata": {},
   "cell_type": "code",
   "outputs": [],
   "execution_count": null,
   "source": [
    "email_category_instructions = \"\"\"\n",
    "You are an AI Email Categorizer, your primary task is to categorize incoming emails into one of the following categories: urgent, follow-up, informational, spam, newsletter or other. You will analyze the content of the email and determine its priority and relevance.\n",
    "\"\"\"\n",
    "\n",
    "email_category_prompt = \"\"\"\n",
    "Categorize the incoming email into one of the following categories: urgent, follow-up, informational, spam, newsletter or other.\n",
    "\n",
    "Input:\n",
    "\n",
    "{input}\n",
    "\"\"\""
   ],
   "id": "ff9aef49a6a9bd24"
  },
  {
   "metadata": {},
   "cell_type": "code",
   "outputs": [],
   "execution_count": null,
   "source": [
    "email_analyzer_instructions = \"\"\"\n",
    "You are an AI Email Analyzer, your primary task is to analyze incoming emails based on the summary and category provided. You will determine whether the email requires a direct response, a later response, or no response.\n",
    "\"\"\"\n",
    "\n",
    "email_analyzer_prompt = \"\"\"\n",
    "Analyze the incoming email based on the summary and category provided.\n",
    "\n",
    "Summary:\n",
    "\n",
    "{summary}\n",
    "\n",
    "Category:\n",
    "\n",
    "{category}\n",
    "\"\"\""
   ],
   "id": "99c499d3006e3edf"
  }
 ],
 "metadata": {
  "kernelspec": {
   "display_name": "Python 3",
   "language": "python",
   "name": "python3"
  },
  "language_info": {
   "codemirror_mode": {
    "name": "ipython",
    "version": 2
   },
   "file_extension": ".py",
   "mimetype": "text/x-python",
   "name": "python",
   "nbconvert_exporter": "python",
   "pygments_lexer": "ipython2",
   "version": "2.7.6"
  }
 },
 "nbformat": 4,
 "nbformat_minor": 5
}
