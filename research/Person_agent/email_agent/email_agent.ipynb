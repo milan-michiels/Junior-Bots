{
 "cells": [
  {
   "metadata": {
    "ExecuteTime": {
     "end_time": "2025-03-08T14:47:08.466349Z",
     "start_time": "2025-03-08T14:47:05.751613Z"
    }
   },
   "cell_type": "code",
   "source": [
    "import os\n",
    "from typing import TypedDict\n",
    "\n",
    "from IPython.core.display import Image\n",
    "from langchain_ollama import ChatOllama\n",
    "from langgraph.checkpoint.memory import MemorySaver\n",
    "from langgraph.constants import END\n",
    "from langgraph.graph import StateGraph"
   ],
   "id": "a96b00b60ec32454",
   "outputs": [],
   "execution_count": 1
  },
  {
   "metadata": {
    "ExecuteTime": {
     "end_time": "2025-03-08T14:47:09.520557Z",
     "start_time": "2025-03-08T14:47:08.472914Z"
    }
   },
   "cell_type": "code",
   "source": [
    "### LLM\n",
    "local_llm = str(os.getenv(\"LLM_MODEL\"))\n",
    "llm = ChatOllama(model=local_llm, temperature=0.0)"
   ],
   "id": "ddf8663cb1f0d5ab",
   "outputs": [],
   "execution_count": 2
  },
  {
   "metadata": {
    "ExecuteTime": {
     "end_time": "2025-03-08T14:47:10.058911Z",
     "start_time": "2025-03-08T14:47:10.052802Z"
    }
   },
   "cell_type": "code",
   "source": [
    "### Tool utilities\n",
    "\n",
    "email_agent_description = \"\"\"\n",
    "You are an AI Email Assistant, your primary task is to efficiently manage the user’s inbox by categorizing, drafting, prioritizing and responding to emails. You will mimic the user’s email writing style and detect important tasks. You are also responsible for summarizing email threads and sending follow-up reminders when necessary.\n",
    "\n",
    "Tools:\n",
    "\n",
    "1. **Email Summarization**: Summarize the incoming email into 1 to 5 bulletpoints\n",
    "2. **Email Categorization**: Sort the incoming email into a category: urgent, follow-up, informational, spam, newsletter or other\n",
    "3. **Email Analyzer**: Based on the category and the summary of the incoming email it will determine whether it requires a direct response, a later response, or no response\n",
    "4. **Email Drafting**: Draft a response to the incoming email based on the summary and the category based on the user's writing style and send it if the category is urgent.\n",
    "5. **Email Reminder**: Send a follow-up reminder to the user if the email is categorized as follow-up and the user has not responded within a certain time frame.\n",
    "\"\"\""
   ],
   "id": "5bb012bae592f993",
   "outputs": [],
   "execution_count": 3
  },
  {
   "metadata": {
    "ExecuteTime": {
     "end_time": "2025-03-08T14:47:10.091845Z",
     "start_time": "2025-03-08T14:47:10.079860Z"
    }
   },
   "cell_type": "code",
   "source": [
    "\n",
    "email_summarization_instructions = \"\"\"\n",
    "You are an AI Email Summarizer, your primary task is to summarize incoming emails into 1 to 5 bullet points. You will extract the most important information from the email and present it in a concise manner.\n",
    "\"\"\"\n",
    "\n",
    "email_summarization_prompt = \"\"\"\n",
    "Summarize the incoming email into 1 to 5 bullet points.\n",
    "\n",
    "Input:\n",
    "\n",
    "{input}\n",
    "\n",
    "Personal Data:\n",
    "\n",
    "{personal_data}\n",
    "\"\"\""
   ],
   "id": "bc963ee8f01b9e3c",
   "outputs": [],
   "execution_count": 4
  },
  {
   "metadata": {
    "ExecuteTime": {
     "end_time": "2025-03-08T14:47:10.146249Z",
     "start_time": "2025-03-08T14:47:10.137067Z"
    }
   },
   "cell_type": "code",
   "source": [
    "email_category_instructions = \"\"\"\n",
    "You are an AI Email Categorizer, your primary task is to categorize incoming emails into one of the following categories: urgent, follow-up, informational, spam, newsletter or other. You will analyze the content of the email and determine its priority and relevance.\n",
    "\"\"\"\n",
    "\n",
    "email_category_prompt = \"\"\"\n",
    "Categorize the incoming email into one of the following categories: urgent, follow-up, informational, spam, newsletter or other.\n",
    "\n",
    "Input:\n",
    "\n",
    "{input}\n",
    "\"\"\""
   ],
   "id": "ff9aef49a6a9bd24",
   "outputs": [],
   "execution_count": 5
  },
  {
   "metadata": {
    "ExecuteTime": {
     "end_time": "2025-03-08T14:47:10.191868Z",
     "start_time": "2025-03-08T14:47:10.184528Z"
    }
   },
   "cell_type": "code",
   "source": [
    "email_analyzer_instructions = \"\"\"\n",
    "You are an AI Email Analyzer, your primary task is to analyze incoming emails based on the summary and category provided. You will determine whether the email requires a direct response, a later response, or no response.\n",
    "\"\"\"\n",
    "\n",
    "email_analyzer_prompt = \"\"\"\n",
    "Analyze the incoming email based on the summary and category provided.\n",
    "\n",
    "Summary:\n",
    "\n",
    "{summary}\n",
    "\n",
    "Category:\n",
    "\n",
    "{category}\n",
    "\"\"\""
   ],
   "id": "99c499d3006e3edf",
   "outputs": [],
   "execution_count": 6
  },
  {
   "metadata": {
    "ExecuteTime": {
     "end_time": "2025-03-08T14:47:10.220275Z",
     "start_time": "2025-03-08T14:47:10.210711Z"
    }
   },
   "cell_type": "code",
   "source": [
    "email_drafting_instructions = \"\"\"\n",
    "You are an AI Email Drafter, your primary task is to draft a response to the incoming email based on the summary and category provided. You will mimic the user's writing style and send the response if the category is urgent.\n",
    "\"\"\"\n",
    "\n",
    "email_drafting_prompt = \"\"\"\n",
    "Draft a response to the incoming email based on the summary and category provided.\n",
    "\n",
    "Summary:\n",
    "\n",
    "{summary}\n",
    "\n",
    "Category:\n",
    "\n",
    "{category}\n",
    "\"\"\""
   ],
   "id": "2396d78ef0c7480e",
   "outputs": [],
   "execution_count": 7
  },
  {
   "metadata": {
    "ExecuteTime": {
     "end_time": "2025-03-08T14:47:10.276489Z",
     "start_time": "2025-03-08T14:47:10.266366Z"
    }
   },
   "cell_type": "code",
   "source": [
    "email_reminder_instructions = \"\"\"\n",
    "You are an AI Email Reminder, your primary task is to send a follow-up reminder to the user if the email is categorized as follow-up and the user has not responded within 24 hours.\n",
    "\"\"\"\n",
    "\n",
    "email_reminder_prompt = \"\"\"\n",
    "Send a follow-up reminder to the user if the email is categorized as follow-up and the user has not responded within a 24 hours.\n",
    "\n",
    "Summary:\n",
    "\n",
    "{summary}\n",
    "\n",
    "Category:\n",
    "\n",
    "{category}\n",
    "\"\"\""
   ],
   "id": "f098ed3d6f4aaa37",
   "outputs": [],
   "execution_count": 8
  },
  {
   "metadata": {
    "ExecuteTime": {
     "end_time": "2025-03-08T14:47:10.312294Z",
     "start_time": "2025-03-08T14:47:10.307520Z"
    }
   },
   "cell_type": "code",
   "source": "### Models\n",
   "id": "9810d57f850d7018",
   "outputs": [],
   "execution_count": 9
  },
  {
   "metadata": {
    "ExecuteTime": {
     "end_time": "2025-03-08T14:47:10.345688Z",
     "start_time": "2025-03-08T14:47:10.339624Z"
    }
   },
   "cell_type": "code",
   "source": [
    "### State\n",
    "\n",
    "class EmailState(TypedDict):\n",
    "    input: str\n",
    "    personal_data: str\n",
    "    summary: str\n",
    "    category: str\n",
    "    response: str\n",
    "    reminder: str"
   ],
   "id": "30dd652ee00e92c1",
   "outputs": [],
   "execution_count": 10
  },
  {
   "metadata": {
    "ExecuteTime": {
     "end_time": "2025-03-08T14:47:10.390468Z",
     "start_time": "2025-03-08T14:47:10.375772Z"
    }
   },
   "cell_type": "code",
   "source": [
    "### Nodes\n",
    "\n",
    "def email_summarization(state: EmailState) -> EmailState:\n",
    "    pass\n",
    "\n",
    "\n",
    "def email_category(state: EmailState) -> EmailState:\n",
    "    pass\n",
    "\n",
    "\n",
    "def email_analyzer(state: EmailState) -> EmailState:\n",
    "    pass\n",
    "\n",
    "\n",
    "def email_drafting(state: EmailState) -> EmailState:\n",
    "    pass\n",
    "\n",
    "\n",
    "def email_reminder(state: EmailState) -> EmailState:\n",
    "    pass"
   ],
   "id": "78dab6d0687817e1",
   "outputs": [],
   "execution_count": 11
  },
  {
   "metadata": {
    "ExecuteTime": {
     "end_time": "2025-03-08T14:47:11.018602Z",
     "start_time": "2025-03-08T14:47:10.437715Z"
    }
   },
   "cell_type": "code",
   "source": [
    "email_agent = StateGraph(EmailState)\n",
    "\n",
    "email_agent.add_node(\"email_summarization\", email_summarization)\n",
    "email_agent.add_node(\"email_category\", email_category)\n",
    "email_agent.add_node(\"email_analyzer\", email_analyzer)\n",
    "email_agent.add_node(\"email_drafting\", email_drafting)\n",
    "email_agent.add_node(\"email_reminder\", email_reminder)\n",
    "\n",
    "email_agent.set_entry_point(\"email_summarization\")\n",
    "email_agent.set_entry_point(\"email_category\")\n",
    "email_agent.add_edge(\"email_summarization\", \"email_analyzer\")\n",
    "email_agent.add_edge(\"email_category\", \"email_analyzer\")\n",
    "email_agent.add_conditional_edges(\"email_analyzer\",\n",
    "                                  lambda state: state[\"response\"],\n",
    "                                  {\n",
    "                                      \"direct_response\": \"email_drafting\",\n",
    "                                      \"later_response\": \"email_reminder\",\n",
    "                                      \"no_response\": END\n",
    "                                  })\n",
    "email_agent.add_edge(\"email_drafting\", END)\n",
    "email_agent.add_edge(\"email_reminder\", END)\n",
    "\n",
    "memory = MemorySaver()\n",
    "graph = email_agent.compile(checkpointer=memory)\n",
    "display(Image(graph.get_graph().draw_mermaid_png()))"
   ],
   "id": "716117a7f8722e96",
   "outputs": [
    {
     "data": {
      "image/png": "[encoded data removed]",
      "text/plain": [
       "<IPython.core.display.Image object>"
      ]
     },
     "metadata": {},
     "output_type": "display_data"
    }
   ],
   "execution_count": 12
  }
 ],
 "metadata": {
  "kernelspec": {
   "display_name": "Python 3",
   "language": "python",
   "name": "python3"
  },
  "language_info": {
   "codemirror_mode": {
    "name": "ipython",
    "version": 2
   },
   "file_extension": ".py",
   "mimetype": "text/x-python",
   "name": "python",
   "nbconvert_exporter": "python",
   "pygments_lexer": "ipython2",
   "version": "2.7.6"
  }
 },
 "nbformat": 4,
 "nbformat_minor": 5
}
