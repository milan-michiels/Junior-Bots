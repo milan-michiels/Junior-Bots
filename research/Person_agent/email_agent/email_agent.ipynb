{
 "cells": [
  {
   "metadata": {
    "ExecuteTime": {
     "end_time": "2025-03-08T13:17:12.599249Z",
     "start_time": "2025-03-08T13:17:12.594746Z"
    }
   },
   "cell_type": "code",
   "source": [
    "import os\n",
    "from typing import TypedDict\n",
    "\n",
    "from langchain_ollama import ChatOllama\n",
    "from langgraph.graph import StateGraph"
   ],
   "id": "f54b0987e73e10d7",
   "outputs": [],
   "execution_count": 25
  },
  {
   "metadata": {
    "ExecuteTime": {
     "end_time": "2025-03-08T13:17:13.296295Z",
     "start_time": "2025-03-08T13:17:12.616990Z"
    }
   },
   "cell_type": "code",
   "source": [
    "### LLM\n",
    "local_llm = str(os.getenv(\"LLM_MODEL\"))\n",
    "llm = ChatOllama(model=local_llm, temperature=0.0)"
   ],
   "id": "aa023dae11d1eefc",
   "outputs": [],
   "execution_count": 26
  },
  {
   "metadata": {
    "ExecuteTime": {
     "end_time": "2025-03-08T13:17:13.304495Z",
     "start_time": "2025-03-08T13:17:13.300208Z"
    }
   },
   "cell_type": "code",
   "source": [
    "### Tool utilities\n",
    "\n",
    "email_agent_description = \"\"\"\n",
    "You are an AI Email Assistant, your primary task is to efficiently manage the user’s inbox by categorizing, drafting, prioritizing and responding to emails. You will mimic the user’s email writing style and detect important tasks. You are also responsible for summarizing email threads and sending follow-up reminders when necessary.\n",
    "\n",
    "Tools:\n",
    "\n",
    "1. **Email Summarization**: Summarize the incoming email into 1 to 5 bulletpoints\n",
    "2. **Email Categorization**: Sort the incoming email into a category: urgent, follow-up, informational, spam, newsletter or other\n",
    "3. **Email Analyzer**: Based on the category and the summary of the incoming email it will determine whether it requires a direct response, a later response, or no response\n",
    "4. **Email Drafting**: Draft a response to the incoming email based on the summary and the category based on the user's writing style and send it if the category is urgent.\n",
    "5. **Email Reminder**: Send a follow-up reminder to the user if the email is categorized as follow-up and the user has not responded within a certain time frame.\n",
    "\"\"\""
   ],
   "id": "df98bcff8b667902",
   "outputs": [],
   "execution_count": 27
  },
  {
   "metadata": {
    "ExecuteTime": {
     "end_time": "2025-03-08T13:17:13.316116Z",
     "start_time": "2025-03-08T13:17:13.312115Z"
    }
   },
   "cell_type": "code",
   "source": [
    "\n",
    "email_summarization_instructions = \"\"\"\n",
    "You are an AI Email Summarizer, your primary task is to summarize incoming emails into 1 to 5 bullet points. You will extract the most important information from the email and present it in a concise manner.\n",
    "\"\"\"\n",
    "\n",
    "email_summarization_prompt = \"\"\"\n",
    "Summarize the incoming email into 1 to 5 bullet points.\n",
    "\n",
    "Input:\n",
    "\n",
    "{input}\n",
    "\n",
    "Personal Data:\n",
    "\n",
    "{personal_data}\n",
    "\"\"\""
   ],
   "id": "2fc0bedea62fe76a",
   "outputs": [],
   "execution_count": 28
  },
  {
   "metadata": {
    "ExecuteTime": {
     "end_time": "2025-03-08T13:17:13.328468Z",
     "start_time": "2025-03-08T13:17:13.324466Z"
    }
   },
   "cell_type": "code",
   "source": [
    "email_category_instructions = \"\"\"\n",
    "You are an AI Email Categorizer, your primary task is to categorize incoming emails into one of the following categories: urgent, follow-up, informational, spam, newsletter or other. You will analyze the content of the email and determine its priority and relevance.\n",
    "\"\"\"\n",
    "\n",
    "email_category_prompt = \"\"\"\n",
    "Categorize the incoming email into one of the following categories: urgent, follow-up, informational, spam, newsletter or other.\n",
    "\n",
    "Input:\n",
    "\n",
    "{input}\n",
    "\"\"\""
   ],
   "id": "ff9aef49a6a9bd24",
   "outputs": [],
   "execution_count": 29
  },
  {
   "metadata": {
    "ExecuteTime": {
     "end_time": "2025-03-08T13:17:13.342071Z",
     "start_time": "2025-03-08T13:17:13.337544Z"
    }
   },
   "cell_type": "code",
   "source": [
    "email_analyzer_instructions = \"\"\"\n",
    "You are an AI Email Analyzer, your primary task is to analyze incoming emails based on the summary and category provided. You will determine whether the email requires a direct response, a later response, or no response.\n",
    "\"\"\"\n",
    "\n",
    "email_analyzer_prompt = \"\"\"\n",
    "Analyze the incoming email based on the summary and category provided.\n",
    "\n",
    "Summary:\n",
    "\n",
    "{summary}\n",
    "\n",
    "Category:\n",
    "\n",
    "{category}\n",
    "\"\"\""
   ],
   "id": "99c499d3006e3edf",
   "outputs": [],
   "execution_count": 30
  },
  {
   "metadata": {
    "ExecuteTime": {
     "end_time": "2025-03-08T13:17:13.354187Z",
     "start_time": "2025-03-08T13:17:13.351333Z"
    }
   },
   "cell_type": "code",
   "source": [
    "email_drafting_instructions = \"\"\"\n",
    "You are an AI Email Drafter, your primary task is to draft a response to the incoming email based on the summary and category provided. You will mimic the user's writing style and send the response if the category is urgent.\n",
    "\"\"\"\n",
    "\n",
    "email_drafting_prompt = \"\"\"\n",
    "Draft a response to the incoming email based on the summary and category provided.\n",
    "\n",
    "Summary:\n",
    "\n",
    "{summary}\n",
    "\n",
    "Category:\n",
    "\n",
    "{category}\n",
    "\"\"\""
   ],
   "id": "2396d78ef0c7480e",
   "outputs": [],
   "execution_count": 31
  },
  {
   "metadata": {
    "ExecuteTime": {
     "end_time": "2025-03-08T13:17:13.367505Z",
     "start_time": "2025-03-08T13:17:13.364292Z"
    }
   },
   "cell_type": "code",
   "source": [
    "email_reminder_instructions = \"\"\"\n",
    "You are an AI Email Reminder, your primary task is to send a follow-up reminder to the user if the email is categorized as follow-up and the user has not responded within 24 hours.\n",
    "\"\"\"\n",
    "\n",
    "email_reminder_prompt = \"\"\"\n",
    "Send a follow-up reminder to the user if the email is categorized as follow-up and the user has not responded within a 24 hours.\n",
    "\n",
    "Summary:\n",
    "\n",
    "{summary}\n",
    "\n",
    "Category:\n",
    "\n",
    "{category}\n",
    "\"\"\""
   ],
   "id": "377cc0e8edabfe41",
   "outputs": [],
   "execution_count": 32
  },
  {
   "metadata": {
    "ExecuteTime": {
     "end_time": "2025-03-08T13:17:13.378416Z",
     "start_time": "2025-03-08T13:17:13.375438Z"
    }
   },
   "cell_type": "code",
   "source": [
    "### Models\n",
    "\n"
   ],
   "id": "4f2865db13b9cb58",
   "outputs": [],
   "execution_count": 33
  },
  {
   "metadata": {
    "ExecuteTime": {
     "end_time": "2025-03-08T13:17:13.390185Z",
     "start_time": "2025-03-08T13:17:13.386254Z"
    }
   },
   "cell_type": "code",
   "source": [
    "### State\n",
    "\n",
    "class EmailState(TypedDict):\n",
    "    input: str\n",
    "    personal_data: str\n",
    "    email_summary: str\n",
    "    email_category: str\n",
    "    email_analysis: str\n",
    "    email_draft: str\n",
    "    email_reminder: str"
   ],
   "id": "5e8cff7ee22412ed",
   "outputs": [],
   "execution_count": 34
  },
  {
   "metadata": {
    "ExecuteTime": {
     "end_time": "2025-03-08T13:17:13.402988Z",
     "start_time": "2025-03-08T13:17:13.399046Z"
    }
   },
   "cell_type": "code",
   "source": [
    "### Nodes\n",
    "\n",
    "def summarize_email(state: EmailState) -> EmailState:\n",
    "    pass\n",
    "\n",
    "\n",
    "def categorize_email(state: EmailState) -> EmailState:\n",
    "    pass\n",
    "\n",
    "\n",
    "def analyze_email(state: EmailState) -> EmailState:\n",
    "    pass\n",
    "\n",
    "\n",
    "def draft_email(state: EmailState) -> EmailState:\n",
    "    pass\n",
    "\n",
    "\n",
    "def remind_email(state: EmailState) -> None:\n",
    "    pass\n",
    "\n",
    "\n",
    "def priority_detection(state: EmailState) -> EmailState:\n",
    "    pass"
   ],
   "id": "a57a8ea93c401cfc",
   "outputs": [],
   "execution_count": 35
  },
  {
   "metadata": {
    "ExecuteTime": {
     "end_time": "2025-03-08T13:17:30.666442Z",
     "start_time": "2025-03-08T13:17:30.134102Z"
    }
   },
   "cell_type": "code",
   "source": [
    "from IPython.core.display import Image\n",
    "from langgraph.checkpoint.memory import MemorySaver\n",
    "from langgraph.constants import END\n",
    "\n",
    "### Workflow\n",
    "\n",
    "email_agent = StateGraph(EmailState)\n",
    "\n",
    "email_agent.add_node(\"summarize_email\", summarize_email)\n",
    "email_agent.add_node(\"categorize_email\", categorize_email)\n",
    "email_agent.add_node(\"analyze_email\", analyze_email)\n",
    "email_agent.add_node(\"draft_email\", draft_email)\n",
    "email_agent.add_node(\"remind_email\", remind_email)\n",
    "\n",
    "email_agent.set_entry_point(\"summarize_email\")\n",
    "email_agent.set_entry_point(\"categorize_email\")\n",
    "email_agent.add_edge(\"summarize_email\", \"analyze_email\")\n",
    "email_agent.add_edge(\"categorize_email\", \"analyze_email\")\n",
    "email_agent.add_conditional_edges(\"analyze_email\", lambda state: state[\"email_analysis\"], {\n",
    "    \"respond_now\": \"draft_email\",\n",
    "    \"respond_later\": \"remind_email\",\n",
    "    \"no_response\": END\n",
    "})\n",
    "email_agent.add_edge(\"remind_email\", END)\n",
    "email_agent.add_edge(\"draft_email\", END)\n",
    "\n",
    "memory = MemorySaver()\n",
    "graph = email_agent.compile(checkpointer=memory)\n",
    "display(Image(graph.get_graph().draw_mermaid_png()))"
   ],
   "id": "2d1f57c3e7e68320",
   "outputs": [
    {
     "data": {
      "image/png": "[encoded data removed]",
      "text/plain": [
       "<IPython.core.display.Image object>"
      ]
     },
     "metadata": {},
     "output_type": "display_data"
    }
   ],
   "execution_count": 37
  },
  {
   "metadata": {},
   "cell_type": "code",
   "outputs": [],
   "execution_count": null,
   "source": "",
   "id": "d39904a6c72aa249"
  }
 ],
 "metadata": {
  "kernelspec": {
   "display_name": "Python 3",
   "language": "python",
   "name": "python3"
  },
  "language_info": {
   "codemirror_mode": {
    "name": "ipython",
    "version": 2
   },
   "file_extension": ".py",
   "mimetype": "text/x-python",
   "name": "python",
   "nbconvert_exporter": "python",
   "pygments_lexer": "ipython2",
   "version": "2.7.6"
  }
 },
 "nbformat": 4,
 "nbformat_minor": 5
}
