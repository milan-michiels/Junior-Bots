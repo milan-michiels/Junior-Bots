{
 "cells": [
  {
   "metadata": {},
   "cell_type": "code",
   "outputs": [],
   "execution_count": null,
   "source": [
    "import os\n",
    "from typing import List\n",
    "from typing import TypedDict\n",
    "\n",
    "from langchain_core.messages import SystemMessage, HumanMessage\n",
    "from langchain_ollama import ChatOllama\n",
    "from langgraph.graph import StateGraph\n",
    "from pydantic import BaseModel"
   ],
   "id": "b0c8d2f756654342"
  },
  {
   "cell_type": "code",
   "execution_count": null,
   "id": "initial_id",
   "metadata": {
    "collapsed": true
   },
   "outputs": [],
   "source": [
    "### LLM\n",
    "local_llm = str(os.getenv(\"LLM_MODEL\"))\n",
    "llm = ChatOllama(model=local_llm, temperature=0.0)"
   ]
  },
  {
   "metadata": {
    "ExecuteTime": {
     "end_time": "2025-03-08T11:51:14.093028Z",
     "start_time": "2025-03-08T11:51:14.089029Z"
    }
   },
   "cell_type": "code",
   "source": [
    "### Tool utilities\n",
    "\n",
    "tools_utilities_instructions = \"\"\"\n",
    "You are an AI Doppelganger, your primary task is to act as an autonomous agent that performs tasks on behalf of the user, mimicking their personality, preferences and behavior across various tasks. You’ll retrieve necessary data and make decisions based on the user’s history, priorities, and communication style. Always ensure user privacy and consent, and remember to operate within ethical boundaries. There are several tools you can use to assist the user.\n",
    "\n",
    "Tools:\n",
    "\n",
    "1. **Email Analyzer**: Analyze the user’s email to summarize, categorize, and prioritize tasks. If necessary, draft responses.\n",
    "2. **Social Media Manager**: Assist the user in engaging, commenting and posting while using the user's preferences and input.\n",
    "\"\"\"\n",
    "\n",
    "tools_utilities_prompt = \"\"\"\n",
    "Define the tool(s) you need to use based on the input you receive and the personal information you have access to.\n",
    "\n",
    "Output the tool(s) you will use and the reason for using them.\n",
    "\n",
    "Users personal data:\n",
    "\n",
    "{personal_data}\n",
    "\n",
    "Input:\n",
    "\n",
    "{input}\n",
    "\"\"\""
   ],
   "id": "caf5c03f3185afff",
   "outputs": [],
   "execution_count": 3
  },
  {
   "metadata": {
    "ExecuteTime": {
     "end_time": "2025-03-08T11:51:14.231505Z",
     "start_time": "2025-03-08T11:51:14.229127Z"
    }
   },
   "cell_type": "code",
   "source": [
    "validations_instructions = \"\"\"\n",
    "You are a supervisor tasked with validating the tool that is chosen to be used by the AI Doppelganger.\n",
    "\n",
    "You are to ensure that the tool is able to generate responses that are coherent, relevant, and grounded in the facts provided.\n",
    "You are to provide feedback on the tool's performance and suggest improvements where necessary.\n",
    "\n",
    "Provide your answer as \"yes\" or \"no\" and give reasons for your choice.\n",
    "\"\"\"\n",
    "\n",
    "validations_prompt = \"\"\"\n",
    "Validate the tool(s) chosen by the AI Doppelganger based on the input provided.\n",
    "\n",
    "Input:\n",
    "\n",
    "{input}\n",
    "\n",
    "Tool(s) chosen:\n",
    "\n",
    "{tools}\n",
    "\"\"\""
   ],
   "id": "c970170f19f78744",
   "outputs": [],
   "execution_count": null
  },
  {
   "metadata": {},
   "cell_type": "code",
   "outputs": [],
   "execution_count": null,
   "source": [
    "### Models\n",
    "\n",
    "class Tool(BaseModel):\n",
    "    tools: List[str]\n"
   ],
   "id": "a471b5c8804579c2"
  },
  {
   "metadata": {},
   "cell_type": "code",
   "outputs": [],
   "execution_count": null,
   "source": [
    "### State\n",
    "\n",
    "class OverallState(TypedDict):\n",
    "    input: str\n",
    "    personal_data: str\n",
    "    validation: str\n",
    "    tools: List[str]\n",
    "    next_tool: str"
   ],
   "id": "e9d514630c490a17"
  },
  {
   "metadata": {},
   "cell_type": "code",
   "outputs": [],
   "execution_count": null,
   "source": [
    "### Nodes\n",
    "\n",
    "def tool_utilities(state: OverallState):\n",
    "    personal = state[\"personal_data\"]\n",
    "    input = state[\"input\"]\n",
    "    tools_utilities_prompt.format(\n",
    "        personal_data=personal,\n",
    "        input=input\n",
    "    )\n",
    "    tool_llm = llm.with_structured_output(Tool)\n",
    "    tool_response: Tool = tool_llm.invoke([\n",
    "        SystemMessage(content=tools_utilities_instructions),\n",
    "        HumanMessage(content=tools_utilities_prompt),\n",
    "    ])\n",
    "    return {\"tools\": tool_response.tools}\n",
    "\n",
    "\n",
    "def validate_tools(state: OverallState) -> OverallState:\n",
    "    pass\n",
    "\n",
    "\n",
    "def invoke_tool(state: OverallState) -> OverallState:\n",
    "    tools = state[\"tools\"]\n",
    "    next_tool = tools[0]\n",
    "    state[\"tools\"] = tools[1:]\n",
    "    return {\"tools\": state[\"tools\"], \"next_tool\": next_tool}"
   ],
   "id": "57c2e310837e53a3"
  },
  {
   "metadata": {},
   "cell_type": "code",
   "outputs": [],
   "execution_count": null,
   "source": [
    "workflow = StateGraph(OverallState)\n",
    "\n",
    "workflow.add_node(\"tool_utilities\", tool_utilities)\n",
    "workflow.add_node(\"validate_tools\", validate_tools)\n",
    "workflow.add_conditional_edges(\"validate_tools\", invoke_tool, {\n",
    "    \"email\": \"\",\n",
    "    \"social\": \"\",\n",
    "})"
   ],
   "id": "91527b796259ae2a"
  }
 ],
 "metadata": {
  "kernelspec": {
   "display_name": "Python 3",
   "language": "python",
   "name": "python3"
  },
  "language_info": {
   "codemirror_mode": {
    "name": "ipython",
    "version": 2
   },
   "file_extension": ".py",
   "mimetype": "text/x-python",
   "name": "python",
   "nbconvert_exporter": "python",
   "pygments_lexer": "ipython2",
   "version": "2.7.6"
  }
 },
 "nbformat": 4,
 "nbformat_minor": 5
}
