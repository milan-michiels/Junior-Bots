{
 "cells": [
  {
   "cell_type": "markdown",
   "id": "38bfad7b204dcc01",
   "metadata": {},
   "source": [
    "## Comparison\n",
    "We will compare three different llms: mistral, llama3.1 and llama3.2. We will use exactly the same graph and we set the temperature to 0 for all of them. We will compare with three different questions. I will compare the answers myself and ask chatgpt to compare them as well. It takes a lot more time to run mistral and llama3.1 than llama3.2. So for the project I will use llama3.2 because it is faster and we don't have the facilities for gpu acceleration. This notebook is just for comparison purposes and to show that we can easily switch between different llms."
   ]
  },
  {
   "cell_type": "code",
   "execution_count": 18,
   "id": "2e3418779e5a7b44",
   "metadata": {
    "ExecuteTime": {
     "end_time": "2024-12-17T16:08:49.593711Z",
     "start_time": "2024-12-17T16:08:49.589723Z"
    }
   },
   "outputs": [],
   "source": [
    "from langgraph_sdk import get_client"
   ]
  },
  {
   "cell_type": "code",
   "execution_count": 19,
   "id": "initial_id",
   "metadata": {
    "ExecuteTime": {
     "end_time": "2024-12-17T16:08:49.961375Z",
     "start_time": "2024-12-17T16:08:49.599364Z"
    },
    "collapsed": true
   },
   "outputs": [],
   "source": [
    "url = \"http://localhost:8123\"\n",
    "client = get_client(url=url)"
   ]
  },
  {
   "cell_type": "markdown",
   "id": "f26c8a3c4833682d",
   "metadata": {},
   "source": [
    "### Question 1\n",
    "\"How do I win the game?\""
   ]
  },
  {
   "cell_type": "code",
   "execution_count": 20,
   "id": "7e44c2867195f014",
   "metadata": {
    "ExecuteTime": {
     "end_time": "2024-12-17T16:08:50.091989Z",
     "start_time": "2024-12-17T16:08:49.970477Z"
    }
   },
   "outputs": [],
   "source": [
    "question = \"How do I win the game?\"\n",
    "\n",
    "llama_3_1_thread = await client.threads.create()\n",
    "mistral_thread = await client.threads.create()\n",
    "llama_3_2_thread = await client.threads.create()\n",
    "\n",
    "llama_3_1_graph = \"chatbot_3.1\"\n",
    "mistral_graph = \"chatbot_mistral\"\n",
    "llama_3_2_graph = \"chatbot_3.2\""
   ]
  },
  {
   "cell_type": "code",
   "execution_count": 21,
   "id": "c587661d8e527ca6",
   "metadata": {
    "ExecuteTime": {
     "end_time": "2024-12-17T16:20:29.274937Z",
     "start_time": "2024-12-17T16:08:50.101119Z"
    }
   },
   "outputs": [
    {
     "name": "stdout",
     "output_type": "stream",
     "text": [
      "{\"datasource\": \"vectorstore\"}{\n",
      "\n",
      "\"binary_score\": \"yes\"\n",
      "\n",
      "}{\n",
      "\n",
      "\"binary_score\": \"yes\"\n",
      "\n",
      "}{\n",
      "\n",
      "\"binary_score\": \"yes\"\n",
      "\n",
      "} \n",
      "\n",
      " \n",
      " To win the game of Rummikub, you must be the first player to play all your tiles. If no one has gone out and the pool of tiles is empty, the player with the lowest tile count on their rack wins the round. In this case, each other player's score is reduced by the difference between their tile count and that of the winner.{\n",
      "  \"binary_score\": \"yes\"\n",
      "}{\n",
      "  \"binary_score\": \"yes\"\n",
      "}"
     ]
    }
   ],
   "source": [
    "async for chunk in client.runs.stream(\n",
    "    llama_3_1_thread[\"thread_id\"],\n",
    "    llama_3_1_graph,\n",
    "    input={\"question\": question},\n",
    "    stream_mode=\"messages-tuple\",\n",
    "):\n",
    "    if chunk.event == \"messages\":\n",
    "        print(\n",
    "            \"\".join(\n",
    "                data_item[\"content\"]\n",
    "                for data_item in chunk.data\n",
    "                if \"content\" in data_item\n",
    "            ),\n",
    "            end=\"\",\n",
    "            flush=True,\n",
    "        )"
   ]
  },
  {
   "cell_type": "code",
   "execution_count": 22,
   "id": "14b1ce32186d672b",
   "metadata": {
    "ExecuteTime": {
     "end_time": "2024-12-17T16:29:31.429287Z",
     "start_time": "2024-12-17T16:20:29.314517Z"
    }
   },
   "outputs": [
    {
     "name": "stdout",
     "output_type": "stream",
     "text": [
      "{\"datasource\": \"vectorstore\"}{\"binary_score\": \"yes\"}{\"binary_score\": \"yes\"}{\"binary_score\": \"yes\"} To win the game of Rummikub, you must play all your tiles first. This means that no other player has any tiles left when you have played yours. If no one goes out in a round where the pool of tiles is empty, the player with the lowest number of tiles on their rack at the end wins the round. In case of a tie for the lowest number of tiles, the player with the highest score is declared the winner. The scoring system involves adding up the numbers on the tiles remaining in your rack (with jokers counting as 30), and receiving a positive score equal to the total of all other players' points if you are the winner. If you have a joker on your rack, it will result in a penalty of 30 points.{\"binary_score\": \"yes\"}{\"binary_score\": \"yes\"}"
     ]
    }
   ],
   "source": [
    "async for chunk in client.runs.stream(\n",
    "    mistral_thread[\"thread_id\"],\n",
    "    mistral_graph,\n",
    "    input={\"question\": question},\n",
    "    stream_mode=\"messages-tuple\",\n",
    "):\n",
    "    if chunk.event == \"messages\":\n",
    "        print(\n",
    "            \"\".join(\n",
    "                data_item[\"content\"]\n",
    "                for data_item in chunk.data\n",
    "                if \"content\" in data_item\n",
    "            ),\n",
    "            end=\"\",\n",
    "            flush=True,\n",
    "        )"
   ]
  },
  {
   "cell_type": "code",
   "execution_count": 23,
   "id": "313e8038833ff33b",
   "metadata": {
    "ExecuteTime": {
     "end_time": "2024-12-17T16:34:23.651374Z",
     "start_time": "2024-12-17T16:29:31.465789Z"
    }
   },
   "outputs": [
    {
     "name": "stdout",
     "output_type": "stream",
     "text": [
      "{\"datasource\": \"vectorstore\"}{\n",
      "  \"binary_score\": \"yes\"\n",
      "}{\n",
      "  \"binary_score\": \"yes\"\n",
      "}{\n",
      "  \"binary_score\": \"no\"\n",
      "}To win the game, you must play all the tiles on your rack. The first player to achieve this wins the game.{\n",
      "  \"binary_score\": \"yes\"\n",
      "}{\n",
      "  \"binary_score\": \"yes\"\n",
      "}"
     ]
    }
   ],
   "source": [
    "async for chunk in client.runs.stream(\n",
    "    llama_3_2_thread[\"thread_id\"],\n",
    "    llama_3_2_graph,\n",
    "    input={\"question\": question},\n",
    "    stream_mode=\"messages-tuple\",\n",
    "):\n",
    "    if chunk.event == \"messages\":\n",
    "        print(\n",
    "            \"\".join(\n",
    "                data_item[\"content\"]\n",
    "                for data_item in chunk.data\n",
    "                if \"content\" in data_item\n",
    "            ),\n",
    "            end=\"\",\n",
    "            flush=True,\n",
    "        )"
   ]
  },
  {
   "cell_type": "markdown",
   "id": "135b47585e8fb1a5",
   "metadata": {},
   "source": [
    "## Comparison first question\n",
    "### Answers\n",
    "- **llama3.1**: \"To win the game of Rummikub, you must be the first player to play all your tiles. If no one has gone out and the pool of tiles is empty, the player with the lowest tile count on their rack wins the round. In this case, each other player's score is reduced by the difference between their tile count and that of the winner.\"\n",
    "\n",
    "- **mistral**: \"To win the game of Rummikub, you must play all your tiles first. This means that no other player has any tiles left when you have played yours. If no one goes out in a round where the pool of tiles is empty, the player with the lowest number of tiles on their rack at the end wins the round. In case of a tie for the lowest number of tiles, the player with the highest score is declared the winner. The scoring system involves adding up the numbers on the tiles remaining in your rack (with jokers counting as 30), and receiving a positive score equal to the total of all other players' points if you are the winner. If you have a joker on your rack, it will result in a penalty of 30 points.\"\n",
    "\n",
    "- **llama3.2**: \"To win the game, you must play all the tiles on your rack. The first player to achieve this wins the game.\"\n",
    "### My comparison\n",
    "Llama3.2 is basic and concise but maybe too much. Mistral is the most detailed and llama3.1 is in the middle. The long answer of mistral is also a bit confusing. I would prefer llama3.1.\n",
    "\n",
    "### Chatgpt comparison\n",
    "**Best Answer: Mistral**\n",
    "Mistral provides the most detailed and accurate response. It correctly explains the primary rule (playing all tiles) and adds clarity by mentioning the tie-breaker scenario for the lowest tile count. The explanation of the scoring system, including the penalty for jokers, adds significant value, making it comprehensive and informative. This level of detail is ideal for players who might need more context to understand the game's end conditions fully.\n",
    "\n",
    "**Why Others are Less Good:**\n",
    "\n",
    "- **Llama3.1**: This answer is concise but lacks depth. It mentions the basic rules (playing all tiles and the condition when the pool is empty), but the explanation about the winner's tile count is less clear. It also doesn't mention joker penalties or tie-breakers, which could leave some players with unanswered questions.\n",
    "\n",
    "- **Llama3.2**: While this answer is the shortest and simplest, it is also the least complete. It only mentions the core rule of playing all tiles but leaves out key details such as the scenario when no one goes out, the tie-breaker, and the scoring system. This makes the answer less useful for players needing a more thorough understanding of how to win the game."
   ]
  },
  {
   "cell_type": "markdown",
   "id": "ff7b9d275323bdb1",
   "metadata": {},
   "source": [
    "### Question 2\n",
    "\"What is a joker and what can it do?\""
   ]
  },
  {
   "cell_type": "code",
   "execution_count": 24,
   "id": "d28d717b3ec1ee4c",
   "metadata": {
    "ExecuteTime": {
     "end_time": "2024-12-17T16:51:50.268178Z",
     "start_time": "2024-12-17T16:51:50.137154Z"
    }
   },
   "outputs": [],
   "source": [
    "question = \"What is a joker and what can it do?\"\n",
    "\n",
    "llama_3_1_thread = await client.threads.create()\n",
    "mistral_thread = await client.threads.create()\n",
    "llama_3_2_thread = await client.threads.create()\n",
    "\n",
    "llama_3_1_graph = \"chatbot_3.1\"\n",
    "mistral_graph = \"chatbot_mistral\"\n",
    "llama_3_2_graph = \"chatbot_3.2\""
   ]
  },
  {
   "cell_type": "code",
   "execution_count": 27,
   "id": "e2978a8814c8aff2",
   "metadata": {
    "ExecuteTime": {
     "end_time": "2024-12-17T17:11:04.906848Z",
     "start_time": "2024-12-17T16:59:56.094976Z"
    }
   },
   "outputs": [
    {
     "name": "stdout",
     "output_type": "stream",
     "text": [
      "{\"datasource\": \"vectorstore\"}{\n",
      "\n",
      "\"binary_score\": \"yes\"\n",
      "\n",
      "} \n",
      "\n",
      " \n",
      " {\n",
      "\n",
      "\"binary_score\": \"yes\"\n",
      "\n",
      "}{\n",
      "\n",
      "\"binary_score\": \"yes\"\n",
      "\n",
      "} \n",
      "\n",
      " \n",
      " A joker in Rummikub is a special tile that can represent any tile in the game. Here are its key functions:\n",
      "\n",
      "1. **Playing the Joker**: A player must play the joker on their current turn to make a new set.\n",
      "2. **Using at least one rack tile**: The player must also use at least one tile from their rack on that turn, just like on any other turn.\n",
      "3. **Clearing the Joker**: There are four ways to clear the joker:\n",
      "\t* Replacing it with tiles on the rack or table (e.g., 3s, 1-7, etc.)\n",
      "\t* Splitting a run and clearing the joker\n",
      "\t* Adding a tile that completes a set and clears the joker\n",
      "4. **Substituting for a missing tile**: If a player has the tile represented by the joker on their rack, they can substitute it for the joker.\n",
      "5. **Representing a different tile**: The only way to change what the joker represents is if the player supplies the original tile from their hand.\n",
      "\n",
      "In summary, a joker allows players to create new sets and replace tiles in existing sets, but with some restrictions.{\n",
      "  \"binary_score\": \"yes\"\n",
      "}{\n",
      "  \"binary_score\": \"yes\"\n",
      "}"
     ]
    }
   ],
   "source": [
    "async for chunk in client.runs.stream(\n",
    "    llama_3_1_thread[\"thread_id\"],\n",
    "    llama_3_1_graph,\n",
    "    input={\"question\": question},\n",
    "    stream_mode=\"messages-tuple\",\n",
    "):\n",
    "    if chunk.event == \"messages\":\n",
    "        print(\n",
    "            \"\".join(\n",
    "                data_item[\"content\"]\n",
    "                for data_item in chunk.data\n",
    "                if \"content\" in data_item\n",
    "            ),\n",
    "            end=\"\",\n",
    "            flush=True,\n",
    "        )"
   ]
  },
  {
   "cell_type": "code",
   "execution_count": 28,
   "id": "81b64a4a6ac514c8",
   "metadata": {
    "ExecuteTime": {
     "end_time": "2024-12-17T17:21:36.657499Z",
     "start_time": "2024-12-17T17:11:04.941206Z"
    }
   },
   "outputs": [
    {
     "name": "stdout",
     "output_type": "stream",
     "text": [
      "{\"datasource\": \"vectorstore\"}{\"binary_score\": \"yes\"}{\"binary_score\": \"yes\"}{\"binary_score\": \"yes\"} In the game of Rummikub, a Joker is a special tile that can represent any tile in the game. A player must use at least one tile from their rack when playing a turn with a Joker. There are four ways to clear a Joker:\n",
      "\n",
      "1. Replacing the Joker with one or more tiles of the same value from the player's rack. For example, if a player has 3 3 3 3 on their rack, they can replace the Joker with any one, two, or all three of these tiles.\n",
      "\n",
      "2. Splitting a run and clearing the Joker. If a player has a sequence like 1 7 2 3 5 6, they can split the run (1 2 3 5 6 7) and clear the Joker.\n",
      "\n",
      "3. Adding a tile to an existing set and clearing the Joker. For example, if a player has 5 6 7 and a free 5, they can add the 5 to the set (5 5 6 7), clearing the Joker.\n",
      "\n",
      "4. In some variations of the game, sets containing a Joker can be manipulated. However, this is not always the case, so it's important to check the specific rules being used.\n",
      "\n",
      "A Joker can also be replaced by a matching tile of either of the missing colors if it is part of a group consisting of two equal tiles and a Joker. Once a real tile replaces a Joker, the Joker cannot be taken into the player's hand for later use.{\"binary_score\": \"yes\"}{\"binary_score\": \"yes\"}"
     ]
    }
   ],
   "source": [
    "async for chunk in client.runs.stream(\n",
    "    mistral_thread[\"thread_id\"],\n",
    "    mistral_graph,\n",
    "    input={\"question\": question},\n",
    "    stream_mode=\"messages-tuple\",\n",
    "):\n",
    "    if chunk.event == \"messages\":\n",
    "        print(\n",
    "            \"\".join(\n",
    "                data_item[\"content\"]\n",
    "                for data_item in chunk.data\n",
    "                if \"content\" in data_item\n",
    "            ),\n",
    "            end=\"\",\n",
    "            flush=True,\n",
    "        )"
   ]
  },
  {
   "cell_type": "code",
   "execution_count": 30,
   "id": "9e29872d2d07d6e9",
   "metadata": {},
   "outputs": [
    {
     "name": "stdout",
     "output_type": "stream",
     "text": [
      "{\n",
      "  \"binary_score\": \"yes\"\n",
      "}{\n",
      "  \"binary_score\": \"yes\"\n",
      "}{\n",
      "  \"binary_score\": \"yes\"\n",
      "}A joker in Rummikub is a special tile that must be played on the current turn to make a new set. When playing with a joker, a player can replace it by using at least one tile from their rack or by clearing the joker with other tiles on the table. The joker cannot be taken into the player's hand for later use and can only be replaced or cleared according to specific rules.{\n",
      "  \"binary_score\": \"yes\"\n",
      "}{\n",
      "  \"binary_score\": \"yes\"\n",
      "}"
     ]
    }
   ],
   "source": [
    "async for chunk in client.runs.stream(\n",
    "    llama_3_2_thread[\"thread_id\"],\n",
    "    llama_3_2_graph,\n",
    "    input={\"question\": question},\n",
    "    stream_mode=\"messages-tuple\",\n",
    "):\n",
    "    if chunk.event == \"messages\":\n",
    "        print(\n",
    "            \"\".join(\n",
    "                data_item[\"content\"]\n",
    "                for data_item in chunk.data\n",
    "                if \"content\" in data_item\n",
    "            ),\n",
    "            end=\"\",\n",
    "            flush=True,\n",
    "        )"
   ]
  },
  {
   "cell_type": "markdown",
   "id": "e85c72c5acb54057",
   "metadata": {},
   "source": [
    "## Comparison second question\n",
    "### Answers\n",
    "- **llama3.1**: \"A joker in Rummikub is a special tile that can represent any tile in the game. Here are its key functions:\n",
    "\n",
    "1. **Playing the Joker**: A player must play the joker on their current turn to make a new set.\n",
    "2. **Using at least one rack tile**: The player must also use at least one tile from their rack on that turn, just like on any other turn.\n",
    "3. **Clearing the Joker**: There are four ways to clear the joker:\n",
    "\t* Replacing it with tiles on the rack or table (e.g., 3 s, 1-7, etc.)\n",
    "\t* Splitting a run and clearing the joker\n",
    "\t* Adding a tile that completes a set and clears the joker\n",
    "4. **Substituting for a missing tile**: If a player has the tile represented by the joker on their rack, they can substitute it for the joker.\n",
    "5. **Representing a different tile**: The only way to change what the joker represents is if the player supplies the original tile from their hand.\n",
    "\n",
    "In summary, a joker allows players to create new sets and replace tiles in existing sets, but with some restrictions.\"\n",
    "\n",
    "- **mistral**: \"In the game of Rummikub, a Joker is a special tile that can represent any tile in the game. A player must use at least one tile from their rack when playing a turn with a Joker. There are four ways to clear a Joker:\n",
    "\n",
    "1. Replacing the Joker with one or more tiles of the same value from the player's rack. For example, if a player has 3 3 3 3 on their rack, they can replace the Joker with any one, two, or all three of these tiles.\n",
    "\n",
    "2. Splitting a run and clearing the Joker. If a player has a sequence like 1 7 2 3 5 6, they can split the run (1 2 3 5 6 7) and clear the Joker.\n",
    "\n",
    "3. Adding a tile to an existing set and clearing the Joker. For example, if a player has 5 6 7 and a free 5, they can add the 5 to the set (5 5 6 7), clearing the Joker.\n",
    "\n",
    "4. In some variations of the game, sets containing a Joker can be manipulated. However, this is not always the case, so it's important to check the specific rules being used.\n",
    "\n",
    "A Joker can also be replaced by a matching tile of either of the missing colors if it is part of a group consisting of two equal tiles and a Joker. Once a real tile replaces a Joker, the Joker cannot be taken into the player's hand for later use.\"\n",
    "\n",
    "- **llama3.2**: \"A joker in Rummikub is a special tile that must be played on the current turn to make a new set. When playing with a joker, a player can replace it by using at least one tile from their rack or by clearing the joker with other tiles on the table. The joker cannot be taken into the player's hand for later use and can only be replaced or cleared according to specific rules.\"\n",
    "\n",
    "### My comparison\n",
    "Mistral and llama3.1 are similar but focus on different sides of the joker. llama3.2 also gives a good explanation but is shorter. For this question, I would prefer either llama3.1 or mistral. Because in this case, the more detailed the better.\n",
    "\n",
    "### Chatgpt comparison\n",
    "**Best Answer: Mistral**\n",
    "Mistral offers the most comprehensive and clear explanation of the joker's functionality. It provides detailed examples of how the joker can be cleared and replaced, including variations in play like splitting a run or adding tiles to an existing set. The explanation of joker manipulation in different rule variations is an added bonus, as it provides flexibility depending on game house rules. This depth makes it the most informative and useful response.\n",
    "\n",
    "**Why Others are Less Good:**\n",
    "\n",
    "- **Llama3.1**: While this answer covers the key points well, it could benefit from more clarity in some parts, especially regarding how a joker can be replaced or manipulated in sets. The mention of \"substituting for a missing tile\" and \"representing a different tile\" is a bit unclear and could confuse players unfamiliar with the mechanics.\n",
    "\n",
    "- **Llama3.2**: This answer is concise but lacks depth. It only mentions the basic rules for playing a joker, such as needing to replace it with tiles from the rack or table. However, it misses important details, such as the four methods of clearing the joker, specific examples, and how the joker interacts with other tiles, making it less complete compared to Mistral."
   ]
  },
  {
   "cell_type": "markdown",
   "id": "22024544e9feaef9",
   "metadata": {},
   "source": [
    "### Question 3\n",
    "\"What happens when the pool of tiles is empty?\""
   ]
  },
  {
   "cell_type": "code",
   "execution_count": 31,
   "id": "29c90635fe01da2f",
   "metadata": {
    "ExecuteTime": {
     "end_time": "2024-12-17T17:49:12.806658Z",
     "start_time": "2024-12-17T17:49:12.660040Z"
    }
   },
   "outputs": [],
   "source": [
    "question = \"What happens when the pool of tiles is empty?\"\n",
    "\n",
    "llama_3_1_thread = await client.threads.create()\n",
    "mistral_thread = await client.threads.create()\n",
    "llama_3_2_thread = await client.threads.create()\n",
    "\n",
    "llama_3_1_graph = \"chatbot_3.1\"\n",
    "mistral_graph = \"chatbot_mistral\"\n",
    "llama_3_2_graph = \"chatbot_3.2\""
   ]
  },
  {
   "cell_type": "code",
   "execution_count": 32,
   "id": "f5d33d7f20a5fb08",
   "metadata": {
    "ExecuteTime": {
     "end_time": "2024-12-17T17:59:11.844683Z",
     "start_time": "2024-12-17T17:49:12.811465Z"
    }
   },
   "outputs": [
    {
     "name": "stdout",
     "output_type": "stream",
     "text": [
      "{\"datasource\": \"vectorstore\"}{\n",
      "\n",
      "\"binary_score\": \"yes\"\n",
      "\n",
      "}{\n",
      "\n",
      "\"binary_score\": \"yes\"\n",
      "\n",
      "}{\n",
      "\n",
      "\"binary_score\": \"no\"\n",
      "\n",
      "}When the pool of tiles is empty, play ends if no player has gone out (emptied their rack). If a player cannot or does not wish to lay down any tiles, they lose. In this case, players count the total value of tiles in their racks, and the player with the lowest tile count wins. The winner scores the sum of the differences between their tile count and that of the other players.{\n",
      "  \"binary_score\": \"yes\"\n",
      "}{\n",
      "  \"binary_score\": \"yes\"\n",
      "}"
     ]
    }
   ],
   "source": [
    "async for chunk in client.runs.stream(\n",
    "    llama_3_1_thread[\"thread_id\"],\n",
    "    llama_3_1_graph,\n",
    "    input={\"question\": question},\n",
    "    stream_mode=\"messages-tuple\",\n",
    "):\n",
    "    if chunk.event == \"messages\":\n",
    "        print(\n",
    "            \"\".join(\n",
    "                data_item[\"content\"]\n",
    "                for data_item in chunk.data\n",
    "                if \"content\" in data_item\n",
    "            ),\n",
    "            end=\"\",\n",
    "            flush=True,\n",
    "        )"
   ]
  },
  {
   "cell_type": "code",
   "execution_count": 35,
   "id": "d59e9b04fa837ef",
   "metadata": {
    "ExecuteTime": {
     "end_time": "2024-12-17T18:20:43.264321Z",
     "start_time": "2024-12-17T18:12:07.446544Z"
    }
   },
   "outputs": [
    {
     "name": "stdout",
     "output_type": "stream",
     "text": [
      "{\"datasource\": \"vectorstore\"}{\"binary_score\": \"yes\"}{\"binary_score\": \"yes\"}{\"binary_score\": \"yes\"} When the pool of tiles is empty, play continues until no more plays can be made. This ends the game. If no player has emptied their rack at this point, each player counts the total value of tiles in their racks. The player with the lowest tile count wins. Each of the other players calculates the difference between their tile count and that of the winner, and loses that amount. The winner wins the sum of these differences, so that the players' scores for the deal add up to zero as usual.{\"binary_score\": \"yes\"}{\"binary_score\": \"yes\"}"
     ]
    }
   ],
   "source": [
    "async for chunk in client.runs.stream(\n",
    "    mistral_thread[\"thread_id\"],\n",
    "    mistral_graph,\n",
    "    input={\"question\": question},\n",
    "    stream_mode=\"messages-tuple\",\n",
    "):\n",
    "    if chunk.event == \"messages\":\n",
    "        print(\n",
    "            \"\".join(\n",
    "                data_item[\"content\"]\n",
    "                for data_item in chunk.data\n",
    "                if \"content\" in data_item\n",
    "            ),\n",
    "            end=\"\",\n",
    "            flush=True,\n",
    "        )"
   ]
  },
  {
   "cell_type": "code",
   "execution_count": 34,
   "id": "25ba5d32ed11ec3f",
   "metadata": {
    "ExecuteTime": {
     "end_time": "2024-12-17T18:10:51.526910Z",
     "start_time": "2024-12-17T18:04:18.200114Z"
    }
   },
   "outputs": [
    {
     "name": "stdout",
     "output_type": "stream",
     "text": [
      "{\"datasource\": \"vectorstore\"}{\n",
      "  \"binary_score\": \"yes\"\n",
      "}{\n",
      "  \"binary_score\": \"yes\"\n",
      "}{\n",
      "  \"binary_score\": \"no\"\n",
      "}When the pool of tiles is empty, play ends, and players count the total value of tiles in their racks. The player with the lowest tile count wins, and each of the other players loses the difference between their tile count and that of the winner.{\n",
      "  \"binary_score\": \"no\"\n",
      "}\n",
      " \n",
      "\n",
      " \n",
      " \n",
      "\n",
      " \n",
      "\n",
      " \n",
      "\n",
      " \n",
      "\n",
      " \n",
      "\n",
      " \n",
      "\n",
      " \n",
      "\n",
      " \n",
      "\n",
      " \n",
      "\n",
      " \n",
      "\n",
      " \n",
      "\n",
      " \n",
      "\n",
      " \n",
      "\n",
      " \n",
      "\n",
      " \n",
      "\n",
      " \n",
      "\n",
      " \n",
      "\n",
      " \n",
      "\n",
      " \n",
      "\n",
      " \n",
      "\n",
      " \n",
      "\n",
      " \n",
      "\n",
      " \n",
      "\n",
      " \n",
      "\n",
      " \n",
      "\n",
      " \n",
      "\n",
      " \n",
      "\n",
      " \n",
      "\n",
      " \n",
      "\n",
      "When the pool of tiles is empty, play ends, and players count the total value of tiles in their racks. The player with the lowest tile count wins, and each of the other players loses the difference between their tile count and that of the winner.{\n",
      "  \"binary_score\": \"no\"\n",
      "}\n",
      " \n",
      "\n",
      " \n",
      " \n",
      "\n",
      " \n",
      "\n",
      " \n",
      "\n",
      " \n",
      "\n",
      " \n",
      "\n",
      " \n",
      "\n",
      " \n",
      "\n",
      " \n",
      "\n",
      " \n",
      "\n",
      " \n",
      "\n",
      " \n",
      "\n",
      " \n",
      "\n",
      " \n",
      "\n",
      " \n",
      "\n",
      " \n",
      "\n",
      " \n",
      "\n",
      " \n",
      "\n",
      " \n",
      "\n",
      " \n",
      "\n",
      " \n",
      "\n",
      " \n",
      "\n",
      " \n",
      "\n",
      " \n",
      "\n",
      " \n",
      "\n",
      " \n",
      "\n",
      " \n",
      "\n",
      " \n",
      "\n",
      " \n",
      "\n",
      " \n",
      "\n"
     ]
    }
   ],
   "source": [
    "async for chunk in client.runs.stream(\n",
    "    llama_3_2_thread[\"thread_id\"],\n",
    "    llama_3_2_graph,\n",
    "    input={\"question\": question},\n",
    "    stream_mode=\"messages-tuple\",\n",
    "):\n",
    "    if chunk.event == \"messages\":\n",
    "        print(\n",
    "            \"\".join(\n",
    "                data_item[\"content\"]\n",
    "                for data_item in chunk.data\n",
    "                if \"content\" in data_item\n",
    "            ),\n",
    "            end=\"\",\n",
    "            flush=True,\n",
    "        )"
   ]
  },
  {
   "cell_type": "markdown",
   "id": "1dbe65489527ebec",
   "metadata": {},
   "source": [
    "## Comparison third question\n",
    "### Answers\n",
    "- **llama3.1**: \"When the pool of tiles is empty, play ends if no player has gone out (emptied their rack). If a player cannot or does not wish to lay down any tiles, they lose. In this case, players count the total value of tiles in their racks, and the player with the lowest tile count wins. The winner scores the sum of the differences between their tile count and that of the other players.\"\n",
    "- **mistral**: \"When the pool of tiles is empty, play continues until no more plays can be made. This ends the game. If no player has emptied their rack at this point, each player counts the total value of tiles in their racks. The player with the lowest tile count wins. Each of the other players calculates the difference between their tile count and that of the winner, and loses that amount. The winner wins the sum of these differences, so that the players' scores for the deal add up to zero as usual.\"\n",
    "- **llama3.2**: \"When the pool of tiles is empty, play ends, and players count the total value of tiles in their racks. The player with the lowest tile count wins, and each of the other players loses the difference between their tile count and that of the winner.\"\n",
    "\n",
    "### My comparison\n",
    "The answers of llama3.1 and mistral are similar but llama3.1 is a more confusing. llama3.2 is also concise but it is too short. I would prefer mistral for this question.\n",
    "\n",
    "### Chatgpt comparison\n",
    "### Analysis of Empty Tile Pool Responses\n",
    "\n",
    "**Best Answer: Mistral**\n",
    "Mistral provides the most detailed and accurate explanation. It clearly states that the game continues until no more plays can be made, followed by the tile-counting process. The addition of the scoring system, where players lose the difference between their tile count and the winner’s, and the clarification that the total scores sum to zero, gives a complete and precise answer. This level of detail ensures the user understands both the end-game mechanics and the scoring process fully.\n",
    "\n",
    "**Why Others are Less Good:**\n",
    "\n",
    "- **Llama3.1**: This answer is mostly correct but lacks some clarity. It implies that a player \"loses\" if they cannot play but doesn’t fully explain the tile-counting and scoring process as effectively as Mistral. Additionally, the explanation of how the winner scores could be clearer.\n",
    "\n",
    "- **Llama3.2**: This is the shortest and most simplistic answer, covering the basic rules but omitting important details, such as the game continuation and the interaction of tile-count differences in the scoring. It’s more basic and doesn’t explain the full process as effectively as Mistral, making it less informative."
   ]
  },
  {
   "cell_type": "markdown",
   "id": "319c0ce0340b6c08",
   "metadata": {},
   "source": [
    "## Conclusion\n",
    "In conclusion, llama3.2 is the fastest and simplest model, but it lacks the depth and detail provided by Mistral and llama3.1. Mistral consistently offers the most comprehensive and accurate responses, making it the best choice for players seeking a thorough understanding of Rummikub rules and strategies. Llama3.1 also provides detailed answers, but it can be less clear and more confusing in some cases. While llama3.2 is a good option for quick and straightforward responses, it may not satisfy players looking for in-depth explanations. Therefore, Mistral remains the top choice for players who want a comprehensive and informative chatbot experience. But for our project, llama3.2 is the best choice because we don't have the computing power to run Mistral or llama3.1."
   ]
  }
 ],
 "metadata": {
  "kernelspec": {
   "display_name": "Python 3",
   "language": "python",
   "name": "python3"
  },
  "language_info": {
   "codemirror_mode": {
    "name": "ipython",
    "version": 2
   },
   "file_extension": ".py",
   "mimetype": "text/x-python",
   "name": "python",
   "nbconvert_exporter": "python",
   "pygments_lexer": "ipython2",
   "version": "2.7.6"
  }
 },
 "nbformat": 4,
 "nbformat_minor": 5
}
