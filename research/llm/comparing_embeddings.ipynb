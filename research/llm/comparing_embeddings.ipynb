{
 "cells": [
  {
   "metadata": {},
   "cell_type": "markdown",
   "source": [
    "# Comparing two embedding models\n",
    "In this notebook we will compare two different embedding models, `nomic-embed-text` and `mxbai-embed-large`, by running the same questions on both of them and comparing the results. We compared the results of the two models to determine which one provides better answers to the questions. Then we asked chatGPT to compare the two answers and provide feedback on which one is better. At the end we chose the best model based on the comparison and feedback."
   ],
   "id": "bb665dafdffe293f"
  },
  {
   "cell_type": "code",
   "execution_count": 5,
   "id": "ff4ed14a7af4f6ea",
   "metadata": {
    "ExecuteTime": {
     "end_time": "2024-12-20T14:00:59.682239Z",
     "start_time": "2024-12-20T14:00:59.673688Z"
    }
   },
   "outputs": [
    {
     "data": {
      "text/plain": [
       "True"
      ]
     },
     "execution_count": 5,
     "metadata": {},
     "output_type": "execute_result"
    }
   ],
   "source": [
    "import logging\n",
    "import os\n",
    "\n",
    "import chromadb\n",
    "import httpx\n",
    "from dotenv import load_dotenv\n",
    "from langchain_chroma import Chroma\n",
    "from langchain_community.document_loaders import PDFPlumberLoader\n",
    "from langchain_ollama import OllamaEmbeddings\n",
    "from langchain_text_splitters import RecursiveCharacterTextSplitter\n",
    "from langgraph_sdk import get_client\n",
    "\n",
    "load_dotenv(\"../../.env.research\")"
   ]
  },
  {
   "cell_type": "code",
   "execution_count": 6,
   "id": "8db9802cb8702c9f",
   "metadata": {
    "ExecuteTime": {
     "end_time": "2024-12-20T14:00:59.704707Z",
     "start_time": "2024-12-20T14:00:59.699670Z"
    }
   },
   "outputs": [],
   "source": [
    "def load_pdfs_from_directory(directory_path):\n",
    "    all_documents = []\n",
    "    for filename in os.listdir(directory_path):\n",
    "        if filename.endswith(\".pdf\"):\n",
    "            file_path = os.path.join(directory_path, filename)\n",
    "            loader = PDFPlumberLoader(file_path=file_path)\n",
    "            documents = loader.load()\n",
    "            all_documents.extend(documents)\n",
    "    return all_documents"
   ]
  },
  {
   "cell_type": "code",
   "execution_count": 7,
   "id": "eb29cea38ecb4838",
   "metadata": {
    "ExecuteTime": {
     "end_time": "2024-12-20T14:01:00.488723Z",
     "start_time": "2024-12-20T14:00:59.724007Z"
    }
   },
   "outputs": [],
   "source": [
    "client = chromadb.HttpClient(\n",
    "    host=os.getenv(\"CHROMA_HOST\"), port=int(os.getenv(\"CHROMA_PORT\"))\n",
    ")"
   ]
  },
  {
   "cell_type": "code",
   "execution_count": 8,
   "id": "initial_id",
   "metadata": {
    "ExecuteTime": {
     "end_time": "2024-12-20T14:03:09.271162Z",
     "start_time": "2024-12-20T14:01:00.497890Z"
    },
    "collapsed": true
   },
   "outputs": [],
   "source": [
    "pdf_docs = load_pdfs_from_directory(os.getenv(\"DATA_DIR\"))\n",
    "text_splitter = RecursiveCharacterTextSplitter(chunk_size=1000, chunk_overlap=200)\n",
    "all_splits = text_splitter.split_documents(pdf_docs)\n",
    "vectorstore = None\n",
    "client.delete_collection(\"rummikub_rules_mxbai\")\n",
    "try:\n",
    "    vectorstore = Chroma(\n",
    "        client=client,\n",
    "        collection_name=\"rummikub_rules_mxbai\",\n",
    "        create_collection_if_not_exists=True,\n",
    "        embedding_function=OllamaEmbeddings(\n",
    "            model=\"mxbai-embed-large\", base_url=os.getenv(\"OLLAMA_URI\")\n",
    "        ),\n",
    "    )\n",
    "    vectorstore.add_documents(documents=all_splits)\n",
    "except httpx.ConnectError as e:\n",
    "    logging.error(f\"Could not connect to Chroma: {e}\")\n",
    "    vectorstore.delete_collection()"
   ]
  },
  {
   "cell_type": "code",
   "execution_count": 9,
   "id": "908d94c6538716ad",
   "metadata": {
    "ExecuteTime": {
     "end_time": "2024-12-20T14:04:00.383499Z",
     "start_time": "2024-12-20T14:03:09.317692Z"
    }
   },
   "outputs": [],
   "source": [
    "pdf_docs = load_pdfs_from_directory(os.getenv(\"DATA_DIR\"))\n",
    "text_splitter = RecursiveCharacterTextSplitter(chunk_size=1000, chunk_overlap=200)\n",
    "all_splits = text_splitter.split_documents(pdf_docs)\n",
    "vectorstore = None\n",
    "client.delete_collection(\"rummikub_rules_nomic\")\n",
    "try:\n",
    "    vectorstore = Chroma(\n",
    "        client=client,\n",
    "        collection_name=\"rummikub_rules_nomic\",\n",
    "        embedding_function=OllamaEmbeddings(\n",
    "            model=\"nomic-embed-text\", base_url=os.getenv(\"OLLAMA_URI\")\n",
    "        ),\n",
    "    )\n",
    "    vectorstore.add_documents(documents=all_splits)\n",
    "except httpx.ConnectError as e:\n",
    "    logging.error(f\"Could not connect to Chroma: {e}\")\n",
    "    vectorstore.delete_collection()"
   ]
  },
  {
   "cell_type": "code",
   "execution_count": 20,
   "id": "c9fa2d001e2a165f",
   "metadata": {
    "ExecuteTime": {
     "end_time": "2024-12-20T14:09:53.739697Z",
     "start_time": "2024-12-20T14:09:53.381855Z"
    }
   },
   "outputs": [],
   "source": [
    "url = \"http://localhost:8123\"\n",
    "client = get_client(url=url)"
   ]
  },
  {
   "cell_type": "markdown",
   "id": "4cef6a6280463525",
   "metadata": {},
   "source": [
    "### Question 1\n",
    "\"How do I win the game?\""
   ]
  },
  {
   "cell_type": "code",
   "execution_count": 21,
   "id": "72e0047bc692b20",
   "metadata": {
    "ExecuteTime": {
     "end_time": "2024-12-20T14:09:53.820041Z",
     "start_time": "2024-12-20T14:09:53.741727Z"
    }
   },
   "outputs": [],
   "source": [
    "question = \"How do I win the game?\"\n",
    "\n",
    "llama_3_1_nomic_thread = await client.threads.create()\n",
    "llama_3_1_mxbai_thread = await client.threads.create()\n",
    "\n",
    "llama_3_1_nomic_graph = \"chatbot_3.1_nomic\"\n",
    "llama_3_1_mxbai_graph = \"chatbot_3.1_mxbai\""
   ]
  },
  {
   "cell_type": "code",
   "execution_count": 22,
   "id": "3516e78b3c3ba923",
   "metadata": {
    "ExecuteTime": {
     "end_time": "2024-12-20T14:16:08.841513Z",
     "start_time": "2024-12-20T14:09:53.829045Z"
    }
   },
   "outputs": [
    {
     "name": "stdout",
     "output_type": "stream",
     "text": [
      "{\"datasource\": \"vectorstore\"}{\n",
      "\n",
      "\"binary_score\": \"yes\"\n",
      "\n",
      "}{\n",
      "\n",
      "\"binary_score\": \"yes\"\n",
      "\n",
      "}{\n",
      "\n",
      "\"binary_score\": \"yes\"\n",
      "\n",
      "} \n",
      "\n",
      " \n",
      " To win the game of Rummikub, you must be the first player to play all your tiles. If no one has gone out and the pool of tiles is empty, the player with the lowest tile count on their rack wins the round. In a tie, the player with the highest score is declared the winner.{\n",
      "  \"binary_score\": \"yes\"\n",
      "}{\n",
      "  \"binary_score\": \"yes\"\n",
      "}"
     ]
    }
   ],
   "source": [
    "async for chunk in client.runs.stream(\n",
    "    llama_3_1_nomic_thread[\"thread_id\"],\n",
    "    llama_3_1_nomic_graph,\n",
    "    input={\"question\": question},\n",
    "    stream_mode=\"messages-tuple\",\n",
    "):\n",
    "    if chunk.event == \"messages\":\n",
    "        print(\n",
    "            \"\".join(\n",
    "                data_item[\"content\"]\n",
    "                for data_item in chunk.data\n",
    "                if \"content\" in data_item\n",
    "            ),\n",
    "            end=\"\",\n",
    "            flush=True,\n",
    "        )"
   ]
  },
  {
   "cell_type": "code",
   "execution_count": 23,
   "id": "ce60d393915dd565",
   "metadata": {
    "ExecuteTime": {
     "end_time": "2024-12-20T14:24:16.973762Z",
     "start_time": "2024-12-20T14:16:08.873238Z"
    }
   },
   "outputs": [
    {
     "name": "stdout",
     "output_type": "stream",
     "text": [
      "{\"datasource\": \"vectorstore\"}{\n",
      "\n",
      "\"binary_score\": \"yes\"\n",
      "\n",
      "} \n",
      "\n",
      " \n",
      " {\n",
      "\n",
      "\"binary_score\": \"yes\"\n",
      "\n",
      "}{\n",
      "\n",
      "\"binary_score\": \"yes\"\n",
      "\n",
      "} \n",
      "\n",
      " \n",
      " To win the game of Rummikub, you can achieve a win in one of three ways:\n",
      "\n",
      "1. **Open Hand**: Win 100 points if no other player has melded.\n",
      "2. **Foot**: Score 200 points.\n",
      "3. **Closed Hand**: The descriptions and scores for various types of closed hands are not explicitly stated in the provided context, but it is mentioned that the winner wins a number of points based on the type of winning hand.\n",
      "\n",
      "Additionally, if you discard a joker as your final discard, all scores for that hand are doubled.{\n",
      "  \"binary_score\": \"yes\"\n",
      "}{\n",
      "  \"binary_score\": \"yes\"\n",
      "}"
     ]
    }
   ],
   "source": [
    "async for chunk in client.runs.stream(\n",
    "    llama_3_1_mxbai_thread[\"thread_id\"],\n",
    "    llama_3_1_mxbai_graph,\n",
    "    input={\"question\": question},\n",
    "    stream_mode=\"messages-tuple\",\n",
    "):\n",
    "    if chunk.event == \"messages\":\n",
    "        print(\n",
    "            \"\".join(\n",
    "                data_item[\"content\"]\n",
    "                for data_item in chunk.data\n",
    "                if \"content\" in data_item\n",
    "            ),\n",
    "            end=\"\",\n",
    "            flush=True,\n",
    "        )"
   ]
  },
  {
   "cell_type": "markdown",
   "id": "98a6637b8da2b35e",
   "metadata": {},
   "source": [
    "## Comparison first question\n",
    "### Answers\n",
    "- **llama3.1_nomic**: \"To win the game of Rummikub, you must be the first player to play all your tiles. If no one has gone out and the pool of tiles is empty, the player with the lowest tile count on their rack wins the round. In a tie, the player with the highest score is declared the winner.\"\n",
    "\n",
    "- **llama3.1_mxbai**: \"To win the game of Rummikub, you can achieve a win in one of three ways:\n",
    "\n",
    "1. **Open Hand**: Win 100 points if no other player has melded.\n",
    "2. **Foot**: Score 200 points.\n",
    "3. **Closed Hand**: The descriptions and scores for various types of closed hands are not explicitly stated in the provided context, but it is mentioned that the winner wins a number of points based on the type of winning hand.\n",
    "\n",
    "Additionally, if you discard a joker as your final discard, all scores for that hand are doubled.\"\n",
    "\n",
    "### My comparison\n",
    "nomic has a better response because it was clear and concise. mxbai's response was too verbose and did not provide a clear answer to the question. But I think the mxbai response is not that good because the quality of the docs is not that good. I still need to fix that.\n",
    "\n",
    "### Chatgpt comparison\n",
    "**Best Answer: Llama3.1_nomic**\n",
    "Llama3.1_nomic provides a clear and accurate answer that aligns with the standard rules of Rummikub. It succinctly explains the win conditions (playing all tiles or having the lowest tile count if the pool is empty) and mentions the tie-breaking rule. The response is concise, well-structured, and directly relevant to the question.\n",
    "\n",
    "**Why Others are Less Good:**\n",
    "\n",
    "- **Llama3.1_mxbai**: This response introduces concepts and scoring mechanics that are unrelated to Rummikub's standard rules, such as \"Open Hand,\" \"Foot,\" and \"Closed Hand,\" which might confuse users. It also lacks clarity and relevance, making it unsuitable for players looking for accurate guidance on winning the game. While the mention of the joker is interesting, it is contextually irrelevant to the core win conditions."
   ]
  },
  {
   "cell_type": "markdown",
   "id": "bb84d6935a2b937",
   "metadata": {},
   "source": [
    "### Question 2\n",
    "\"What is a joker and what can it do?\""
   ]
  },
  {
   "cell_type": "code",
   "execution_count": 24,
   "id": "b085ca2662efd384",
   "metadata": {
    "ExecuteTime": {
     "end_time": "2024-12-20T14:24:17.110158Z",
     "start_time": "2024-12-20T14:24:17.001279Z"
    }
   },
   "outputs": [],
   "source": [
    "question = \"What is a joker and what can it do?\"\n",
    "\n",
    "llama_3_1_nomic_thread = await client.threads.create()\n",
    "llama_3_1_mxbai_thread = await client.threads.create()\n",
    "\n",
    "llama_3_1_nomic_graph = \"chatbot_3.1_nomic\"\n",
    "llama_3_1_mxbai_graph = \"chatbot_3.1_mxbai\""
   ]
  },
  {
   "cell_type": "code",
   "execution_count": 25,
   "id": "d28a9893e1dba02a",
   "metadata": {
    "ExecuteTime": {
     "end_time": "2024-12-20T14:33:03.249960Z",
     "start_time": "2024-12-20T14:24:17.116007Z"
    }
   },
   "outputs": [
    {
     "name": "stdout",
     "output_type": "stream",
     "text": [
      "{\"datasource\": \"vectorstore\"}{\n",
      "\n",
      "\"binary_score\": \"yes\"\n",
      "\n",
      "} \n",
      "\n",
      " \n",
      " {\n",
      "\n",
      "\"binary_score\": \"yes\"\n",
      "\n",
      "}{\n",
      "\n",
      "\"binary_score\": \"yes\"\n",
      "\n",
      "} \n",
      "\n",
      " \n",
      " A joker in Rummikub is a special tile that can represent any tile in the game. It has several key functions:\n",
      "\n",
      "1. **Initial Meld**: A player must play their initial meld before they can retrieve a joker.\n",
      "2. **Clearing the Joker**: There are four ways to clear a joker:\n",
      "\t* Replacing it with tiles on the rack or table that match its value (e.g., three 3s).\n",
      "\t* Splitting a run and clearing the joker.\n",
      "\t* Adding a tile to complete a set, which clears the joker.\n",
      "\t* Substituting a real tile for the joker if you have it in hand.\n",
      "3. **Combination Manipulation**: A combination with a joker can be expanded by adding tiles, but not rearranged or modified while the joker is present.\n",
      "4. **Tile Representation**: The joker represents a specific tile and cannot be changed unless the player supplies the original tile from their hand.\n",
      "\n",
      "In summary, a joker is a versatile tile that allows players to create sets and combinations in various ways, but it must be cleared according to specific rules.{\n",
      "  \"binary_score\": \"yes\"\n",
      "}{\n",
      "  \"binary_score\": \"yes\"\n",
      "}"
     ]
    }
   ],
   "source": [
    "async for chunk in client.runs.stream(\n",
    "    llama_3_1_nomic_thread[\"thread_id\"],\n",
    "    llama_3_1_nomic_graph,\n",
    "    input={\"question\": question},\n",
    "    stream_mode=\"messages-tuple\",\n",
    "):\n",
    "    if chunk.event == \"messages\":\n",
    "        print(\n",
    "            \"\".join(\n",
    "                data_item[\"content\"]\n",
    "                for data_item in chunk.data\n",
    "                if \"content\" in data_item\n",
    "            ),\n",
    "            end=\"\",\n",
    "            flush=True,\n",
    "        )"
   ]
  },
  {
   "cell_type": "code",
   "execution_count": 26,
   "id": "b52d8c5a3a96d2fa",
   "metadata": {
    "ExecuteTime": {
     "end_time": "2024-12-20T14:41:16.944042Z",
     "start_time": "2024-12-20T14:33:03.359911Z"
    }
   },
   "outputs": [
    {
     "name": "stdout",
     "output_type": "stream",
     "text": [
      "{\"datasource\": \"vectorstore\"}{\n",
      "\n",
      "\"binary_score\": \"yes\"\n",
      "\n",
      "} \n",
      "\n",
      " \n",
      " {\n",
      "\n",
      "\"binary_score\": \"yes\"\n",
      "\n",
      "}{\n",
      "\n",
      "\"binary_score\": \"yes\"\n",
      "\n",
      "} \n",
      "\n",
      " A joker in Rummikub is a special tile that can be used as any tile in a set. It has no specific number or color, but its value and color are determined by the set it is part of. A joker can be used to complete a set on the table, and it can also be retrieved from a set by a player who can replace it with tiles that keep the set legitimate.\n",
      "\n",
      "Key actions involving a joker include:\n",
      "\n",
      "* Using a joker as any tile in a set\n",
      "* Retrieving a joker from a set on the table and replacing it with other tiles\n",
      "* Playing a joker to make a new set after retrieving it\n",
      "\n",
      "Note: A joker cannot be taken into a player's hand for later use, but it can be used to complete sets or create new ones.{\n",
      "  \"binary_score\": \"yes\"\n",
      "}{\n",
      "  \"binary_score\": \"yes\"\n",
      "}"
     ]
    }
   ],
   "source": [
    "async for chunk in client.runs.stream(\n",
    "    llama_3_1_mxbai_thread[\"thread_id\"],\n",
    "    llama_3_1_mxbai_graph,\n",
    "    input={\"question\": question},\n",
    "    stream_mode=\"messages-tuple\",\n",
    "):\n",
    "    if chunk.event == \"messages\":\n",
    "        print(\n",
    "            \"\".join(\n",
    "                data_item[\"content\"]\n",
    "                for data_item in chunk.data\n",
    "                if \"content\" in data_item\n",
    "            ),\n",
    "            end=\"\",\n",
    "            flush=True,\n",
    "        )"
   ]
  },
  {
   "cell_type": "markdown",
   "id": "6d30cba3fc4992d6",
   "metadata": {},
   "source": [
    "## Comparison second question\n",
    "### Answers\n",
    "- **llama3.1_nomic**: \"A joker in Rummikub is a special tile that can represent any tile in the game. It has several key functions:\n",
    "\n",
    "1. **Initial Meld**: A player must play their initial meld before they can retrieve a joker.\n",
    "2. **Clearing the Joker**: There are four ways to clear a joker:\n",
    "\t* Replacing it with tiles on the rack or table that match its value (e.g., three 3s).\n",
    "\t* Splitting a run and clearing the joker.\n",
    "\t* Adding a tile to complete a set, which clears the joker.\n",
    "\t* Substituting a real tile for the joker if you have it in hand.\n",
    "3. **Combination Manipulation**: A combination with a joker can be expanded by adding tiles, but not rearranged or modified while the joker is present.\n",
    "4. **Tile Representation**: The joker represents a specific tile and cannot be changed unless the player supplies the original tile from their hand.\n",
    "\n",
    "In summary, a joker is a versatile tile that allows players to create sets and combinations in various ways, but it must be cleared according to specific rules.\"\n",
    "\n",
    "- **llama3.1_mxbai**: \"A joker in Rummikub is a special tile that can be used as any tile in a set. It has no specific number or color, but its value and color are determined by the set it is part of. A joker can be used to complete a set on the table, and it can also be retrieved from a set by a player who can replace it with tiles that keep the set legitimate.\n",
    "\n",
    "Key actions involving a joker include:\n",
    "\n",
    "* Using a joker as any tile in a set\n",
    "* Retrieving a joker from a set on the table and replacing it with other tiles\n",
    "* Playing a joker to make a new set after retrieving it\n",
    "\n",
    "Note: A joker cannot be taken into a player's hand for later use, but it can be used to complete sets or create new ones.\"\n",
    "\n",
    "### My comparison\n",
    "Both answers were good, but I think the nomic response was better because it was more detailed and provided a better explanation of the joker's functions. The mxbai response was also good, but it was more concise and did not provide as much detail.\n",
    "\n",
    "### Chatgpt comparison\n",
    "**Best Answer: Llama3.1_nomic**\n",
    "Llama3.1_nomic offers a comprehensive and detailed explanation of the joker's functions, covering its versatility and the specific rules for clearing and manipulating it. The response is well-structured, addressing multiple scenarios such as initial melds, clearing methods, and limitations. It is both informative and aligned with standard Rummikub rules, making it the best choice for a user seeking clarity and accuracy.\n",
    "\n",
    "**Why Others are Less Good:**\n",
    "\n",
    "- **Llama3.1_mxbai**: This response provides a basic explanation of the joker’s use but lacks depth and clarity. While it mentions retrieving and using jokers in sets, it omits critical details about clearing methods and restrictions on rearranging combinations with jokers. The explanation feels incomplete and less user-friendly compared to Llama3.1_nomic.\n"
   ]
  },
  {
   "cell_type": "markdown",
   "id": "4928a8d2233f0015",
   "metadata": {},
   "source": [
    "### Question 3\n",
    "\"What happens when the pool of tiles is empty?\""
   ]
  },
  {
   "cell_type": "code",
   "execution_count": 27,
   "id": "f44592725ba2dfea",
   "metadata": {
    "ExecuteTime": {
     "end_time": "2024-12-20T14:41:17.076158Z",
     "start_time": "2024-12-20T14:41:16.969500Z"
    }
   },
   "outputs": [],
   "source": [
    "question = \"What happens when the pool of tiles is empty?\"\n",
    "\n",
    "llama_3_1_nomic_thread = await client.threads.create()\n",
    "llama_3_1_mxbai_thread = await client.threads.create()\n",
    "\n",
    "llama_3_1_nomic_graph = \"chatbot_3.1_nomic\"\n",
    "llama_3_1_mxbai_graph = \"chatbot_3.1_mxbai\""
   ]
  },
  {
   "cell_type": "code",
   "execution_count": 28,
   "id": "6437a8c125877b8a",
   "metadata": {
    "ExecuteTime": {
     "end_time": "2024-12-20T14:46:30.545617Z",
     "start_time": "2024-12-20T14:41:17.084522Z"
    }
   },
   "outputs": [
    {
     "name": "stdout",
     "output_type": "stream",
     "text": [
      "{\"datasource\": \"vectorstore\"}{\n",
      "\n",
      "\"binary_score\": \"yes\"\n",
      "\n",
      "}{\n",
      "\n",
      "\"binary_score\": \"yes\"\n",
      "\n",
      "}{\n",
      "\n",
      "\"binary_score\": \"no\"\n",
      "\n",
      "}When the pool of tiles is empty, play continues until no more plays can be made. If a player cannot or does not wish to lay down any tiles, the game ends, and players count the total value of tiles in their racks. The player with the lowest tile count wins, and each of the other players loses the difference between their tile count and that of the winner.{\n",
      "  \"binary_score\": \"yes\"\n",
      "}{\n",
      "  \"binary_score\": \"yes\"\n",
      "}"
     ]
    }
   ],
   "source": [
    "async for chunk in client.runs.stream(\n",
    "    llama_3_1_nomic_thread[\"thread_id\"],\n",
    "    llama_3_1_nomic_graph,\n",
    "    input={\"question\": question},\n",
    "    stream_mode=\"messages-tuple\",\n",
    "):\n",
    "    if chunk.event == \"messages\":\n",
    "        print(\n",
    "            \"\".join(\n",
    "                data_item[\"content\"]\n",
    "                for data_item in chunk.data\n",
    "                if \"content\" in data_item\n",
    "            ),\n",
    "            end=\"\",\n",
    "            flush=True,\n",
    "        )"
   ]
  },
  {
   "cell_type": "code",
   "execution_count": 29,
   "id": "99f387c65f3372cb",
   "metadata": {
    "ExecuteTime": {
     "end_time": "2024-12-20T14:50:32.498397Z",
     "start_time": "2024-12-20T14:46:30.569380Z"
    }
   },
   "outputs": [
    {
     "name": "stdout",
     "output_type": "stream",
     "text": [
      "{\"datasource\": \"vectorstore\"}{\n",
      "\n",
      "\"binary_score\": \"yes\"\n",
      "\n",
      "}{\n",
      "\n",
      "\"binary_score\": \"no\"\n",
      "\n",
      "}{\n",
      "\n",
      "\"binary_score\": \"no\"\n",
      "\n",
      "}When the pool of tiles is empty, play continues until no more plays can be made, at which point the game ends.{\n",
      "  \"binary_score\": \"yes\"\n",
      "}{\n",
      "  \"binary_score\": \"yes\"\n",
      "}"
     ]
    }
   ],
   "source": [
    "async for chunk in client.runs.stream(\n",
    "    llama_3_1_mxbai_thread[\"thread_id\"],\n",
    "    llama_3_1_mxbai_graph,\n",
    "    input={\"question\": question},\n",
    "    stream_mode=\"messages-tuple\",\n",
    "):\n",
    "    if chunk.event == \"messages\":\n",
    "        print(\n",
    "            \"\".join(\n",
    "                data_item[\"content\"]\n",
    "                for data_item in chunk.data\n",
    "                if \"content\" in data_item\n",
    "            ),\n",
    "            end=\"\",\n",
    "            flush=True,\n",
    "        )"
   ]
  },
  {
   "cell_type": "markdown",
   "id": "630e0c97c132b1b7",
   "metadata": {},
   "source": [
    "## Comparison second question\n",
    "### Answers\n",
    "- **llama3.1_nomic**: \"When the pool of tiles is empty, play continues until no more plays can be made. If a player cannot or does not wish to lay down any tiles, the game ends, and players count the total value of tiles in their racks. The player with the lowest tile count wins, and each of the other players loses the difference between their tile count and that of the winner.\"\n",
    "\n",
    "- **llama3.1_mxbai**: \"When the pool of tiles is empty, play continues until no more plays can be made, at which point the game ends.\"\n",
    "\n",
    "### My comparison\n",
    "Nomic once again provides a more detailed and comprehensive answer, explaining the endgame conditions when the pool of tiles is empty. The mxbai response is concise but lacks the additional details that nomic provides.\n",
    "\n",
    "### Chatgpt comparison\n",
    "**Best Answer: Llama3.1_nomic**\n",
    "Llama3.1_nomic provides a clear and detailed explanation of what happens when the pool is empty. It describes the continuation of play, the conditions for ending the game, and the scoring process. This answer aligns well with Rummikub rules and offers users a complete understanding of the scenario.\n",
    "\n",
    "**Why Others are Less Good:**\n",
    "\n",
    "- **Llama3.1_mxbai**: While it states that play continues until no more moves can be made, it lacks crucial details about scoring and how the winner is determined. This makes the answer less informative and less useful for players seeking clarity about endgame rules."
   ]
  },
  {
   "cell_type": "markdown",
   "id": "b226dd41e1e0a214",
   "metadata": {},
   "source": [
    "## Conclusion\n",
    "Overall, the nomic performed the best. While the mxbai is not bad, I think nomic got the best and most info out of the docs. These need improvement, so it is impressive how good both are. So we will pick nomic as the embedding model."
   ]
  }
 ],
 "metadata": {
  "kernelspec": {
   "display_name": "Python 3",
   "language": "python",
   "name": "python3"
  },
  "language_info": {
   "codemirror_mode": {
    "name": "ipython",
    "version": 2
   },
   "file_extension": ".py",
   "mimetype": "text/x-python",
   "name": "python",
   "nbconvert_exporter": "python",
   "pygments_lexer": "ipython2",
   "version": "2.7.6"
  }
 },
 "nbformat": 4,
 "nbformat_minor": 5
}
